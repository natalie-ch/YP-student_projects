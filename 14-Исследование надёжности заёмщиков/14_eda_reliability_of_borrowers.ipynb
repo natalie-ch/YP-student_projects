{
  "nbformat": 4,
  "nbformat_minor": 0,
  "metadata": {
    "kernelspec": {
      "display_name": "Python 3",
      "language": "python",
      "name": "python3"
    },
    "language_info": {
      "codemirror_mode": {
        "name": "ipython",
        "version": 3
      },
      "file_extension": ".py",
      "mimetype": "text/x-python",
      "name": "python",
      "nbconvert_exporter": "python",
      "pygments_lexer": "ipython3",
      "version": "3.7.8"
    },
    "toc": {
      "base_numbering": 1,
      "nav_menu": {},
      "number_sections": true,
      "sideBar": true,
      "skip_h1_title": true,
      "title_cell": "Table of Contents",
      "title_sidebar": "Contents",
      "toc_cell": false,
      "toc_position": {},
      "toc_section_display": true,
      "toc_window_display": false
    },
    "colab": {
      "name": "предобработка_данных.ipynb",
      "provenance": [],
      "collapsed_sections": []
    }
  },
  "cells": [
    {
      "cell_type": "markdown",
      "metadata": {
        "id": "kMDAdlbIPaCX"
      },
      "source": [
        "# Исследование надёжности заёмщиков\n",
        "Заказчик — кредитный отдел банка. Нужно разобраться, влияет ли семейное положение и количество детей клиента на факт погашения кредита в срок. Входные данные от банка — статистика о платёжеспособности клиентов.\n",
        "\n",
        "Результаты исследования будут учтены при построении модели кредитного скоринга — специальной системы, которая оценивает способность потенциального заёмщика вернуть кредит банку."
      ]
    },
    {
      "cell_type": "markdown",
      "metadata": {
        "id": "m5LnRcqVPaCY"
      },
      "source": [
        "## Шаг 1. Откройте файл с данными и изучите общую информацию"
      ]
    },
    {
      "cell_type": "code",
      "metadata": {
        "id": "bdk0aillPaCZ"
      },
      "source": [
        "import pandas as pd\n",
        "from pymystem3 import Mystem\n",
        "from collections import Counter\n",
        "import numpy as np"
      ],
      "execution_count": null,
      "outputs": []
    },
    {
      "cell_type": "code",
      "metadata": {
        "id": "HZ_ej2lCPaCa",
        "outputId": "0bf6a595-b666-43a2-aa54-2e05350e1254"
      },
      "source": [
        "#data = pd.read_csv(r'C:\\Users\\natalie\\Desktop\\data.csv')\n",
        "data = pd.read_csv('/datasets/data.csv')\n",
        "data.head(15)"
      ],
      "execution_count": null,
      "outputs": [
        {
          "data": {
            "text/html": [
              "<div>\n",
              "<style scoped>\n",
              "    .dataframe tbody tr th:only-of-type {\n",
              "        vertical-align: middle;\n",
              "    }\n",
              "\n",
              "    .dataframe tbody tr th {\n",
              "        vertical-align: top;\n",
              "    }\n",
              "\n",
              "    .dataframe thead th {\n",
              "        text-align: right;\n",
              "    }\n",
              "</style>\n",
              "<table border=\"1\" class=\"dataframe\">\n",
              "  <thead>\n",
              "    <tr style=\"text-align: right;\">\n",
              "      <th></th>\n",
              "      <th>children</th>\n",
              "      <th>days_employed</th>\n",
              "      <th>dob_years</th>\n",
              "      <th>education</th>\n",
              "      <th>education_id</th>\n",
              "      <th>family_status</th>\n",
              "      <th>family_status_id</th>\n",
              "      <th>gender</th>\n",
              "      <th>income_type</th>\n",
              "      <th>debt</th>\n",
              "      <th>total_income</th>\n",
              "      <th>purpose</th>\n",
              "    </tr>\n",
              "  </thead>\n",
              "  <tbody>\n",
              "    <tr>\n",
              "      <td>0</td>\n",
              "      <td>1</td>\n",
              "      <td>-8437.673028</td>\n",
              "      <td>42</td>\n",
              "      <td>высшее</td>\n",
              "      <td>0</td>\n",
              "      <td>женат / замужем</td>\n",
              "      <td>0</td>\n",
              "      <td>F</td>\n",
              "      <td>сотрудник</td>\n",
              "      <td>0</td>\n",
              "      <td>253875.639453</td>\n",
              "      <td>покупка жилья</td>\n",
              "    </tr>\n",
              "    <tr>\n",
              "      <td>1</td>\n",
              "      <td>1</td>\n",
              "      <td>-4024.803754</td>\n",
              "      <td>36</td>\n",
              "      <td>среднее</td>\n",
              "      <td>1</td>\n",
              "      <td>женат / замужем</td>\n",
              "      <td>0</td>\n",
              "      <td>F</td>\n",
              "      <td>сотрудник</td>\n",
              "      <td>0</td>\n",
              "      <td>112080.014102</td>\n",
              "      <td>приобретение автомобиля</td>\n",
              "    </tr>\n",
              "    <tr>\n",
              "      <td>2</td>\n",
              "      <td>0</td>\n",
              "      <td>-5623.422610</td>\n",
              "      <td>33</td>\n",
              "      <td>Среднее</td>\n",
              "      <td>1</td>\n",
              "      <td>женат / замужем</td>\n",
              "      <td>0</td>\n",
              "      <td>M</td>\n",
              "      <td>сотрудник</td>\n",
              "      <td>0</td>\n",
              "      <td>145885.952297</td>\n",
              "      <td>покупка жилья</td>\n",
              "    </tr>\n",
              "    <tr>\n",
              "      <td>3</td>\n",
              "      <td>3</td>\n",
              "      <td>-4124.747207</td>\n",
              "      <td>32</td>\n",
              "      <td>среднее</td>\n",
              "      <td>1</td>\n",
              "      <td>женат / замужем</td>\n",
              "      <td>0</td>\n",
              "      <td>M</td>\n",
              "      <td>сотрудник</td>\n",
              "      <td>0</td>\n",
              "      <td>267628.550329</td>\n",
              "      <td>дополнительное образование</td>\n",
              "    </tr>\n",
              "    <tr>\n",
              "      <td>4</td>\n",
              "      <td>0</td>\n",
              "      <td>340266.072047</td>\n",
              "      <td>53</td>\n",
              "      <td>среднее</td>\n",
              "      <td>1</td>\n",
              "      <td>гражданский брак</td>\n",
              "      <td>1</td>\n",
              "      <td>F</td>\n",
              "      <td>пенсионер</td>\n",
              "      <td>0</td>\n",
              "      <td>158616.077870</td>\n",
              "      <td>сыграть свадьбу</td>\n",
              "    </tr>\n",
              "    <tr>\n",
              "      <td>5</td>\n",
              "      <td>0</td>\n",
              "      <td>-926.185831</td>\n",
              "      <td>27</td>\n",
              "      <td>высшее</td>\n",
              "      <td>0</td>\n",
              "      <td>гражданский брак</td>\n",
              "      <td>1</td>\n",
              "      <td>M</td>\n",
              "      <td>компаньон</td>\n",
              "      <td>0</td>\n",
              "      <td>255763.565419</td>\n",
              "      <td>покупка жилья</td>\n",
              "    </tr>\n",
              "    <tr>\n",
              "      <td>6</td>\n",
              "      <td>0</td>\n",
              "      <td>-2879.202052</td>\n",
              "      <td>43</td>\n",
              "      <td>высшее</td>\n",
              "      <td>0</td>\n",
              "      <td>женат / замужем</td>\n",
              "      <td>0</td>\n",
              "      <td>F</td>\n",
              "      <td>компаньон</td>\n",
              "      <td>0</td>\n",
              "      <td>240525.971920</td>\n",
              "      <td>операции с жильем</td>\n",
              "    </tr>\n",
              "    <tr>\n",
              "      <td>7</td>\n",
              "      <td>0</td>\n",
              "      <td>-152.779569</td>\n",
              "      <td>50</td>\n",
              "      <td>СРЕДНЕЕ</td>\n",
              "      <td>1</td>\n",
              "      <td>женат / замужем</td>\n",
              "      <td>0</td>\n",
              "      <td>M</td>\n",
              "      <td>сотрудник</td>\n",
              "      <td>0</td>\n",
              "      <td>135823.934197</td>\n",
              "      <td>образование</td>\n",
              "    </tr>\n",
              "    <tr>\n",
              "      <td>8</td>\n",
              "      <td>2</td>\n",
              "      <td>-6929.865299</td>\n",
              "      <td>35</td>\n",
              "      <td>ВЫСШЕЕ</td>\n",
              "      <td>0</td>\n",
              "      <td>гражданский брак</td>\n",
              "      <td>1</td>\n",
              "      <td>F</td>\n",
              "      <td>сотрудник</td>\n",
              "      <td>0</td>\n",
              "      <td>95856.832424</td>\n",
              "      <td>на проведение свадьбы</td>\n",
              "    </tr>\n",
              "    <tr>\n",
              "      <td>9</td>\n",
              "      <td>0</td>\n",
              "      <td>-2188.756445</td>\n",
              "      <td>41</td>\n",
              "      <td>среднее</td>\n",
              "      <td>1</td>\n",
              "      <td>женат / замужем</td>\n",
              "      <td>0</td>\n",
              "      <td>M</td>\n",
              "      <td>сотрудник</td>\n",
              "      <td>0</td>\n",
              "      <td>144425.938277</td>\n",
              "      <td>покупка жилья для семьи</td>\n",
              "    </tr>\n",
              "    <tr>\n",
              "      <td>10</td>\n",
              "      <td>2</td>\n",
              "      <td>-4171.483647</td>\n",
              "      <td>36</td>\n",
              "      <td>высшее</td>\n",
              "      <td>0</td>\n",
              "      <td>женат / замужем</td>\n",
              "      <td>0</td>\n",
              "      <td>M</td>\n",
              "      <td>компаньон</td>\n",
              "      <td>0</td>\n",
              "      <td>113943.491460</td>\n",
              "      <td>покупка недвижимости</td>\n",
              "    </tr>\n",
              "    <tr>\n",
              "      <td>11</td>\n",
              "      <td>0</td>\n",
              "      <td>-792.701887</td>\n",
              "      <td>40</td>\n",
              "      <td>среднее</td>\n",
              "      <td>1</td>\n",
              "      <td>женат / замужем</td>\n",
              "      <td>0</td>\n",
              "      <td>F</td>\n",
              "      <td>сотрудник</td>\n",
              "      <td>0</td>\n",
              "      <td>77069.234271</td>\n",
              "      <td>покупка коммерческой недвижимости</td>\n",
              "    </tr>\n",
              "    <tr>\n",
              "      <td>12</td>\n",
              "      <td>0</td>\n",
              "      <td>NaN</td>\n",
              "      <td>65</td>\n",
              "      <td>среднее</td>\n",
              "      <td>1</td>\n",
              "      <td>гражданский брак</td>\n",
              "      <td>1</td>\n",
              "      <td>M</td>\n",
              "      <td>пенсионер</td>\n",
              "      <td>0</td>\n",
              "      <td>NaN</td>\n",
              "      <td>сыграть свадьбу</td>\n",
              "    </tr>\n",
              "    <tr>\n",
              "      <td>13</td>\n",
              "      <td>0</td>\n",
              "      <td>-1846.641941</td>\n",
              "      <td>54</td>\n",
              "      <td>неоконченное высшее</td>\n",
              "      <td>2</td>\n",
              "      <td>женат / замужем</td>\n",
              "      <td>0</td>\n",
              "      <td>F</td>\n",
              "      <td>сотрудник</td>\n",
              "      <td>0</td>\n",
              "      <td>130458.228857</td>\n",
              "      <td>приобретение автомобиля</td>\n",
              "    </tr>\n",
              "    <tr>\n",
              "      <td>14</td>\n",
              "      <td>0</td>\n",
              "      <td>-1844.956182</td>\n",
              "      <td>56</td>\n",
              "      <td>высшее</td>\n",
              "      <td>0</td>\n",
              "      <td>гражданский брак</td>\n",
              "      <td>1</td>\n",
              "      <td>F</td>\n",
              "      <td>компаньон</td>\n",
              "      <td>1</td>\n",
              "      <td>165127.911772</td>\n",
              "      <td>покупка жилой недвижимости</td>\n",
              "    </tr>\n",
              "  </tbody>\n",
              "</table>\n",
              "</div>"
            ],
            "text/plain": [
              "    children  days_employed  dob_years            education  education_id  \\\n",
              "0          1   -8437.673028         42               высшее             0   \n",
              "1          1   -4024.803754         36              среднее             1   \n",
              "2          0   -5623.422610         33              Среднее             1   \n",
              "3          3   -4124.747207         32              среднее             1   \n",
              "4          0  340266.072047         53              среднее             1   \n",
              "5          0    -926.185831         27               высшее             0   \n",
              "6          0   -2879.202052         43               высшее             0   \n",
              "7          0    -152.779569         50              СРЕДНЕЕ             1   \n",
              "8          2   -6929.865299         35               ВЫСШЕЕ             0   \n",
              "9          0   -2188.756445         41              среднее             1   \n",
              "10         2   -4171.483647         36               высшее             0   \n",
              "11         0    -792.701887         40              среднее             1   \n",
              "12         0            NaN         65              среднее             1   \n",
              "13         0   -1846.641941         54  неоконченное высшее             2   \n",
              "14         0   -1844.956182         56               высшее             0   \n",
              "\n",
              "       family_status  family_status_id gender income_type  debt  \\\n",
              "0    женат / замужем                 0      F   сотрудник     0   \n",
              "1    женат / замужем                 0      F   сотрудник     0   \n",
              "2    женат / замужем                 0      M   сотрудник     0   \n",
              "3    женат / замужем                 0      M   сотрудник     0   \n",
              "4   гражданский брак                 1      F   пенсионер     0   \n",
              "5   гражданский брак                 1      M   компаньон     0   \n",
              "6    женат / замужем                 0      F   компаньон     0   \n",
              "7    женат / замужем                 0      M   сотрудник     0   \n",
              "8   гражданский брак                 1      F   сотрудник     0   \n",
              "9    женат / замужем                 0      M   сотрудник     0   \n",
              "10   женат / замужем                 0      M   компаньон     0   \n",
              "11   женат / замужем                 0      F   сотрудник     0   \n",
              "12  гражданский брак                 1      M   пенсионер     0   \n",
              "13   женат / замужем                 0      F   сотрудник     0   \n",
              "14  гражданский брак                 1      F   компаньон     1   \n",
              "\n",
              "     total_income                            purpose  \n",
              "0   253875.639453                      покупка жилья  \n",
              "1   112080.014102            приобретение автомобиля  \n",
              "2   145885.952297                      покупка жилья  \n",
              "3   267628.550329         дополнительное образование  \n",
              "4   158616.077870                    сыграть свадьбу  \n",
              "5   255763.565419                      покупка жилья  \n",
              "6   240525.971920                  операции с жильем  \n",
              "7   135823.934197                        образование  \n",
              "8    95856.832424              на проведение свадьбы  \n",
              "9   144425.938277            покупка жилья для семьи  \n",
              "10  113943.491460               покупка недвижимости  \n",
              "11   77069.234271  покупка коммерческой недвижимости  \n",
              "12            NaN                    сыграть свадьбу  \n",
              "13  130458.228857            приобретение автомобиля  \n",
              "14  165127.911772         покупка жилой недвижимости  "
            ]
          },
          "execution_count": 2,
          "metadata": {},
          "output_type": "execute_result"
        }
      ]
    },
    {
      "cell_type": "code",
      "metadata": {
        "id": "Q4DBZ4WdPaCc",
        "outputId": "3ade4694-a901-4fda-81d7-ee97e34afc9e"
      },
      "source": [
        "data.info()"
      ],
      "execution_count": null,
      "outputs": [
        {
          "name": "stdout",
          "output_type": "stream",
          "text": [
            "<class 'pandas.core.frame.DataFrame'>\n",
            "RangeIndex: 21525 entries, 0 to 21524\n",
            "Data columns (total 12 columns):\n",
            "children            21525 non-null int64\n",
            "days_employed       19351 non-null float64\n",
            "dob_years           21525 non-null int64\n",
            "education           21525 non-null object\n",
            "education_id        21525 non-null int64\n",
            "family_status       21525 non-null object\n",
            "family_status_id    21525 non-null int64\n",
            "gender              21525 non-null object\n",
            "income_type         21525 non-null object\n",
            "debt                21525 non-null int64\n",
            "total_income        19351 non-null float64\n",
            "purpose             21525 non-null object\n",
            "dtypes: float64(2), int64(5), object(5)\n",
            "memory usage: 2.0+ MB\n"
          ]
        }
      ]
    },
    {
      "cell_type": "markdown",
      "metadata": {
        "id": "Rm6nsyjSPaCd"
      },
      "source": [
        "В выведенных строках таблицы видим первые трудности для дальнейшего анализа: отрицательный стаж, верхний и нижний регистры вперемешку, пропуски. В data.info() видим размер таблицы (21525х12), основные типы данных (float64(2), int64(5), object(5)), наличие пропусков в данных в столбцах days_employed и total_income.\n"
      ]
    },
    {
      "cell_type": "markdown",
      "metadata": {
        "id": "m_WZAocdPaCe"
      },
      "source": [
        "**Описание данных** (из файла с инструкцией по выполнению проекта):\n",
        "*\tchildren — количество детей в семье\n",
        "*\tdays_employed — общий трудовой стаж в днях\n",
        "*\tdob_years — возраст клиента в годах\n",
        "*\teducation — уровень образования клиента\n",
        "*\teducation_id — идентификатор уровня образования\n",
        "*\tfamily_status — семейное положение\n",
        "*\tfamily_status_id — идентификатор семейного положения\n",
        "*\tgender — пол клиента\n",
        "*\tincome_type — тип занятости\n",
        "*\tdebt — имел ли задолженность по возврату кредитов\n",
        "*\ttotal_income — ежемесячный доход\n",
        "*\tpurpose — цель получения кредита\n"
      ]
    },
    {
      "cell_type": "markdown",
      "metadata": {
        "id": "S3RkqN8QPaCg"
      },
      "source": [
        "Чтобы нам было проще ориентироваться в данных, заменим названия столбцов:"
      ]
    },
    {
      "cell_type": "code",
      "metadata": {
        "id": "3TRzoLAMPaCh",
        "outputId": "1794134f-7325-4b3e-d66c-82865b1dae8a"
      },
      "source": [
        "data.columns"
      ],
      "execution_count": null,
      "outputs": [
        {
          "data": {
            "text/plain": [
              "Index(['children', 'days_employed', 'dob_years', 'education', 'education_id',\n",
              "       'family_status', 'family_status_id', 'gender', 'income_type', 'debt',\n",
              "       'total_income', 'purpose'],\n",
              "      dtype='object')"
            ]
          },
          "execution_count": 4,
          "metadata": {},
          "output_type": "execute_result"
        }
      ]
    },
    {
      "cell_type": "code",
      "metadata": {
        "id": "kRebxkkSPaCi",
        "outputId": "a0cfcf98-face-4a24-9d97-e72334a5bbec"
      },
      "source": [
        "data.set_axis(['children', 'employed_days', 'age_years', 'education_type', 'education_id',\n",
        "       'family_status', 'family_status_id', 'gender', 'income_type', 'debt_type',\n",
        "       'income_total_month', 'purpose'], axis='columns', inplace=True)\n",
        "data.columns"
      ],
      "execution_count": null,
      "outputs": [
        {
          "data": {
            "text/plain": [
              "Index(['children', 'employed_days', 'age_years', 'education_type',\n",
              "       'education_id', 'family_status', 'family_status_id', 'gender',\n",
              "       'income_type', 'debt_type', 'income_total_month', 'purpose'],\n",
              "      dtype='object')"
            ]
          },
          "execution_count": 5,
          "metadata": {},
          "output_type": "execute_result"
        }
      ]
    },
    {
      "cell_type": "markdown",
      "metadata": {
        "id": "A5hDDEc3PaCi"
      },
      "source": [
        "### Дети"
      ]
    },
    {
      "cell_type": "code",
      "metadata": {
        "id": "vO-bJxkaPaCj",
        "outputId": "b4f3b035-1218-45c4-84f5-9527fffa9acf"
      },
      "source": [
        "data['children'].unique()"
      ],
      "execution_count": null,
      "outputs": [
        {
          "data": {
            "text/plain": [
              "array([ 1,  0,  3,  2, -1,  4, 20,  5])"
            ]
          },
          "execution_count": 6,
          "metadata": {},
          "output_type": "execute_result"
        }
      ]
    },
    {
      "cell_type": "markdown",
      "metadata": {
        "id": "W2z5abszPaCj"
      },
      "source": [
        "Выделяющиеся значения: -1 ребенок и 20 детей. \n",
        "-1 ребенок - это скорее всего ошибка ввода, и там 1 ребенок. \n",
        "20 детей - теоретически вероятный вариант. Хочется посмотреть на эту семью (семьи)."
      ]
    },
    {
      "cell_type": "code",
      "metadata": {
        "scrolled": true,
        "id": "UfRuYKfePaCk",
        "outputId": "e8cef715-d0a6-42ab-f510-1607b8bf8ad2"
      },
      "source": [
        "data[data['children']==20].head(10)"
      ],
      "execution_count": null,
      "outputs": [
        {
          "data": {
            "text/html": [
              "<div>\n",
              "<style scoped>\n",
              "    .dataframe tbody tr th:only-of-type {\n",
              "        vertical-align: middle;\n",
              "    }\n",
              "\n",
              "    .dataframe tbody tr th {\n",
              "        vertical-align: top;\n",
              "    }\n",
              "\n",
              "    .dataframe thead th {\n",
              "        text-align: right;\n",
              "    }\n",
              "</style>\n",
              "<table border=\"1\" class=\"dataframe\">\n",
              "  <thead>\n",
              "    <tr style=\"text-align: right;\">\n",
              "      <th></th>\n",
              "      <th>children</th>\n",
              "      <th>employed_days</th>\n",
              "      <th>age_years</th>\n",
              "      <th>education_type</th>\n",
              "      <th>education_id</th>\n",
              "      <th>family_status</th>\n",
              "      <th>family_status_id</th>\n",
              "      <th>gender</th>\n",
              "      <th>income_type</th>\n",
              "      <th>debt_type</th>\n",
              "      <th>income_total_month</th>\n",
              "      <th>purpose</th>\n",
              "    </tr>\n",
              "  </thead>\n",
              "  <tbody>\n",
              "    <tr>\n",
              "      <td>606</td>\n",
              "      <td>20</td>\n",
              "      <td>-880.221113</td>\n",
              "      <td>21</td>\n",
              "      <td>среднее</td>\n",
              "      <td>1</td>\n",
              "      <td>женат / замужем</td>\n",
              "      <td>0</td>\n",
              "      <td>M</td>\n",
              "      <td>компаньон</td>\n",
              "      <td>0</td>\n",
              "      <td>145334.865002</td>\n",
              "      <td>покупка жилья</td>\n",
              "    </tr>\n",
              "    <tr>\n",
              "      <td>720</td>\n",
              "      <td>20</td>\n",
              "      <td>-855.595512</td>\n",
              "      <td>44</td>\n",
              "      <td>среднее</td>\n",
              "      <td>1</td>\n",
              "      <td>женат / замужем</td>\n",
              "      <td>0</td>\n",
              "      <td>F</td>\n",
              "      <td>компаньон</td>\n",
              "      <td>0</td>\n",
              "      <td>112998.738649</td>\n",
              "      <td>покупка недвижимости</td>\n",
              "    </tr>\n",
              "    <tr>\n",
              "      <td>1074</td>\n",
              "      <td>20</td>\n",
              "      <td>-3310.411598</td>\n",
              "      <td>56</td>\n",
              "      <td>среднее</td>\n",
              "      <td>1</td>\n",
              "      <td>женат / замужем</td>\n",
              "      <td>0</td>\n",
              "      <td>F</td>\n",
              "      <td>сотрудник</td>\n",
              "      <td>1</td>\n",
              "      <td>229518.537004</td>\n",
              "      <td>получение образования</td>\n",
              "    </tr>\n",
              "    <tr>\n",
              "      <td>2510</td>\n",
              "      <td>20</td>\n",
              "      <td>-2714.161249</td>\n",
              "      <td>59</td>\n",
              "      <td>высшее</td>\n",
              "      <td>0</td>\n",
              "      <td>вдовец / вдова</td>\n",
              "      <td>2</td>\n",
              "      <td>F</td>\n",
              "      <td>сотрудник</td>\n",
              "      <td>0</td>\n",
              "      <td>264474.835577</td>\n",
              "      <td>операции с коммерческой недвижимостью</td>\n",
              "    </tr>\n",
              "    <tr>\n",
              "      <td>2941</td>\n",
              "      <td>20</td>\n",
              "      <td>-2161.591519</td>\n",
              "      <td>0</td>\n",
              "      <td>среднее</td>\n",
              "      <td>1</td>\n",
              "      <td>женат / замужем</td>\n",
              "      <td>0</td>\n",
              "      <td>F</td>\n",
              "      <td>сотрудник</td>\n",
              "      <td>0</td>\n",
              "      <td>199739.941398</td>\n",
              "      <td>на покупку автомобиля</td>\n",
              "    </tr>\n",
              "    <tr>\n",
              "      <td>3302</td>\n",
              "      <td>20</td>\n",
              "      <td>NaN</td>\n",
              "      <td>35</td>\n",
              "      <td>среднее</td>\n",
              "      <td>1</td>\n",
              "      <td>Не женат / не замужем</td>\n",
              "      <td>4</td>\n",
              "      <td>F</td>\n",
              "      <td>госслужащий</td>\n",
              "      <td>0</td>\n",
              "      <td>NaN</td>\n",
              "      <td>профильное образование</td>\n",
              "    </tr>\n",
              "    <tr>\n",
              "      <td>3396</td>\n",
              "      <td>20</td>\n",
              "      <td>NaN</td>\n",
              "      <td>56</td>\n",
              "      <td>высшее</td>\n",
              "      <td>0</td>\n",
              "      <td>женат / замужем</td>\n",
              "      <td>0</td>\n",
              "      <td>F</td>\n",
              "      <td>компаньон</td>\n",
              "      <td>0</td>\n",
              "      <td>NaN</td>\n",
              "      <td>высшее образование</td>\n",
              "    </tr>\n",
              "    <tr>\n",
              "      <td>3671</td>\n",
              "      <td>20</td>\n",
              "      <td>-913.161503</td>\n",
              "      <td>23</td>\n",
              "      <td>среднее</td>\n",
              "      <td>1</td>\n",
              "      <td>Не женат / не замужем</td>\n",
              "      <td>4</td>\n",
              "      <td>F</td>\n",
              "      <td>сотрудник</td>\n",
              "      <td>0</td>\n",
              "      <td>101255.492076</td>\n",
              "      <td>на покупку подержанного автомобиля</td>\n",
              "    </tr>\n",
              "    <tr>\n",
              "      <td>3697</td>\n",
              "      <td>20</td>\n",
              "      <td>-2907.910616</td>\n",
              "      <td>40</td>\n",
              "      <td>среднее</td>\n",
              "      <td>1</td>\n",
              "      <td>гражданский брак</td>\n",
              "      <td>1</td>\n",
              "      <td>M</td>\n",
              "      <td>сотрудник</td>\n",
              "      <td>0</td>\n",
              "      <td>115380.694664</td>\n",
              "      <td>на покупку подержанного автомобиля</td>\n",
              "    </tr>\n",
              "    <tr>\n",
              "      <td>3735</td>\n",
              "      <td>20</td>\n",
              "      <td>-805.044438</td>\n",
              "      <td>26</td>\n",
              "      <td>высшее</td>\n",
              "      <td>0</td>\n",
              "      <td>Не женат / не замужем</td>\n",
              "      <td>4</td>\n",
              "      <td>M</td>\n",
              "      <td>сотрудник</td>\n",
              "      <td>0</td>\n",
              "      <td>137200.646181</td>\n",
              "      <td>ремонт жилью</td>\n",
              "    </tr>\n",
              "  </tbody>\n",
              "</table>\n",
              "</div>"
            ],
            "text/plain": [
              "      children  employed_days  age_years education_type  education_id  \\\n",
              "606         20    -880.221113         21        среднее             1   \n",
              "720         20    -855.595512         44        среднее             1   \n",
              "1074        20   -3310.411598         56        среднее             1   \n",
              "2510        20   -2714.161249         59         высшее             0   \n",
              "2941        20   -2161.591519          0        среднее             1   \n",
              "3302        20            NaN         35        среднее             1   \n",
              "3396        20            NaN         56         высшее             0   \n",
              "3671        20    -913.161503         23        среднее             1   \n",
              "3697        20   -2907.910616         40        среднее             1   \n",
              "3735        20    -805.044438         26         высшее             0   \n",
              "\n",
              "              family_status  family_status_id gender  income_type  debt_type  \\\n",
              "606         женат / замужем                 0      M    компаньон          0   \n",
              "720         женат / замужем                 0      F    компаньон          0   \n",
              "1074        женат / замужем                 0      F    сотрудник          1   \n",
              "2510         вдовец / вдова                 2      F    сотрудник          0   \n",
              "2941        женат / замужем                 0      F    сотрудник          0   \n",
              "3302  Не женат / не замужем                 4      F  госслужащий          0   \n",
              "3396        женат / замужем                 0      F    компаньон          0   \n",
              "3671  Не женат / не замужем                 4      F    сотрудник          0   \n",
              "3697       гражданский брак                 1      M    сотрудник          0   \n",
              "3735  Не женат / не замужем                 4      M    сотрудник          0   \n",
              "\n",
              "      income_total_month                                purpose  \n",
              "606        145334.865002                          покупка жилья  \n",
              "720        112998.738649                   покупка недвижимости  \n",
              "1074       229518.537004                  получение образования  \n",
              "2510       264474.835577  операции с коммерческой недвижимостью  \n",
              "2941       199739.941398                  на покупку автомобиля  \n",
              "3302                 NaN                 профильное образование  \n",
              "3396                 NaN                     высшее образование  \n",
              "3671       101255.492076     на покупку подержанного автомобиля  \n",
              "3697       115380.694664     на покупку подержанного автомобиля  \n",
              "3735       137200.646181                           ремонт жилью  "
            ]
          },
          "execution_count": 7,
          "metadata": {},
          "output_type": "execute_result"
        }
      ]
    },
    {
      "cell_type": "code",
      "metadata": {
        "id": "Ix1yOr9mPaCl",
        "outputId": "fc25e328-345b-4ab1-bd80-19af470db365"
      },
      "source": [
        "print('Семей с 20-ю детьми всего', data[data['children']==20]['children'].count())\n",
        "print('Семей с 20-ю детьми у родителей в возрасте до 30 лет:', data[(data['children']==20)&(data['age_years']<=30)]['children'].count())"
      ],
      "execution_count": null,
      "outputs": [
        {
          "name": "stdout",
          "output_type": "stream",
          "text": [
            "Семей с 20-ю детьми всего 76\n",
            "Семей с 20-ю детьми у родителей в возрасте до 30 лет: 13\n"
          ]
        }
      ]
    },
    {
      "cell_type": "markdown",
      "metadata": {
        "id": "4xugksXUPaCl"
      },
      "source": [
        "Вероятнее всего, 20 детей в данной таблице - ошибка ввода. Об этом говорит и количество (67 семей), и возраст родителей (21 год, например). Скорее всего 20 в данной ситуации - это 2."
      ]
    },
    {
      "cell_type": "markdown",
      "metadata": {
        "id": "vATMgxs0PaCm"
      },
      "source": [
        "### Трудовой стаж"
      ]
    },
    {
      "cell_type": "markdown",
      "metadata": {
        "id": "7-LbYLKoPaCm"
      },
      "source": [
        "В общей таблице бросается в глаза большое количество отрицательных значений в этой графе и наличие нереалистичных значений (например, огромный стаж, больше 1000 лет)"
      ]
    },
    {
      "cell_type": "markdown",
      "metadata": {
        "id": "eTu70_HKPaCn"
      },
      "source": [
        "Посмотрим, у каких категорий стаж имеет положительные значения:"
      ]
    },
    {
      "cell_type": "code",
      "metadata": {
        "id": "TbJxd8clPaCn",
        "outputId": "dec972c0-5168-40ab-f945-d5ca6baa6214"
      },
      "source": [
        "data[data['employed_days']>=0]['income_type'].unique()"
      ],
      "execution_count": null,
      "outputs": [
        {
          "data": {
            "text/plain": [
              "array(['пенсионер', 'безработный'], dtype=object)"
            ]
          },
          "execution_count": 9,
          "metadata": {},
          "output_type": "execute_result"
        }
      ]
    },
    {
      "cell_type": "markdown",
      "metadata": {
        "id": "nu9DkgQqPaCn"
      },
      "source": [
        "Отрицательные значения у:"
      ]
    },
    {
      "cell_type": "code",
      "metadata": {
        "id": "-0nlv4jwPaCo",
        "outputId": "f8ab0ba3-d6c1-4e46-906b-7a6e073205c7"
      },
      "source": [
        "data[data['employed_days']<0]['income_type'].unique()"
      ],
      "execution_count": null,
      "outputs": [
        {
          "data": {
            "text/plain": [
              "array(['сотрудник', 'компаньон', 'госслужащий', 'студент',\n",
              "       'предприниматель', 'в декрете'], dtype=object)"
            ]
          },
          "execution_count": 10,
          "metadata": {},
          "output_type": "execute_result"
        }
      ]
    },
    {
      "cell_type": "markdown",
      "metadata": {
        "id": "R6X7MVXRPaCo"
      },
      "source": [
        "Положительные значения в графе стажа имеют только пенсионеры и безработные. \n",
        "\n",
        "Можно предположить, что причина в особенностях внесения данных, например дефисом (он же минус) обозначался незавершенный стаж, а положительный стаж имели те, у кого он на данный момент стоит на месте. "
      ]
    },
    {
      "cell_type": "code",
      "metadata": {
        "id": "bdG7ck79PaCp",
        "outputId": "3d93885c-0ab4-4929-adbe-648c17e86726"
      },
      "source": [
        "print('Средний трудовой стаж  у пенсионеров и безработных: {:.0f}'.format(data[data['employed_days']>=0]['employed_days'].mean()/365, 'лет')) \n",
        "print('Максимальное количество лет стажа у пенсионеров и безработных: {:.0f}'.format(data[data['employed_days']>=0]['employed_days'].max()/365, 'лет'))\n",
        "print('Минимальное количество лет стажа у пенсионеров и безработных: {:.0f}'.format(data[data['employed_days']>=0]['employed_days'].min()/365, 'лет'))"
      ],
      "execution_count": null,
      "outputs": [
        {
          "name": "stdout",
          "output_type": "stream",
          "text": [
            "Средний трудовой стаж  у пенсионеров и безработных: 1000\n",
            "Максимальное количество лет стажа у пенсионеров и безработных: 1101\n",
            "Минимальное количество лет стажа у пенсионеров и безработных: 901\n"
          ]
        }
      ]
    },
    {
      "cell_type": "markdown",
      "metadata": {
        "id": "2eWpxmmPPaCq"
      },
      "source": [
        "Выяснили, что средний стаж у пенсионеров и безработных равен 1000 лет. Странно. Нужно разбираться."
      ]
    },
    {
      "cell_type": "markdown",
      "metadata": {
        "id": "bPQv0xaVPaCq"
      },
      "source": [
        "Посмотрим, что со стажем у непенсионеров и небезработных, то есть у тех, у кого стаж имеет отрицательные значения."
      ]
    },
    {
      "cell_type": "code",
      "metadata": {
        "id": "lrD2ebcgPaCq",
        "outputId": "f1766e99-0363-40ec-a82b-f00a4f2f9b9e"
      },
      "source": [
        "print('Средний трудовой стаж  у остальных категорий: {:.2f}'.format(data[data['employed_days']<0]['employed_days'].mean()/365*-1, 'лет')) \n",
        "print('Медианный трудовой стаж  у остальных категорий: {:.2f}'.format(data[data['employed_days']<0]['employed_days'].median()/365*-1, 'лет'))\n",
        "print('Минимальное количество лет стажа у остальных категорий: {:.2f}'.format(data[data['employed_days']<0]['employed_days'].max()/365*-1, 'лет'))\n",
        "print('Максимальное количество лет стажа у остальных категорий: {:.2f}'.format(data[data['employed_days']<0]['employed_days'].min()/365*-1, 'лет'))"
      ],
      "execution_count": null,
      "outputs": [
        {
          "name": "stdout",
          "output_type": "stream",
          "text": [
            "Средний трудовой стаж  у остальных категорий: 6.45\n",
            "Медианный трудовой стаж  у остальных категорий: 4.47\n",
            "Минимальное количество лет стажа у остальных категорий: 0.07\n",
            "Максимальное количество лет стажа у остальных категорий: 50.38\n"
          ]
        }
      ]
    },
    {
      "cell_type": "markdown",
      "metadata": {
        "id": "3_Z-kGgYPaCr"
      },
      "source": [
        "Записи трудового стажа у остальных категорий ('сотрудник', 'компаньон', 'госслужащий', 'студент', 'предприниматель', 'в декрете') выглядят относительно правдоподобно (если убрать \"-\"). \n",
        "\n",
        "Интересно, что есть люди, начавшие свой трудовой путь в 10 лет..."
      ]
    },
    {
      "cell_type": "markdown",
      "metadata": {
        "id": "diIk_SYDPaCr"
      },
      "source": [
        "### Возраст заемщика"
      ]
    },
    {
      "cell_type": "markdown",
      "metadata": {
        "id": "M0Em-fzpPaCs"
      },
      "source": [
        "Посмотрим, нет ли в таблице 1000-летних людей (вдруг это их стаж был)."
      ]
    },
    {
      "cell_type": "code",
      "metadata": {
        "id": "-9tRCUi_PaCs",
        "outputId": "17cd694f-4744-47c1-d44b-783c51181d67"
      },
      "source": [
        "data['age_years'].unique()"
      ],
      "execution_count": null,
      "outputs": [
        {
          "data": {
            "text/plain": [
              "array([42, 36, 33, 32, 53, 27, 43, 50, 35, 41, 40, 65, 54, 56, 26, 48, 24,\n",
              "       21, 57, 67, 28, 63, 62, 47, 34, 68, 25, 31, 30, 20, 49, 37, 45, 61,\n",
              "       64, 44, 52, 46, 23, 38, 39, 51,  0, 59, 29, 60, 55, 58, 71, 22, 73,\n",
              "       66, 69, 19, 72, 70, 74, 75])"
            ]
          },
          "execution_count": 13,
          "metadata": {},
          "output_type": "execute_result"
        }
      ]
    },
    {
      "cell_type": "markdown",
      "metadata": {
        "id": "gWgOLhj6PaCs"
      },
      "source": [
        "Возраст - 0 лет - вероятнее всего пропустили при вводе. Заменим потом на средний возраст. Для этого вычислим его, исключив при вычислении нулевой возраст."
      ]
    },
    {
      "cell_type": "code",
      "metadata": {
        "id": "KZN-EJShPaCt",
        "outputId": "2798776e-3827-4369-ae6c-64a3dd607a92"
      },
      "source": [
        "print('Средний возраст потенциального заемщика: {:.0f}'.format(data[data['age_years']>0]['age_years'].mean()), 'года/лет')\n",
        "print('Максимальный возраст потенциального заемщика: {:.0f}'.format(data[data['age_years']>0]['age_years'].max()), 'года/лет')\n",
        "print('Минимальный возраст потенциального заемщика: {:.0f}'.format(data[data['age_years']>0]['age_years'].min()), 'года/лет')"
      ],
      "execution_count": null,
      "outputs": [
        {
          "name": "stdout",
          "output_type": "stream",
          "text": [
            "Средний возраст потенциального заемщика: 43 года/лет\n",
            "Максимальный возраст потенциального заемщика: 75 года/лет\n",
            "Минимальный возраст потенциального заемщика: 19 года/лет\n"
          ]
        }
      ]
    },
    {
      "cell_type": "markdown",
      "metadata": {
        "id": "WAJbrNVsPaCt"
      },
      "source": [
        "Посмотрим отдельно средний возраст пенсионеров и безработных (чему должен соответствовать средний стаж?)"
      ]
    },
    {
      "cell_type": "code",
      "metadata": {
        "id": "XFS_-9dHPaCt",
        "outputId": "3d3a68e3-e4b5-49e5-b5db-81144a8af31a"
      },
      "source": [
        "print('Средний возраст пенсионеров и безработных: {:.0f}'.format(data[data['employed_days']>0]['age_years'].mean()), 'года/лет')"
      ],
      "execution_count": null,
      "outputs": [
        {
          "name": "stdout",
          "output_type": "stream",
          "text": [
            "Средний возраст пенсионеров и безработных: 59 года/лет\n"
          ]
        }
      ]
    },
    {
      "cell_type": "markdown",
      "metadata": {
        "id": "R0olqeISPaCu"
      },
      "source": [
        "Вот самые старшие пенсионеры с неправдоподобным трудовым стажем."
      ]
    },
    {
      "cell_type": "code",
      "metadata": {
        "id": "AMB6XfdvPaCu",
        "outputId": "9e2e2fd8-7310-4e1b-c658-d192e6f57f1f"
      },
      "source": [
        "data[(data['income_type']=='пенсионер')&(data['age_years'])].sort_values(by='age_years', ascending=False).head()"
      ],
      "execution_count": null,
      "outputs": [
        {
          "data": {
            "text/html": [
              "<div>\n",
              "<style scoped>\n",
              "    .dataframe tbody tr th:only-of-type {\n",
              "        vertical-align: middle;\n",
              "    }\n",
              "\n",
              "    .dataframe tbody tr th {\n",
              "        vertical-align: top;\n",
              "    }\n",
              "\n",
              "    .dataframe thead th {\n",
              "        text-align: right;\n",
              "    }\n",
              "</style>\n",
              "<table border=\"1\" class=\"dataframe\">\n",
              "  <thead>\n",
              "    <tr style=\"text-align: right;\">\n",
              "      <th></th>\n",
              "      <th>children</th>\n",
              "      <th>employed_days</th>\n",
              "      <th>age_years</th>\n",
              "      <th>education_type</th>\n",
              "      <th>education_id</th>\n",
              "      <th>family_status</th>\n",
              "      <th>family_status_id</th>\n",
              "      <th>gender</th>\n",
              "      <th>income_type</th>\n",
              "      <th>debt_type</th>\n",
              "      <th>income_total_month</th>\n",
              "      <th>purpose</th>\n",
              "    </tr>\n",
              "  </thead>\n",
              "  <tbody>\n",
              "    <tr>\n",
              "      <td>20610</td>\n",
              "      <td>0</td>\n",
              "      <td>364291.049263</td>\n",
              "      <td>73</td>\n",
              "      <td>среднее</td>\n",
              "      <td>1</td>\n",
              "      <td>вдовец / вдова</td>\n",
              "      <td>2</td>\n",
              "      <td>F</td>\n",
              "      <td>пенсионер</td>\n",
              "      <td>0</td>\n",
              "      <td>64437.765650</td>\n",
              "      <td>покупка жилой недвижимости</td>\n",
              "    </tr>\n",
              "    <tr>\n",
              "      <td>6406</td>\n",
              "      <td>0</td>\n",
              "      <td>352239.799751</td>\n",
              "      <td>73</td>\n",
              "      <td>среднее</td>\n",
              "      <td>1</td>\n",
              "      <td>женат / замужем</td>\n",
              "      <td>0</td>\n",
              "      <td>F</td>\n",
              "      <td>пенсионер</td>\n",
              "      <td>0</td>\n",
              "      <td>119190.487878</td>\n",
              "      <td>покупка жилья</td>\n",
              "    </tr>\n",
              "    <tr>\n",
              "      <td>19385</td>\n",
              "      <td>0</td>\n",
              "      <td>372290.349044</td>\n",
              "      <td>73</td>\n",
              "      <td>начальное</td>\n",
              "      <td>3</td>\n",
              "      <td>гражданский брак</td>\n",
              "      <td>1</td>\n",
              "      <td>F</td>\n",
              "      <td>пенсионер</td>\n",
              "      <td>0</td>\n",
              "      <td>100166.624237</td>\n",
              "      <td>на проведение свадьбы</td>\n",
              "    </tr>\n",
              "    <tr>\n",
              "      <td>1826</td>\n",
              "      <td>0</td>\n",
              "      <td>368375.048770</td>\n",
              "      <td>73</td>\n",
              "      <td>Среднее</td>\n",
              "      <td>1</td>\n",
              "      <td>вдовец / вдова</td>\n",
              "      <td>2</td>\n",
              "      <td>F</td>\n",
              "      <td>пенсионер</td>\n",
              "      <td>0</td>\n",
              "      <td>74284.473064</td>\n",
              "      <td>покупка жилой недвижимости</td>\n",
              "    </tr>\n",
              "    <tr>\n",
              "      <td>5804</td>\n",
              "      <td>0</td>\n",
              "      <td>399563.882630</td>\n",
              "      <td>73</td>\n",
              "      <td>среднее</td>\n",
              "      <td>1</td>\n",
              "      <td>женат / замужем</td>\n",
              "      <td>0</td>\n",
              "      <td>F</td>\n",
              "      <td>пенсионер</td>\n",
              "      <td>0</td>\n",
              "      <td>126603.199013</td>\n",
              "      <td>покупка коммерческой недвижимости</td>\n",
              "    </tr>\n",
              "  </tbody>\n",
              "</table>\n",
              "</div>"
            ],
            "text/plain": [
              "       children  employed_days  age_years education_type  education_id  \\\n",
              "20610         0  364291.049263         73        среднее             1   \n",
              "6406          0  352239.799751         73        среднее             1   \n",
              "19385         0  372290.349044         73      начальное             3   \n",
              "1826          0  368375.048770         73        Среднее             1   \n",
              "5804          0  399563.882630         73        среднее             1   \n",
              "\n",
              "          family_status  family_status_id gender income_type  debt_type  \\\n",
              "20610    вдовец / вдова                 2      F   пенсионер          0   \n",
              "6406    женат / замужем                 0      F   пенсионер          0   \n",
              "19385  гражданский брак                 1      F   пенсионер          0   \n",
              "1826     вдовец / вдова                 2      F   пенсионер          0   \n",
              "5804    женат / замужем                 0      F   пенсионер          0   \n",
              "\n",
              "       income_total_month                            purpose  \n",
              "20610        64437.765650         покупка жилой недвижимости  \n",
              "6406        119190.487878                      покупка жилья  \n",
              "19385       100166.624237              на проведение свадьбы  \n",
              "1826         74284.473064         покупка жилой недвижимости  \n",
              "5804        126603.199013  покупка коммерческой недвижимости  "
            ]
          },
          "execution_count": 16,
          "metadata": {},
          "output_type": "execute_result"
        }
      ]
    },
    {
      "cell_type": "markdown",
      "metadata": {
        "id": "4eNxbVbPPaCu"
      },
      "source": [
        "### Образование"
      ]
    },
    {
      "cell_type": "markdown",
      "metadata": {
        "id": "pBYYgZDfPaCu"
      },
      "source": [
        "Посмотрим, какие есть варианты образования."
      ]
    },
    {
      "cell_type": "code",
      "metadata": {
        "id": "xAkOFeE_PaCv",
        "outputId": "53ce3356-f235-46ea-b2e2-3de2cbff550f"
      },
      "source": [
        "data['education_type'].unique()"
      ],
      "execution_count": null,
      "outputs": [
        {
          "data": {
            "text/plain": [
              "array(['высшее', 'среднее', 'Среднее', 'СРЕДНЕЕ', 'ВЫСШЕЕ',\n",
              "       'неоконченное высшее', 'начальное', 'Высшее',\n",
              "       'НЕОКОНЧЕННОЕ ВЫСШЕЕ', 'Неоконченное высшее', 'НАЧАЛЬНОЕ',\n",
              "       'Начальное', 'Ученая степень', 'УЧЕНАЯ СТЕПЕНЬ', 'ученая степень'],\n",
              "      dtype=object)"
            ]
          },
          "execution_count": 17,
          "metadata": {},
          "output_type": "execute_result"
        }
      ]
    },
    {
      "cell_type": "markdown",
      "metadata": {
        "id": "tga15ngtPaCv"
      },
      "source": [
        "Соответствие типов образования id:"
      ]
    },
    {
      "cell_type": "code",
      "metadata": {
        "id": "VQzC7ej_PaCv",
        "outputId": "147ac8a3-0474-4ea8-b639-f287fe32b0fe"
      },
      "source": [
        "data[['education_id', 'education_type']].drop_duplicates().reset_index(drop=True)"
      ],
      "execution_count": null,
      "outputs": [
        {
          "data": {
            "text/html": [
              "<div>\n",
              "<style scoped>\n",
              "    .dataframe tbody tr th:only-of-type {\n",
              "        vertical-align: middle;\n",
              "    }\n",
              "\n",
              "    .dataframe tbody tr th {\n",
              "        vertical-align: top;\n",
              "    }\n",
              "\n",
              "    .dataframe thead th {\n",
              "        text-align: right;\n",
              "    }\n",
              "</style>\n",
              "<table border=\"1\" class=\"dataframe\">\n",
              "  <thead>\n",
              "    <tr style=\"text-align: right;\">\n",
              "      <th></th>\n",
              "      <th>education_id</th>\n",
              "      <th>education_type</th>\n",
              "    </tr>\n",
              "  </thead>\n",
              "  <tbody>\n",
              "    <tr>\n",
              "      <td>0</td>\n",
              "      <td>0</td>\n",
              "      <td>высшее</td>\n",
              "    </tr>\n",
              "    <tr>\n",
              "      <td>1</td>\n",
              "      <td>1</td>\n",
              "      <td>среднее</td>\n",
              "    </tr>\n",
              "    <tr>\n",
              "      <td>2</td>\n",
              "      <td>1</td>\n",
              "      <td>Среднее</td>\n",
              "    </tr>\n",
              "    <tr>\n",
              "      <td>3</td>\n",
              "      <td>1</td>\n",
              "      <td>СРЕДНЕЕ</td>\n",
              "    </tr>\n",
              "    <tr>\n",
              "      <td>4</td>\n",
              "      <td>0</td>\n",
              "      <td>ВЫСШЕЕ</td>\n",
              "    </tr>\n",
              "    <tr>\n",
              "      <td>5</td>\n",
              "      <td>2</td>\n",
              "      <td>неоконченное высшее</td>\n",
              "    </tr>\n",
              "    <tr>\n",
              "      <td>6</td>\n",
              "      <td>3</td>\n",
              "      <td>начальное</td>\n",
              "    </tr>\n",
              "    <tr>\n",
              "      <td>7</td>\n",
              "      <td>0</td>\n",
              "      <td>Высшее</td>\n",
              "    </tr>\n",
              "    <tr>\n",
              "      <td>8</td>\n",
              "      <td>2</td>\n",
              "      <td>НЕОКОНЧЕННОЕ ВЫСШЕЕ</td>\n",
              "    </tr>\n",
              "    <tr>\n",
              "      <td>9</td>\n",
              "      <td>2</td>\n",
              "      <td>Неоконченное высшее</td>\n",
              "    </tr>\n",
              "    <tr>\n",
              "      <td>10</td>\n",
              "      <td>3</td>\n",
              "      <td>НАЧАЛЬНОЕ</td>\n",
              "    </tr>\n",
              "    <tr>\n",
              "      <td>11</td>\n",
              "      <td>3</td>\n",
              "      <td>Начальное</td>\n",
              "    </tr>\n",
              "    <tr>\n",
              "      <td>12</td>\n",
              "      <td>4</td>\n",
              "      <td>Ученая степень</td>\n",
              "    </tr>\n",
              "    <tr>\n",
              "      <td>13</td>\n",
              "      <td>4</td>\n",
              "      <td>УЧЕНАЯ СТЕПЕНЬ</td>\n",
              "    </tr>\n",
              "    <tr>\n",
              "      <td>14</td>\n",
              "      <td>4</td>\n",
              "      <td>ученая степень</td>\n",
              "    </tr>\n",
              "  </tbody>\n",
              "</table>\n",
              "</div>"
            ],
            "text/plain": [
              "    education_id       education_type\n",
              "0              0               высшее\n",
              "1              1              среднее\n",
              "2              1              Среднее\n",
              "3              1              СРЕДНЕЕ\n",
              "4              0               ВЫСШЕЕ\n",
              "5              2  неоконченное высшее\n",
              "6              3            начальное\n",
              "7              0               Высшее\n",
              "8              2  НЕОКОНЧЕННОЕ ВЫСШЕЕ\n",
              "9              2  Неоконченное высшее\n",
              "10             3            НАЧАЛЬНОЕ\n",
              "11             3            Начальное\n",
              "12             4       Ученая степень\n",
              "13             4       УЧЕНАЯ СТЕПЕНЬ\n",
              "14             4       ученая степень"
            ]
          },
          "execution_count": 18,
          "metadata": {},
          "output_type": "execute_result"
        }
      ]
    },
    {
      "cell_type": "markdown",
      "metadata": {
        "id": "fyqQeyiuPaCv"
      },
      "source": [
        "Всего типов образования 5. \n",
        "\n",
        "Данные будет необходимо привести к одному регистру, но уже сейчас видно соответствие id типу образования."
      ]
    },
    {
      "cell_type": "markdown",
      "metadata": {
        "id": "EMxThfsEPaCw"
      },
      "source": [
        "### Пол потенциального заёмщика"
      ]
    },
    {
      "cell_type": "markdown",
      "metadata": {
        "id": "oVSy4BBZPaCw"
      },
      "source": [
        "Посмотрим, какие варианты имеются в графе пола заёмщика."
      ]
    },
    {
      "cell_type": "code",
      "metadata": {
        "id": "tTjuWejjPaCw",
        "outputId": "f926f4e9-d6a8-4b54-f3f1-16f6381982bd"
      },
      "source": [
        "data['gender'].unique()"
      ],
      "execution_count": null,
      "outputs": [
        {
          "data": {
            "text/plain": [
              "array(['F', 'M', 'XNA'], dtype=object)"
            ]
          },
          "execution_count": 19,
          "metadata": {},
          "output_type": "execute_result"
        }
      ]
    },
    {
      "cell_type": "markdown",
      "metadata": {
        "id": "gaifNKRZPaCx"
      },
      "source": [
        "Есть непонятный пол XNA. Посмотрим, много ли его в данных и чему он соответствует."
      ]
    },
    {
      "cell_type": "code",
      "metadata": {
        "id": "rKUvKyM4PaCx",
        "outputId": "1b43a0f2-243d-4ded-fa89-e453648d3a1e"
      },
      "source": [
        "data[data['gender']=='XNA']['gender'].count()"
      ],
      "execution_count": null,
      "outputs": [
        {
          "data": {
            "text/plain": [
              "1"
            ]
          },
          "execution_count": 20,
          "metadata": {},
          "output_type": "execute_result"
        }
      ]
    },
    {
      "cell_type": "code",
      "metadata": {
        "id": "F1ponX_UPaCx",
        "outputId": "37a03ec0-f255-492a-c7f4-e95470a15584"
      },
      "source": [
        "data[data['gender']=='XNA']"
      ],
      "execution_count": null,
      "outputs": [
        {
          "data": {
            "text/html": [
              "<div>\n",
              "<style scoped>\n",
              "    .dataframe tbody tr th:only-of-type {\n",
              "        vertical-align: middle;\n",
              "    }\n",
              "\n",
              "    .dataframe tbody tr th {\n",
              "        vertical-align: top;\n",
              "    }\n",
              "\n",
              "    .dataframe thead th {\n",
              "        text-align: right;\n",
              "    }\n",
              "</style>\n",
              "<table border=\"1\" class=\"dataframe\">\n",
              "  <thead>\n",
              "    <tr style=\"text-align: right;\">\n",
              "      <th></th>\n",
              "      <th>children</th>\n",
              "      <th>employed_days</th>\n",
              "      <th>age_years</th>\n",
              "      <th>education_type</th>\n",
              "      <th>education_id</th>\n",
              "      <th>family_status</th>\n",
              "      <th>family_status_id</th>\n",
              "      <th>gender</th>\n",
              "      <th>income_type</th>\n",
              "      <th>debt_type</th>\n",
              "      <th>income_total_month</th>\n",
              "      <th>purpose</th>\n",
              "    </tr>\n",
              "  </thead>\n",
              "  <tbody>\n",
              "    <tr>\n",
              "      <td>10701</td>\n",
              "      <td>0</td>\n",
              "      <td>-2358.600502</td>\n",
              "      <td>24</td>\n",
              "      <td>неоконченное высшее</td>\n",
              "      <td>2</td>\n",
              "      <td>гражданский брак</td>\n",
              "      <td>1</td>\n",
              "      <td>XNA</td>\n",
              "      <td>компаньон</td>\n",
              "      <td>0</td>\n",
              "      <td>203905.157261</td>\n",
              "      <td>покупка недвижимости</td>\n",
              "    </tr>\n",
              "  </tbody>\n",
              "</table>\n",
              "</div>"
            ],
            "text/plain": [
              "       children  employed_days  age_years       education_type  education_id  \\\n",
              "10701         0   -2358.600502         24  неоконченное высшее             2   \n",
              "\n",
              "          family_status  family_status_id gender income_type  debt_type  \\\n",
              "10701  гражданский брак                 1    XNA   компаньон          0   \n",
              "\n",
              "       income_total_month               purpose  \n",
              "10701       203905.157261  покупка недвижимости  "
            ]
          },
          "execution_count": 21,
          "metadata": {},
          "output_type": "execute_result"
        }
      ]
    },
    {
      "cell_type": "markdown",
      "metadata": {
        "id": "igMrbDUAPaCy"
      },
      "source": [
        "Вероятно, XNA - это NA (not available - данные отсутствуют). Удалим его на этапе предобработки данных."
      ]
    },
    {
      "cell_type": "markdown",
      "metadata": {
        "id": "x6pqrKzLPaCy"
      },
      "source": [
        "### Семейный статус"
      ]
    },
    {
      "cell_type": "markdown",
      "metadata": {
        "id": "1PFCuyQ5PaCy"
      },
      "source": [
        "Посмотрим, какие имеются семейные статусы в данных:"
      ]
    },
    {
      "cell_type": "code",
      "metadata": {
        "id": "Ap1eudEkPaCy",
        "outputId": "bb84a489-1f75-40f7-d8f0-dc8371180c09"
      },
      "source": [
        "data[['family_status_id', 'family_status']].drop_duplicates().reset_index(drop=True)"
      ],
      "execution_count": null,
      "outputs": [
        {
          "data": {
            "text/html": [
              "<div>\n",
              "<style scoped>\n",
              "    .dataframe tbody tr th:only-of-type {\n",
              "        vertical-align: middle;\n",
              "    }\n",
              "\n",
              "    .dataframe tbody tr th {\n",
              "        vertical-align: top;\n",
              "    }\n",
              "\n",
              "    .dataframe thead th {\n",
              "        text-align: right;\n",
              "    }\n",
              "</style>\n",
              "<table border=\"1\" class=\"dataframe\">\n",
              "  <thead>\n",
              "    <tr style=\"text-align: right;\">\n",
              "      <th></th>\n",
              "      <th>family_status_id</th>\n",
              "      <th>family_status</th>\n",
              "    </tr>\n",
              "  </thead>\n",
              "  <tbody>\n",
              "    <tr>\n",
              "      <td>0</td>\n",
              "      <td>0</td>\n",
              "      <td>женат / замужем</td>\n",
              "    </tr>\n",
              "    <tr>\n",
              "      <td>1</td>\n",
              "      <td>1</td>\n",
              "      <td>гражданский брак</td>\n",
              "    </tr>\n",
              "    <tr>\n",
              "      <td>2</td>\n",
              "      <td>2</td>\n",
              "      <td>вдовец / вдова</td>\n",
              "    </tr>\n",
              "    <tr>\n",
              "      <td>3</td>\n",
              "      <td>3</td>\n",
              "      <td>в разводе</td>\n",
              "    </tr>\n",
              "    <tr>\n",
              "      <td>4</td>\n",
              "      <td>4</td>\n",
              "      <td>Не женат / не замужем</td>\n",
              "    </tr>\n",
              "  </tbody>\n",
              "</table>\n",
              "</div>"
            ],
            "text/plain": [
              "   family_status_id          family_status\n",
              "0                 0        женат / замужем\n",
              "1                 1       гражданский брак\n",
              "2                 2         вдовец / вдова\n",
              "3                 3              в разводе\n",
              "4                 4  Не женат / не замужем"
            ]
          },
          "execution_count": 22,
          "metadata": {},
          "output_type": "execute_result"
        }
      ]
    },
    {
      "cell_type": "markdown",
      "metadata": {
        "id": "vTBJjMiiPaCz"
      },
      "source": [
        "Данные по family_status необходимо привести к единому виду (Не женат / не замужем - не женат / не замужем)"
      ]
    },
    {
      "cell_type": "markdown",
      "metadata": {
        "id": "K8f4Rp46PaCz"
      },
      "source": [
        "### Источник дохода"
      ]
    },
    {
      "cell_type": "markdown",
      "metadata": {
        "id": "agtzZCAxPaCz"
      },
      "source": [
        "Варианты источников дохода в данных:"
      ]
    },
    {
      "cell_type": "code",
      "metadata": {
        "id": "Tdc5c1tEPaCz",
        "outputId": "f4faca1d-98e1-4680-8d90-6db771a5c5f0"
      },
      "source": [
        "data['income_type'].unique()"
      ],
      "execution_count": null,
      "outputs": [
        {
          "data": {
            "text/plain": [
              "array(['сотрудник', 'пенсионер', 'компаньон', 'госслужащий',\n",
              "       'безработный', 'предприниматель', 'студент', 'в декрете'],\n",
              "      dtype=object)"
            ]
          },
          "execution_count": 23,
          "metadata": {},
          "output_type": "execute_result"
        }
      ]
    },
    {
      "cell_type": "code",
      "metadata": {
        "id": "OaZD7nV_PaCz",
        "outputId": "dc23c781-62b5-4f73-d178-090463095896"
      },
      "source": [
        "data.groupby('income_type').count()"
      ],
      "execution_count": null,
      "outputs": [
        {
          "data": {
            "text/html": [
              "<div>\n",
              "<style scoped>\n",
              "    .dataframe tbody tr th:only-of-type {\n",
              "        vertical-align: middle;\n",
              "    }\n",
              "\n",
              "    .dataframe tbody tr th {\n",
              "        vertical-align: top;\n",
              "    }\n",
              "\n",
              "    .dataframe thead th {\n",
              "        text-align: right;\n",
              "    }\n",
              "</style>\n",
              "<table border=\"1\" class=\"dataframe\">\n",
              "  <thead>\n",
              "    <tr style=\"text-align: right;\">\n",
              "      <th></th>\n",
              "      <th>children</th>\n",
              "      <th>employed_days</th>\n",
              "      <th>age_years</th>\n",
              "      <th>education_type</th>\n",
              "      <th>education_id</th>\n",
              "      <th>family_status</th>\n",
              "      <th>family_status_id</th>\n",
              "      <th>gender</th>\n",
              "      <th>debt_type</th>\n",
              "      <th>income_total_month</th>\n",
              "      <th>purpose</th>\n",
              "    </tr>\n",
              "    <tr>\n",
              "      <th>income_type</th>\n",
              "      <th></th>\n",
              "      <th></th>\n",
              "      <th></th>\n",
              "      <th></th>\n",
              "      <th></th>\n",
              "      <th></th>\n",
              "      <th></th>\n",
              "      <th></th>\n",
              "      <th></th>\n",
              "      <th></th>\n",
              "      <th></th>\n",
              "    </tr>\n",
              "  </thead>\n",
              "  <tbody>\n",
              "    <tr>\n",
              "      <td>безработный</td>\n",
              "      <td>2</td>\n",
              "      <td>2</td>\n",
              "      <td>2</td>\n",
              "      <td>2</td>\n",
              "      <td>2</td>\n",
              "      <td>2</td>\n",
              "      <td>2</td>\n",
              "      <td>2</td>\n",
              "      <td>2</td>\n",
              "      <td>2</td>\n",
              "      <td>2</td>\n",
              "    </tr>\n",
              "    <tr>\n",
              "      <td>в декрете</td>\n",
              "      <td>1</td>\n",
              "      <td>1</td>\n",
              "      <td>1</td>\n",
              "      <td>1</td>\n",
              "      <td>1</td>\n",
              "      <td>1</td>\n",
              "      <td>1</td>\n",
              "      <td>1</td>\n",
              "      <td>1</td>\n",
              "      <td>1</td>\n",
              "      <td>1</td>\n",
              "    </tr>\n",
              "    <tr>\n",
              "      <td>госслужащий</td>\n",
              "      <td>1459</td>\n",
              "      <td>1312</td>\n",
              "      <td>1459</td>\n",
              "      <td>1459</td>\n",
              "      <td>1459</td>\n",
              "      <td>1459</td>\n",
              "      <td>1459</td>\n",
              "      <td>1459</td>\n",
              "      <td>1459</td>\n",
              "      <td>1312</td>\n",
              "      <td>1459</td>\n",
              "    </tr>\n",
              "    <tr>\n",
              "      <td>компаньон</td>\n",
              "      <td>5085</td>\n",
              "      <td>4577</td>\n",
              "      <td>5085</td>\n",
              "      <td>5085</td>\n",
              "      <td>5085</td>\n",
              "      <td>5085</td>\n",
              "      <td>5085</td>\n",
              "      <td>5085</td>\n",
              "      <td>5085</td>\n",
              "      <td>4577</td>\n",
              "      <td>5085</td>\n",
              "    </tr>\n",
              "    <tr>\n",
              "      <td>пенсионер</td>\n",
              "      <td>3856</td>\n",
              "      <td>3443</td>\n",
              "      <td>3856</td>\n",
              "      <td>3856</td>\n",
              "      <td>3856</td>\n",
              "      <td>3856</td>\n",
              "      <td>3856</td>\n",
              "      <td>3856</td>\n",
              "      <td>3856</td>\n",
              "      <td>3443</td>\n",
              "      <td>3856</td>\n",
              "    </tr>\n",
              "    <tr>\n",
              "      <td>предприниматель</td>\n",
              "      <td>2</td>\n",
              "      <td>1</td>\n",
              "      <td>2</td>\n",
              "      <td>2</td>\n",
              "      <td>2</td>\n",
              "      <td>2</td>\n",
              "      <td>2</td>\n",
              "      <td>2</td>\n",
              "      <td>2</td>\n",
              "      <td>1</td>\n",
              "      <td>2</td>\n",
              "    </tr>\n",
              "    <tr>\n",
              "      <td>сотрудник</td>\n",
              "      <td>11119</td>\n",
              "      <td>10014</td>\n",
              "      <td>11119</td>\n",
              "      <td>11119</td>\n",
              "      <td>11119</td>\n",
              "      <td>11119</td>\n",
              "      <td>11119</td>\n",
              "      <td>11119</td>\n",
              "      <td>11119</td>\n",
              "      <td>10014</td>\n",
              "      <td>11119</td>\n",
              "    </tr>\n",
              "    <tr>\n",
              "      <td>студент</td>\n",
              "      <td>1</td>\n",
              "      <td>1</td>\n",
              "      <td>1</td>\n",
              "      <td>1</td>\n",
              "      <td>1</td>\n",
              "      <td>1</td>\n",
              "      <td>1</td>\n",
              "      <td>1</td>\n",
              "      <td>1</td>\n",
              "      <td>1</td>\n",
              "      <td>1</td>\n",
              "    </tr>\n",
              "  </tbody>\n",
              "</table>\n",
              "</div>"
            ],
            "text/plain": [
              "                 children  employed_days  age_years  education_type  \\\n",
              "income_type                                                           \n",
              "безработный             2              2          2               2   \n",
              "в декрете               1              1          1               1   \n",
              "госслужащий          1459           1312       1459            1459   \n",
              "компаньон            5085           4577       5085            5085   \n",
              "пенсионер            3856           3443       3856            3856   \n",
              "предприниматель         2              1          2               2   \n",
              "сотрудник           11119          10014      11119           11119   \n",
              "студент                 1              1          1               1   \n",
              "\n",
              "                 education_id  family_status  family_status_id  gender  \\\n",
              "income_type                                                              \n",
              "безработный                 2              2                 2       2   \n",
              "в декрете                   1              1                 1       1   \n",
              "госслужащий              1459           1459              1459    1459   \n",
              "компаньон                5085           5085              5085    5085   \n",
              "пенсионер                3856           3856              3856    3856   \n",
              "предприниматель             2              2                 2       2   \n",
              "сотрудник               11119          11119             11119   11119   \n",
              "студент                     1              1                 1       1   \n",
              "\n",
              "                 debt_type  income_total_month  purpose  \n",
              "income_type                                              \n",
              "безработный              2                   2        2  \n",
              "в декрете                1                   1        1  \n",
              "госслужащий           1459                1312     1459  \n",
              "компаньон             5085                4577     5085  \n",
              "пенсионер             3856                3443     3856  \n",
              "предприниматель          2                   1        2  \n",
              "сотрудник            11119               10014    11119  \n",
              "студент                  1                   1        1  "
            ]
          },
          "execution_count": 24,
          "metadata": {},
          "output_type": "execute_result"
        }
      ]
    },
    {
      "cell_type": "markdown",
      "metadata": {
        "id": "2h0GvaiSPaC0"
      },
      "source": [
        "Безработных, в декрете и студентов ничтожно мало."
      ]
    },
    {
      "cell_type": "markdown",
      "metadata": {
        "id": "lHzmq5ssPaC0"
      },
      "source": [
        "### Размер дохода"
      ]
    },
    {
      "cell_type": "code",
      "metadata": {
        "id": "IpjkLG-4PaC0",
        "outputId": "21b8f618-368c-40da-f978-fdee75c2bd0e"
      },
      "source": [
        "print('Максимальный доход: {:.0f}'.format(data['income_total_month'].max()))\n",
        "print('Минимальный доход: {:.0f}'.format(data['income_total_month'].min()))\n",
        "print('Средний доход: {:.0f}'.format(data['income_total_month'].mean()))\n",
        "print('Медианный доход: {:.0f}'.format(data['income_total_month'].median()))"
      ],
      "execution_count": null,
      "outputs": [
        {
          "name": "stdout",
          "output_type": "stream",
          "text": [
            "Максимальный доход: 2265604\n",
            "Минимальный доход: 20667\n",
            "Средний доход: 167422\n",
            "Медианный доход: 145018\n"
          ]
        }
      ]
    },
    {
      "cell_type": "markdown",
      "metadata": {
        "id": "U5NieDAuPaC0"
      },
      "source": [
        "### Наличие или отсутствие задолжности"
      ]
    },
    {
      "cell_type": "markdown",
      "metadata": {
        "id": "xnG4Z5u3PaC1"
      },
      "source": [
        "Как обозначается наличие и отсутвие задолжности:"
      ]
    },
    {
      "cell_type": "code",
      "metadata": {
        "id": "bDaVbMxmPaC1",
        "outputId": "4c7606a1-bb5a-4357-e099-d53f3d42e8da"
      },
      "source": [
        "data['debt_type'].unique()"
      ],
      "execution_count": null,
      "outputs": [
        {
          "data": {
            "text/plain": [
              "array([0, 1])"
            ]
          },
          "execution_count": 26,
          "metadata": {},
          "output_type": "execute_result"
        }
      ]
    },
    {
      "cell_type": "markdown",
      "metadata": {
        "id": "P3Yjg4gJPaC1"
      },
      "source": [
        "Сколько всего представителей этих двух категорий:"
      ]
    },
    {
      "cell_type": "code",
      "metadata": {
        "id": "PjfR6jiUPaC1",
        "outputId": "62405f5d-661e-4357-909b-603ba8968b7c"
      },
      "source": [
        "data.groupby('debt_type').count()"
      ],
      "execution_count": null,
      "outputs": [
        {
          "data": {
            "text/html": [
              "<div>\n",
              "<style scoped>\n",
              "    .dataframe tbody tr th:only-of-type {\n",
              "        vertical-align: middle;\n",
              "    }\n",
              "\n",
              "    .dataframe tbody tr th {\n",
              "        vertical-align: top;\n",
              "    }\n",
              "\n",
              "    .dataframe thead th {\n",
              "        text-align: right;\n",
              "    }\n",
              "</style>\n",
              "<table border=\"1\" class=\"dataframe\">\n",
              "  <thead>\n",
              "    <tr style=\"text-align: right;\">\n",
              "      <th></th>\n",
              "      <th>children</th>\n",
              "      <th>employed_days</th>\n",
              "      <th>age_years</th>\n",
              "      <th>education_type</th>\n",
              "      <th>education_id</th>\n",
              "      <th>family_status</th>\n",
              "      <th>family_status_id</th>\n",
              "      <th>gender</th>\n",
              "      <th>income_type</th>\n",
              "      <th>income_total_month</th>\n",
              "      <th>purpose</th>\n",
              "    </tr>\n",
              "    <tr>\n",
              "      <th>debt_type</th>\n",
              "      <th></th>\n",
              "      <th></th>\n",
              "      <th></th>\n",
              "      <th></th>\n",
              "      <th></th>\n",
              "      <th></th>\n",
              "      <th></th>\n",
              "      <th></th>\n",
              "      <th></th>\n",
              "      <th></th>\n",
              "      <th></th>\n",
              "    </tr>\n",
              "  </thead>\n",
              "  <tbody>\n",
              "    <tr>\n",
              "      <td>0</td>\n",
              "      <td>19784</td>\n",
              "      <td>17780</td>\n",
              "      <td>19784</td>\n",
              "      <td>19784</td>\n",
              "      <td>19784</td>\n",
              "      <td>19784</td>\n",
              "      <td>19784</td>\n",
              "      <td>19784</td>\n",
              "      <td>19784</td>\n",
              "      <td>17780</td>\n",
              "      <td>19784</td>\n",
              "    </tr>\n",
              "    <tr>\n",
              "      <td>1</td>\n",
              "      <td>1741</td>\n",
              "      <td>1571</td>\n",
              "      <td>1741</td>\n",
              "      <td>1741</td>\n",
              "      <td>1741</td>\n",
              "      <td>1741</td>\n",
              "      <td>1741</td>\n",
              "      <td>1741</td>\n",
              "      <td>1741</td>\n",
              "      <td>1571</td>\n",
              "      <td>1741</td>\n",
              "    </tr>\n",
              "  </tbody>\n",
              "</table>\n",
              "</div>"
            ],
            "text/plain": [
              "           children  employed_days  age_years  education_type  education_id  \\\n",
              "debt_type                                                                     \n",
              "0             19784          17780      19784           19784         19784   \n",
              "1              1741           1571       1741            1741          1741   \n",
              "\n",
              "           family_status  family_status_id  gender  income_type  \\\n",
              "debt_type                                                         \n",
              "0                  19784             19784   19784        19784   \n",
              "1                   1741              1741    1741         1741   \n",
              "\n",
              "           income_total_month  purpose  \n",
              "debt_type                               \n",
              "0                       17780    19784  \n",
              "1                        1571     1741  "
            ]
          },
          "execution_count": 27,
          "metadata": {},
          "output_type": "execute_result"
        }
      ]
    },
    {
      "cell_type": "markdown",
      "metadata": {
        "id": "3H8vlrciPaC2"
      },
      "source": [
        "### Цель кредита"
      ]
    },
    {
      "cell_type": "markdown",
      "metadata": {
        "id": "MftNOxJPPaC2"
      },
      "source": [
        "Посмотрим, какие имеются варианты целей в порядке убывания популярности:"
      ]
    },
    {
      "cell_type": "code",
      "metadata": {
        "id": "4Xk0cj6dPaC2",
        "outputId": "294ceb54-08cb-4fd4-8d53-c32d86c3cbe3"
      },
      "source": [
        "data['purpose'].value_counts()"
      ],
      "execution_count": null,
      "outputs": [
        {
          "data": {
            "text/plain": [
              "свадьба                                   797\n",
              "на проведение свадьбы                     777\n",
              "сыграть свадьбу                           774\n",
              "операции с недвижимостью                  676\n",
              "покупка коммерческой недвижимости         664\n",
              "операции с жильем                         653\n",
              "покупка жилья для сдачи                   653\n",
              "операции с коммерческой недвижимостью     651\n",
              "покупка жилья                             647\n",
              "жилье                                     647\n",
              "покупка жилья для семьи                   641\n",
              "строительство собственной недвижимости    635\n",
              "недвижимость                              634\n",
              "операции со своей недвижимостью           630\n",
              "строительство жилой недвижимости          626\n",
              "покупка недвижимости                      624\n",
              "покупка своего жилья                      620\n",
              "строительство недвижимости                620\n",
              "ремонт жилью                              612\n",
              "покупка жилой недвижимости                607\n",
              "на покупку своего автомобиля              505\n",
              "заняться высшим образованием              496\n",
              "автомобиль                                495\n",
              "сделка с подержанным автомобилем          489\n",
              "свой автомобиль                           480\n",
              "на покупку подержанного автомобиля        479\n",
              "автомобили                                478\n",
              "на покупку автомобиля                     472\n",
              "приобретение автомобиля                   462\n",
              "дополнительное образование                462\n",
              "сделка с автомобилем                      455\n",
              "высшее образование                        453\n",
              "получение дополнительного образования     447\n",
              "образование                               447\n",
              "получение образования                     443\n",
              "профильное образование                    436\n",
              "получение высшего образования             426\n",
              "заняться образованием                     412\n",
              "Name: purpose, dtype: int64"
            ]
          },
          "execution_count": 28,
          "metadata": {},
          "output_type": "execute_result"
        }
      ]
    },
    {
      "cell_type": "markdown",
      "metadata": {
        "id": "wf2KTxsDPaC2"
      },
      "source": [
        "Целей кредитования очень много. \n",
        "Среди них много дублей, которые необходимо устранить.\n",
        "Так же стоит эти цели категоризировать."
      ]
    },
    {
      "cell_type": "markdown",
      "metadata": {
        "id": "WLgIc9JkPaC2"
      },
      "source": [
        "### Вывод"
      ]
    },
    {
      "cell_type": "markdown",
      "metadata": {
        "id": "lgNfno3bPaC3"
      },
      "source": [
        "Задачи для предобработки данных:\n",
        "    \n",
        "1. Разобраться с пропусками в столбцах days_employed и total_income.\n",
        "2. В графе, отражающей количество детей у потенциального заёмщика, необходимо исправить ошибки: заменить -1 ребенка и 20 детей на 1 и 2 соответственно.\n",
        "3. Средний стаж у пенсионеров и безработных равен 1000 лет. Странно. Нужно разбираться.\n",
        "4. Отрицательный стаж у категорий: 'сотрудник', 'компаньон', 'госслужащий', 'студент', 'предприниматель', 'в декрете' - лишить минуса.\n",
        "5. Возраст 0 лет заменить на средний возраст.\n",
        "6. Привести к общему виду (нижний регистр) данные о типах образования и семейных статусах.\n",
        "7. Пол XNA\n",
        "8. В графе, отражающей цели кредитования необходимо устранить дубли и категоризировать данные.\n",
        "9. Категоризировать стаж, возраст, зарплаты.\n"
      ]
    },
    {
      "cell_type": "markdown",
      "metadata": {
        "id": "CRefcjHCPaC3"
      },
      "source": [
        "## 2  Шаг 2. Предобработка данных"
      ]
    },
    {
      "cell_type": "markdown",
      "metadata": {
        "id": "NaXMQDrQPaC3"
      },
      "source": [
        "### Обработка пропусков"
      ]
    },
    {
      "cell_type": "markdown",
      "metadata": {
        "id": "Gagm9F7ZPaC4"
      },
      "source": [
        "Посмотрим, сколько всего пропусков в данных."
      ]
    },
    {
      "cell_type": "code",
      "metadata": {
        "id": "0wLrN7vEPaC4",
        "outputId": "42ab05e4-35f3-4786-8969-eee1d73ee2dd"
      },
      "source": [
        "data.isnull().sum()"
      ],
      "execution_count": null,
      "outputs": [
        {
          "data": {
            "text/plain": [
              "children                 0\n",
              "employed_days         2174\n",
              "age_years                0\n",
              "education_type           0\n",
              "education_id             0\n",
              "family_status            0\n",
              "family_status_id         0\n",
              "gender                   0\n",
              "income_type              0\n",
              "debt_type                0\n",
              "income_total_month    2174\n",
              "purpose                  0\n",
              "dtype: int64"
            ]
          },
          "execution_count": 29,
          "metadata": {},
          "output_type": "execute_result"
        }
      ]
    },
    {
      "cell_type": "code",
      "metadata": {
        "id": "7yoLzOk4PaC4"
      },
      "source": [
        ""
      ],
      "execution_count": null,
      "outputs": []
    },
    {
      "cell_type": "markdown",
      "metadata": {
        "id": "MKqzSZ4pPaC4"
      },
      "source": [
        "Количество пропусков в столбцах employed_days и income_total (стаж и доход) идентично. Скорее всего это пропуски в данных о работе у одних и тех же людей.\n",
        "Так как речь идет о существенных для выдачи кредита данных, от пропусков мы избавимся (другой возможный вариант - заменить на средние значения)."
      ]
    },
    {
      "cell_type": "code",
      "metadata": {
        "id": "oo4TFyE1PaC5"
      },
      "source": [
        "#data.dropna(subset=['employed_days', 'income_total_month'], inplace=True)\n",
        "#data.isnull().sum()"
      ],
      "execution_count": null,
      "outputs": []
    },
    {
      "cell_type": "markdown",
      "metadata": {
        "id": "RNX8CsGLPaC5"
      },
      "source": [
        "Приведём стаж и возраст к общему знаменателю - году - и переимунуем соответствующий столбец."
      ]
    },
    {
      "cell_type": "code",
      "metadata": {
        "id": "yFNhPQOdPaC5"
      },
      "source": [
        "data['employed_days'] = data['employed_days']/365"
      ],
      "execution_count": null,
      "outputs": []
    },
    {
      "cell_type": "code",
      "metadata": {
        "id": "Siy--4NmPaC5",
        "outputId": "5667ba79-40e9-41b6-f2ad-c37495c98015"
      },
      "source": [
        "data.set_axis(['children', 'employed_years', 'age_years', 'education_type', 'education_id',\n",
        "       'family_status', 'family_status_id', 'gender', 'income_type', 'debt_type',\n",
        "       'income_total_month', 'purpose'], axis='columns', inplace=True)\n",
        "data.columns"
      ],
      "execution_count": null,
      "outputs": [
        {
          "data": {
            "text/plain": [
              "Index(['children', 'employed_years', 'age_years', 'education_type',\n",
              "       'education_id', 'family_status', 'family_status_id', 'gender',\n",
              "       'income_type', 'debt_type', 'income_total_month', 'purpose'],\n",
              "      dtype='object')"
            ]
          },
          "execution_count": 32,
          "metadata": {},
          "output_type": "execute_result"
        }
      ]
    },
    {
      "cell_type": "markdown",
      "metadata": {
        "id": "TtuLbH6rPaC7"
      },
      "source": [
        "Варианты среднего дохода по типам занятости, на который мы будем заменять пропущенные значения."
      ]
    },
    {
      "cell_type": "code",
      "metadata": {
        "id": "9c5wNJ-ZPaC7",
        "outputId": "13016fb1-ac42-42a8-88f3-3e0e348340ff"
      },
      "source": [
        "data.groupby('income_type')['income_total_month'].mean()"
      ],
      "execution_count": null,
      "outputs": [
        {
          "data": {
            "text/plain": [
              "income_type\n",
              "безработный        131339.751676\n",
              "в декрете           53829.130729\n",
              "госслужащий        170898.309923\n",
              "компаньон          202417.461462\n",
              "пенсионер          137127.465690\n",
              "предприниматель    499163.144947\n",
              "сотрудник          161380.260488\n",
              "студент             98201.625314\n",
              "Name: income_total_month, dtype: float64"
            ]
          },
          "execution_count": 36,
          "metadata": {},
          "output_type": "execute_result"
        }
      ]
    },
    {
      "cell_type": "markdown",
      "metadata": {
        "id": "9nlmZgv9PaC7"
      },
      "source": [
        "Средний стаж для каждой группы вычислим по корректным данным. На него будем заменять пропуски в каждой группе."
      ]
    },
    {
      "cell_type": "code",
      "metadata": {
        "id": "gTyGBeRbPaC8",
        "outputId": "04138eae-41a2-44d6-f9a5-07c6ab058968"
      },
      "source": [
        "data[data['employed_years']<0].groupby('income_type').agg({'employed_years' : ['mean']})"
      ],
      "execution_count": null,
      "outputs": [
        {
          "data": {
            "text/html": [
              "<div>\n",
              "<style scoped>\n",
              "    .dataframe tbody tr th:only-of-type {\n",
              "        vertical-align: middle;\n",
              "    }\n",
              "\n",
              "    .dataframe tbody tr th {\n",
              "        vertical-align: top;\n",
              "    }\n",
              "\n",
              "    .dataframe thead tr th {\n",
              "        text-align: left;\n",
              "    }\n",
              "\n",
              "    .dataframe thead tr:last-of-type th {\n",
              "        text-align: right;\n",
              "    }\n",
              "</style>\n",
              "<table border=\"1\" class=\"dataframe\">\n",
              "  <thead>\n",
              "    <tr>\n",
              "      <th></th>\n",
              "      <th>employed_years</th>\n",
              "    </tr>\n",
              "    <tr>\n",
              "      <th></th>\n",
              "      <th>mean</th>\n",
              "    </tr>\n",
              "    <tr>\n",
              "      <th>income_type</th>\n",
              "      <th></th>\n",
              "    </tr>\n",
              "  </thead>\n",
              "  <tbody>\n",
              "    <tr>\n",
              "      <td>в декрете</td>\n",
              "      <td>-9.032219</td>\n",
              "    </tr>\n",
              "    <tr>\n",
              "      <td>госслужащий</td>\n",
              "      <td>-9.314786</td>\n",
              "    </tr>\n",
              "    <tr>\n",
              "      <td>компаньон</td>\n",
              "      <td>-5.784998</td>\n",
              "    </tr>\n",
              "    <tr>\n",
              "      <td>предприниматель</td>\n",
              "      <td>-1.426981</td>\n",
              "    </tr>\n",
              "    <tr>\n",
              "      <td>сотрудник</td>\n",
              "      <td>-6.373970</td>\n",
              "    </tr>\n",
              "    <tr>\n",
              "      <td>студент</td>\n",
              "      <td>-1.585621</td>\n",
              "    </tr>\n",
              "  </tbody>\n",
              "</table>\n",
              "</div>"
            ],
            "text/plain": [
              "                employed_years\n",
              "                          mean\n",
              "income_type                   \n",
              "в декрете            -9.032219\n",
              "госслужащий          -9.314786\n",
              "компаньон            -5.784998\n",
              "предприниматель      -1.426981\n",
              "сотрудник            -6.373970\n",
              "студент              -1.585621"
            ]
          },
          "execution_count": 37,
          "metadata": {},
          "output_type": "execute_result"
        }
      ]
    },
    {
      "cell_type": "markdown",
      "metadata": {
        "id": "atANt5dsPaC8"
      },
      "source": [
        "Вычислим средний возраст пенсионеров и безработных, чтобы соотнести со средним стажем заёмщиков других категорий (то есть тех, чьи данные о стаже мы признали правдоподобными)"
      ]
    },
    {
      "cell_type": "code",
      "metadata": {
        "id": "GFwfX7vBPaC8",
        "outputId": "18df6926-de13-4efa-ea3b-c1e6524ff748"
      },
      "source": [
        "data.groupby('income_type')['age_years'].mean()"
      ],
      "execution_count": null,
      "outputs": [
        {
          "data": {
            "text/plain": [
              "income_type\n",
              "безработный        38.000000\n",
              "в декрете          39.000000\n",
              "госслужащий        40.636737\n",
              "компаньон          39.697542\n",
              "пенсионер          59.063019\n",
              "предприниматель    42.500000\n",
              "сотрудник          39.821027\n",
              "студент            22.000000\n",
              "Name: age_years, dtype: float64"
            ]
          },
          "execution_count": 38,
          "metadata": {},
          "output_type": "execute_result"
        }
      ]
    },
    {
      "cell_type": "markdown",
      "metadata": {
        "id": "oq_rpm53PaC9"
      },
      "source": [
        "\n",
        "Средний возраст безработных: 38 лет.\n",
        "    \n",
        "Средний возраст пенсионеров: 59 лет.\n",
        "    \n",
        "Вычислим средний трудовой стаж, соответствующий этим возрастам, у других категорий."
      ]
    },
    {
      "cell_type": "code",
      "metadata": {
        "id": "0te0-8yZPaC9",
        "outputId": "2ee1efc8-acb3-4f98-b4e5-2a0e49376900"
      },
      "source": [
        "print('Cредний трудовой стаж 38-летних непенсионеров и небезработных: {:.0f}'.format(data[(data['age_years']==38)&(data['employed_years']<0)]['employed_years'].mean()*-1), 'лет')\n",
        "print('Cредний трудовой стаж 59-летних непенсионеров и небезработных: {:.0f}'.format(data[(data['age_years']==59)&(data['employed_years']<0)]['employed_years'].mean()*-1), 'лет')"
      ],
      "execution_count": null,
      "outputs": [
        {
          "name": "stdout",
          "output_type": "stream",
          "text": [
            "Cредний трудовой стаж 38-летних непенсионеров и небезработных: 6 лет\n",
            "Cредний трудовой стаж 59-летних непенсионеров и небезработных: 11 лет\n"
          ]
        }
      ]
    },
    {
      "cell_type": "markdown",
      "metadata": {
        "id": "2Jx1sZ3BPaC_"
      },
      "source": [
        "\n",
        "Заменим на них некорректные значения у пенсионеров и безработных."
      ]
    },
    {
      "cell_type": "code",
      "metadata": {
        "id": "dahClQaSPaC_"
      },
      "source": [
        "data.loc[data['employed_years']>0, 'employed_years'] = '11'"
      ],
      "execution_count": null,
      "outputs": []
    },
    {
      "cell_type": "code",
      "metadata": {
        "id": "ptkIaEJDPaC_"
      },
      "source": [
        "data[data['income_type']=='безработный'] = data[data['income_type']=='безработный'].replace('11', '6')"
      ],
      "execution_count": null,
      "outputs": []
    },
    {
      "cell_type": "code",
      "metadata": {
        "id": "bOoAooxRPaDA",
        "outputId": "bd2f29d3-ad4f-49d0-dbf7-ec4c3757cbb2"
      },
      "source": [
        "data[data['income_type']=='безработный']"
      ],
      "execution_count": null,
      "outputs": [
        {
          "data": {
            "text/html": [
              "<div>\n",
              "<style scoped>\n",
              "    .dataframe tbody tr th:only-of-type {\n",
              "        vertical-align: middle;\n",
              "    }\n",
              "\n",
              "    .dataframe tbody tr th {\n",
              "        vertical-align: top;\n",
              "    }\n",
              "\n",
              "    .dataframe thead th {\n",
              "        text-align: right;\n",
              "    }\n",
              "</style>\n",
              "<table border=\"1\" class=\"dataframe\">\n",
              "  <thead>\n",
              "    <tr style=\"text-align: right;\">\n",
              "      <th></th>\n",
              "      <th>children</th>\n",
              "      <th>employed_years</th>\n",
              "      <th>age_years</th>\n",
              "      <th>education_type</th>\n",
              "      <th>education_id</th>\n",
              "      <th>family_status</th>\n",
              "      <th>family_status_id</th>\n",
              "      <th>gender</th>\n",
              "      <th>income_type</th>\n",
              "      <th>debt_type</th>\n",
              "      <th>income_total_month</th>\n",
              "      <th>purpose</th>\n",
              "    </tr>\n",
              "  </thead>\n",
              "  <tbody>\n",
              "    <tr>\n",
              "      <td>3133</td>\n",
              "      <td>1</td>\n",
              "      <td>6</td>\n",
              "      <td>31</td>\n",
              "      <td>среднее</td>\n",
              "      <td>1</td>\n",
              "      <td>женат / замужем</td>\n",
              "      <td>0</td>\n",
              "      <td>M</td>\n",
              "      <td>безработный</td>\n",
              "      <td>1</td>\n",
              "      <td>59956.991984</td>\n",
              "      <td>покупка жилья для сдачи</td>\n",
              "    </tr>\n",
              "    <tr>\n",
              "      <td>14798</td>\n",
              "      <td>0</td>\n",
              "      <td>6</td>\n",
              "      <td>45</td>\n",
              "      <td>Высшее</td>\n",
              "      <td>0</td>\n",
              "      <td>гражданский брак</td>\n",
              "      <td>1</td>\n",
              "      <td>F</td>\n",
              "      <td>безработный</td>\n",
              "      <td>0</td>\n",
              "      <td>202722.511368</td>\n",
              "      <td>ремонт жилью</td>\n",
              "    </tr>\n",
              "  </tbody>\n",
              "</table>\n",
              "</div>"
            ],
            "text/plain": [
              "       children employed_years  age_years education_type  education_id  \\\n",
              "3133          1              6         31        среднее             1   \n",
              "14798         0              6         45         Высшее             0   \n",
              "\n",
              "          family_status  family_status_id gender  income_type  debt_type  \\\n",
              "3133    женат / замужем                 0      M  безработный          1   \n",
              "14798  гражданский брак                 1      F  безработный          0   \n",
              "\n",
              "       income_total_month                  purpose  \n",
              "3133         59956.991984  покупка жилья для сдачи  \n",
              "14798       202722.511368             ремонт жилью  "
            ]
          },
          "execution_count": 42,
          "metadata": {},
          "output_type": "execute_result"
        }
      ]
    },
    {
      "cell_type": "code",
      "metadata": {
        "id": "xv7RNvsiPaDA",
        "outputId": "3b69b007-1504-479b-b8fc-7992af5f8cae"
      },
      "source": [
        "data[data['income_type']=='пенсионер'].head()"
      ],
      "execution_count": null,
      "outputs": [
        {
          "data": {
            "text/html": [
              "<div>\n",
              "<style scoped>\n",
              "    .dataframe tbody tr th:only-of-type {\n",
              "        vertical-align: middle;\n",
              "    }\n",
              "\n",
              "    .dataframe tbody tr th {\n",
              "        vertical-align: top;\n",
              "    }\n",
              "\n",
              "    .dataframe thead th {\n",
              "        text-align: right;\n",
              "    }\n",
              "</style>\n",
              "<table border=\"1\" class=\"dataframe\">\n",
              "  <thead>\n",
              "    <tr style=\"text-align: right;\">\n",
              "      <th></th>\n",
              "      <th>children</th>\n",
              "      <th>employed_years</th>\n",
              "      <th>age_years</th>\n",
              "      <th>education_type</th>\n",
              "      <th>education_id</th>\n",
              "      <th>family_status</th>\n",
              "      <th>family_status_id</th>\n",
              "      <th>gender</th>\n",
              "      <th>income_type</th>\n",
              "      <th>debt_type</th>\n",
              "      <th>income_total_month</th>\n",
              "      <th>purpose</th>\n",
              "    </tr>\n",
              "  </thead>\n",
              "  <tbody>\n",
              "    <tr>\n",
              "      <td>4</td>\n",
              "      <td>0</td>\n",
              "      <td>11</td>\n",
              "      <td>53</td>\n",
              "      <td>среднее</td>\n",
              "      <td>1</td>\n",
              "      <td>гражданский брак</td>\n",
              "      <td>1</td>\n",
              "      <td>F</td>\n",
              "      <td>пенсионер</td>\n",
              "      <td>0</td>\n",
              "      <td>158616.077870</td>\n",
              "      <td>сыграть свадьбу</td>\n",
              "    </tr>\n",
              "    <tr>\n",
              "      <td>12</td>\n",
              "      <td>0</td>\n",
              "      <td>NaN</td>\n",
              "      <td>65</td>\n",
              "      <td>среднее</td>\n",
              "      <td>1</td>\n",
              "      <td>гражданский брак</td>\n",
              "      <td>1</td>\n",
              "      <td>M</td>\n",
              "      <td>пенсионер</td>\n",
              "      <td>0</td>\n",
              "      <td>NaN</td>\n",
              "      <td>сыграть свадьбу</td>\n",
              "    </tr>\n",
              "    <tr>\n",
              "      <td>18</td>\n",
              "      <td>0</td>\n",
              "      <td>11</td>\n",
              "      <td>53</td>\n",
              "      <td>среднее</td>\n",
              "      <td>1</td>\n",
              "      <td>вдовец / вдова</td>\n",
              "      <td>2</td>\n",
              "      <td>F</td>\n",
              "      <td>пенсионер</td>\n",
              "      <td>0</td>\n",
              "      <td>56823.777243</td>\n",
              "      <td>на покупку подержанного автомобиля</td>\n",
              "    </tr>\n",
              "    <tr>\n",
              "      <td>24</td>\n",
              "      <td>1</td>\n",
              "      <td>11</td>\n",
              "      <td>57</td>\n",
              "      <td>среднее</td>\n",
              "      <td>1</td>\n",
              "      <td>Не женат / не замужем</td>\n",
              "      <td>4</td>\n",
              "      <td>F</td>\n",
              "      <td>пенсионер</td>\n",
              "      <td>0</td>\n",
              "      <td>290547.235997</td>\n",
              "      <td>операции с коммерческой недвижимостью</td>\n",
              "    </tr>\n",
              "    <tr>\n",
              "      <td>25</td>\n",
              "      <td>0</td>\n",
              "      <td>11</td>\n",
              "      <td>67</td>\n",
              "      <td>среднее</td>\n",
              "      <td>1</td>\n",
              "      <td>женат / замужем</td>\n",
              "      <td>0</td>\n",
              "      <td>M</td>\n",
              "      <td>пенсионер</td>\n",
              "      <td>0</td>\n",
              "      <td>55112.757732</td>\n",
              "      <td>покупка недвижимости</td>\n",
              "    </tr>\n",
              "  </tbody>\n",
              "</table>\n",
              "</div>"
            ],
            "text/plain": [
              "    children employed_years  age_years education_type  education_id  \\\n",
              "4          0             11         53        среднее             1   \n",
              "12         0            NaN         65        среднее             1   \n",
              "18         0             11         53        среднее             1   \n",
              "24         1             11         57        среднее             1   \n",
              "25         0             11         67        среднее             1   \n",
              "\n",
              "            family_status  family_status_id gender income_type  debt_type  \\\n",
              "4        гражданский брак                 1      F   пенсионер          0   \n",
              "12       гражданский брак                 1      M   пенсионер          0   \n",
              "18         вдовец / вдова                 2      F   пенсионер          0   \n",
              "24  Не женат / не замужем                 4      F   пенсионер          0   \n",
              "25        женат / замужем                 0      M   пенсионер          0   \n",
              "\n",
              "    income_total_month                                purpose  \n",
              "4        158616.077870                        сыграть свадьбу  \n",
              "12                 NaN                        сыграть свадьбу  \n",
              "18        56823.777243     на покупку подержанного автомобиля  \n",
              "24       290547.235997  операции с коммерческой недвижимостью  \n",
              "25        55112.757732                   покупка недвижимости  "
            ]
          },
          "execution_count": 43,
          "metadata": {},
          "output_type": "execute_result"
        }
      ]
    },
    {
      "cell_type": "markdown",
      "metadata": {
        "id": "WkPB40pSPaDA"
      },
      "source": [
        "\n",
        "Посмотрим в каких именно категориях имеются пропуски."
      ]
    },
    {
      "cell_type": "code",
      "metadata": {
        "id": "NF-s9IbUPaDB",
        "outputId": "75db459c-3ec5-49cd-fe1c-5ec55369cd14"
      },
      "source": [
        "print('Пропущенных данных о доходах у безработных:', data[data['income_type']=='безработный']['income_total_month'].isnull().sum())\n",
        "print('Пропущенных данных о доходах у находящихся в декрете:', data[data['income_type']=='в декрете']['income_total_month'].isnull().sum())\n",
        "print('Пропущенных данных о доходах у госслужащих:', data[data['income_type']=='госслужащий']['income_total_month'].isnull().sum())\n",
        "print('Пропущенных данных о доходах у компаньонов:', data[data['income_type']=='компаньон']['income_total_month'].isnull().sum())\n",
        "print('Пропущенных данных о доходах у пенсионеров:', data[data['income_type']=='пенсионер']['income_total_month'].isnull().sum())\n",
        "print('Пропущенных данных о доходах у предпринимателей:', data[data['income_type']=='предприниматель']['income_total_month'].isnull().sum())\n",
        "print('Пропущенных данных о доходах у сотрудников:', data[data['income_type']=='сотрудник']['income_total_month'].isnull().sum())\n",
        "print('Пропущенных данных о доходах у студентов:', data[data['income_type']=='студент']['income_total_month'].isnull().sum())"
      ],
      "execution_count": null,
      "outputs": [
        {
          "name": "stdout",
          "output_type": "stream",
          "text": [
            "Пропущенных данных о доходах у безработных: 0\n",
            "Пропущенных данных о доходах у находящихся в декрете: 0\n",
            "Пропущенных данных о доходах у госслужащих: 147\n",
            "Пропущенных данных о доходах у компаньонов: 508\n",
            "Пропущенных данных о доходах у пенсионеров: 413\n",
            "Пропущенных данных о доходах у предпринимателей: 1\n",
            "Пропущенных данных о доходах у сотрудников: 1105\n",
            "Пропущенных данных о доходах у студентов: 0\n"
          ]
        }
      ]
    },
    {
      "cell_type": "code",
      "metadata": {
        "id": "xdbLEXzOPaDB",
        "outputId": "c929817a-f0f0-4087-f416-ed17363493d1"
      },
      "source": [
        "print('Пропущенных данных о стаже у безработных:', data[data['income_type']=='безработный']['employed_years'].isnull().sum())\n",
        "print('Пропущенных данных о стаже у находящихся в декрете:', data[data['income_type']=='в декрете']['employed_years'].isnull().sum())\n",
        "print('Пропущенных данных о стаже у госслужащих:', data[data['income_type']=='госслужащий']['employed_years'].isnull().sum())\n",
        "print('Пропущенных данных о стаже у компаньонов:', data[data['income_type']=='компаньон']['employed_years'].isnull().sum())\n",
        "print('Пропущенных данных о стаже у пенсионеров:', data[data['income_type']=='пенсионер']['employed_years'].isnull().sum())\n",
        "print('Пропущенных данных о стаже у предпринимателей:', data[data['income_type']=='предприниматель']['employed_years'].isnull().sum())\n",
        "print('Пропущенных данных о стаже у сотрудников:', data[data['income_type']=='сотрудник']['employed_years'].isnull().sum())\n",
        "print('Пропущенных данных о стаже у студентов:', data[data['income_type']=='студент']['employed_years'].isnull().sum())"
      ],
      "execution_count": null,
      "outputs": [
        {
          "name": "stdout",
          "output_type": "stream",
          "text": [
            "Пропущенных данных о стаже у безработных: 0\n",
            "Пропущенных данных о стаже у находящихся в декрете: 0\n",
            "Пропущенных данных о стаже у госслужащих: 147\n",
            "Пропущенных данных о стаже у компаньонов: 508\n",
            "Пропущенных данных о стаже у пенсионеров: 413\n",
            "Пропущенных данных о стаже у предпринимателей: 1\n",
            "Пропущенных данных о стаже у сотрудников: 1105\n",
            "Пропущенных данных о стаже у студентов: 0\n"
          ]
        }
      ]
    },
    {
      "cell_type": "markdown",
      "metadata": {
        "id": "XkN_qLfsPaDB"
      },
      "source": [
        "Теперь заменим пропущенные значения в графах дохода и стажа на средние по каждой группе занятости."
      ]
    },
    {
      "cell_type": "code",
      "metadata": {
        "id": "kfN8tPIbPaDC"
      },
      "source": [
        "data[data['income_type']=='госслужащий'] = data[data['income_type']=='госслужащий'].fillna({'income_total_month':170898, 'employed_years':9})"
      ],
      "execution_count": null,
      "outputs": []
    },
    {
      "cell_type": "code",
      "metadata": {
        "id": "oMFdrd0NPaDC"
      },
      "source": [
        "data[data['income_type']=='компаньон'] = data[data['income_type']=='компаньон'].fillna({'income_total_month':202417, 'employed_years':6})"
      ],
      "execution_count": null,
      "outputs": []
    },
    {
      "cell_type": "code",
      "metadata": {
        "id": "WjCz6wAPPaDC"
      },
      "source": [
        "data[data['income_type']=='пенсионер'] = data[data['income_type']=='пенсионер'].fillna({'income_total_month':137127, 'employed_years':11})"
      ],
      "execution_count": null,
      "outputs": []
    },
    {
      "cell_type": "code",
      "metadata": {
        "id": "rR4McLxVPaDD"
      },
      "source": [
        "data[data['income_type']=='предприниматель'] = data[data['income_type']=='предприниматель'].fillna({'income_total_month':499163, 'employed_years':1})"
      ],
      "execution_count": null,
      "outputs": []
    },
    {
      "cell_type": "code",
      "metadata": {
        "id": "8lDpeE0WPaDD"
      },
      "source": [
        "data[data['income_type']=='сотрудник'] = data[data['income_type']=='сотрудник'].fillna({'income_total_month':161380, 'employed_years':6})"
      ],
      "execution_count": null,
      "outputs": []
    },
    {
      "cell_type": "code",
      "metadata": {
        "id": "YjTYUGbOPaDD",
        "outputId": "3dc1a7b5-00b3-46fa-d44c-19437b59ec46"
      },
      "source": [
        "data.isnull().sum()"
      ],
      "execution_count": null,
      "outputs": [
        {
          "data": {
            "text/plain": [
              "children              0\n",
              "employed_years        0\n",
              "age_years             0\n",
              "education_type        0\n",
              "education_id          0\n",
              "family_status         0\n",
              "family_status_id      0\n",
              "gender                0\n",
              "income_type           0\n",
              "debt_type             0\n",
              "income_total_month    0\n",
              "purpose               0\n",
              "dtype: int64"
            ]
          },
          "execution_count": 51,
          "metadata": {},
          "output_type": "execute_result"
        }
      ]
    },
    {
      "cell_type": "code",
      "metadata": {
        "id": "NGqk0LKHPaDD",
        "outputId": "3cffb669-dedc-40f0-ebb8-738c0b7b4bdb"
      },
      "source": [
        "data.shape"
      ],
      "execution_count": null,
      "outputs": [
        {
          "data": {
            "text/plain": [
              "(21525, 12)"
            ]
          },
          "execution_count": 52,
          "metadata": {},
          "output_type": "execute_result"
        }
      ]
    },
    {
      "cell_type": "markdown",
      "metadata": {
        "id": "g1xfnO5-PaDE"
      },
      "source": [
        "Пропусков больше нет. Рамер таблицы прежний."
      ]
    },
    {
      "cell_type": "markdown",
      "metadata": {
        "id": "zf6I3V-GPaDE"
      },
      "source": [
        "Заменим в столбце age_years нулевой возраст средним."
      ]
    },
    {
      "cell_type": "code",
      "metadata": {
        "id": "TEt11FSAPaDE"
      },
      "source": [
        "data.loc[data['age_years']==0, 'age_years'] = '43'"
      ],
      "execution_count": null,
      "outputs": []
    },
    {
      "cell_type": "code",
      "metadata": {
        "id": "hMAPORnEPaDF",
        "outputId": "5e558031-46c6-48db-d0ca-9b078d2fb69a"
      },
      "source": [
        "data['age_years'].unique()"
      ],
      "execution_count": null,
      "outputs": [
        {
          "data": {
            "text/plain": [
              "array([42, 36, 33, 32, 53, 27, 43, 50, 35, 41, 40, 65, 54, 56, 26, 48, 24,\n",
              "       21, 57, 67, 28, 63, 62, 47, 34, 68, 25, 31, 30, 20, 49, 37, 45, 61,\n",
              "       64, 44, 52, 46, 23, 38, 39, 51, '43', 59, 29, 60, 55, 58, 71, 22,\n",
              "       73, 66, 69, 19, 72, 70, 74, 75], dtype=object)"
            ]
          },
          "execution_count": 54,
          "metadata": {},
          "output_type": "execute_result"
        }
      ]
    },
    {
      "cell_type": "markdown",
      "metadata": {
        "id": "pl2y1onkPaDF"
      },
      "source": [
        "Возраста, равного 0, больше нет в данных.\n"
      ]
    },
    {
      "cell_type": "markdown",
      "metadata": {
        "id": "Lq1r0-n3PaDF"
      },
      "source": [
        "Удалим строку с гендером XNA"
      ]
    },
    {
      "cell_type": "code",
      "metadata": {
        "id": "cLFJHa-IPaDG",
        "outputId": "793a51a2-d271-482f-e29c-eb30cf743d89"
      },
      "source": [
        "data[data['gender']=='XNA']"
      ],
      "execution_count": null,
      "outputs": [
        {
          "data": {
            "text/html": [
              "<div>\n",
              "<style scoped>\n",
              "    .dataframe tbody tr th:only-of-type {\n",
              "        vertical-align: middle;\n",
              "    }\n",
              "\n",
              "    .dataframe tbody tr th {\n",
              "        vertical-align: top;\n",
              "    }\n",
              "\n",
              "    .dataframe thead th {\n",
              "        text-align: right;\n",
              "    }\n",
              "</style>\n",
              "<table border=\"1\" class=\"dataframe\">\n",
              "  <thead>\n",
              "    <tr style=\"text-align: right;\">\n",
              "      <th></th>\n",
              "      <th>children</th>\n",
              "      <th>employed_years</th>\n",
              "      <th>age_years</th>\n",
              "      <th>education_type</th>\n",
              "      <th>education_id</th>\n",
              "      <th>family_status</th>\n",
              "      <th>family_status_id</th>\n",
              "      <th>gender</th>\n",
              "      <th>income_type</th>\n",
              "      <th>debt_type</th>\n",
              "      <th>income_total_month</th>\n",
              "      <th>purpose</th>\n",
              "    </tr>\n",
              "  </thead>\n",
              "  <tbody>\n",
              "    <tr>\n",
              "      <td>10701</td>\n",
              "      <td>0</td>\n",
              "      <td>-6.46192</td>\n",
              "      <td>24</td>\n",
              "      <td>неоконченное высшее</td>\n",
              "      <td>2</td>\n",
              "      <td>гражданский брак</td>\n",
              "      <td>1</td>\n",
              "      <td>XNA</td>\n",
              "      <td>компаньон</td>\n",
              "      <td>0</td>\n",
              "      <td>203905.157261</td>\n",
              "      <td>покупка недвижимости</td>\n",
              "    </tr>\n",
              "  </tbody>\n",
              "</table>\n",
              "</div>"
            ],
            "text/plain": [
              "       children employed_years age_years       education_type  education_id  \\\n",
              "10701         0       -6.46192        24  неоконченное высшее             2   \n",
              "\n",
              "          family_status  family_status_id gender income_type  debt_type  \\\n",
              "10701  гражданский брак                 1    XNA   компаньон          0   \n",
              "\n",
              "       income_total_month               purpose  \n",
              "10701       203905.157261  покупка недвижимости  "
            ]
          },
          "execution_count": 55,
          "metadata": {},
          "output_type": "execute_result"
        }
      ]
    },
    {
      "cell_type": "code",
      "metadata": {
        "id": "fz3OJIjqPaDG"
      },
      "source": [
        "data=data.drop(index=10701).reset_index(drop=True)"
      ],
      "execution_count": null,
      "outputs": []
    },
    {
      "cell_type": "code",
      "metadata": {
        "id": "QMm5U8fqPaDG",
        "outputId": "a922b7db-8722-4ba1-d3ff-e89ba38b958a"
      },
      "source": [
        "data[data['gender']=='XNA']"
      ],
      "execution_count": null,
      "outputs": [
        {
          "data": {
            "text/html": [
              "<div>\n",
              "<style scoped>\n",
              "    .dataframe tbody tr th:only-of-type {\n",
              "        vertical-align: middle;\n",
              "    }\n",
              "\n",
              "    .dataframe tbody tr th {\n",
              "        vertical-align: top;\n",
              "    }\n",
              "\n",
              "    .dataframe thead th {\n",
              "        text-align: right;\n",
              "    }\n",
              "</style>\n",
              "<table border=\"1\" class=\"dataframe\">\n",
              "  <thead>\n",
              "    <tr style=\"text-align: right;\">\n",
              "      <th></th>\n",
              "      <th>children</th>\n",
              "      <th>employed_years</th>\n",
              "      <th>age_years</th>\n",
              "      <th>education_type</th>\n",
              "      <th>education_id</th>\n",
              "      <th>family_status</th>\n",
              "      <th>family_status_id</th>\n",
              "      <th>gender</th>\n",
              "      <th>income_type</th>\n",
              "      <th>debt_type</th>\n",
              "      <th>income_total_month</th>\n",
              "      <th>purpose</th>\n",
              "    </tr>\n",
              "  </thead>\n",
              "  <tbody>\n",
              "  </tbody>\n",
              "</table>\n",
              "</div>"
            ],
            "text/plain": [
              "Empty DataFrame\n",
              "Columns: [children, employed_years, age_years, education_type, education_id, family_status, family_status_id, gender, income_type, debt_type, income_total_month, purpose]\n",
              "Index: []"
            ]
          },
          "execution_count": 57,
          "metadata": {},
          "output_type": "execute_result"
        }
      ]
    },
    {
      "cell_type": "markdown",
      "metadata": {
        "id": "2DRpJ2wiPaDG"
      },
      "source": [
        "Теперь исправим ситуацию с -1 и 20 детей.\n",
        "Переведем данные из типа object в тип int, чтобы применить функцию abs() и избавиться от минуса."
      ]
    },
    {
      "cell_type": "code",
      "metadata": {
        "id": "3uQ2xsoyPaDG"
      },
      "source": [
        "data['children'] = data['children'].astype('int64').abs()"
      ],
      "execution_count": null,
      "outputs": []
    },
    {
      "cell_type": "markdown",
      "metadata": {
        "id": "t-tr00jrPaDH"
      },
      "source": [
        "Заменим 20 на 2."
      ]
    },
    {
      "cell_type": "code",
      "metadata": {
        "id": "lPJU5dYIPaDH"
      },
      "source": [
        "data.loc[data['children']==20, 'children'] = '2'"
      ],
      "execution_count": null,
      "outputs": []
    },
    {
      "cell_type": "code",
      "metadata": {
        "id": "brs2Cwy9PaDH",
        "outputId": "c862f821-d625-4cea-9cd6-02afd36cbe35"
      },
      "source": [
        "data['children'].unique()"
      ],
      "execution_count": null,
      "outputs": [
        {
          "data": {
            "text/plain": [
              "array([1, 0, 3, 2, 4, '2', 5], dtype=object)"
            ]
          },
          "execution_count": 60,
          "metadata": {},
          "output_type": "execute_result"
        }
      ]
    },
    {
      "cell_type": "markdown",
      "metadata": {
        "id": "IgoawXdnPaDH"
      },
      "source": [
        "Теперь диапазон возрастов у детей заёмщиков 0-5."
      ]
    },
    {
      "cell_type": "markdown",
      "metadata": {
        "id": "OzKVUXOKPaDH"
      },
      "source": [
        "### Замена типа данных"
      ]
    },
    {
      "cell_type": "markdown",
      "metadata": {
        "id": "A_CKjjNfPaDI"
      },
      "source": [
        "Данные в столбцах 'employed_years', 'age_years', 'children' имеют тип object. Изменим его на численный и проверим заодно корректность значений."
      ]
    },
    {
      "cell_type": "code",
      "metadata": {
        "id": "eCz2HH4MPaDI"
      },
      "source": [
        "data['employed_years'] = pd.to_numeric(data['employed_years'], errors='raise')"
      ],
      "execution_count": null,
      "outputs": []
    },
    {
      "cell_type": "code",
      "metadata": {
        "id": "h30ChxbFPaDI"
      },
      "source": [
        "data['age_years'] = pd.to_numeric(data['age_years'], errors='raise')"
      ],
      "execution_count": null,
      "outputs": []
    },
    {
      "cell_type": "code",
      "metadata": {
        "id": "Ad4N01f9PaDI"
      },
      "source": [
        "data['children'] = pd.to_numeric(data['children'], errors='raise')"
      ],
      "execution_count": null,
      "outputs": []
    },
    {
      "cell_type": "code",
      "metadata": {
        "id": "lKM0C0s3PaDI",
        "outputId": "21d48503-3c39-4cfc-db0d-6d9b7246bedd"
      },
      "source": [
        "data.info()"
      ],
      "execution_count": null,
      "outputs": [
        {
          "name": "stdout",
          "output_type": "stream",
          "text": [
            "<class 'pandas.core.frame.DataFrame'>\n",
            "RangeIndex: 21524 entries, 0 to 21523\n",
            "Data columns (total 12 columns):\n",
            "children              21524 non-null int64\n",
            "employed_years        21524 non-null float64\n",
            "age_years             21524 non-null int64\n",
            "education_type        21524 non-null object\n",
            "education_id          21524 non-null int64\n",
            "family_status         21524 non-null object\n",
            "family_status_id      21524 non-null int64\n",
            "gender                21524 non-null object\n",
            "income_type           21524 non-null object\n",
            "debt_type             21524 non-null int64\n",
            "income_total_month    21524 non-null float64\n",
            "purpose               21524 non-null object\n",
            "dtypes: float64(2), int64(5), object(5)\n",
            "memory usage: 2.0+ MB\n"
          ]
        }
      ]
    },
    {
      "cell_type": "markdown",
      "metadata": {
        "id": "RY29E6irPaDJ"
      },
      "source": [
        "Данные в столбцах 'employed_years', 'age_years', 'children' корректны, тип float64"
      ]
    },
    {
      "cell_type": "markdown",
      "metadata": {
        "id": "PgyHWaASPaDJ"
      },
      "source": [
        "Приведем данные столбцов 'employed_years', 'age_years', 'income_total_month', 'children' к целочисленному типу данных int и избавим от минуса."
      ]
    },
    {
      "cell_type": "code",
      "metadata": {
        "id": "dxjW1un6PaDJ"
      },
      "source": [
        "data[['employed_years', 'age_years', 'income_total_month', 'children']] = data[['employed_years', 'age_years', 'income_total_month', 'children']].astype('int64').abs()"
      ],
      "execution_count": null,
      "outputs": []
    },
    {
      "cell_type": "code",
      "metadata": {
        "id": "UKm_qgZoPaDJ",
        "outputId": "2f630a8c-2621-45f7-a788-ff453b0ca0b3"
      },
      "source": [
        "data.info()"
      ],
      "execution_count": null,
      "outputs": [
        {
          "name": "stdout",
          "output_type": "stream",
          "text": [
            "<class 'pandas.core.frame.DataFrame'>\n",
            "RangeIndex: 21524 entries, 0 to 21523\n",
            "Data columns (total 12 columns):\n",
            "children              21524 non-null int64\n",
            "employed_years        21524 non-null int64\n",
            "age_years             21524 non-null int64\n",
            "education_type        21524 non-null object\n",
            "education_id          21524 non-null int64\n",
            "family_status         21524 non-null object\n",
            "family_status_id      21524 non-null int64\n",
            "gender                21524 non-null object\n",
            "income_type           21524 non-null object\n",
            "debt_type             21524 non-null int64\n",
            "income_total_month    21524 non-null int64\n",
            "purpose               21524 non-null object\n",
            "dtypes: int64(7), object(5)\n",
            "memory usage: 2.0+ MB\n"
          ]
        }
      ]
    },
    {
      "cell_type": "code",
      "metadata": {
        "scrolled": true,
        "id": "6_ra9evTPaDK",
        "outputId": "07511702-721c-4101-a22f-e1f217c10eea"
      },
      "source": [
        "data.head()"
      ],
      "execution_count": null,
      "outputs": [
        {
          "data": {
            "text/html": [
              "<div>\n",
              "<style scoped>\n",
              "    .dataframe tbody tr th:only-of-type {\n",
              "        vertical-align: middle;\n",
              "    }\n",
              "\n",
              "    .dataframe tbody tr th {\n",
              "        vertical-align: top;\n",
              "    }\n",
              "\n",
              "    .dataframe thead th {\n",
              "        text-align: right;\n",
              "    }\n",
              "</style>\n",
              "<table border=\"1\" class=\"dataframe\">\n",
              "  <thead>\n",
              "    <tr style=\"text-align: right;\">\n",
              "      <th></th>\n",
              "      <th>children</th>\n",
              "      <th>employed_years</th>\n",
              "      <th>age_years</th>\n",
              "      <th>education_type</th>\n",
              "      <th>education_id</th>\n",
              "      <th>family_status</th>\n",
              "      <th>family_status_id</th>\n",
              "      <th>gender</th>\n",
              "      <th>income_type</th>\n",
              "      <th>debt_type</th>\n",
              "      <th>income_total_month</th>\n",
              "      <th>purpose</th>\n",
              "    </tr>\n",
              "  </thead>\n",
              "  <tbody>\n",
              "    <tr>\n",
              "      <td>0</td>\n",
              "      <td>1</td>\n",
              "      <td>23</td>\n",
              "      <td>42</td>\n",
              "      <td>высшее</td>\n",
              "      <td>0</td>\n",
              "      <td>женат / замужем</td>\n",
              "      <td>0</td>\n",
              "      <td>F</td>\n",
              "      <td>сотрудник</td>\n",
              "      <td>0</td>\n",
              "      <td>253875</td>\n",
              "      <td>покупка жилья</td>\n",
              "    </tr>\n",
              "    <tr>\n",
              "      <td>1</td>\n",
              "      <td>1</td>\n",
              "      <td>11</td>\n",
              "      <td>36</td>\n",
              "      <td>среднее</td>\n",
              "      <td>1</td>\n",
              "      <td>женат / замужем</td>\n",
              "      <td>0</td>\n",
              "      <td>F</td>\n",
              "      <td>сотрудник</td>\n",
              "      <td>0</td>\n",
              "      <td>112080</td>\n",
              "      <td>приобретение автомобиля</td>\n",
              "    </tr>\n",
              "    <tr>\n",
              "      <td>2</td>\n",
              "      <td>0</td>\n",
              "      <td>15</td>\n",
              "      <td>33</td>\n",
              "      <td>Среднее</td>\n",
              "      <td>1</td>\n",
              "      <td>женат / замужем</td>\n",
              "      <td>0</td>\n",
              "      <td>M</td>\n",
              "      <td>сотрудник</td>\n",
              "      <td>0</td>\n",
              "      <td>145885</td>\n",
              "      <td>покупка жилья</td>\n",
              "    </tr>\n",
              "    <tr>\n",
              "      <td>3</td>\n",
              "      <td>3</td>\n",
              "      <td>11</td>\n",
              "      <td>32</td>\n",
              "      <td>среднее</td>\n",
              "      <td>1</td>\n",
              "      <td>женат / замужем</td>\n",
              "      <td>0</td>\n",
              "      <td>M</td>\n",
              "      <td>сотрудник</td>\n",
              "      <td>0</td>\n",
              "      <td>267628</td>\n",
              "      <td>дополнительное образование</td>\n",
              "    </tr>\n",
              "    <tr>\n",
              "      <td>4</td>\n",
              "      <td>0</td>\n",
              "      <td>11</td>\n",
              "      <td>53</td>\n",
              "      <td>среднее</td>\n",
              "      <td>1</td>\n",
              "      <td>гражданский брак</td>\n",
              "      <td>1</td>\n",
              "      <td>F</td>\n",
              "      <td>пенсионер</td>\n",
              "      <td>0</td>\n",
              "      <td>158616</td>\n",
              "      <td>сыграть свадьбу</td>\n",
              "    </tr>\n",
              "  </tbody>\n",
              "</table>\n",
              "</div>"
            ],
            "text/plain": [
              "   children  employed_years  age_years education_type  education_id  \\\n",
              "0         1              23         42         высшее             0   \n",
              "1         1              11         36        среднее             1   \n",
              "2         0              15         33        Среднее             1   \n",
              "3         3              11         32        среднее             1   \n",
              "4         0              11         53        среднее             1   \n",
              "\n",
              "      family_status  family_status_id gender income_type  debt_type  \\\n",
              "0   женат / замужем                 0      F   сотрудник          0   \n",
              "1   женат / замужем                 0      F   сотрудник          0   \n",
              "2   женат / замужем                 0      M   сотрудник          0   \n",
              "3   женат / замужем                 0      M   сотрудник          0   \n",
              "4  гражданский брак                 1      F   пенсионер          0   \n",
              "\n",
              "   income_total_month                     purpose  \n",
              "0              253875               покупка жилья  \n",
              "1              112080     приобретение автомобиля  \n",
              "2              145885               покупка жилья  \n",
              "3              267628  дополнительное образование  \n",
              "4              158616             сыграть свадьбу  "
            ]
          },
          "execution_count": 67,
          "metadata": {},
          "output_type": "execute_result"
        }
      ]
    },
    {
      "cell_type": "markdown",
      "metadata": {
        "id": "vdXX9yndPaDK"
      },
      "source": [
        "### Обработка дубликатов"
      ]
    },
    {
      "cell_type": "markdown",
      "metadata": {
        "id": "swMfdbQ2PaDK"
      },
      "source": [
        "Приведём к общему виду (нижний регистр) данные о типах образования, семейных статусах и гендера."
      ]
    },
    {
      "cell_type": "code",
      "metadata": {
        "id": "wPtd7EWFPaDK"
      },
      "source": [
        "data['education_type'] = data['education_type'].str.lower()"
      ],
      "execution_count": null,
      "outputs": []
    },
    {
      "cell_type": "code",
      "metadata": {
        "id": "hH12Qeg8PaDL"
      },
      "source": [
        "data['family_status'] = data['family_status'].str.lower()"
      ],
      "execution_count": null,
      "outputs": []
    },
    {
      "cell_type": "code",
      "metadata": {
        "id": "HImT1VrFPaDL"
      },
      "source": [
        "data['gender'] = data['gender'].str.lower()"
      ],
      "execution_count": null,
      "outputs": []
    },
    {
      "cell_type": "markdown",
      "metadata": {
        "id": "_T-YCjBEPaDL"
      },
      "source": [
        "Посмотрим, получилось ли:"
      ]
    },
    {
      "cell_type": "code",
      "metadata": {
        "id": "GBXbzwiBPaDL",
        "outputId": "26b7f475-9b5e-49fa-a8fe-fbe0cc38c2ed"
      },
      "source": [
        "data['education_type'].unique()"
      ],
      "execution_count": null,
      "outputs": [
        {
          "data": {
            "text/plain": [
              "array(['высшее', 'среднее', 'неоконченное высшее', 'начальное',\n",
              "       'ученая степень'], dtype=object)"
            ]
          },
          "execution_count": 71,
          "metadata": {},
          "output_type": "execute_result"
        }
      ]
    },
    {
      "cell_type": "code",
      "metadata": {
        "id": "VyA1z1U4PaDL",
        "outputId": "6154efa1-cc37-46ac-8ce5-b287c0756b71"
      },
      "source": [
        "data['family_status'].unique()"
      ],
      "execution_count": null,
      "outputs": [
        {
          "data": {
            "text/plain": [
              "array(['женат / замужем', 'гражданский брак', 'вдовец / вдова',\n",
              "       'в разводе', 'не женат / не замужем'], dtype=object)"
            ]
          },
          "execution_count": 72,
          "metadata": {},
          "output_type": "execute_result"
        }
      ]
    },
    {
      "cell_type": "code",
      "metadata": {
        "id": "fTWGP_g5PaDM",
        "outputId": "59bccbc2-427e-4400-a864-df74b39d9100"
      },
      "source": [
        "data['gender'].unique()"
      ],
      "execution_count": null,
      "outputs": [
        {
          "data": {
            "text/plain": [
              "array(['f', 'm'], dtype=object)"
            ]
          },
          "execution_count": 73,
          "metadata": {},
          "output_type": "execute_result"
        }
      ]
    },
    {
      "cell_type": "markdown",
      "metadata": {
        "id": "K-v-4H0xPaDM"
      },
      "source": [
        "Получилось."
      ]
    },
    {
      "cell_type": "markdown",
      "metadata": {
        "id": "aRAQjaa0PaDM"
      },
      "source": [
        "Посмотрим на типы семейных статусов и образования."
      ]
    },
    {
      "cell_type": "code",
      "metadata": {
        "id": "rwgflilDPaDM",
        "outputId": "2735d8e4-0548-41d8-8004-cd1c9102ce56"
      },
      "source": [
        "data[['family_status_id', 'family_status']].drop_duplicates().reset_index(drop=True)"
      ],
      "execution_count": null,
      "outputs": [
        {
          "data": {
            "text/html": [
              "<div>\n",
              "<style scoped>\n",
              "    .dataframe tbody tr th:only-of-type {\n",
              "        vertical-align: middle;\n",
              "    }\n",
              "\n",
              "    .dataframe tbody tr th {\n",
              "        vertical-align: top;\n",
              "    }\n",
              "\n",
              "    .dataframe thead th {\n",
              "        text-align: right;\n",
              "    }\n",
              "</style>\n",
              "<table border=\"1\" class=\"dataframe\">\n",
              "  <thead>\n",
              "    <tr style=\"text-align: right;\">\n",
              "      <th></th>\n",
              "      <th>family_status_id</th>\n",
              "      <th>family_status</th>\n",
              "    </tr>\n",
              "  </thead>\n",
              "  <tbody>\n",
              "    <tr>\n",
              "      <td>0</td>\n",
              "      <td>0</td>\n",
              "      <td>женат / замужем</td>\n",
              "    </tr>\n",
              "    <tr>\n",
              "      <td>1</td>\n",
              "      <td>1</td>\n",
              "      <td>гражданский брак</td>\n",
              "    </tr>\n",
              "    <tr>\n",
              "      <td>2</td>\n",
              "      <td>2</td>\n",
              "      <td>вдовец / вдова</td>\n",
              "    </tr>\n",
              "    <tr>\n",
              "      <td>3</td>\n",
              "      <td>3</td>\n",
              "      <td>в разводе</td>\n",
              "    </tr>\n",
              "    <tr>\n",
              "      <td>4</td>\n",
              "      <td>4</td>\n",
              "      <td>не женат / не замужем</td>\n",
              "    </tr>\n",
              "  </tbody>\n",
              "</table>\n",
              "</div>"
            ],
            "text/plain": [
              "   family_status_id          family_status\n",
              "0                 0        женат / замужем\n",
              "1                 1       гражданский брак\n",
              "2                 2         вдовец / вдова\n",
              "3                 3              в разводе\n",
              "4                 4  не женат / не замужем"
            ]
          },
          "execution_count": 74,
          "metadata": {},
          "output_type": "execute_result"
        }
      ]
    },
    {
      "cell_type": "code",
      "metadata": {
        "id": "QyrcqLoHPaDN",
        "outputId": "26ae8b4b-1929-4d97-fe0e-69d969af097f"
      },
      "source": [
        "data[['education_id', 'education_type']].drop_duplicates().reset_index(drop=True)"
      ],
      "execution_count": null,
      "outputs": [
        {
          "data": {
            "text/html": [
              "<div>\n",
              "<style scoped>\n",
              "    .dataframe tbody tr th:only-of-type {\n",
              "        vertical-align: middle;\n",
              "    }\n",
              "\n",
              "    .dataframe tbody tr th {\n",
              "        vertical-align: top;\n",
              "    }\n",
              "\n",
              "    .dataframe thead th {\n",
              "        text-align: right;\n",
              "    }\n",
              "</style>\n",
              "<table border=\"1\" class=\"dataframe\">\n",
              "  <thead>\n",
              "    <tr style=\"text-align: right;\">\n",
              "      <th></th>\n",
              "      <th>education_id</th>\n",
              "      <th>education_type</th>\n",
              "    </tr>\n",
              "  </thead>\n",
              "  <tbody>\n",
              "    <tr>\n",
              "      <td>0</td>\n",
              "      <td>0</td>\n",
              "      <td>высшее</td>\n",
              "    </tr>\n",
              "    <tr>\n",
              "      <td>1</td>\n",
              "      <td>1</td>\n",
              "      <td>среднее</td>\n",
              "    </tr>\n",
              "    <tr>\n",
              "      <td>2</td>\n",
              "      <td>2</td>\n",
              "      <td>неоконченное высшее</td>\n",
              "    </tr>\n",
              "    <tr>\n",
              "      <td>3</td>\n",
              "      <td>3</td>\n",
              "      <td>начальное</td>\n",
              "    </tr>\n",
              "    <tr>\n",
              "      <td>4</td>\n",
              "      <td>4</td>\n",
              "      <td>ученая степень</td>\n",
              "    </tr>\n",
              "  </tbody>\n",
              "</table>\n",
              "</div>"
            ],
            "text/plain": [
              "   education_id       education_type\n",
              "0             0               высшее\n",
              "1             1              среднее\n",
              "2             2  неоконченное высшее\n",
              "3             3            начальное\n",
              "4             4       ученая степень"
            ]
          },
          "execution_count": 75,
          "metadata": {},
          "output_type": "execute_result"
        }
      ]
    },
    {
      "cell_type": "markdown",
      "metadata": {
        "id": "CV_l43OvPaDN"
      },
      "source": [
        "Посмотрим, есть ли дубликаты в таблице."
      ]
    },
    {
      "cell_type": "code",
      "metadata": {
        "id": "Gw1jv-0kPaDN",
        "outputId": "424d2f8c-638f-4109-af43-adb0999c462c"
      },
      "source": [
        "data.duplicated().sum()"
      ],
      "execution_count": null,
      "outputs": [
        {
          "data": {
            "text/plain": [
              "71"
            ]
          },
          "execution_count": 76,
          "metadata": {},
          "output_type": "execute_result"
        }
      ]
    },
    {
      "cell_type": "markdown",
      "metadata": {
        "id": "C0h0J7KvPaDN"
      },
      "source": [
        "Теперь они действительно появились. Избавимся от них."
      ]
    },
    {
      "cell_type": "code",
      "metadata": {
        "id": "ift95_-pPaDO"
      },
      "source": [
        "data = data.drop_duplicates().reset_index(drop=True)"
      ],
      "execution_count": null,
      "outputs": []
    },
    {
      "cell_type": "markdown",
      "metadata": {
        "id": "3N2eJdJYPaDO"
      },
      "source": [
        "Проверим:"
      ]
    },
    {
      "cell_type": "code",
      "metadata": {
        "id": "Hfip-vraPaDO",
        "outputId": "26961cea-c767-45bd-b1c0-03c2ce3a3cbd"
      },
      "source": [
        "data.duplicated().sum()"
      ],
      "execution_count": null,
      "outputs": [
        {
          "data": {
            "text/plain": [
              "0"
            ]
          },
          "execution_count": 78,
          "metadata": {},
          "output_type": "execute_result"
        }
      ]
    },
    {
      "cell_type": "markdown",
      "metadata": {
        "id": "XnPImWG8PaDP"
      },
      "source": [
        "**Вывод**"
      ]
    },
    {
      "cell_type": "markdown",
      "metadata": {
        "id": "hm71uhZ8PaDP"
      },
      "source": [
        "Мы устранили дублирующие друг друга значения с записью в разных регистрах (привели к нижнему). Полных дублей в таблице нет. Есть еще большое количество дубликатов в графе с целью кредита, с ними будем разбираться при помощи лемматизации."
      ]
    },
    {
      "cell_type": "markdown",
      "metadata": {
        "id": "qKcrs9Z8PaDP"
      },
      "source": [
        "### Лемматизация"
      ]
    },
    {
      "cell_type": "markdown",
      "metadata": {
        "id": "qnhtGzpaPaDP"
      },
      "source": [
        "Теперь попробуем разобраться с целями кредитования. "
      ]
    },
    {
      "cell_type": "markdown",
      "metadata": {
        "id": "ksBsJ9viPaDP"
      },
      "source": [
        "Создадим список целей:"
      ]
    },
    {
      "cell_type": "code",
      "metadata": {
        "id": "aD93zm1tPaDP",
        "outputId": "db89c233-5523-4f62-db9c-0046b61e9404"
      },
      "source": [
        "purpose_list = data['purpose'].unique()\n",
        "purpose_list"
      ],
      "execution_count": null,
      "outputs": [
        {
          "data": {
            "text/plain": [
              "array(['покупка жилья', 'приобретение автомобиля',\n",
              "       'дополнительное образование', 'сыграть свадьбу',\n",
              "       'операции с жильем', 'образование', 'на проведение свадьбы',\n",
              "       'покупка жилья для семьи', 'покупка недвижимости',\n",
              "       'покупка коммерческой недвижимости', 'покупка жилой недвижимости',\n",
              "       'строительство собственной недвижимости', 'недвижимость',\n",
              "       'строительство недвижимости', 'на покупку подержанного автомобиля',\n",
              "       'на покупку своего автомобиля',\n",
              "       'операции с коммерческой недвижимостью',\n",
              "       'строительство жилой недвижимости', 'жилье',\n",
              "       'операции со своей недвижимостью', 'автомобили',\n",
              "       'заняться образованием', 'сделка с подержанным автомобилем',\n",
              "       'получение образования', 'автомобиль', 'свадьба',\n",
              "       'получение дополнительного образования', 'покупка своего жилья',\n",
              "       'операции с недвижимостью', 'получение высшего образования',\n",
              "       'свой автомобиль', 'сделка с автомобилем',\n",
              "       'профильное образование', 'высшее образование',\n",
              "       'покупка жилья для сдачи', 'на покупку автомобиля', 'ремонт жилью',\n",
              "       'заняться высшим образованием'], dtype=object)"
            ]
          },
          "execution_count": 79,
          "metadata": {},
          "output_type": "execute_result"
        }
      ]
    },
    {
      "cell_type": "markdown",
      "metadata": {
        "id": "s4YpiufJPaDQ"
      },
      "source": [
        "Разберём список на леммы:"
      ]
    },
    {
      "cell_type": "code",
      "metadata": {
        "scrolled": true,
        "id": "BdE88tpZPaDQ",
        "outputId": "d359c087-4ae5-4d6d-8928-8374990cc4ca"
      },
      "source": [
        "m = Mystem()\n",
        "word_list_list = data['purpose'].apply(m.lemmatize)\n",
        "word_list_list"
      ],
      "execution_count": null,
      "outputs": [
        {
          "data": {
            "text/plain": [
              "0                             [покупка,  , жилье, \\n]\n",
              "1                   [приобретение,  , автомобиль, \\n]\n",
              "2                             [покупка,  , жилье, \\n]\n",
              "3                [дополнительный,  , образование, \\n]\n",
              "4                           [сыграть,  , свадьба, \\n]\n",
              "                             ...                     \n",
              "21448                  [операция,  , с,  , жилье, \\n]\n",
              "21449               [сделка,  , с,  , автомобиль, \\n]\n",
              "21450                              [недвижимость, \\n]\n",
              "21451    [на,  , покупка,  , свой,  , автомобиль, \\n]\n",
              "21452             [на,  , покупка,  , автомобиль, \\n]\n",
              "Name: purpose, Length: 21453, dtype: object"
            ]
          },
          "execution_count": 80,
          "metadata": {},
          "output_type": "execute_result"
        }
      ]
    },
    {
      "cell_type": "markdown",
      "metadata": {
        "id": "ZBnOC1r_PaDR"
      },
      "source": [
        "Создадим единый список лемм и подсчитаем их количество:"
      ]
    },
    {
      "cell_type": "code",
      "metadata": {
        "id": "zPZZGITAPaDR",
        "outputId": "0e791a6d-cc66-40ef-d0ed-ce598179b737"
      },
      "source": [
        "word_list = sum(word_list_list, [])\n",
        "Counter(word_list)"
      ],
      "execution_count": null,
      "outputs": [
        {
          "data": {
            "text/plain": [
              "Counter({'покупка': 5896,\n",
              "         ' ': 33569,\n",
              "         'жилье': 4460,\n",
              "         '\\n': 21453,\n",
              "         'приобретение': 461,\n",
              "         'автомобиль': 4306,\n",
              "         'дополнительный': 906,\n",
              "         'образование': 4013,\n",
              "         'сыграть': 765,\n",
              "         'свадьба': 2324,\n",
              "         'операция': 2604,\n",
              "         'с': 2918,\n",
              "         'на': 2222,\n",
              "         'проведение': 768,\n",
              "         'для': 1289,\n",
              "         'семья': 638,\n",
              "         'недвижимость': 6350,\n",
              "         'коммерческий': 1311,\n",
              "         'жилой': 1230,\n",
              "         'строительство': 1878,\n",
              "         'собственный': 635,\n",
              "         'подержать': 478,\n",
              "         'свой': 2230,\n",
              "         'со': 627,\n",
              "         'заниматься': 904,\n",
              "         'сделка': 941,\n",
              "         'подержанный': 486,\n",
              "         'получение': 1314,\n",
              "         'высокий': 1374,\n",
              "         'профильный': 436,\n",
              "         'сдача': 651,\n",
              "         'ремонт': 607})"
            ]
          },
          "execution_count": 81,
          "metadata": {},
          "output_type": "execute_result"
        }
      ]
    },
    {
      "cell_type": "markdown",
      "metadata": {
        "id": "okxbg4fqPaDR"
      },
      "source": [
        "Список состоит из действий (покупка, строительство, операция, получение и т.д.) и объектов действий. Объекты:\n",
        "* недвижимость(=жилье),\n",
        "* автомобиль,\n",
        "* образование,\n",
        "* свадьба,\n",
        "* и добавим как отдельную категорию - ремонт жилья (недвижимости).\n",
        "\n",
        "Жилую и коммерческую недвижимость было бы здорово разделить, но в таких значениях как, к примеру \"операции с недвижимостью\", не ясно, о каком типе недвижимости речь. Так что оставим просто недвижимость.\n",
        "Эти объекты и будем считать целями кредитов. "
      ]
    },
    {
      "cell_type": "markdown",
      "metadata": {
        "id": "TAaFTOL9PaDS"
      },
      "source": [
        "### Категоризация данных"
      ]
    },
    {
      "cell_type": "markdown",
      "metadata": {
        "id": "RRb2QZ7VPaDT"
      },
      "source": [
        "#### Категории целей"
      ]
    },
    {
      "cell_type": "markdown",
      "metadata": {
        "id": "xXOL-jSHPaDT"
      },
      "source": [
        "Создадим новый столбец с категориями целей кредитования.\n",
        "Для этого напишем функцию, присваивающую значение новой ячейке исходя из наличия в соостветствующей лемматизированной ячейке data['purpose'] искомой леммы. Применим эту функцию к столбцу data['purpose']."
      ]
    },
    {
      "cell_type": "code",
      "metadata": {
        "id": "F7wAj4moPaDU",
        "outputId": "40239907-1f40-447e-a061-81ec07bca37e"
      },
      "source": [
        "def purpose_category (row):\n",
        "    lemmas = m.lemmatize(row)\n",
        "    if 'ремонт' in lemmas and 'жилье' in lemmas:\n",
        "        return 'ремонт'\n",
        "    elif 'ремонт' in lemmas and 'недвижимость' in lemmas:\n",
        "        return 'ремонт'\n",
        "    elif 'жилье' in lemmas:\n",
        "        return 'недвижимость'\n",
        "    elif 'недвижимость' in lemmas:\n",
        "        return 'недвижимость'\n",
        "    elif 'свадьба' in lemmas:\n",
        "        return 'свадьба'\n",
        "    elif 'автомобиль' in lemmas:\n",
        "        return 'автомобиль'\n",
        "    elif 'образование' in lemmas:\n",
        "        return 'образование'\n",
        "    else:\n",
        "        return 'потеряли цель'\n",
        "          \n",
        "    \n",
        "data['purpose_type'] = data['purpose'].apply(purpose_category)\n",
        "data['purpose_type'].value_counts()"
      ],
      "execution_count": null,
      "outputs": [
        {
          "data": {
            "text/plain": [
              "недвижимость    10203\n",
              "автомобиль       4306\n",
              "образование      4013\n",
              "свадьба          2324\n",
              "ремонт            607\n",
              "Name: purpose_type, dtype: int64"
            ]
          },
          "execution_count": 82,
          "metadata": {},
          "output_type": "execute_result"
        }
      ]
    },
    {
      "cell_type": "markdown",
      "metadata": {
        "id": "1iIWH1KOPaDU"
      },
      "source": [
        "Ход с ремонтом обусловлен тем, что слова \"ремонт\" и \"жилье\" (или \"недвижимость\") чаще встречаются вместе. Можно было бы убрать вовсе эту категорию, но тогда люди, планирующие ремонт в квартире, окажутся в одной категории с планирующими покупку квартиры, а они (эти категории) несоотносимы. "
      ]
    },
    {
      "cell_type": "markdown",
      "metadata": {
        "id": "hTZKb5wxPaDU"
      },
      "source": [
        "#### Категории количества детей у заёмщика"
      ]
    },
    {
      "cell_type": "markdown",
      "metadata": {
        "id": "qt267t5QPaDU"
      },
      "source": [
        "Выделим три категории семей по количеству детей, учитывая, что количество детей в выборке располагается в диапазоне 0-5. Возьмем классическую схему: \n",
        "* бездетные (0), \n",
        "* 1-2 ребёнка (1-2), \n",
        "* многодетные (больше 3).\n",
        "\n",
        "Напишем функцию с условием и создадим с ёё помощью новый столбец с категориями количества детей."
      ]
    },
    {
      "cell_type": "code",
      "metadata": {
        "id": "nbTCf6JCPaDV",
        "outputId": "8d34988a-c16a-4604-d4a1-1c7be62f34a2"
      },
      "source": [
        "def children_category(row):\n",
        "    if row == 0:\n",
        "        return 'бездетные'\n",
        "    elif row == 1 or row == 2:\n",
        "        return '1-2 ребёнка'\n",
        "    elif row >=3:\n",
        "        return 'многодетные'\n",
        "    else:\n",
        "        'количество детей не определёно'\n",
        "        \n",
        "data['children_type'] = data['children'].apply(children_category)        \n",
        "data['children_type'].value_counts()"
      ],
      "execution_count": null,
      "outputs": [
        {
          "data": {
            "text/plain": [
              "бездетные      14090\n",
              "1-2 ребёнка     6983\n",
              "многодетные      380\n",
              "Name: children_type, dtype: int64"
            ]
          },
          "execution_count": 83,
          "metadata": {},
          "output_type": "execute_result"
        }
      ]
    },
    {
      "cell_type": "markdown",
      "metadata": {
        "id": "1tSTEM5XPaDV"
      },
      "source": [
        "#### Возрастные категории"
      ]
    },
    {
      "cell_type": "code",
      "metadata": {
        "id": "3ns5loGXPaDV",
        "outputId": "c3bfc533-8f28-4d9e-db88-91d547611f9a"
      },
      "source": [
        "data['age_years'].quantile([0.25,0.5,0.75])"
      ],
      "execution_count": null,
      "outputs": [
        {
          "data": {
            "text/plain": [
              "0.25    33.0\n",
              "0.50    43.0\n",
              "0.75    53.0\n",
              "Name: age_years, dtype: float64"
            ]
          },
          "execution_count": 84,
          "metadata": {},
          "output_type": "execute_result"
        }
      ]
    },
    {
      "cell_type": "markdown",
      "metadata": {
        "id": "QNu7O20JPaDW"
      },
      "source": [
        "<font color='green'>\n",
        "<p>По квантилям выделим 4 возрастные группы:</p>\n",
        "<li>1 19-33</li>\n",
        "<li>2 34-43</li>\n",
        "<li>3 44-53</li>\n",
        "<li>4 53-57</li>\n",
        "</font>"
      ]
    },
    {
      "cell_type": "code",
      "metadata": {
        "id": "OlfCD3vMPaDW",
        "outputId": "f1e28ecf-2819-4438-a9a1-03df321df6cc"
      },
      "source": [
        "def age_years_category(row):\n",
        "    if row <= 33:\n",
        "        return '1 19-33'\n",
        "    elif 33 < row <= 43:\n",
        "        return '2 34-43'\n",
        "    elif 43 < row <= 53:\n",
        "        return '3 44-53'\n",
        "    elif row >53:\n",
        "        return '4 53-57'\n",
        "    else:\n",
        "        'возраст не определён'\n",
        "        \n",
        "data['age_years_type'] = data['age_years'].apply(age_years_category)        \n",
        "data['age_years_type'].value_counts()"
      ],
      "execution_count": null,
      "outputs": [
        {
          "data": {
            "text/plain": [
              "2 34-43    5897\n",
              "1 19-33    5365\n",
              "4 53-57    5255\n",
              "3 44-53    4936\n",
              "Name: age_years_type, dtype: int64"
            ]
          },
          "execution_count": 85,
          "metadata": {},
          "output_type": "execute_result"
        }
      ]
    },
    {
      "cell_type": "markdown",
      "metadata": {
        "id": "rbBTGuAYPaDW"
      },
      "source": [
        "#### Категории размеров дохода"
      ]
    },
    {
      "cell_type": "code",
      "metadata": {
        "id": "dGWVg1UlPaDX",
        "outputId": "1735eb3c-84c0-49a1-bfdd-37d84b22f2f3"
      },
      "source": [
        "print(np.percentile(data['income_total_month'], 20))\n",
        "print(np.percentile(data['income_total_month'], 40))\n",
        "print(np.percentile(data['income_total_month'], 60))\n",
        "print(np.percentile(data['income_total_month'], 80))"
      ],
      "execution_count": null,
      "outputs": [
        {
          "name": "stdout",
          "output_type": "stream",
          "text": [
            "98536.4\n",
            "135447.0\n",
            "162638.2\n",
            "214622.80000000005\n"
          ]
        }
      ]
    },
    {
      "cell_type": "markdown",
      "metadata": {
        "id": "9h-75UfMPaDX"
      },
      "source": [
        "\n",
        "Вычислив перцентили, разделим данные по уровням доходов заёмщиков на 5 категорий:\n",
        "<ul type=\"circle\">\n",
        "<li>низкий - не больше 98536</li>\n",
        "<li>ниже среднего - не больше 135447</li>\n",
        "<li>средний - не больше 162638</li>\n",
        "<li>выше среднего - не больше 214622</li>\n",
        "<li>высокий - больше 214622</li>\n"
      ]
    },
    {
      "cell_type": "code",
      "metadata": {
        "id": "irU4rCJtPaDX",
        "outputId": "416b2fa0-c494-44f7-ae9c-a61810410905"
      },
      "source": [
        "def income_month_category(row):\n",
        "    if row <= 98536:\n",
        "        return 'низкий'\n",
        "    elif 98536 < row <= 135447:\n",
        "        return 'ниже среднего'\n",
        "    elif 135447 < row <= 162638:\n",
        "        return 'средний'\n",
        "    elif 162638 < row <= 214622:\n",
        "        return 'выше среднего'\n",
        "    elif row >214622:\n",
        "        return 'высокий'\n",
        "    else:\n",
        "        'доход не определён'\n",
        "        \n",
        "data['income_month_type'] = data['income_total_month'].apply(income_month_category)        \n",
        "data['income_month_type'].value_counts()"
      ],
      "execution_count": null,
      "outputs": [
        {
          "data": {
            "text/plain": [
              "высокий          4291\n",
              "средний          4291\n",
              "низкий           4291\n",
              "выше среднего    4290\n",
              "ниже среднего    4290\n",
              "Name: income_month_type, dtype: int64"
            ]
          },
          "execution_count": 87,
          "metadata": {},
          "output_type": "execute_result"
        }
      ]
    },
    {
      "cell_type": "markdown",
      "metadata": {
        "id": "KglRF0e5PaDY"
      },
      "source": [
        "#### Категории стажа"
      ]
    },
    {
      "cell_type": "code",
      "metadata": {
        "id": "XQ2PHGq1PaDY"
      },
      "source": [
        "#print(np.percentile(data['employed_years'], 25))\n",
        "#print(np.percentile(data['employed_years'], 50))\n",
        "#print(np.percentile(data['employed_years'], 75))"
      ],
      "execution_count": null,
      "outputs": []
    },
    {
      "cell_type": "code",
      "metadata": {
        "id": "zvLBKGLFPaDZ",
        "outputId": "c2de878a-6ef6-45f6-94b6-9565ee2ef44b"
      },
      "source": [
        "data['employed_years'].quantile([0.25,0.5,0.75])"
      ],
      "execution_count": null,
      "outputs": [
        {
          "data": {
            "text/plain": [
              "0.25     2.0\n",
              "0.50     6.0\n",
              "0.75    11.0\n",
              "Name: employed_years, dtype: float64"
            ]
          },
          "execution_count": 89,
          "metadata": {},
          "output_type": "execute_result"
        }
      ]
    },
    {
      "cell_type": "markdown",
      "metadata": {
        "id": "hcaB3DUjPaDZ"
      },
      "source": [
        "\n",
        "По квантилям выделим 4 группы трудового стажа:\n",
        "<li>1 минимальный - не больше 2 лет</li>\n",
        "<li>2 маленький - не больше 6 лет</li>\n",
        "<li>3 средний - не больше 11 лет</li>\n",
        "<li>4 продолжительный - больше 11 лет</li>\n"
      ]
    },
    {
      "cell_type": "markdown",
      "metadata": {
        "id": "EFplqUFxPaDa"
      },
      "source": [
        "Я не стала делать шаг еще мельче, так как смысла дальше уменьшать минимальный стаж нет - наглядности это не прибавит."
      ]
    },
    {
      "cell_type": "code",
      "metadata": {
        "id": "8zdWrJMhPaDa",
        "outputId": "1b886b29-20fd-4260-8d96-6ae0e5504218"
      },
      "source": [
        "def employed_years_category(row):\n",
        "    if row <= 2:\n",
        "        return '1 минимальный'\n",
        "    elif 2 < row <= 6:\n",
        "        return '2 маленький'\n",
        "    elif 6 < row <= 11:\n",
        "        return '3 средний'\n",
        "    elif row > 11:\n",
        "        return '4 продолжительный'\n",
        "    \n",
        "    else:\n",
        "        'стаж не определён'\n",
        "        \n",
        "data['employed_years_type'] = data['employed_years'].apply(employed_years_category)        \n",
        "data['employed_years_type'].value_counts()"
      ],
      "execution_count": null,
      "outputs": [
        {
          "data": {
            "text/plain": [
              "3 средний            6938\n",
              "2 маленький          6471\n",
              "1 минимальный        5729\n",
              "4 продолжительный    2315\n",
              "Name: employed_years_type, dtype: int64"
            ]
          },
          "execution_count": 90,
          "metadata": {},
          "output_type": "execute_result"
        }
      ]
    },
    {
      "cell_type": "markdown",
      "metadata": {
        "id": "5McCLsHpPaDa"
      },
      "source": [
        "Посмотрим на обновленную таблицу"
      ]
    },
    {
      "cell_type": "code",
      "metadata": {
        "id": "lhGgltx8PaDb",
        "outputId": "f0a6d421-7d8d-4804-ad46-3fbf50c40ea8"
      },
      "source": [
        "data.head(15)"
      ],
      "execution_count": null,
      "outputs": [
        {
          "data": {
            "text/html": [
              "<div>\n",
              "<style scoped>\n",
              "    .dataframe tbody tr th:only-of-type {\n",
              "        vertical-align: middle;\n",
              "    }\n",
              "\n",
              "    .dataframe tbody tr th {\n",
              "        vertical-align: top;\n",
              "    }\n",
              "\n",
              "    .dataframe thead th {\n",
              "        text-align: right;\n",
              "    }\n",
              "</style>\n",
              "<table border=\"1\" class=\"dataframe\">\n",
              "  <thead>\n",
              "    <tr style=\"text-align: right;\">\n",
              "      <th></th>\n",
              "      <th>children</th>\n",
              "      <th>employed_years</th>\n",
              "      <th>age_years</th>\n",
              "      <th>education_type</th>\n",
              "      <th>education_id</th>\n",
              "      <th>family_status</th>\n",
              "      <th>family_status_id</th>\n",
              "      <th>gender</th>\n",
              "      <th>income_type</th>\n",
              "      <th>debt_type</th>\n",
              "      <th>income_total_month</th>\n",
              "      <th>purpose</th>\n",
              "      <th>purpose_type</th>\n",
              "      <th>children_type</th>\n",
              "      <th>age_years_type</th>\n",
              "      <th>income_month_type</th>\n",
              "      <th>employed_years_type</th>\n",
              "    </tr>\n",
              "  </thead>\n",
              "  <tbody>\n",
              "    <tr>\n",
              "      <td>0</td>\n",
              "      <td>1</td>\n",
              "      <td>23</td>\n",
              "      <td>42</td>\n",
              "      <td>высшее</td>\n",
              "      <td>0</td>\n",
              "      <td>женат / замужем</td>\n",
              "      <td>0</td>\n",
              "      <td>f</td>\n",
              "      <td>сотрудник</td>\n",
              "      <td>0</td>\n",
              "      <td>253875</td>\n",
              "      <td>покупка жилья</td>\n",
              "      <td>недвижимость</td>\n",
              "      <td>1-2 ребёнка</td>\n",
              "      <td>2 34-43</td>\n",
              "      <td>высокий</td>\n",
              "      <td>4 продолжительный</td>\n",
              "    </tr>\n",
              "    <tr>\n",
              "      <td>1</td>\n",
              "      <td>1</td>\n",
              "      <td>11</td>\n",
              "      <td>36</td>\n",
              "      <td>среднее</td>\n",
              "      <td>1</td>\n",
              "      <td>женат / замужем</td>\n",
              "      <td>0</td>\n",
              "      <td>f</td>\n",
              "      <td>сотрудник</td>\n",
              "      <td>0</td>\n",
              "      <td>112080</td>\n",
              "      <td>приобретение автомобиля</td>\n",
              "      <td>автомобиль</td>\n",
              "      <td>1-2 ребёнка</td>\n",
              "      <td>2 34-43</td>\n",
              "      <td>ниже среднего</td>\n",
              "      <td>3 средний</td>\n",
              "    </tr>\n",
              "    <tr>\n",
              "      <td>2</td>\n",
              "      <td>0</td>\n",
              "      <td>15</td>\n",
              "      <td>33</td>\n",
              "      <td>среднее</td>\n",
              "      <td>1</td>\n",
              "      <td>женат / замужем</td>\n",
              "      <td>0</td>\n",
              "      <td>m</td>\n",
              "      <td>сотрудник</td>\n",
              "      <td>0</td>\n",
              "      <td>145885</td>\n",
              "      <td>покупка жилья</td>\n",
              "      <td>недвижимость</td>\n",
              "      <td>бездетные</td>\n",
              "      <td>1 19-33</td>\n",
              "      <td>средний</td>\n",
              "      <td>4 продолжительный</td>\n",
              "    </tr>\n",
              "    <tr>\n",
              "      <td>3</td>\n",
              "      <td>3</td>\n",
              "      <td>11</td>\n",
              "      <td>32</td>\n",
              "      <td>среднее</td>\n",
              "      <td>1</td>\n",
              "      <td>женат / замужем</td>\n",
              "      <td>0</td>\n",
              "      <td>m</td>\n",
              "      <td>сотрудник</td>\n",
              "      <td>0</td>\n",
              "      <td>267628</td>\n",
              "      <td>дополнительное образование</td>\n",
              "      <td>образование</td>\n",
              "      <td>многодетные</td>\n",
              "      <td>1 19-33</td>\n",
              "      <td>высокий</td>\n",
              "      <td>3 средний</td>\n",
              "    </tr>\n",
              "    <tr>\n",
              "      <td>4</td>\n",
              "      <td>0</td>\n",
              "      <td>11</td>\n",
              "      <td>53</td>\n",
              "      <td>среднее</td>\n",
              "      <td>1</td>\n",
              "      <td>гражданский брак</td>\n",
              "      <td>1</td>\n",
              "      <td>f</td>\n",
              "      <td>пенсионер</td>\n",
              "      <td>0</td>\n",
              "      <td>158616</td>\n",
              "      <td>сыграть свадьбу</td>\n",
              "      <td>свадьба</td>\n",
              "      <td>бездетные</td>\n",
              "      <td>3 44-53</td>\n",
              "      <td>средний</td>\n",
              "      <td>3 средний</td>\n",
              "    </tr>\n",
              "    <tr>\n",
              "      <td>5</td>\n",
              "      <td>0</td>\n",
              "      <td>2</td>\n",
              "      <td>27</td>\n",
              "      <td>высшее</td>\n",
              "      <td>0</td>\n",
              "      <td>гражданский брак</td>\n",
              "      <td>1</td>\n",
              "      <td>m</td>\n",
              "      <td>компаньон</td>\n",
              "      <td>0</td>\n",
              "      <td>255763</td>\n",
              "      <td>покупка жилья</td>\n",
              "      <td>недвижимость</td>\n",
              "      <td>бездетные</td>\n",
              "      <td>1 19-33</td>\n",
              "      <td>высокий</td>\n",
              "      <td>1 минимальный</td>\n",
              "    </tr>\n",
              "    <tr>\n",
              "      <td>6</td>\n",
              "      <td>0</td>\n",
              "      <td>7</td>\n",
              "      <td>43</td>\n",
              "      <td>высшее</td>\n",
              "      <td>0</td>\n",
              "      <td>женат / замужем</td>\n",
              "      <td>0</td>\n",
              "      <td>f</td>\n",
              "      <td>компаньон</td>\n",
              "      <td>0</td>\n",
              "      <td>240525</td>\n",
              "      <td>операции с жильем</td>\n",
              "      <td>недвижимость</td>\n",
              "      <td>бездетные</td>\n",
              "      <td>2 34-43</td>\n",
              "      <td>высокий</td>\n",
              "      <td>3 средний</td>\n",
              "    </tr>\n",
              "    <tr>\n",
              "      <td>7</td>\n",
              "      <td>0</td>\n",
              "      <td>0</td>\n",
              "      <td>50</td>\n",
              "      <td>среднее</td>\n",
              "      <td>1</td>\n",
              "      <td>женат / замужем</td>\n",
              "      <td>0</td>\n",
              "      <td>m</td>\n",
              "      <td>сотрудник</td>\n",
              "      <td>0</td>\n",
              "      <td>135823</td>\n",
              "      <td>образование</td>\n",
              "      <td>образование</td>\n",
              "      <td>бездетные</td>\n",
              "      <td>3 44-53</td>\n",
              "      <td>средний</td>\n",
              "      <td>1 минимальный</td>\n",
              "    </tr>\n",
              "    <tr>\n",
              "      <td>8</td>\n",
              "      <td>2</td>\n",
              "      <td>18</td>\n",
              "      <td>35</td>\n",
              "      <td>высшее</td>\n",
              "      <td>0</td>\n",
              "      <td>гражданский брак</td>\n",
              "      <td>1</td>\n",
              "      <td>f</td>\n",
              "      <td>сотрудник</td>\n",
              "      <td>0</td>\n",
              "      <td>95856</td>\n",
              "      <td>на проведение свадьбы</td>\n",
              "      <td>свадьба</td>\n",
              "      <td>1-2 ребёнка</td>\n",
              "      <td>2 34-43</td>\n",
              "      <td>низкий</td>\n",
              "      <td>4 продолжительный</td>\n",
              "    </tr>\n",
              "    <tr>\n",
              "      <td>9</td>\n",
              "      <td>0</td>\n",
              "      <td>5</td>\n",
              "      <td>41</td>\n",
              "      <td>среднее</td>\n",
              "      <td>1</td>\n",
              "      <td>женат / замужем</td>\n",
              "      <td>0</td>\n",
              "      <td>m</td>\n",
              "      <td>сотрудник</td>\n",
              "      <td>0</td>\n",
              "      <td>144425</td>\n",
              "      <td>покупка жилья для семьи</td>\n",
              "      <td>недвижимость</td>\n",
              "      <td>бездетные</td>\n",
              "      <td>2 34-43</td>\n",
              "      <td>средний</td>\n",
              "      <td>2 маленький</td>\n",
              "    </tr>\n",
              "    <tr>\n",
              "      <td>10</td>\n",
              "      <td>2</td>\n",
              "      <td>11</td>\n",
              "      <td>36</td>\n",
              "      <td>высшее</td>\n",
              "      <td>0</td>\n",
              "      <td>женат / замужем</td>\n",
              "      <td>0</td>\n",
              "      <td>m</td>\n",
              "      <td>компаньон</td>\n",
              "      <td>0</td>\n",
              "      <td>113943</td>\n",
              "      <td>покупка недвижимости</td>\n",
              "      <td>недвижимость</td>\n",
              "      <td>1-2 ребёнка</td>\n",
              "      <td>2 34-43</td>\n",
              "      <td>ниже среднего</td>\n",
              "      <td>3 средний</td>\n",
              "    </tr>\n",
              "    <tr>\n",
              "      <td>11</td>\n",
              "      <td>0</td>\n",
              "      <td>2</td>\n",
              "      <td>40</td>\n",
              "      <td>среднее</td>\n",
              "      <td>1</td>\n",
              "      <td>женат / замужем</td>\n",
              "      <td>0</td>\n",
              "      <td>f</td>\n",
              "      <td>сотрудник</td>\n",
              "      <td>0</td>\n",
              "      <td>77069</td>\n",
              "      <td>покупка коммерческой недвижимости</td>\n",
              "      <td>недвижимость</td>\n",
              "      <td>бездетные</td>\n",
              "      <td>2 34-43</td>\n",
              "      <td>низкий</td>\n",
              "      <td>1 минимальный</td>\n",
              "    </tr>\n",
              "    <tr>\n",
              "      <td>12</td>\n",
              "      <td>0</td>\n",
              "      <td>11</td>\n",
              "      <td>65</td>\n",
              "      <td>среднее</td>\n",
              "      <td>1</td>\n",
              "      <td>гражданский брак</td>\n",
              "      <td>1</td>\n",
              "      <td>m</td>\n",
              "      <td>пенсионер</td>\n",
              "      <td>0</td>\n",
              "      <td>137127</td>\n",
              "      <td>сыграть свадьбу</td>\n",
              "      <td>свадьба</td>\n",
              "      <td>бездетные</td>\n",
              "      <td>4 53-57</td>\n",
              "      <td>средний</td>\n",
              "      <td>3 средний</td>\n",
              "    </tr>\n",
              "    <tr>\n",
              "      <td>13</td>\n",
              "      <td>0</td>\n",
              "      <td>5</td>\n",
              "      <td>54</td>\n",
              "      <td>неоконченное высшее</td>\n",
              "      <td>2</td>\n",
              "      <td>женат / замужем</td>\n",
              "      <td>0</td>\n",
              "      <td>f</td>\n",
              "      <td>сотрудник</td>\n",
              "      <td>0</td>\n",
              "      <td>130458</td>\n",
              "      <td>приобретение автомобиля</td>\n",
              "      <td>автомобиль</td>\n",
              "      <td>бездетные</td>\n",
              "      <td>4 53-57</td>\n",
              "      <td>ниже среднего</td>\n",
              "      <td>2 маленький</td>\n",
              "    </tr>\n",
              "    <tr>\n",
              "      <td>14</td>\n",
              "      <td>0</td>\n",
              "      <td>5</td>\n",
              "      <td>56</td>\n",
              "      <td>высшее</td>\n",
              "      <td>0</td>\n",
              "      <td>гражданский брак</td>\n",
              "      <td>1</td>\n",
              "      <td>f</td>\n",
              "      <td>компаньон</td>\n",
              "      <td>1</td>\n",
              "      <td>165127</td>\n",
              "      <td>покупка жилой недвижимости</td>\n",
              "      <td>недвижимость</td>\n",
              "      <td>бездетные</td>\n",
              "      <td>4 53-57</td>\n",
              "      <td>выше среднего</td>\n",
              "      <td>2 маленький</td>\n",
              "    </tr>\n",
              "  </tbody>\n",
              "</table>\n",
              "</div>"
            ],
            "text/plain": [
              "    children  employed_years  age_years       education_type  education_id  \\\n",
              "0          1              23         42               высшее             0   \n",
              "1          1              11         36              среднее             1   \n",
              "2          0              15         33              среднее             1   \n",
              "3          3              11         32              среднее             1   \n",
              "4          0              11         53              среднее             1   \n",
              "5          0               2         27               высшее             0   \n",
              "6          0               7         43               высшее             0   \n",
              "7          0               0         50              среднее             1   \n",
              "8          2              18         35               высшее             0   \n",
              "9          0               5         41              среднее             1   \n",
              "10         2              11         36               высшее             0   \n",
              "11         0               2         40              среднее             1   \n",
              "12         0              11         65              среднее             1   \n",
              "13         0               5         54  неоконченное высшее             2   \n",
              "14         0               5         56               высшее             0   \n",
              "\n",
              "       family_status  family_status_id gender income_type  debt_type  \\\n",
              "0    женат / замужем                 0      f   сотрудник          0   \n",
              "1    женат / замужем                 0      f   сотрудник          0   \n",
              "2    женат / замужем                 0      m   сотрудник          0   \n",
              "3    женат / замужем                 0      m   сотрудник          0   \n",
              "4   гражданский брак                 1      f   пенсионер          0   \n",
              "5   гражданский брак                 1      m   компаньон          0   \n",
              "6    женат / замужем                 0      f   компаньон          0   \n",
              "7    женат / замужем                 0      m   сотрудник          0   \n",
              "8   гражданский брак                 1      f   сотрудник          0   \n",
              "9    женат / замужем                 0      m   сотрудник          0   \n",
              "10   женат / замужем                 0      m   компаньон          0   \n",
              "11   женат / замужем                 0      f   сотрудник          0   \n",
              "12  гражданский брак                 1      m   пенсионер          0   \n",
              "13   женат / замужем                 0      f   сотрудник          0   \n",
              "14  гражданский брак                 1      f   компаньон          1   \n",
              "\n",
              "    income_total_month                            purpose  purpose_type  \\\n",
              "0               253875                      покупка жилья  недвижимость   \n",
              "1               112080            приобретение автомобиля    автомобиль   \n",
              "2               145885                      покупка жилья  недвижимость   \n",
              "3               267628         дополнительное образование   образование   \n",
              "4               158616                    сыграть свадьбу       свадьба   \n",
              "5               255763                      покупка жилья  недвижимость   \n",
              "6               240525                  операции с жильем  недвижимость   \n",
              "7               135823                        образование   образование   \n",
              "8                95856              на проведение свадьбы       свадьба   \n",
              "9               144425            покупка жилья для семьи  недвижимость   \n",
              "10              113943               покупка недвижимости  недвижимость   \n",
              "11               77069  покупка коммерческой недвижимости  недвижимость   \n",
              "12              137127                    сыграть свадьбу       свадьба   \n",
              "13              130458            приобретение автомобиля    автомобиль   \n",
              "14              165127         покупка жилой недвижимости  недвижимость   \n",
              "\n",
              "   children_type age_years_type income_month_type employed_years_type  \n",
              "0    1-2 ребёнка        2 34-43           высокий   4 продолжительный  \n",
              "1    1-2 ребёнка        2 34-43     ниже среднего           3 средний  \n",
              "2      бездетные        1 19-33           средний   4 продолжительный  \n",
              "3    многодетные        1 19-33           высокий           3 средний  \n",
              "4      бездетные        3 44-53           средний           3 средний  \n",
              "5      бездетные        1 19-33           высокий       1 минимальный  \n",
              "6      бездетные        2 34-43           высокий           3 средний  \n",
              "7      бездетные        3 44-53           средний       1 минимальный  \n",
              "8    1-2 ребёнка        2 34-43            низкий   4 продолжительный  \n",
              "9      бездетные        2 34-43           средний         2 маленький  \n",
              "10   1-2 ребёнка        2 34-43     ниже среднего           3 средний  \n",
              "11     бездетные        2 34-43            низкий       1 минимальный  \n",
              "12     бездетные        4 53-57           средний           3 средний  \n",
              "13     бездетные        4 53-57     ниже среднего         2 маленький  \n",
              "14     бездетные        4 53-57     выше среднего         2 маленький  "
            ]
          },
          "execution_count": 91,
          "metadata": {},
          "output_type": "execute_result"
        }
      ]
    },
    {
      "cell_type": "markdown",
      "metadata": {
        "id": "qUx_y-eNPaDb"
      },
      "source": [
        "**Вывод**"
      ]
    },
    {
      "cell_type": "markdown",
      "metadata": {
        "id": "CE6eR9ugPaDb"
      },
      "source": [
        "К исходной таблице мы прибавили пять новых столбцов, отражающих категории:\n",
        "* целей кредитования\n",
        "* количества детей\n",
        "* возраста\n",
        "* размера доходов\n",
        "* трудового стажа"
      ]
    },
    {
      "cell_type": "markdown",
      "metadata": {
        "id": "dffEX_PqPaDb"
      },
      "source": [
        "## Шаг 3. Ответьте на вопросы"
      ]
    },
    {
      "cell_type": "markdown",
      "metadata": {
        "id": "Cq_pKorQPaDb"
      },
      "source": [
        "- **Есть ли зависимость между наличием детей и возвратом кредита в срок?**"
      ]
    },
    {
      "cell_type": "code",
      "metadata": {
        "id": "N-v97xo4PaDc",
        "outputId": "87b397fc-f9a6-442c-8d3f-88f0764671e4"
      },
      "source": [
        "data.groupby('children_type')['debt_type'].mean()"
      ],
      "execution_count": null,
      "outputs": [
        {
          "data": {
            "text/plain": [
              "children_type\n",
              "1-2 ребёнка    0.092654\n",
              "бездетные      0.075444\n",
              "многодетные    0.081579\n",
              "Name: debt_type, dtype: float64"
            ]
          },
          "execution_count": 92,
          "metadata": {},
          "output_type": "execute_result"
        }
      ]
    },
    {
      "cell_type": "markdown",
      "metadata": {
        "id": "j7Ho237LPaDc"
      },
      "source": [
        "Больше всего задолжностей у имеющих 1-2 детей.\n",
        "Меньше всего у многодетных и бездетных."
      ]
    },
    {
      "cell_type": "markdown",
      "metadata": {
        "id": "EEY7feS7PaDc"
      },
      "source": [
        "Посмотрим сводные таблицы."
      ]
    },
    {
      "cell_type": "code",
      "metadata": {
        "id": "7yjr6RjdPaDc",
        "outputId": "92fb26f1-6025-4c0e-ed48-674858d7aab1"
      },
      "source": [
        "data.pivot_table(index=['family_status', 'age_years_type'], columns='children_type', aggfunc={'debt_type':'mean'})"
      ],
      "execution_count": null,
      "outputs": [
        {
          "data": {
            "text/html": [
              "<div>\n",
              "<style scoped>\n",
              "    .dataframe tbody tr th:only-of-type {\n",
              "        vertical-align: middle;\n",
              "    }\n",
              "\n",
              "    .dataframe tbody tr th {\n",
              "        vertical-align: top;\n",
              "    }\n",
              "\n",
              "    .dataframe thead tr th {\n",
              "        text-align: left;\n",
              "    }\n",
              "\n",
              "    .dataframe thead tr:last-of-type th {\n",
              "        text-align: right;\n",
              "    }\n",
              "</style>\n",
              "<table border=\"1\" class=\"dataframe\">\n",
              "  <thead>\n",
              "    <tr>\n",
              "      <th></th>\n",
              "      <th></th>\n",
              "      <th colspan=\"3\" halign=\"left\">debt_type</th>\n",
              "    </tr>\n",
              "    <tr>\n",
              "      <th></th>\n",
              "      <th>children_type</th>\n",
              "      <th>1-2 ребёнка</th>\n",
              "      <th>бездетные</th>\n",
              "      <th>многодетные</th>\n",
              "    </tr>\n",
              "    <tr>\n",
              "      <th>family_status</th>\n",
              "      <th>age_years_type</th>\n",
              "      <th></th>\n",
              "      <th></th>\n",
              "      <th></th>\n",
              "    </tr>\n",
              "  </thead>\n",
              "  <tbody>\n",
              "    <tr>\n",
              "      <td rowspan=\"4\" valign=\"top\">в разводе</td>\n",
              "      <td>1 19-33</td>\n",
              "      <td>0.089109</td>\n",
              "      <td>0.154930</td>\n",
              "      <td>0.200000</td>\n",
              "    </tr>\n",
              "    <tr>\n",
              "      <td>2 34-43</td>\n",
              "      <td>0.065574</td>\n",
              "      <td>0.050314</td>\n",
              "      <td>0.000000</td>\n",
              "    </tr>\n",
              "    <tr>\n",
              "      <td>3 44-53</td>\n",
              "      <td>0.065789</td>\n",
              "      <td>0.076336</td>\n",
              "      <td>0.000000</td>\n",
              "    </tr>\n",
              "    <tr>\n",
              "      <td>4 53-57</td>\n",
              "      <td>0.076923</td>\n",
              "      <td>0.054795</td>\n",
              "      <td>NaN</td>\n",
              "    </tr>\n",
              "    <tr>\n",
              "      <td rowspan=\"4\" valign=\"top\">вдовец / вдова</td>\n",
              "      <td>1 19-33</td>\n",
              "      <td>0.100000</td>\n",
              "      <td>0.000000</td>\n",
              "      <td>0.000000</td>\n",
              "    </tr>\n",
              "    <tr>\n",
              "      <td>2 34-43</td>\n",
              "      <td>0.100000</td>\n",
              "      <td>0.043478</td>\n",
              "      <td>0.000000</td>\n",
              "    </tr>\n",
              "    <tr>\n",
              "      <td>3 44-53</td>\n",
              "      <td>0.107143</td>\n",
              "      <td>0.054878</td>\n",
              "      <td>0.000000</td>\n",
              "    </tr>\n",
              "    <tr>\n",
              "      <td>4 53-57</td>\n",
              "      <td>0.081081</td>\n",
              "      <td>0.066038</td>\n",
              "      <td>NaN</td>\n",
              "    </tr>\n",
              "    <tr>\n",
              "      <td rowspan=\"4\" valign=\"top\">гражданский брак</td>\n",
              "      <td>1 19-33</td>\n",
              "      <td>0.119205</td>\n",
              "      <td>0.107143</td>\n",
              "      <td>0.080000</td>\n",
              "    </tr>\n",
              "    <tr>\n",
              "      <td>2 34-43</td>\n",
              "      <td>0.111111</td>\n",
              "      <td>0.092593</td>\n",
              "      <td>0.142857</td>\n",
              "    </tr>\n",
              "    <tr>\n",
              "      <td>3 44-53</td>\n",
              "      <td>0.115226</td>\n",
              "      <td>0.073381</td>\n",
              "      <td>0.166667</td>\n",
              "    </tr>\n",
              "    <tr>\n",
              "      <td>4 53-57</td>\n",
              "      <td>0.054054</td>\n",
              "      <td>0.067839</td>\n",
              "      <td>NaN</td>\n",
              "    </tr>\n",
              "    <tr>\n",
              "      <td rowspan=\"4\" valign=\"top\">женат / замужем</td>\n",
              "      <td>1 19-33</td>\n",
              "      <td>0.105101</td>\n",
              "      <td>0.106285</td>\n",
              "      <td>0.052632</td>\n",
              "    </tr>\n",
              "    <tr>\n",
              "      <td>2 34-43</td>\n",
              "      <td>0.086005</td>\n",
              "      <td>0.074293</td>\n",
              "      <td>0.075472</td>\n",
              "    </tr>\n",
              "    <tr>\n",
              "      <td>3 44-53</td>\n",
              "      <td>0.057410</td>\n",
              "      <td>0.067966</td>\n",
              "      <td>0.115385</td>\n",
              "    </tr>\n",
              "    <tr>\n",
              "      <td>4 53-57</td>\n",
              "      <td>0.048980</td>\n",
              "      <td>0.051919</td>\n",
              "      <td>0.000000</td>\n",
              "    </tr>\n",
              "    <tr>\n",
              "      <td rowspan=\"4\" valign=\"top\">не женат / не замужем</td>\n",
              "      <td>1 19-33</td>\n",
              "      <td>0.151515</td>\n",
              "      <td>0.110345</td>\n",
              "      <td>0.666667</td>\n",
              "    </tr>\n",
              "    <tr>\n",
              "      <td>2 34-43</td>\n",
              "      <td>0.102564</td>\n",
              "      <td>0.098558</td>\n",
              "      <td>0.000000</td>\n",
              "    </tr>\n",
              "    <tr>\n",
              "      <td>3 44-53</td>\n",
              "      <td>0.067568</td>\n",
              "      <td>0.093434</td>\n",
              "      <td>0.000000</td>\n",
              "    </tr>\n",
              "    <tr>\n",
              "      <td>4 53-57</td>\n",
              "      <td>0.052632</td>\n",
              "      <td>0.045977</td>\n",
              "      <td>NaN</td>\n",
              "    </tr>\n",
              "  </tbody>\n",
              "</table>\n",
              "</div>"
            ],
            "text/plain": [
              "                                       debt_type                      \n",
              "children_type                        1-2 ребёнка бездетные многодетные\n",
              "family_status         age_years_type                                  \n",
              "в разводе             1 19-33           0.089109  0.154930    0.200000\n",
              "                      2 34-43           0.065574  0.050314    0.000000\n",
              "                      3 44-53           0.065789  0.076336    0.000000\n",
              "                      4 53-57           0.076923  0.054795         NaN\n",
              "вдовец / вдова        1 19-33           0.100000  0.000000    0.000000\n",
              "                      2 34-43           0.100000  0.043478    0.000000\n",
              "                      3 44-53           0.107143  0.054878    0.000000\n",
              "                      4 53-57           0.081081  0.066038         NaN\n",
              "гражданский брак      1 19-33           0.119205  0.107143    0.080000\n",
              "                      2 34-43           0.111111  0.092593    0.142857\n",
              "                      3 44-53           0.115226  0.073381    0.166667\n",
              "                      4 53-57           0.054054  0.067839         NaN\n",
              "женат / замужем       1 19-33           0.105101  0.106285    0.052632\n",
              "                      2 34-43           0.086005  0.074293    0.075472\n",
              "                      3 44-53           0.057410  0.067966    0.115385\n",
              "                      4 53-57           0.048980  0.051919    0.000000\n",
              "не женат / не замужем 1 19-33           0.151515  0.110345    0.666667\n",
              "                      2 34-43           0.102564  0.098558    0.000000\n",
              "                      3 44-53           0.067568  0.093434    0.000000\n",
              "                      4 53-57           0.052632  0.045977         NaN"
            ]
          },
          "execution_count": 93,
          "metadata": {},
          "output_type": "execute_result"
        }
      ]
    },
    {
      "cell_type": "code",
      "metadata": {
        "scrolled": true,
        "id": "s0xVTeK0PaDd",
        "outputId": "37bcb443-5145-4fc4-f47f-413e34a0a7ea"
      },
      "source": [
        "data.pivot_table(index='purpose_type', columns='children_type', aggfunc={'debt_type':'mean'})"
      ],
      "execution_count": null,
      "outputs": [
        {
          "data": {
            "text/html": [
              "<div>\n",
              "<style scoped>\n",
              "    .dataframe tbody tr th:only-of-type {\n",
              "        vertical-align: middle;\n",
              "    }\n",
              "\n",
              "    .dataframe tbody tr th {\n",
              "        vertical-align: top;\n",
              "    }\n",
              "\n",
              "    .dataframe thead tr th {\n",
              "        text-align: left;\n",
              "    }\n",
              "\n",
              "    .dataframe thead tr:last-of-type th {\n",
              "        text-align: right;\n",
              "    }\n",
              "</style>\n",
              "<table border=\"1\" class=\"dataframe\">\n",
              "  <thead>\n",
              "    <tr>\n",
              "      <th></th>\n",
              "      <th colspan=\"3\" halign=\"left\">debt_type</th>\n",
              "    </tr>\n",
              "    <tr>\n",
              "      <th>children_type</th>\n",
              "      <th>1-2 ребёнка</th>\n",
              "      <th>бездетные</th>\n",
              "      <th>многодетные</th>\n",
              "    </tr>\n",
              "    <tr>\n",
              "      <th>purpose_type</th>\n",
              "      <th></th>\n",
              "      <th></th>\n",
              "      <th></th>\n",
              "    </tr>\n",
              "  </thead>\n",
              "  <tbody>\n",
              "    <tr>\n",
              "      <td>автомобиль</td>\n",
              "      <td>0.110871</td>\n",
              "      <td>0.085413</td>\n",
              "      <td>0.083333</td>\n",
              "    </tr>\n",
              "    <tr>\n",
              "      <td>недвижимость</td>\n",
              "      <td>0.083682</td>\n",
              "      <td>0.067906</td>\n",
              "      <td>0.075269</td>\n",
              "    </tr>\n",
              "    <tr>\n",
              "      <td>образование</td>\n",
              "      <td>0.105873</td>\n",
              "      <td>0.086677</td>\n",
              "      <td>0.051948</td>\n",
              "    </tr>\n",
              "    <tr>\n",
              "      <td>ремонт</td>\n",
              "      <td>0.051020</td>\n",
              "      <td>0.057214</td>\n",
              "      <td>0.222222</td>\n",
              "    </tr>\n",
              "    <tr>\n",
              "      <td>свадьба</td>\n",
              "      <td>0.087071</td>\n",
              "      <td>0.075163</td>\n",
              "      <td>0.138889</td>\n",
              "    </tr>\n",
              "  </tbody>\n",
              "</table>\n",
              "</div>"
            ],
            "text/plain": [
              "                debt_type                      \n",
              "children_type 1-2 ребёнка бездетные многодетные\n",
              "purpose_type                                   \n",
              "автомобиль       0.110871  0.085413    0.083333\n",
              "недвижимость     0.083682  0.067906    0.075269\n",
              "образование      0.105873  0.086677    0.051948\n",
              "ремонт           0.051020  0.057214    0.222222\n",
              "свадьба          0.087071  0.075163    0.138889"
            ]
          },
          "execution_count": 94,
          "metadata": {},
          "output_type": "execute_result"
        }
      ]
    },
    {
      "cell_type": "markdown",
      "metadata": {
        "id": "lZi8wG1dPaDd"
      },
      "source": [
        "**Вывод**"
      ]
    },
    {
      "cell_type": "markdown",
      "metadata": {
        "id": "58AlZWMyPaDd"
      },
      "source": [
        "Больше всего задолжностей у имеющих 1-2 детей, не состоящих в браке (или в разводе). Семейные заёмщики с 1-2 детьми гораздо чаще возвращают кредиты в срок.\n",
        "Меньше всего долгов по кредитам у многодетных и бездетных, но среди многодетных имеют большее количество задолжностей разведенные до 33 лет и проживающие в гражданском браке до 57 лет. Из бездетных самые надежные заемщики - вдовцы до 33 лет."
      ]
    },
    {
      "cell_type": "markdown",
      "metadata": {
        "id": "UebEQzoOPaDd"
      },
      "source": [
        "\n",
        "_______________________________________________________________________________________________________________________________\n",
        "\n"
      ]
    },
    {
      "cell_type": "markdown",
      "metadata": {
        "id": "M8SseERSPaDe"
      },
      "source": [
        "- **Есть ли зависимость между семейным положением и возвратом кредита в срок?**"
      ]
    },
    {
      "cell_type": "code",
      "metadata": {
        "id": "dWcxrLxnPaDe",
        "outputId": "0ac2f844-b837-49e5-e809-cfc0b9a4864a"
      },
      "source": [
        "data.groupby('family_status')['debt_type'].mean()"
      ],
      "execution_count": null,
      "outputs": [
        {
          "data": {
            "text/plain": [
              "family_status\n",
              "в разводе                0.071130\n",
              "вдовец / вдова           0.065693\n",
              "гражданский брак         0.093494\n",
              "женат / замужем          0.075452\n",
              "не женат / не замужем    0.097509\n",
              "Name: debt_type, dtype: float64"
            ]
          },
          "execution_count": 95,
          "metadata": {},
          "output_type": "execute_result"
        }
      ]
    },
    {
      "cell_type": "markdown",
      "metadata": {
        "id": "QtRjp6rhPaDe"
      },
      "source": [
        "Не состоящие в браке заёмщики чаще остальных имеют задолжности по кредитам.\n",
        "Самые редкие должники - вдовцы."
      ]
    },
    {
      "cell_type": "markdown",
      "metadata": {
        "id": "wDlWH8bZPaDe"
      },
      "source": [
        "Обратимся к сводным таблицам."
      ]
    },
    {
      "cell_type": "code",
      "metadata": {
        "id": "O9wdx0NMPaDe",
        "outputId": "5fd54eba-ac04-458e-a028-878c0b133cd8"
      },
      "source": [
        "data.pivot_table(index=['age_years_type'], columns='family_status', aggfunc={'debt_type':'mean'})"
      ],
      "execution_count": null,
      "outputs": [
        {
          "data": {
            "text/html": [
              "<div>\n",
              "<style scoped>\n",
              "    .dataframe tbody tr th:only-of-type {\n",
              "        vertical-align: middle;\n",
              "    }\n",
              "\n",
              "    .dataframe tbody tr th {\n",
              "        vertical-align: top;\n",
              "    }\n",
              "\n",
              "    .dataframe thead tr th {\n",
              "        text-align: left;\n",
              "    }\n",
              "\n",
              "    .dataframe thead tr:last-of-type th {\n",
              "        text-align: right;\n",
              "    }\n",
              "</style>\n",
              "<table border=\"1\" class=\"dataframe\">\n",
              "  <thead>\n",
              "    <tr>\n",
              "      <th></th>\n",
              "      <th colspan=\"5\" halign=\"left\">debt_type</th>\n",
              "    </tr>\n",
              "    <tr>\n",
              "      <th>family_status</th>\n",
              "      <th>в разводе</th>\n",
              "      <th>вдовец / вдова</th>\n",
              "      <th>гражданский брак</th>\n",
              "      <th>женат / замужем</th>\n",
              "      <th>не женат / не замужем</th>\n",
              "    </tr>\n",
              "    <tr>\n",
              "      <th>age_years_type</th>\n",
              "      <th></th>\n",
              "      <th></th>\n",
              "      <th></th>\n",
              "      <th></th>\n",
              "      <th></th>\n",
              "    </tr>\n",
              "  </thead>\n",
              "  <tbody>\n",
              "    <tr>\n",
              "      <td>1 19-33</td>\n",
              "      <td>0.118644</td>\n",
              "      <td>0.076923</td>\n",
              "      <td>0.111408</td>\n",
              "      <td>0.103780</td>\n",
              "      <td>0.119295</td>\n",
              "    </tr>\n",
              "    <tr>\n",
              "      <td>2 34-43</td>\n",
              "      <td>0.057637</td>\n",
              "      <td>0.064935</td>\n",
              "      <td>0.102965</td>\n",
              "      <td>0.080658</td>\n",
              "      <td>0.099349</td>\n",
              "    </tr>\n",
              "    <tr>\n",
              "      <td>3 44-53</td>\n",
              "      <td>0.073529</td>\n",
              "      <td>0.061224</td>\n",
              "      <td>0.084746</td>\n",
              "      <td>0.065728</td>\n",
              "      <td>0.088608</td>\n",
              "    </tr>\n",
              "    <tr>\n",
              "      <td>4 53-57</td>\n",
              "      <td>0.057402</td>\n",
              "      <td>0.066865</td>\n",
              "      <td>0.066667</td>\n",
              "      <td>0.051582</td>\n",
              "      <td>0.046512</td>\n",
              "    </tr>\n",
              "  </tbody>\n",
              "</table>\n",
              "</div>"
            ],
            "text/plain": [
              "               debt_type                                                  \\\n",
              "family_status  в разводе вдовец / вдова гражданский брак женат / замужем   \n",
              "age_years_type                                                             \n",
              "1 19-33         0.118644       0.076923         0.111408        0.103780   \n",
              "2 34-43         0.057637       0.064935         0.102965        0.080658   \n",
              "3 44-53         0.073529       0.061224         0.084746        0.065728   \n",
              "4 53-57         0.057402       0.066865         0.066667        0.051582   \n",
              "\n",
              "                                      \n",
              "family_status  не женат / не замужем  \n",
              "age_years_type                        \n",
              "1 19-33                     0.119295  \n",
              "2 34-43                     0.099349  \n",
              "3 44-53                     0.088608  \n",
              "4 53-57                     0.046512  "
            ]
          },
          "execution_count": 96,
          "metadata": {},
          "output_type": "execute_result"
        }
      ]
    },
    {
      "cell_type": "code",
      "metadata": {
        "id": "ai2Z3OjBPaDf",
        "outputId": "ae217dfb-1495-4555-b1b2-0ed30660c4e0"
      },
      "source": [
        "data.pivot_table(index='income_month_type', columns='family_status', aggfunc={'debt_type':'mean'})"
      ],
      "execution_count": null,
      "outputs": [
        {
          "data": {
            "text/html": [
              "<div>\n",
              "<style scoped>\n",
              "    .dataframe tbody tr th:only-of-type {\n",
              "        vertical-align: middle;\n",
              "    }\n",
              "\n",
              "    .dataframe tbody tr th {\n",
              "        vertical-align: top;\n",
              "    }\n",
              "\n",
              "    .dataframe thead tr th {\n",
              "        text-align: left;\n",
              "    }\n",
              "\n",
              "    .dataframe thead tr:last-of-type th {\n",
              "        text-align: right;\n",
              "    }\n",
              "</style>\n",
              "<table border=\"1\" class=\"dataframe\">\n",
              "  <thead>\n",
              "    <tr>\n",
              "      <th></th>\n",
              "      <th colspan=\"5\" halign=\"left\">debt_type</th>\n",
              "    </tr>\n",
              "    <tr>\n",
              "      <th>family_status</th>\n",
              "      <th>в разводе</th>\n",
              "      <th>вдовец / вдова</th>\n",
              "      <th>гражданский брак</th>\n",
              "      <th>женат / замужем</th>\n",
              "      <th>не женат / не замужем</th>\n",
              "    </tr>\n",
              "    <tr>\n",
              "      <th>income_month_type</th>\n",
              "      <th></th>\n",
              "      <th></th>\n",
              "      <th></th>\n",
              "      <th></th>\n",
              "      <th></th>\n",
              "    </tr>\n",
              "  </thead>\n",
              "  <tbody>\n",
              "    <tr>\n",
              "      <td>высокий</td>\n",
              "      <td>0.056911</td>\n",
              "      <td>0.053846</td>\n",
              "      <td>0.068627</td>\n",
              "      <td>0.067456</td>\n",
              "      <td>0.092199</td>\n",
              "    </tr>\n",
              "    <tr>\n",
              "      <td>выше среднего</td>\n",
              "      <td>0.068548</td>\n",
              "      <td>0.087838</td>\n",
              "      <td>0.092883</td>\n",
              "      <td>0.073317</td>\n",
              "      <td>0.119508</td>\n",
              "    </tr>\n",
              "    <tr>\n",
              "      <td>ниже среднего</td>\n",
              "      <td>0.071749</td>\n",
              "      <td>0.052632</td>\n",
              "      <td>0.106843</td>\n",
              "      <td>0.075487</td>\n",
              "      <td>0.092834</td>\n",
              "    </tr>\n",
              "    <tr>\n",
              "      <td>низкий</td>\n",
              "      <td>0.078189</td>\n",
              "      <td>0.048327</td>\n",
              "      <td>0.089915</td>\n",
              "      <td>0.080098</td>\n",
              "      <td>0.082515</td>\n",
              "    </tr>\n",
              "    <tr>\n",
              "      <td>средний</td>\n",
              "      <td>0.080851</td>\n",
              "      <td>0.093596</td>\n",
              "      <td>0.108363</td>\n",
              "      <td>0.081224</td>\n",
              "      <td>0.099278</td>\n",
              "    </tr>\n",
              "  </tbody>\n",
              "</table>\n",
              "</div>"
            ],
            "text/plain": [
              "                  debt_type                                                  \\\n",
              "family_status     в разводе вдовец / вдова гражданский брак женат / замужем   \n",
              "income_month_type                                                             \n",
              "высокий            0.056911       0.053846         0.068627        0.067456   \n",
              "выше среднего      0.068548       0.087838         0.092883        0.073317   \n",
              "ниже среднего      0.071749       0.052632         0.106843        0.075487   \n",
              "низкий             0.078189       0.048327         0.089915        0.080098   \n",
              "средний            0.080851       0.093596         0.108363        0.081224   \n",
              "\n",
              "                                         \n",
              "family_status     не женат / не замужем  \n",
              "income_month_type                        \n",
              "высокий                        0.092199  \n",
              "выше среднего                  0.119508  \n",
              "ниже среднего                  0.092834  \n",
              "низкий                         0.082515  \n",
              "средний                        0.099278  "
            ]
          },
          "execution_count": 97,
          "metadata": {},
          "output_type": "execute_result"
        }
      ]
    },
    {
      "cell_type": "markdown",
      "metadata": {
        "id": "-G6KjnnMPaDf"
      },
      "source": [
        "**Вывод**"
      ]
    },
    {
      "cell_type": "markdown",
      "metadata": {
        "id": "_33oG9qHPaDf"
      },
      "source": [
        "Больше всего задолжностей встречалось у разведенных и живущих гражданским браком заёмщиков до 33 лет с минимальным стажем, средним доходом.\n",
        "Меньше всего - у несемейных людей с продолжительным стажем и высоким доходом."
      ]
    },
    {
      "cell_type": "markdown",
      "metadata": {
        "id": "plxRA-bNPaDf"
      },
      "source": [
        "Не состоящие в браке заёмщики чаще остальных имеют задолжности по кредитам, особо выделяются живущие в гражданском браке и имеющие 1-2 детей и многодетные неженатые(незамужние).\n",
        "Самые редкие должники - вдовцы, особенно многодетные."
      ]
    },
    {
      "cell_type": "markdown",
      "metadata": {
        "id": "NkvGXUBIPaDf"
      },
      "source": [
        "\n",
        "_______________________________________________________________________________________________________________________________\n",
        "\n"
      ]
    },
    {
      "cell_type": "markdown",
      "metadata": {
        "id": "ud1YRg6GPaDg"
      },
      "source": [
        "- **Есть ли зависимость между уровнем дохода и возвратом кредита в срок?**"
      ]
    },
    {
      "cell_type": "code",
      "metadata": {
        "id": "kh_XjfdxPaDg",
        "outputId": "0f65a1f3-d7a6-42a2-c756-03ba8c7e3b9b"
      },
      "source": [
        "data.groupby('income_month_type')['debt_type'].mean()"
      ],
      "execution_count": null,
      "outputs": [
        {
          "data": {
            "text/plain": [
              "income_month_type\n",
              "высокий          0.069914\n",
              "выше среднего    0.083450\n",
              "ниже среднего    0.082751\n",
              "низкий           0.080168\n",
              "средний          0.089490\n",
              "Name: debt_type, dtype: float64"
            ]
          },
          "execution_count": 98,
          "metadata": {},
          "output_type": "execute_result"
        }
      ]
    },
    {
      "cell_type": "markdown",
      "metadata": {
        "id": "DuiAGq3yPaDg"
      },
      "source": [
        "Отличились в лучшую сторону только заёмщики с высоким уровнем дохода. У остальных показатели равны."
      ]
    },
    {
      "cell_type": "markdown",
      "metadata": {
        "id": "iEHU3jHkPaDg"
      },
      "source": [
        "Посмотрим сводные таблицы."
      ]
    },
    {
      "cell_type": "code",
      "metadata": {
        "id": "t-uQI_kQPaDg",
        "outputId": "187404d6-aa7f-480b-ded2-dd7c63a6b5fc"
      },
      "source": [
        "data.pivot_table(index='purpose_type', columns='income_month_type', aggfunc={'debt_type':'mean'})"
      ],
      "execution_count": null,
      "outputs": [
        {
          "data": {
            "text/html": [
              "<div>\n",
              "<style scoped>\n",
              "    .dataframe tbody tr th:only-of-type {\n",
              "        vertical-align: middle;\n",
              "    }\n",
              "\n",
              "    .dataframe tbody tr th {\n",
              "        vertical-align: top;\n",
              "    }\n",
              "\n",
              "    .dataframe thead tr th {\n",
              "        text-align: left;\n",
              "    }\n",
              "\n",
              "    .dataframe thead tr:last-of-type th {\n",
              "        text-align: right;\n",
              "    }\n",
              "</style>\n",
              "<table border=\"1\" class=\"dataframe\">\n",
              "  <thead>\n",
              "    <tr>\n",
              "      <th></th>\n",
              "      <th colspan=\"5\" halign=\"left\">debt_type</th>\n",
              "    </tr>\n",
              "    <tr>\n",
              "      <th>income_month_type</th>\n",
              "      <th>высокий</th>\n",
              "      <th>выше среднего</th>\n",
              "      <th>ниже среднего</th>\n",
              "      <th>низкий</th>\n",
              "      <th>средний</th>\n",
              "    </tr>\n",
              "    <tr>\n",
              "      <th>purpose_type</th>\n",
              "      <th></th>\n",
              "      <th></th>\n",
              "      <th></th>\n",
              "      <th></th>\n",
              "      <th></th>\n",
              "    </tr>\n",
              "  </thead>\n",
              "  <tbody>\n",
              "    <tr>\n",
              "      <td>автомобиль</td>\n",
              "      <td>0.075878</td>\n",
              "      <td>0.104762</td>\n",
              "      <td>0.099211</td>\n",
              "      <td>0.084928</td>\n",
              "      <td>0.103488</td>\n",
              "    </tr>\n",
              "    <tr>\n",
              "      <td>недвижимость</td>\n",
              "      <td>0.066440</td>\n",
              "      <td>0.075435</td>\n",
              "      <td>0.070289</td>\n",
              "      <td>0.072851</td>\n",
              "      <td>0.081175</td>\n",
              "    </tr>\n",
              "    <tr>\n",
              "      <td>образование</td>\n",
              "      <td>0.085826</td>\n",
              "      <td>0.086902</td>\n",
              "      <td>0.101360</td>\n",
              "      <td>0.095355</td>\n",
              "      <td>0.091130</td>\n",
              "    </tr>\n",
              "    <tr>\n",
              "      <td>ремонт</td>\n",
              "      <td>0.050000</td>\n",
              "      <td>0.088235</td>\n",
              "      <td>0.046296</td>\n",
              "      <td>0.036036</td>\n",
              "      <td>0.060606</td>\n",
              "    </tr>\n",
              "    <tr>\n",
              "      <td>свадьба</td>\n",
              "      <td>0.052516</td>\n",
              "      <td>0.073009</td>\n",
              "      <td>0.081250</td>\n",
              "      <td>0.087794</td>\n",
              "      <td>0.104701</td>\n",
              "    </tr>\n",
              "  </tbody>\n",
              "</table>\n",
              "</div>"
            ],
            "text/plain": [
              "                  debt_type                                                \n",
              "income_month_type   высокий выше среднего ниже среднего    низкий   средний\n",
              "purpose_type                                                               \n",
              "автомобиль         0.075878      0.104762      0.099211  0.084928  0.103488\n",
              "недвижимость       0.066440      0.075435      0.070289  0.072851  0.081175\n",
              "образование        0.085826      0.086902      0.101360  0.095355  0.091130\n",
              "ремонт             0.050000      0.088235      0.046296  0.036036  0.060606\n",
              "свадьба            0.052516      0.073009      0.081250  0.087794  0.104701"
            ]
          },
          "execution_count": 99,
          "metadata": {},
          "output_type": "execute_result"
        }
      ]
    },
    {
      "cell_type": "code",
      "metadata": {
        "id": "8VQ55HatPaDh",
        "outputId": "b89cb8bd-7a45-4f82-ceb5-935dcacd6b66"
      },
      "source": [
        "data.pivot_table(index='employed_years_type', columns='income_month_type', aggfunc={'debt_type':'mean'})"
      ],
      "execution_count": null,
      "outputs": [
        {
          "data": {
            "text/html": [
              "<div>\n",
              "<style scoped>\n",
              "    .dataframe tbody tr th:only-of-type {\n",
              "        vertical-align: middle;\n",
              "    }\n",
              "\n",
              "    .dataframe tbody tr th {\n",
              "        vertical-align: top;\n",
              "    }\n",
              "\n",
              "    .dataframe thead tr th {\n",
              "        text-align: left;\n",
              "    }\n",
              "\n",
              "    .dataframe thead tr:last-of-type th {\n",
              "        text-align: right;\n",
              "    }\n",
              "</style>\n",
              "<table border=\"1\" class=\"dataframe\">\n",
              "  <thead>\n",
              "    <tr>\n",
              "      <th></th>\n",
              "      <th colspan=\"5\" halign=\"left\">debt_type</th>\n",
              "    </tr>\n",
              "    <tr>\n",
              "      <th>income_month_type</th>\n",
              "      <th>высокий</th>\n",
              "      <th>выше среднего</th>\n",
              "      <th>ниже среднего</th>\n",
              "      <th>низкий</th>\n",
              "      <th>средний</th>\n",
              "    </tr>\n",
              "    <tr>\n",
              "      <th>employed_years_type</th>\n",
              "      <th></th>\n",
              "      <th></th>\n",
              "      <th></th>\n",
              "      <th></th>\n",
              "      <th></th>\n",
              "    </tr>\n",
              "  </thead>\n",
              "  <tbody>\n",
              "    <tr>\n",
              "      <td>1 минимальный</td>\n",
              "      <td>0.087097</td>\n",
              "      <td>0.110907</td>\n",
              "      <td>0.118168</td>\n",
              "      <td>0.118659</td>\n",
              "      <td>0.121453</td>\n",
              "    </tr>\n",
              "    <tr>\n",
              "      <td>2 маленький</td>\n",
              "      <td>0.076551</td>\n",
              "      <td>0.084621</td>\n",
              "      <td>0.089080</td>\n",
              "      <td>0.092428</td>\n",
              "      <td>0.087827</td>\n",
              "    </tr>\n",
              "    <tr>\n",
              "      <td>3 средний</td>\n",
              "      <td>0.060114</td>\n",
              "      <td>0.063796</td>\n",
              "      <td>0.055118</td>\n",
              "      <td>0.057971</td>\n",
              "      <td>0.074485</td>\n",
              "    </tr>\n",
              "    <tr>\n",
              "      <td>4 продолжительный</td>\n",
              "      <td>0.039724</td>\n",
              "      <td>0.067982</td>\n",
              "      <td>0.050505</td>\n",
              "      <td>0.043578</td>\n",
              "      <td>0.071633</td>\n",
              "    </tr>\n",
              "  </tbody>\n",
              "</table>\n",
              "</div>"
            ],
            "text/plain": [
              "                    debt_type                                                \n",
              "income_month_type     высокий выше среднего ниже среднего    низкий   средний\n",
              "employed_years_type                                                          \n",
              "1 минимальный        0.087097      0.110907      0.118168  0.118659  0.121453\n",
              "2 маленький          0.076551      0.084621      0.089080  0.092428  0.087827\n",
              "3 средний            0.060114      0.063796      0.055118  0.057971  0.074485\n",
              "4 продолжительный    0.039724      0.067982      0.050505  0.043578  0.071633"
            ]
          },
          "execution_count": 100,
          "metadata": {},
          "output_type": "execute_result"
        }
      ]
    },
    {
      "cell_type": "markdown",
      "metadata": {
        "id": "MzVdudUoPaDh"
      },
      "source": [
        "**Вывод**"
      ]
    },
    {
      "cell_type": "markdown",
      "metadata": {
        "id": "3q9WGcvNPaDh"
      },
      "source": [
        "Больше всего задолжностей у заемщиков со средним и ниже среднего уровнем дохода с минимальным трудовым стажем, взявшие кредиты на автомобили и образование.\n",
        "Меньше всего задолжностей  у заёмщиков с высоким уровнем дохода, особенно имеющих продолжительный стаж работы."
      ]
    },
    {
      "cell_type": "markdown",
      "metadata": {
        "id": "3DRmy6Z7PaDh"
      },
      "source": [
        "\n",
        "_______________________________________________________________________________________________________________________________\n",
        "\n"
      ]
    },
    {
      "cell_type": "markdown",
      "metadata": {
        "id": "WU5qzwk-PaDh"
      },
      "source": [
        "- **Как разные цели кредита влияют на его возврат в срок?**"
      ]
    },
    {
      "cell_type": "code",
      "metadata": {
        "id": "BGeig-T_PaDi",
        "outputId": "a4c29347-624b-490a-b513-9f113dc83a2f"
      },
      "source": [
        "data.groupby('purpose_type')['debt_type'].mean()"
      ],
      "execution_count": null,
      "outputs": [
        {
          "data": {
            "text/plain": [
              "purpose_type\n",
              "автомобиль      0.093590\n",
              "недвижимость    0.073214\n",
              "образование     0.092200\n",
              "ремонт          0.057661\n",
              "свадьба         0.080034\n",
              "Name: debt_type, dtype: float64"
            ]
          },
          "execution_count": 101,
          "metadata": {},
          "output_type": "execute_result"
        }
      ]
    },
    {
      "cell_type": "markdown",
      "metadata": {
        "id": "2Eh3eB1bPaDi"
      },
      "source": [
        "Чаще всего имеют долги взявшие кредиты на автомобиль и образование.\n",
        "Лучше всего возвращаются кредиты на ремонт и недвижимость."
      ]
    },
    {
      "cell_type": "code",
      "metadata": {
        "id": "WyUOSUYLPaDi",
        "outputId": "73d3dae5-41e4-40ab-f00a-fe65de20e00b"
      },
      "source": [
        "data.pivot_table(index='family_status', columns='purpose_type', aggfunc={'debt_type':'mean'})"
      ],
      "execution_count": null,
      "outputs": [
        {
          "data": {
            "text/html": [
              "<div>\n",
              "<style scoped>\n",
              "    .dataframe tbody tr th:only-of-type {\n",
              "        vertical-align: middle;\n",
              "    }\n",
              "\n",
              "    .dataframe tbody tr th {\n",
              "        vertical-align: top;\n",
              "    }\n",
              "\n",
              "    .dataframe thead tr th {\n",
              "        text-align: left;\n",
              "    }\n",
              "\n",
              "    .dataframe thead tr:last-of-type th {\n",
              "        text-align: right;\n",
              "    }\n",
              "</style>\n",
              "<table border=\"1\" class=\"dataframe\">\n",
              "  <thead>\n",
              "    <tr>\n",
              "      <th></th>\n",
              "      <th colspan=\"5\" halign=\"left\">debt_type</th>\n",
              "    </tr>\n",
              "    <tr>\n",
              "      <th>purpose_type</th>\n",
              "      <th>автомобиль</th>\n",
              "      <th>недвижимость</th>\n",
              "      <th>образование</th>\n",
              "      <th>ремонт</th>\n",
              "      <th>свадьба</th>\n",
              "    </tr>\n",
              "    <tr>\n",
              "      <th>family_status</th>\n",
              "      <th></th>\n",
              "      <th></th>\n",
              "      <th></th>\n",
              "      <th></th>\n",
              "      <th></th>\n",
              "    </tr>\n",
              "  </thead>\n",
              "  <tbody>\n",
              "    <tr>\n",
              "      <td>в разводе</td>\n",
              "      <td>0.074733</td>\n",
              "      <td>0.065934</td>\n",
              "      <td>0.071429</td>\n",
              "      <td>0.128205</td>\n",
              "      <td>NaN</td>\n",
              "    </tr>\n",
              "    <tr>\n",
              "      <td>вдовец / вдова</td>\n",
              "      <td>0.091743</td>\n",
              "      <td>0.050980</td>\n",
              "      <td>0.075377</td>\n",
              "      <td>0.062500</td>\n",
              "      <td>NaN</td>\n",
              "    </tr>\n",
              "    <tr>\n",
              "      <td>гражданский брак</td>\n",
              "      <td>0.117512</td>\n",
              "      <td>0.094319</td>\n",
              "      <td>0.148515</td>\n",
              "      <td>0.054545</td>\n",
              "      <td>0.080034</td>\n",
              "    </tr>\n",
              "    <tr>\n",
              "      <td>женат / замужем</td>\n",
              "      <td>0.083699</td>\n",
              "      <td>0.070544</td>\n",
              "      <td>0.083237</td>\n",
              "      <td>0.048969</td>\n",
              "      <td>NaN</td>\n",
              "    </tr>\n",
              "    <tr>\n",
              "      <td>не женат / не замужем</td>\n",
              "      <td>0.128728</td>\n",
              "      <td>0.082502</td>\n",
              "      <td>0.107452</td>\n",
              "      <td>0.064516</td>\n",
              "      <td>NaN</td>\n",
              "    </tr>\n",
              "  </tbody>\n",
              "</table>\n",
              "</div>"
            ],
            "text/plain": [
              "                       debt_type                                             \n",
              "purpose_type          автомобиль недвижимость образование    ремонт   свадьба\n",
              "family_status                                                                \n",
              "в разводе               0.074733     0.065934    0.071429  0.128205       NaN\n",
              "вдовец / вдова          0.091743     0.050980    0.075377  0.062500       NaN\n",
              "гражданский брак        0.117512     0.094319    0.148515  0.054545  0.080034\n",
              "женат / замужем         0.083699     0.070544    0.083237  0.048969       NaN\n",
              "не женат / не замужем   0.128728     0.082502    0.107452  0.064516       NaN"
            ]
          },
          "execution_count": 102,
          "metadata": {},
          "output_type": "execute_result"
        }
      ]
    },
    {
      "cell_type": "code",
      "metadata": {
        "id": "dGXQqHDNPaDi",
        "outputId": "a6e50ea5-bf8c-44e5-c248-03e90eab9c26"
      },
      "source": [
        "data.pivot_table(index='age_years_type', columns='purpose_type', aggfunc={'debt_type':'mean'})"
      ],
      "execution_count": null,
      "outputs": [
        {
          "data": {
            "text/html": [
              "<div>\n",
              "<style scoped>\n",
              "    .dataframe tbody tr th:only-of-type {\n",
              "        vertical-align: middle;\n",
              "    }\n",
              "\n",
              "    .dataframe tbody tr th {\n",
              "        vertical-align: top;\n",
              "    }\n",
              "\n",
              "    .dataframe thead tr th {\n",
              "        text-align: left;\n",
              "    }\n",
              "\n",
              "    .dataframe thead tr:last-of-type th {\n",
              "        text-align: right;\n",
              "    }\n",
              "</style>\n",
              "<table border=\"1\" class=\"dataframe\">\n",
              "  <thead>\n",
              "    <tr>\n",
              "      <th></th>\n",
              "      <th colspan=\"5\" halign=\"left\">debt_type</th>\n",
              "    </tr>\n",
              "    <tr>\n",
              "      <th>purpose_type</th>\n",
              "      <th>автомобиль</th>\n",
              "      <th>недвижимость</th>\n",
              "      <th>образование</th>\n",
              "      <th>ремонт</th>\n",
              "      <th>свадьба</th>\n",
              "    </tr>\n",
              "    <tr>\n",
              "      <th>age_years_type</th>\n",
              "      <th></th>\n",
              "      <th></th>\n",
              "      <th></th>\n",
              "      <th></th>\n",
              "      <th></th>\n",
              "    </tr>\n",
              "  </thead>\n",
              "  <tbody>\n",
              "    <tr>\n",
              "      <td>1 19-33</td>\n",
              "      <td>0.126437</td>\n",
              "      <td>0.098322</td>\n",
              "      <td>0.131000</td>\n",
              "      <td>0.081871</td>\n",
              "      <td>0.098807</td>\n",
              "    </tr>\n",
              "    <tr>\n",
              "      <td>2 34-43</td>\n",
              "      <td>0.107113</td>\n",
              "      <td>0.077089</td>\n",
              "      <td>0.089366</td>\n",
              "      <td>0.061350</td>\n",
              "      <td>0.082409</td>\n",
              "    </tr>\n",
              "    <tr>\n",
              "      <td>3 44-53</td>\n",
              "      <td>0.075127</td>\n",
              "      <td>0.067775</td>\n",
              "      <td>0.083333</td>\n",
              "      <td>0.021583</td>\n",
              "      <td>0.079096</td>\n",
              "    </tr>\n",
              "    <tr>\n",
              "      <td>4 53-57</td>\n",
              "      <td>0.063771</td>\n",
              "      <td>0.047833</td>\n",
              "      <td>0.064833</td>\n",
              "      <td>0.059701</td>\n",
              "      <td>0.059130</td>\n",
              "    </tr>\n",
              "  </tbody>\n",
              "</table>\n",
              "</div>"
            ],
            "text/plain": [
              "                debt_type                                             \n",
              "purpose_type   автомобиль недвижимость образование    ремонт   свадьба\n",
              "age_years_type                                                        \n",
              "1 19-33          0.126437     0.098322    0.131000  0.081871  0.098807\n",
              "2 34-43          0.107113     0.077089    0.089366  0.061350  0.082409\n",
              "3 44-53          0.075127     0.067775    0.083333  0.021583  0.079096\n",
              "4 53-57          0.063771     0.047833    0.064833  0.059701  0.059130"
            ]
          },
          "execution_count": 103,
          "metadata": {},
          "output_type": "execute_result"
        }
      ]
    },
    {
      "cell_type": "markdown",
      "metadata": {
        "id": "01n7Aln1PaDj"
      },
      "source": [
        "**Вывод**"
      ]
    },
    {
      "cell_type": "markdown",
      "metadata": {
        "id": "URi-zWokPaDj"
      },
      "source": [
        "Цель кредита заметно связана с задолжностями у заёмщиков.\n",
        "Чаще всего имеют долги неженатые и незамужние или разведенные заёмщики до 33 лет, взявшие кредиты на автомобиль и образование.\n",
        "Лучше всего возвращаются кредиты на ремонт и недвижимость заёмщики старше 43 лет, состоящие в браке."
      ]
    },
    {
      "cell_type": "markdown",
      "metadata": {
        "id": "2JY9oxs-PaDj"
      },
      "source": [
        "\n",
        "_______________________________________________________________________________________________________________________________\n",
        "\n"
      ]
    },
    {
      "cell_type": "markdown",
      "metadata": {
        "id": "PbUvb-goPaDj"
      },
      "source": [
        "**Дополнительные параметры**"
      ]
    },
    {
      "cell_type": "markdown",
      "metadata": {
        "id": "wKqYNyRkPaDj"
      },
      "source": [
        "Также мы можем посмотреть на параметры стажа и источника дохода."
      ]
    },
    {
      "cell_type": "code",
      "metadata": {
        "id": "ni5wHw2_PaDk",
        "outputId": "a29b7374-3381-4eb3-d882-5ccdf51f4774"
      },
      "source": [
        "data.groupby('employed_years_type')['debt_type'].mean()"
      ],
      "execution_count": null,
      "outputs": [
        {
          "data": {
            "text/plain": [
              "employed_years_type\n",
              "1 минимальный        0.110665\n",
              "2 маленький          0.085767\n",
              "3 средний            0.061833\n",
              "4 продолжительный    0.053132\n",
              "Name: debt_type, dtype: float64"
            ]
          },
          "execution_count": 104,
          "metadata": {},
          "output_type": "execute_result"
        }
      ]
    },
    {
      "cell_type": "markdown",
      "metadata": {
        "id": "Cq8uTwxWPaDk"
      },
      "source": [
        "**Вывод**"
      ]
    },
    {
      "cell_type": "markdown",
      "metadata": {
        "id": "gha8hMJ9PaDk"
      },
      "source": [
        "Ещё мы можем посмотреть на влияние стажа работы на возвращаемость кредитов. Хуже всего рассчитывают свои финансовые силы заёмщики с минимальным трудовым трудовым стажем."
      ]
    },
    {
      "cell_type": "code",
      "metadata": {
        "id": "-hjsfcNLPaDk",
        "outputId": "db004bf1-bd6e-4e1d-ecb3-c37b13916b63"
      },
      "source": [
        "data.groupby('income_type')['debt_type'].mean()"
      ],
      "execution_count": null,
      "outputs": [
        {
          "data": {
            "text/plain": [
              "income_type\n",
              "безработный        0.500000\n",
              "в декрете          1.000000\n",
              "госслужащий        0.059025\n",
              "компаньон          0.074059\n",
              "пенсионер          0.056412\n",
              "предприниматель    0.000000\n",
              "сотрудник          0.095724\n",
              "студент            0.000000\n",
              "Name: debt_type, dtype: float64"
            ]
          },
          "execution_count": 105,
          "metadata": {},
          "output_type": "execute_result"
        }
      ]
    },
    {
      "cell_type": "code",
      "metadata": {
        "id": "GjbXgMVMPaDk",
        "outputId": "3d37f6be-9f4e-45bf-9214-ecc5c1a64062"
      },
      "source": [
        "data[data['income_type']=='в декрете'].shape"
      ],
      "execution_count": null,
      "outputs": [
        {
          "data": {
            "text/plain": [
              "(1, 17)"
            ]
          },
          "execution_count": 106,
          "metadata": {},
          "output_type": "execute_result"
        }
      ]
    },
    {
      "cell_type": "markdown",
      "metadata": {
        "id": "dUBwG6KmPaDl"
      },
      "source": [
        "**Вывод**"
      ]
    },
    {
      "cell_type": "markdown",
      "metadata": {
        "id": "BL7vebUKPaDl"
      },
      "source": [
        "Хуже всего возвращают кредиты безработные (достаточно очевидно). \n",
        "Из остальных больше всего задолжностей у наёмных сотрудников, а меньше всего - у предпринимателей.\n",
        "Заёмщика в декрете в расчет не берем - он всего один."
      ]
    },
    {
      "cell_type": "markdown",
      "metadata": {
        "id": "E8L04NR2PaDl"
      },
      "source": [
        "## Шаг 4. Общий вывод"
      ]
    },
    {
      "cell_type": "markdown",
      "metadata": {
        "id": "u6xqQoZbPaDl"
      },
      "source": [
        "Наличие детей у заёмщика негативно влияет на возвращение кредита в срок, особенно если заёмщик не состоит в браке. \n",
        "Официальный брак оказывает положительное влияние на возвращаемость кредитов. \n",
        "Разведенные и проживающие гражданским браком заёмщики гораздо менее надёжны, независимо от уровня доходов. \n",
        "Больше всего задолжностей у заемщиков со средним уровнем дохода.\n",
        "Так же негативным фактором является минимальный стаж работы и уровень дохода ниже высокого. \n",
        "Продолжительный трудовой стаж хорошо сказывается на возвращаемости кредитов. \n",
        "Еще одним положительным фактором является собственный бизнес у заёмщика, \n",
        "в то время как работа по найму отрицательно сказывается на возвращаемости долга.\n",
        "\n",
        "**Портрет привлекательного для банка заёмщика:**   \n",
        "состоит в официальном браке, не имеет детей, старше 33 лет, имеет высокий уровень дохода, продолжительный стаж работы, кредит берёт на недвижимость или ремонт.\n",
        "\n",
        "**Портрет непривлекательно для банка заёмщика:**  \n",
        "не состоит в официальном браке (гражданский брак или развод), имеет 1-2 детей, младше 33 лет, имеет средний или низкий уровень дохода, минимальный стаж работы, берёт кредит на покупку автомобиля или образование.\n",
        "\n"
      ]
    }
  ]
}