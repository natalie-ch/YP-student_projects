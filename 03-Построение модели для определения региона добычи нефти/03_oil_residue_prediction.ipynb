{
  "nbformat": 4,
  "nbformat_minor": 0,
  "metadata": {
    "kernelspec": {
      "display_name": "Python 3",
      "language": "python",
      "name": "python3"
    },
    "language_info": {
      "codemirror_mode": {
        "name": "ipython",
        "version": 3
      },
      "file_extension": ".py",
      "mimetype": "text/x-python",
      "name": "python",
      "nbconvert_exporter": "python",
      "pygments_lexer": "ipython3",
      "version": "3.7.8"
    },
    "toc": {
      "base_numbering": 1,
      "nav_menu": {},
      "number_sections": true,
      "sideBar": true,
      "skip_h1_title": true,
      "title_cell": "Table of Contents",
      "title_sidebar": "Contents",
      "toc_cell": false,
      "toc_position": {
        "height": "calc(100% - 180px)",
        "left": "10px",
        "top": "150px",
        "width": "165px"
      },
      "toc_section_display": true,
      "toc_window_display": true
    },
    "colab": {
      "name": "мл_в_бизнесе.ipynb",
      "provenance": [],
      "collapsed_sections": []
    }
  },
  "cells": [
    {
      "cell_type": "markdown",
      "metadata": {
        "id": "EJIPoDsrs7R3"
      },
      "source": [
        "## Загрузка и подготовка данных"
      ]
    },
    {
      "cell_type": "code",
      "metadata": {
        "id": "-ctltUB3s7R3"
      },
      "source": [
        "import pandas as pd\n",
        "import numpy as np\n",
        "import matplotlib.pyplot as plt\n",
        "from sklearn.preprocessing import StandardScaler \n",
        "from sklearn.model_selection import train_test_split\n",
        "from math import sqrt\n",
        "from sklearn.linear_model import LinearRegression\n",
        "from sklearn.metrics import mean_squared_error\n",
        "from scipy import stats as st\n",
        "import warnings\n",
        "warnings.filterwarnings('ignore')"
      ],
      "execution_count": null,
      "outputs": []
    },
    {
      "cell_type": "code",
      "metadata": {
        "id": "oxc716Xrs7R5"
      },
      "source": [
        "data_0 = pd.read_csv('/datasets/geo_data_0.csv')\n",
        "data_1 = pd.read_csv('/datasets/geo_data_1.csv')\n",
        "data_2 = pd.read_csv('/datasets/geo_data_2.csv')"
      ],
      "execution_count": null,
      "outputs": []
    },
    {
      "cell_type": "markdown",
      "metadata": {
        "id": "MoUXgiDms7R5"
      },
      "source": [
        "**Описание данных**\n",
        "* id — уникальный идентификатор скважины;\n",
        "* f0, f1, f2 — три признака точек (неважно, что они означают, но сами признаки значимы);\n",
        "* product — объём запасов в скважине (тыс. баррелей).\n",
        "\n",
        "**Условия задачи:**\n",
        "* Для обучения модели подходит только линейная регрессия (остальные — недостаточно предсказуемые).\n",
        "* При разведке региона исследуют 500 точек, из которых с помощью машинного обучения выбирают 200 лучших для разработки.\n",
        "* Бюджет на разработку скважин в регионе — 10 млрд рублей.\n",
        "* При нынешних ценах один баррель сырья приносит 450 рублей дохода. Доход с каждой единицы продукта составляет 450 тыс. рублей, поскольку объём указан в тысячах баррелей.\n",
        "* После оценки рисков нужно оставить лишь те регионы, в которых вероятность убытков меньше 2.5%. Среди них выбирают регион с наибольшей средней прибылью.\n",
        "\n",
        "Данные синтетические: детали контрактов и характеристики месторождений не разглашаются.\n"
      ]
    },
    {
      "cell_type": "markdown",
      "metadata": {
        "id": "bLg7ZPrBs7R6"
      },
      "source": [
        "### Просмотр данных"
      ]
    },
    {
      "cell_type": "markdown",
      "metadata": {
        "id": "9xFdEEgks7R6"
      },
      "source": [
        "#### Регион 0"
      ]
    },
    {
      "cell_type": "code",
      "metadata": {
        "id": "I7eyddbhs7R7",
        "outputId": "843ce3fb-9053-4279-d6cc-43f709eb6e97"
      },
      "source": [
        "data_0.head()"
      ],
      "execution_count": null,
      "outputs": [
        {
          "data": {
            "text/html": [
              "<div>\n",
              "<style scoped>\n",
              "    .dataframe tbody tr th:only-of-type {\n",
              "        vertical-align: middle;\n",
              "    }\n",
              "\n",
              "    .dataframe tbody tr th {\n",
              "        vertical-align: top;\n",
              "    }\n",
              "\n",
              "    .dataframe thead th {\n",
              "        text-align: right;\n",
              "    }\n",
              "</style>\n",
              "<table border=\"1\" class=\"dataframe\">\n",
              "  <thead>\n",
              "    <tr style=\"text-align: right;\">\n",
              "      <th></th>\n",
              "      <th>id</th>\n",
              "      <th>f0</th>\n",
              "      <th>f1</th>\n",
              "      <th>f2</th>\n",
              "      <th>product</th>\n",
              "    </tr>\n",
              "  </thead>\n",
              "  <tbody>\n",
              "    <tr>\n",
              "      <td>0</td>\n",
              "      <td>txEyH</td>\n",
              "      <td>0.705745</td>\n",
              "      <td>-0.497823</td>\n",
              "      <td>1.221170</td>\n",
              "      <td>105.280062</td>\n",
              "    </tr>\n",
              "    <tr>\n",
              "      <td>1</td>\n",
              "      <td>2acmU</td>\n",
              "      <td>1.334711</td>\n",
              "      <td>-0.340164</td>\n",
              "      <td>4.365080</td>\n",
              "      <td>73.037750</td>\n",
              "    </tr>\n",
              "    <tr>\n",
              "      <td>2</td>\n",
              "      <td>409Wp</td>\n",
              "      <td>1.022732</td>\n",
              "      <td>0.151990</td>\n",
              "      <td>1.419926</td>\n",
              "      <td>85.265647</td>\n",
              "    </tr>\n",
              "    <tr>\n",
              "      <td>3</td>\n",
              "      <td>iJLyR</td>\n",
              "      <td>-0.032172</td>\n",
              "      <td>0.139033</td>\n",
              "      <td>2.978566</td>\n",
              "      <td>168.620776</td>\n",
              "    </tr>\n",
              "    <tr>\n",
              "      <td>4</td>\n",
              "      <td>Xdl7t</td>\n",
              "      <td>1.988431</td>\n",
              "      <td>0.155413</td>\n",
              "      <td>4.751769</td>\n",
              "      <td>154.036647</td>\n",
              "    </tr>\n",
              "  </tbody>\n",
              "</table>\n",
              "</div>"
            ],
            "text/plain": [
              "      id        f0        f1        f2     product\n",
              "0  txEyH  0.705745 -0.497823  1.221170  105.280062\n",
              "1  2acmU  1.334711 -0.340164  4.365080   73.037750\n",
              "2  409Wp  1.022732  0.151990  1.419926   85.265647\n",
              "3  iJLyR -0.032172  0.139033  2.978566  168.620776\n",
              "4  Xdl7t  1.988431  0.155413  4.751769  154.036647"
            ]
          },
          "execution_count": 3,
          "metadata": {},
          "output_type": "execute_result"
        }
      ]
    },
    {
      "cell_type": "code",
      "metadata": {
        "id": "pTeWfxmws7R8",
        "outputId": "8c03720c-ade2-4928-d96b-a4109701f75e"
      },
      "source": [
        "data_0.info()"
      ],
      "execution_count": null,
      "outputs": [
        {
          "name": "stdout",
          "output_type": "stream",
          "text": [
            "<class 'pandas.core.frame.DataFrame'>\n",
            "RangeIndex: 100000 entries, 0 to 99999\n",
            "Data columns (total 5 columns):\n",
            "id         100000 non-null object\n",
            "f0         100000 non-null float64\n",
            "f1         100000 non-null float64\n",
            "f2         100000 non-null float64\n",
            "product    100000 non-null float64\n",
            "dtypes: float64(4), object(1)\n",
            "memory usage: 3.8+ MB\n"
          ]
        }
      ]
    },
    {
      "cell_type": "code",
      "metadata": {
        "id": "dgylvNpUs7R9",
        "outputId": "f54f4b09-8bd0-46b9-fe8b-277ab0a4ad7e"
      },
      "source": [
        "data_0.duplicated().sum()"
      ],
      "execution_count": null,
      "outputs": [
        {
          "data": {
            "text/plain": [
              "0"
            ]
          },
          "execution_count": 5,
          "metadata": {},
          "output_type": "execute_result"
        }
      ]
    },
    {
      "cell_type": "markdown",
      "metadata": {
        "id": "SsZ3OZsts7R_"
      },
      "source": [
        "Полных дубликатов нет."
      ]
    },
    {
      "cell_type": "markdown",
      "metadata": {
        "id": "lktB4gVRs7SA"
      },
      "source": [
        "Некоторые id повторяют друг друга. удалим эти дубли. То же сделаем и со следующими регионами."
      ]
    },
    {
      "cell_type": "code",
      "metadata": {
        "id": "8yTlHYkxs7SA",
        "outputId": "9fe5d9c4-d2b2-47f6-a153-5297ae4970f4"
      },
      "source": [
        "print('Размер выборки до удаления дубликатов:', len(data_0))\n",
        "print('Количество уникальных наименований скважин:', len(data_0['id'].unique()))\n",
        "double_id = pd.DataFrame(data_0['id'].value_counts()).query('id > 1')\n",
        "data_0 = data_0.query('id not in @double_id.index')\n",
        "print()\n",
        "print('Размер выборки после удаления дубликатов:', len(data_0))\n",
        "print('Количество уникальных наименований скважин:', len(data_0['id'].unique()))"
      ],
      "execution_count": null,
      "outputs": [
        {
          "name": "stdout",
          "output_type": "stream",
          "text": [
            "Размер выборки до удаления дубликатов: 100000\n",
            "Количество уникальных наименований скважин: 99990\n",
            "\n",
            "Размер выборки после удаления дубликатов: 99980\n",
            "Количество уникальных наименований скважин: 99980\n"
          ]
        }
      ]
    },
    {
      "cell_type": "markdown",
      "metadata": {
        "id": "HzQHPGU3s7SB"
      },
      "source": [
        "#### Регион 1"
      ]
    },
    {
      "cell_type": "code",
      "metadata": {
        "id": "r6O2s0X-s7SC",
        "outputId": "da482095-befc-4374-9962-dc16d76b11b2"
      },
      "source": [
        "data_1.head()"
      ],
      "execution_count": null,
      "outputs": [
        {
          "data": {
            "text/html": [
              "<div>\n",
              "<style scoped>\n",
              "    .dataframe tbody tr th:only-of-type {\n",
              "        vertical-align: middle;\n",
              "    }\n",
              "\n",
              "    .dataframe tbody tr th {\n",
              "        vertical-align: top;\n",
              "    }\n",
              "\n",
              "    .dataframe thead th {\n",
              "        text-align: right;\n",
              "    }\n",
              "</style>\n",
              "<table border=\"1\" class=\"dataframe\">\n",
              "  <thead>\n",
              "    <tr style=\"text-align: right;\">\n",
              "      <th></th>\n",
              "      <th>id</th>\n",
              "      <th>f0</th>\n",
              "      <th>f1</th>\n",
              "      <th>f2</th>\n",
              "      <th>product</th>\n",
              "    </tr>\n",
              "  </thead>\n",
              "  <tbody>\n",
              "    <tr>\n",
              "      <td>0</td>\n",
              "      <td>kBEdx</td>\n",
              "      <td>-15.001348</td>\n",
              "      <td>-8.276000</td>\n",
              "      <td>-0.005876</td>\n",
              "      <td>3.179103</td>\n",
              "    </tr>\n",
              "    <tr>\n",
              "      <td>1</td>\n",
              "      <td>62mP7</td>\n",
              "      <td>14.272088</td>\n",
              "      <td>-3.475083</td>\n",
              "      <td>0.999183</td>\n",
              "      <td>26.953261</td>\n",
              "    </tr>\n",
              "    <tr>\n",
              "      <td>2</td>\n",
              "      <td>vyE1P</td>\n",
              "      <td>6.263187</td>\n",
              "      <td>-5.948386</td>\n",
              "      <td>5.001160</td>\n",
              "      <td>134.766305</td>\n",
              "    </tr>\n",
              "    <tr>\n",
              "      <td>3</td>\n",
              "      <td>KcrkZ</td>\n",
              "      <td>-13.081196</td>\n",
              "      <td>-11.506057</td>\n",
              "      <td>4.999415</td>\n",
              "      <td>137.945408</td>\n",
              "    </tr>\n",
              "    <tr>\n",
              "      <td>4</td>\n",
              "      <td>AHL4O</td>\n",
              "      <td>12.702195</td>\n",
              "      <td>-8.147433</td>\n",
              "      <td>5.004363</td>\n",
              "      <td>134.766305</td>\n",
              "    </tr>\n",
              "  </tbody>\n",
              "</table>\n",
              "</div>"
            ],
            "text/plain": [
              "      id         f0         f1        f2     product\n",
              "0  kBEdx -15.001348  -8.276000 -0.005876    3.179103\n",
              "1  62mP7  14.272088  -3.475083  0.999183   26.953261\n",
              "2  vyE1P   6.263187  -5.948386  5.001160  134.766305\n",
              "3  KcrkZ -13.081196 -11.506057  4.999415  137.945408\n",
              "4  AHL4O  12.702195  -8.147433  5.004363  134.766305"
            ]
          },
          "execution_count": 7,
          "metadata": {},
          "output_type": "execute_result"
        }
      ]
    },
    {
      "cell_type": "code",
      "metadata": {
        "id": "zZRBCpxos7SC",
        "outputId": "f6e26928-9971-43c9-a913-edc6b570258c"
      },
      "source": [
        "data_1.info()"
      ],
      "execution_count": null,
      "outputs": [
        {
          "name": "stdout",
          "output_type": "stream",
          "text": [
            "<class 'pandas.core.frame.DataFrame'>\n",
            "RangeIndex: 100000 entries, 0 to 99999\n",
            "Data columns (total 5 columns):\n",
            "id         100000 non-null object\n",
            "f0         100000 non-null float64\n",
            "f1         100000 non-null float64\n",
            "f2         100000 non-null float64\n",
            "product    100000 non-null float64\n",
            "dtypes: float64(4), object(1)\n",
            "memory usage: 3.8+ MB\n"
          ]
        }
      ]
    },
    {
      "cell_type": "code",
      "metadata": {
        "id": "95LT1tGFs7SD",
        "outputId": "e022aa36-6321-4dca-916a-a9f0310b1b2c"
      },
      "source": [
        "data_1.duplicated().sum()"
      ],
      "execution_count": null,
      "outputs": [
        {
          "data": {
            "text/plain": [
              "0"
            ]
          },
          "execution_count": 9,
          "metadata": {},
          "output_type": "execute_result"
        }
      ]
    },
    {
      "cell_type": "code",
      "metadata": {
        "id": "W1d1Ceqos7SD",
        "outputId": "bd04c2e3-fde1-4090-c4c1-07dc9d8dd600"
      },
      "source": [
        "print('Размер выборки до удаления дубликатов:', len(data_1))\n",
        "print('Количество уникальных наименований скважин:', len(data_1['id'].unique()))\n",
        "double_id = pd.DataFrame(data_1['id'].value_counts()).query('id > 1')\n",
        "data_1 = data_1.query('id not in @double_id.index')\n",
        "print()\n",
        "print('Размер выборки после удаления дубликатов:', len(data_1))\n",
        "print('Количество уникальных наименований скважин:', len(data_1['id'].unique()))"
      ],
      "execution_count": null,
      "outputs": [
        {
          "name": "stdout",
          "output_type": "stream",
          "text": [
            "Размер выборки до удаления дубликатов: 100000\n",
            "Количество уникальных наименований скважин: 99996\n",
            "\n",
            "Размер выборки после удаления дубликатов: 99992\n",
            "Количество уникальных наименований скважин: 99992\n"
          ]
        }
      ]
    },
    {
      "cell_type": "markdown",
      "metadata": {
        "id": "9Teh7clKs7SE"
      },
      "source": [
        "#### Регион 2"
      ]
    },
    {
      "cell_type": "code",
      "metadata": {
        "id": "gPeubCw2s7SE",
        "outputId": "77ead9ce-4d1e-4ad2-992a-8c5ecfeebd38"
      },
      "source": [
        "data_2.head()"
      ],
      "execution_count": null,
      "outputs": [
        {
          "data": {
            "text/html": [
              "<div>\n",
              "<style scoped>\n",
              "    .dataframe tbody tr th:only-of-type {\n",
              "        vertical-align: middle;\n",
              "    }\n",
              "\n",
              "    .dataframe tbody tr th {\n",
              "        vertical-align: top;\n",
              "    }\n",
              "\n",
              "    .dataframe thead th {\n",
              "        text-align: right;\n",
              "    }\n",
              "</style>\n",
              "<table border=\"1\" class=\"dataframe\">\n",
              "  <thead>\n",
              "    <tr style=\"text-align: right;\">\n",
              "      <th></th>\n",
              "      <th>id</th>\n",
              "      <th>f0</th>\n",
              "      <th>f1</th>\n",
              "      <th>f2</th>\n",
              "      <th>product</th>\n",
              "    </tr>\n",
              "  </thead>\n",
              "  <tbody>\n",
              "    <tr>\n",
              "      <td>0</td>\n",
              "      <td>fwXo0</td>\n",
              "      <td>-1.146987</td>\n",
              "      <td>0.963328</td>\n",
              "      <td>-0.828965</td>\n",
              "      <td>27.758673</td>\n",
              "    </tr>\n",
              "    <tr>\n",
              "      <td>1</td>\n",
              "      <td>WJtFt</td>\n",
              "      <td>0.262778</td>\n",
              "      <td>0.269839</td>\n",
              "      <td>-2.530187</td>\n",
              "      <td>56.069697</td>\n",
              "    </tr>\n",
              "    <tr>\n",
              "      <td>2</td>\n",
              "      <td>ovLUW</td>\n",
              "      <td>0.194587</td>\n",
              "      <td>0.289035</td>\n",
              "      <td>-5.586433</td>\n",
              "      <td>62.871910</td>\n",
              "    </tr>\n",
              "    <tr>\n",
              "      <td>3</td>\n",
              "      <td>q6cA6</td>\n",
              "      <td>2.236060</td>\n",
              "      <td>-0.553760</td>\n",
              "      <td>0.930038</td>\n",
              "      <td>114.572842</td>\n",
              "    </tr>\n",
              "    <tr>\n",
              "      <td>4</td>\n",
              "      <td>WPMUX</td>\n",
              "      <td>-0.515993</td>\n",
              "      <td>1.716266</td>\n",
              "      <td>5.899011</td>\n",
              "      <td>149.600746</td>\n",
              "    </tr>\n",
              "  </tbody>\n",
              "</table>\n",
              "</div>"
            ],
            "text/plain": [
              "      id        f0        f1        f2     product\n",
              "0  fwXo0 -1.146987  0.963328 -0.828965   27.758673\n",
              "1  WJtFt  0.262778  0.269839 -2.530187   56.069697\n",
              "2  ovLUW  0.194587  0.289035 -5.586433   62.871910\n",
              "3  q6cA6  2.236060 -0.553760  0.930038  114.572842\n",
              "4  WPMUX -0.515993  1.716266  5.899011  149.600746"
            ]
          },
          "execution_count": 11,
          "metadata": {},
          "output_type": "execute_result"
        }
      ]
    },
    {
      "cell_type": "code",
      "metadata": {
        "id": "NiB1oiTEs7SE",
        "outputId": "fb0c2209-178b-4fd2-90b7-cbd04f00cc73"
      },
      "source": [
        "data_2.info()"
      ],
      "execution_count": null,
      "outputs": [
        {
          "name": "stdout",
          "output_type": "stream",
          "text": [
            "<class 'pandas.core.frame.DataFrame'>\n",
            "RangeIndex: 100000 entries, 0 to 99999\n",
            "Data columns (total 5 columns):\n",
            "id         100000 non-null object\n",
            "f0         100000 non-null float64\n",
            "f1         100000 non-null float64\n",
            "f2         100000 non-null float64\n",
            "product    100000 non-null float64\n",
            "dtypes: float64(4), object(1)\n",
            "memory usage: 3.8+ MB\n"
          ]
        }
      ]
    },
    {
      "cell_type": "code",
      "metadata": {
        "id": "uFWqHBKQs7SF",
        "outputId": "6e43722a-003f-4173-d19b-bfb4edd0aafc"
      },
      "source": [
        "data_2.duplicated().sum()"
      ],
      "execution_count": null,
      "outputs": [
        {
          "data": {
            "text/plain": [
              "0"
            ]
          },
          "execution_count": 13,
          "metadata": {},
          "output_type": "execute_result"
        }
      ]
    },
    {
      "cell_type": "code",
      "metadata": {
        "id": "f-2jqlkhs7SF",
        "outputId": "e3972227-2dc8-41ec-c8d7-2c56cf2ffcf5"
      },
      "source": [
        "print('Размер выборки до удаления дубликатов:', len(data_2))\n",
        "print('Количество уникальных наименований скважин:', len(data_2['id'].unique()))\n",
        "double_id = pd.DataFrame(data_2['id'].value_counts()).query('id > 1')\n",
        "data_2 = data_2.query('id not in @double_id.index')\n",
        "print()\n",
        "print('Размер выборки после удаления дубликатов:', len(data_2))\n",
        "print('Количество уникальных наименований скважин:', len(data_2['id'].unique()))"
      ],
      "execution_count": null,
      "outputs": [
        {
          "name": "stdout",
          "output_type": "stream",
          "text": [
            "Размер выборки до удаления дубликатов: 100000\n",
            "Количество уникальных наименований скважин: 99996\n",
            "\n",
            "Размер выборки после удаления дубликатов: 99992\n",
            "Количество уникальных наименований скважин: 99992\n"
          ]
        }
      ]
    },
    {
      "cell_type": "markdown",
      "metadata": {
        "id": "hmUsD-ZMs7SG"
      },
      "source": [
        "### Распределения признаков"
      ]
    },
    {
      "cell_type": "code",
      "metadata": {
        "id": "iB9Y6VTNs7SG"
      },
      "source": [
        "def distributions(data):\n",
        "    data.boxplot('f0')\n",
        "    plt.title('Боксплот признака f0')\n",
        "    plt.show()\n",
        "    data['f0'].hist()\n",
        "    plt.title('Гистограмма признака f0')\n",
        "    plt.show()\n",
        "    \n",
        "    data.boxplot('f1')\n",
        "    plt.title('Боксплот признака f1')\n",
        "    plt.show()\n",
        "    data['f1'].hist()\n",
        "    plt.title('Гистограмма признака f1')\n",
        "    plt.show()\n",
        "    \n",
        "    data.boxplot('f2')\n",
        "    plt.title('Боксплот признака f2')\n",
        "    plt.show()\n",
        "    data['f2'].hist()\n",
        "    plt.title('Гистограмма признака f2')\n",
        "    plt.show()"
      ],
      "execution_count": null,
      "outputs": []
    },
    {
      "cell_type": "markdown",
      "metadata": {
        "id": "LhItYnlus7SG"
      },
      "source": [
        "#### Регион 0"
      ]
    },
    {
      "cell_type": "code",
      "metadata": {
        "scrolled": true,
        "id": "y2ea2T8Us7SG",
        "outputId": "8a5c4403-1c17-42df-abac-60d1942f1f9f"
      },
      "source": [
        "distributions(data_0)"
      ],
      "execution_count": null,
      "outputs": [
        {
          "data": {
            "image/png": "[encoded data removed]",
            "text/plain": [
              "<Figure size 432x288 with 1 Axes>"
            ]
          },
          "metadata": {
            "needs_background": "light"
          },
          "output_type": "display_data"
        },
        {
          "data": {
            "image/png": "[encoded data removed]",
            "text/plain": [
              "<Figure size 432x288 with 1 Axes>"
            ]
          },
          "metadata": {
            "needs_background": "light"
          },
          "output_type": "display_data"
        },
        {
          "data": {
            "image/png": "[encoded data removed]",
            "text/plain": [
              "<Figure size 432x288 with 1 Axes>"
            ]
          },
          "metadata": {
            "needs_background": "light"
          },
          "output_type": "display_data"
        },
        {
          "data": {
            "image/png": "[encoded data removed]",
            "text/plain": [
              "<Figure size 432x288 with 1 Axes>"
            ]
          },
          "metadata": {
            "needs_background": "light"
          },
          "output_type": "display_data"
        },
        {
          "data": {
            "image/png": "[encoded data removed]",
            "text/plain": [
              "<Figure size 432x288 with 1 Axes>"
            ]
          },
          "metadata": {
            "needs_background": "light"
          },
          "output_type": "display_data"
        },
        {
          "data": {
            "image/png": "[encoded data removed]",
            "text/plain": [
              "<Figure size 432x288 with 1 Axes>"
            ]
          },
          "metadata": {
            "needs_background": "light"
          },
          "output_type": "display_data"
        }
      ]
    },
    {
      "cell_type": "markdown",
      "metadata": {
        "id": "83WgOKdos7SH"
      },
      "source": [
        "#### Регион 1"
      ]
    },
    {
      "cell_type": "code",
      "metadata": {
        "scrolled": true,
        "id": "WWS20007s7SH",
        "outputId": "f1790dfb-2e1b-4a23-de26-ac937b3d3107"
      },
      "source": [
        "distributions(data_1)"
      ],
      "execution_count": null,
      "outputs": [
        {
          "data": {
            "image/png": "[encoded data removed]",
            "text/plain": [
              "<Figure size 432x288 with 1 Axes>"
            ]
          },
          "metadata": {
            "needs_background": "light"
          },
          "output_type": "display_data"
        },
        {
          "data": {
            "image/png": "[encoded data removed]",
            "text/plain": [
              "<Figure size 432x288 with 1 Axes>"
            ]
          },
          "metadata": {
            "needs_background": "light"
          },
          "output_type": "display_data"
        },
        {
          "data": {
            "image/png": "[encoded data removed]",
            "text/plain": [
              "<Figure size 432x288 with 1 Axes>"
            ]
          },
          "metadata": {
            "needs_background": "light"
          },
          "output_type": "display_data"
        },
        {
          "data": {
            "image/png": "[encoded data removed]",
            "text/plain": [
              "<Figure size 432x288 with 1 Axes>"
            ]
          },
          "metadata": {
            "needs_background": "light"
          },
          "output_type": "display_data"
        },
        {
          "data": {
            "image/png": "[encoded data removed]",
            "text/plain": [
              "<Figure size 432x288 with 1 Axes>"
            ]
          },
          "metadata": {
            "needs_background": "light"
          },
          "output_type": "display_data"
        },
        {
          "data": {
            "image/png": "[encoded data removed]",
            "text/plain": [
              "<Figure size 432x288 with 1 Axes>"
            ]
          },
          "metadata": {
            "needs_background": "light"
          },
          "output_type": "display_data"
        }
      ]
    },
    {
      "cell_type": "markdown",
      "metadata": {
        "id": "f-uDgSlTs7SI"
      },
      "source": [
        "#### Регион 2"
      ]
    },
    {
      "cell_type": "code",
      "metadata": {
        "scrolled": true,
        "id": "y83rJInCs7SI",
        "outputId": "4d93ec38-5ce0-45b0-a29b-8786b795b5a2"
      },
      "source": [
        "distributions(data_2)"
      ],
      "execution_count": null,
      "outputs": [
        {
          "data": {
            "image/png": "[encoded data removed]",
            "text/plain": [
              "<Figure size 432x288 with 1 Axes>"
            ]
          },
          "metadata": {
            "needs_background": "light"
          },
          "output_type": "display_data"
        },
        {
          "data": {
            "image/png": "[encoded data removed]",
            "text/plain": [
              "<Figure size 432x288 with 1 Axes>"
            ]
          },
          "metadata": {
            "needs_background": "light"
          },
          "output_type": "display_data"
        },
        {
          "data": {
            "image/png": "[encoded data removed]",
            "text/plain": [
              "<Figure size 432x288 with 1 Axes>"
            ]
          },
          "metadata": {
            "needs_background": "light"
          },
          "output_type": "display_data"
        },
        {
          "data": {
            "image/png": "[encoded data removed]",
            "text/plain": [
              "<Figure size 432x288 with 1 Axes>"
            ]
          },
          "metadata": {
            "needs_background": "light"
          },
          "output_type": "display_data"
        },
        {
          "data": {
            "image/png": "[encoded data removed]",
            "text/plain": [
              "<Figure size 432x288 with 1 Axes>"
            ]
          },
          "metadata": {
            "needs_background": "light"
          },
          "output_type": "display_data"
        },
        {
          "data": {
            "image/png": "[encoded data removed]",
            "text/plain": [
              "<Figure size 432x288 with 1 Axes>"
            ]
          },
          "metadata": {
            "needs_background": "light"
          },
          "output_type": "display_data"
        }
      ]
    },
    {
      "cell_type": "markdown",
      "metadata": {
        "id": "bupiWy19s7SI"
      },
      "source": [
        "Все признаки распределены более или менее равномерно относительно среднего. Серьёзно перекашивающих выборку выбросов не замечено. "
      ]
    },
    {
      "cell_type": "markdown",
      "metadata": {
        "id": "r3r-LVuHs7SJ"
      },
      "source": [
        "### Корреляции признаков"
      ]
    },
    {
      "cell_type": "code",
      "metadata": {
        "id": "nnUVp_QUs7SJ"
      },
      "source": [
        "def corr_matrix(data):\n",
        "    data_corr = data.corr()\n",
        "    return data_corr.style.background_gradient(cmap='coolwarm')"
      ],
      "execution_count": null,
      "outputs": []
    },
    {
      "cell_type": "markdown",
      "metadata": {
        "id": "jQxw8yoOs7SJ"
      },
      "source": [
        "**Регион 0**"
      ]
    },
    {
      "cell_type": "code",
      "metadata": {
        "id": "dfU6jpUhs7SJ",
        "outputId": "81cce3f9-e565-4e3e-89da-41d27c968dbd"
      },
      "source": [
        "corr_matrix(data_0)"
      ],
      "execution_count": null,
      "outputs": [
        {
          "data": {
            "text/html": [
              "<style  type=\"text/css\" >\n",
              "    #T_d37816b0_c1e3_11eb_8e85_02420a3936c5row0_col0 {\n",
              "            background-color:  #b40426;\n",
              "            color:  #f1f1f1;\n",
              "        }    #T_d37816b0_c1e3_11eb_8e85_02420a3936c5row0_col1 {\n",
              "            background-color:  #3b4cc0;\n",
              "            color:  #f1f1f1;\n",
              "        }    #T_d37816b0_c1e3_11eb_8e85_02420a3936c5row0_col2 {\n",
              "            background-color:  #3b4cc0;\n",
              "            color:  #f1f1f1;\n",
              "        }    #T_d37816b0_c1e3_11eb_8e85_02420a3936c5row0_col3 {\n",
              "            background-color:  #98b9ff;\n",
              "            color:  #000000;\n",
              "        }    #T_d37816b0_c1e3_11eb_8e85_02420a3936c5row1_col0 {\n",
              "            background-color:  #3b4cc0;\n",
              "            color:  #f1f1f1;\n",
              "        }    #T_d37816b0_c1e3_11eb_8e85_02420a3936c5row1_col1 {\n",
              "            background-color:  #b40426;\n",
              "            color:  #f1f1f1;\n",
              "        }    #T_d37816b0_c1e3_11eb_8e85_02420a3936c5row1_col2 {\n",
              "            background-color:  #3c4ec2;\n",
              "            color:  #f1f1f1;\n",
              "        }    #T_d37816b0_c1e3_11eb_8e85_02420a3936c5row1_col3 {\n",
              "            background-color:  #3b4cc0;\n",
              "            color:  #f1f1f1;\n",
              "        }    #T_d37816b0_c1e3_11eb_8e85_02420a3936c5row2_col0 {\n",
              "            background-color:  #9fbfff;\n",
              "            color:  #000000;\n",
              "        }    #T_d37816b0_c1e3_11eb_8e85_02420a3936c5row2_col1 {\n",
              "            background-color:  #a1c0ff;\n",
              "            color:  #000000;\n",
              "        }    #T_d37816b0_c1e3_11eb_8e85_02420a3936c5row2_col2 {\n",
              "            background-color:  #b40426;\n",
              "            color:  #f1f1f1;\n",
              "        }    #T_d37816b0_c1e3_11eb_8e85_02420a3936c5row2_col3 {\n",
              "            background-color:  #edd2c3;\n",
              "            color:  #000000;\n",
              "        }    #T_d37816b0_c1e3_11eb_8e85_02420a3936c5row3_col0 {\n",
              "            background-color:  #c1d4f4;\n",
              "            color:  #000000;\n",
              "        }    #T_d37816b0_c1e3_11eb_8e85_02420a3936c5row3_col1 {\n",
              "            background-color:  #7295f4;\n",
              "            color:  #000000;\n",
              "        }    #T_d37816b0_c1e3_11eb_8e85_02420a3936c5row3_col2 {\n",
              "            background-color:  #d9dce1;\n",
              "            color:  #000000;\n",
              "        }    #T_d37816b0_c1e3_11eb_8e85_02420a3936c5row3_col3 {\n",
              "            background-color:  #b40426;\n",
              "            color:  #f1f1f1;\n",
              "        }</style><table id=\"T_d37816b0_c1e3_11eb_8e85_02420a3936c5\" ><thead>    <tr>        <th class=\"blank level0\" ></th>        <th class=\"col_heading level0 col0\" >f0</th>        <th class=\"col_heading level0 col1\" >f1</th>        <th class=\"col_heading level0 col2\" >f2</th>        <th class=\"col_heading level0 col3\" >product</th>    </tr></thead><tbody>\n",
              "                <tr>\n",
              "                        <th id=\"T_d37816b0_c1e3_11eb_8e85_02420a3936c5level0_row0\" class=\"row_heading level0 row0\" >f0</th>\n",
              "                        <td id=\"T_d37816b0_c1e3_11eb_8e85_02420a3936c5row0_col0\" class=\"data row0 col0\" >1</td>\n",
              "                        <td id=\"T_d37816b0_c1e3_11eb_8e85_02420a3936c5row0_col1\" class=\"data row0 col1\" >-0.440724</td>\n",
              "                        <td id=\"T_d37816b0_c1e3_11eb_8e85_02420a3936c5row0_col2\" class=\"data row0 col2\" >-0.00320445</td>\n",
              "                        <td id=\"T_d37816b0_c1e3_11eb_8e85_02420a3936c5row0_col3\" class=\"data row0 col3\" >0.143504</td>\n",
              "            </tr>\n",
              "            <tr>\n",
              "                        <th id=\"T_d37816b0_c1e3_11eb_8e85_02420a3936c5level0_row1\" class=\"row_heading level0 row1\" >f1</th>\n",
              "                        <td id=\"T_d37816b0_c1e3_11eb_8e85_02420a3936c5row1_col0\" class=\"data row1 col0\" >-0.440724</td>\n",
              "                        <td id=\"T_d37816b0_c1e3_11eb_8e85_02420a3936c5row1_col1\" class=\"data row1 col1\" >1</td>\n",
              "                        <td id=\"T_d37816b0_c1e3_11eb_8e85_02420a3936c5row1_col2\" class=\"data row1 col2\" >0.00178344</td>\n",
              "                        <td id=\"T_d37816b0_c1e3_11eb_8e85_02420a3936c5row1_col3\" class=\"data row1 col3\" >-0.192338</td>\n",
              "            </tr>\n",
              "            <tr>\n",
              "                        <th id=\"T_d37816b0_c1e3_11eb_8e85_02420a3936c5level0_row2\" class=\"row_heading level0 row2\" >f2</th>\n",
              "                        <td id=\"T_d37816b0_c1e3_11eb_8e85_02420a3936c5row2_col0\" class=\"data row2 col0\" >-0.00320445</td>\n",
              "                        <td id=\"T_d37816b0_c1e3_11eb_8e85_02420a3936c5row2_col1\" class=\"data row2 col1\" >0.00178344</td>\n",
              "                        <td id=\"T_d37816b0_c1e3_11eb_8e85_02420a3936c5row2_col2\" class=\"data row2 col2\" >1</td>\n",
              "                        <td id=\"T_d37816b0_c1e3_11eb_8e85_02420a3936c5row2_col3\" class=\"data row2 col3\" >0.483628</td>\n",
              "            </tr>\n",
              "            <tr>\n",
              "                        <th id=\"T_d37816b0_c1e3_11eb_8e85_02420a3936c5level0_row3\" class=\"row_heading level0 row3\" >product</th>\n",
              "                        <td id=\"T_d37816b0_c1e3_11eb_8e85_02420a3936c5row3_col0\" class=\"data row3 col0\" >0.143504</td>\n",
              "                        <td id=\"T_d37816b0_c1e3_11eb_8e85_02420a3936c5row3_col1\" class=\"data row3 col1\" >-0.192338</td>\n",
              "                        <td id=\"T_d37816b0_c1e3_11eb_8e85_02420a3936c5row3_col2\" class=\"data row3 col2\" >0.483628</td>\n",
              "                        <td id=\"T_d37816b0_c1e3_11eb_8e85_02420a3936c5row3_col3\" class=\"data row3 col3\" >1</td>\n",
              "            </tr>\n",
              "    </tbody></table>"
            ],
            "text/plain": [
              "<pandas.io.formats.style.Styler at 0x7fbc46f46890>"
            ]
          },
          "execution_count": 20,
          "metadata": {},
          "output_type": "execute_result"
        }
      ]
    },
    {
      "cell_type": "markdown",
      "metadata": {
        "id": "yiwrjnxfs7SK"
      },
      "source": [
        "**Регион 1**"
      ]
    },
    {
      "cell_type": "code",
      "metadata": {
        "id": "lyYq76pJs7SK",
        "outputId": "09a58ce6-f4f1-4656-8c21-23012f8de285"
      },
      "source": [
        "corr_matrix(data_1)"
      ],
      "execution_count": null,
      "outputs": [
        {
          "data": {
            "text/html": [
              "<style  type=\"text/css\" >\n",
              "    #T_d37f8490_c1e3_11eb_8e85_02420a3936c5row0_col0 {\n",
              "            background-color:  #b40426;\n",
              "            color:  #f1f1f1;\n",
              "        }    #T_d37f8490_c1e3_11eb_8e85_02420a3936c5row0_col1 {\n",
              "            background-color:  #779af7;\n",
              "            color:  #000000;\n",
              "        }    #T_d37f8490_c1e3_11eb_8e85_02420a3936c5row0_col2 {\n",
              "            background-color:  #3b4cc0;\n",
              "            color:  #f1f1f1;\n",
              "        }    #T_d37f8490_c1e3_11eb_8e85_02420a3936c5row0_col3 {\n",
              "            background-color:  #3b4cc0;\n",
              "            color:  #f1f1f1;\n",
              "        }    #T_d37f8490_c1e3_11eb_8e85_02420a3936c5row1_col0 {\n",
              "            background-color:  #7da0f9;\n",
              "            color:  #000000;\n",
              "        }    #T_d37f8490_c1e3_11eb_8e85_02420a3936c5row1_col1 {\n",
              "            background-color:  #b40426;\n",
              "            color:  #f1f1f1;\n",
              "        }    #T_d37f8490_c1e3_11eb_8e85_02420a3936c5row1_col2 {\n",
              "            background-color:  #3b4cc0;\n",
              "            color:  #f1f1f1;\n",
              "        }    #T_d37f8490_c1e3_11eb_8e85_02420a3936c5row1_col3 {\n",
              "            background-color:  #4055c8;\n",
              "            color:  #f1f1f1;\n",
              "        }    #T_d37f8490_c1e3_11eb_8e85_02420a3936c5row2_col0 {\n",
              "            background-color:  #4358cb;\n",
              "            color:  #f1f1f1;\n",
              "        }    #T_d37f8490_c1e3_11eb_8e85_02420a3936c5row2_col1 {\n",
              "            background-color:  #3c4ec2;\n",
              "            color:  #f1f1f1;\n",
              "        }    #T_d37f8490_c1e3_11eb_8e85_02420a3936c5row2_col2 {\n",
              "            background-color:  #b40426;\n",
              "            color:  #f1f1f1;\n",
              "        }    #T_d37f8490_c1e3_11eb_8e85_02420a3936c5row2_col3 {\n",
              "            background-color:  #b40426;\n",
              "            color:  #f1f1f1;\n",
              "        }    #T_d37f8490_c1e3_11eb_8e85_02420a3936c5row3_col0 {\n",
              "            background-color:  #3b4cc0;\n",
              "            color:  #f1f1f1;\n",
              "        }    #T_d37f8490_c1e3_11eb_8e85_02420a3936c5row3_col1 {\n",
              "            background-color:  #3b4cc0;\n",
              "            color:  #f1f1f1;\n",
              "        }    #T_d37f8490_c1e3_11eb_8e85_02420a3936c5row3_col2 {\n",
              "            background-color:  #b40426;\n",
              "            color:  #f1f1f1;\n",
              "        }    #T_d37f8490_c1e3_11eb_8e85_02420a3936c5row3_col3 {\n",
              "            background-color:  #b40426;\n",
              "            color:  #f1f1f1;\n",
              "        }</style><table id=\"T_d37f8490_c1e3_11eb_8e85_02420a3936c5\" ><thead>    <tr>        <th class=\"blank level0\" ></th>        <th class=\"col_heading level0 col0\" >f0</th>        <th class=\"col_heading level0 col1\" >f1</th>        <th class=\"col_heading level0 col2\" >f2</th>        <th class=\"col_heading level0 col3\" >product</th>    </tr></thead><tbody>\n",
              "                <tr>\n",
              "                        <th id=\"T_d37f8490_c1e3_11eb_8e85_02420a3936c5level0_row0\" class=\"row_heading level0 row0\" >f0</th>\n",
              "                        <td id=\"T_d37f8490_c1e3_11eb_8e85_02420a3936c5row0_col0\" class=\"data row0 col0\" >1</td>\n",
              "                        <td id=\"T_d37f8490_c1e3_11eb_8e85_02420a3936c5row0_col1\" class=\"data row0 col1\" >0.182263</td>\n",
              "                        <td id=\"T_d37f8490_c1e3_11eb_8e85_02420a3936c5row0_col2\" class=\"data row0 col2\" >-0.00182071</td>\n",
              "                        <td id=\"T_d37f8490_c1e3_11eb_8e85_02420a3936c5row0_col3\" class=\"data row0 col3\" >-0.0305337</td>\n",
              "            </tr>\n",
              "            <tr>\n",
              "                        <th id=\"T_d37f8490_c1e3_11eb_8e85_02420a3936c5level0_row1\" class=\"row_heading level0 row1\" >f1</th>\n",
              "                        <td id=\"T_d37f8490_c1e3_11eb_8e85_02420a3936c5row1_col0\" class=\"data row1 col0\" >0.182263</td>\n",
              "                        <td id=\"T_d37f8490_c1e3_11eb_8e85_02420a3936c5row1_col1\" class=\"data row1 col1\" >1</td>\n",
              "                        <td id=\"T_d37f8490_c1e3_11eb_8e85_02420a3936c5row1_col2\" class=\"data row1 col2\" >-0.00260831</td>\n",
              "                        <td id=\"T_d37f8490_c1e3_11eb_8e85_02420a3936c5row1_col3\" class=\"data row1 col3\" >-0.0101672</td>\n",
              "            </tr>\n",
              "            <tr>\n",
              "                        <th id=\"T_d37f8490_c1e3_11eb_8e85_02420a3936c5level0_row2\" class=\"row_heading level0 row2\" >f2</th>\n",
              "                        <td id=\"T_d37f8490_c1e3_11eb_8e85_02420a3936c5row2_col0\" class=\"data row2 col0\" >-0.00182071</td>\n",
              "                        <td id=\"T_d37f8490_c1e3_11eb_8e85_02420a3936c5row2_col1\" class=\"data row2 col1\" >-0.00260831</td>\n",
              "                        <td id=\"T_d37f8490_c1e3_11eb_8e85_02420a3936c5row2_col2\" class=\"data row2 col2\" >1</td>\n",
              "                        <td id=\"T_d37f8490_c1e3_11eb_8e85_02420a3936c5row2_col3\" class=\"data row2 col3\" >0.999397</td>\n",
              "            </tr>\n",
              "            <tr>\n",
              "                        <th id=\"T_d37f8490_c1e3_11eb_8e85_02420a3936c5level0_row3\" class=\"row_heading level0 row3\" >product</th>\n",
              "                        <td id=\"T_d37f8490_c1e3_11eb_8e85_02420a3936c5row3_col0\" class=\"data row3 col0\" >-0.0305337</td>\n",
              "                        <td id=\"T_d37f8490_c1e3_11eb_8e85_02420a3936c5row3_col1\" class=\"data row3 col1\" >-0.0101672</td>\n",
              "                        <td id=\"T_d37f8490_c1e3_11eb_8e85_02420a3936c5row3_col2\" class=\"data row3 col2\" >0.999397</td>\n",
              "                        <td id=\"T_d37f8490_c1e3_11eb_8e85_02420a3936c5row3_col3\" class=\"data row3 col3\" >1</td>\n",
              "            </tr>\n",
              "    </tbody></table>"
            ],
            "text/plain": [
              "<pandas.io.formats.style.Styler at 0x7fbc1adfc3d0>"
            ]
          },
          "execution_count": 21,
          "metadata": {},
          "output_type": "execute_result"
        }
      ]
    },
    {
      "cell_type": "markdown",
      "metadata": {
        "id": "Uk8hXG4As7SK"
      },
      "source": [
        "**Регион 2**"
      ]
    },
    {
      "cell_type": "code",
      "metadata": {
        "id": "oG_uTIP7s7SK",
        "outputId": "de0efaa4-04c0-4b41-9910-3766adaee180"
      },
      "source": [
        "corr_matrix(data_2)"
      ],
      "execution_count": null,
      "outputs": [
        {
          "data": {
            "text/html": [
              "<style  type=\"text/css\" >\n",
              "    #T_d3841e74_c1e3_11eb_8e85_02420a3936c5row0_col0 {\n",
              "            background-color:  #b40426;\n",
              "            color:  #f1f1f1;\n",
              "        }    #T_d3841e74_c1e3_11eb_8e85_02420a3936c5row0_col1 {\n",
              "            background-color:  #3b4cc0;\n",
              "            color:  #f1f1f1;\n",
              "        }    #T_d3841e74_c1e3_11eb_8e85_02420a3936c5row0_col2 {\n",
              "            background-color:  #3b4cc0;\n",
              "            color:  #f1f1f1;\n",
              "        }    #T_d3841e74_c1e3_11eb_8e85_02420a3936c5row0_col3 {\n",
              "            background-color:  #3b4cc0;\n",
              "            color:  #f1f1f1;\n",
              "        }    #T_d3841e74_c1e3_11eb_8e85_02420a3936c5row1_col0 {\n",
              "            background-color:  #3b4cc0;\n",
              "            color:  #f1f1f1;\n",
              "        }    #T_d3841e74_c1e3_11eb_8e85_02420a3936c5row1_col1 {\n",
              "            background-color:  #b40426;\n",
              "            color:  #f1f1f1;\n",
              "        }    #T_d3841e74_c1e3_11eb_8e85_02420a3936c5row1_col2 {\n",
              "            background-color:  #3b4cc0;\n",
              "            color:  #f1f1f1;\n",
              "        }    #T_d3841e74_c1e3_11eb_8e85_02420a3936c5row1_col3 {\n",
              "            background-color:  #3b4cc0;\n",
              "            color:  #f1f1f1;\n",
              "        }    #T_d3841e74_c1e3_11eb_8e85_02420a3936c5row2_col0 {\n",
              "            background-color:  #3b4cc0;\n",
              "            color:  #f1f1f1;\n",
              "        }    #T_d3841e74_c1e3_11eb_8e85_02420a3936c5row2_col1 {\n",
              "            background-color:  #3b4cc0;\n",
              "            color:  #f1f1f1;\n",
              "        }    #T_d3841e74_c1e3_11eb_8e85_02420a3936c5row2_col2 {\n",
              "            background-color:  #b40426;\n",
              "            color:  #f1f1f1;\n",
              "        }    #T_d3841e74_c1e3_11eb_8e85_02420a3936c5row2_col3 {\n",
              "            background-color:  #cedaeb;\n",
              "            color:  #000000;\n",
              "        }    #T_d3841e74_c1e3_11eb_8e85_02420a3936c5row3_col0 {\n",
              "            background-color:  #3b4cc0;\n",
              "            color:  #f1f1f1;\n",
              "        }    #T_d3841e74_c1e3_11eb_8e85_02420a3936c5row3_col1 {\n",
              "            background-color:  #3b4cc0;\n",
              "            color:  #f1f1f1;\n",
              "        }    #T_d3841e74_c1e3_11eb_8e85_02420a3936c5row3_col2 {\n",
              "            background-color:  #cedaeb;\n",
              "            color:  #000000;\n",
              "        }    #T_d3841e74_c1e3_11eb_8e85_02420a3936c5row3_col3 {\n",
              "            background-color:  #b40426;\n",
              "            color:  #f1f1f1;\n",
              "        }</style><table id=\"T_d3841e74_c1e3_11eb_8e85_02420a3936c5\" ><thead>    <tr>        <th class=\"blank level0\" ></th>        <th class=\"col_heading level0 col0\" >f0</th>        <th class=\"col_heading level0 col1\" >f1</th>        <th class=\"col_heading level0 col2\" >f2</th>        <th class=\"col_heading level0 col3\" >product</th>    </tr></thead><tbody>\n",
              "                <tr>\n",
              "                        <th id=\"T_d3841e74_c1e3_11eb_8e85_02420a3936c5level0_row0\" class=\"row_heading level0 row0\" >f0</th>\n",
              "                        <td id=\"T_d3841e74_c1e3_11eb_8e85_02420a3936c5row0_col0\" class=\"data row0 col0\" >1</td>\n",
              "                        <td id=\"T_d3841e74_c1e3_11eb_8e85_02420a3936c5row0_col1\" class=\"data row0 col1\" >0.000501292</td>\n",
              "                        <td id=\"T_d3841e74_c1e3_11eb_8e85_02420a3936c5row0_col2\" class=\"data row0 col2\" >-0.000454264</td>\n",
              "                        <td id=\"T_d3841e74_c1e3_11eb_8e85_02420a3936c5row0_col3\" class=\"data row0 col3\" >-0.00197353</td>\n",
              "            </tr>\n",
              "            <tr>\n",
              "                        <th id=\"T_d3841e74_c1e3_11eb_8e85_02420a3936c5level0_row1\" class=\"row_heading level0 row1\" >f1</th>\n",
              "                        <td id=\"T_d3841e74_c1e3_11eb_8e85_02420a3936c5row1_col0\" class=\"data row1 col0\" >0.000501292</td>\n",
              "                        <td id=\"T_d3841e74_c1e3_11eb_8e85_02420a3936c5row1_col1\" class=\"data row1 col1\" >1</td>\n",
              "                        <td id=\"T_d3841e74_c1e3_11eb_8e85_02420a3936c5row1_col2\" class=\"data row1 col2\" >0.00076296</td>\n",
              "                        <td id=\"T_d3841e74_c1e3_11eb_8e85_02420a3936c5row1_col3\" class=\"data row1 col3\" >-0.00104555</td>\n",
              "            </tr>\n",
              "            <tr>\n",
              "                        <th id=\"T_d3841e74_c1e3_11eb_8e85_02420a3936c5level0_row2\" class=\"row_heading level0 row2\" >f2</th>\n",
              "                        <td id=\"T_d3841e74_c1e3_11eb_8e85_02420a3936c5row2_col0\" class=\"data row2 col0\" >-0.000454264</td>\n",
              "                        <td id=\"T_d3841e74_c1e3_11eb_8e85_02420a3936c5row2_col1\" class=\"data row2 col1\" >0.00076296</td>\n",
              "                        <td id=\"T_d3841e74_c1e3_11eb_8e85_02420a3936c5row2_col2\" class=\"data row2 col2\" >1</td>\n",
              "                        <td id=\"T_d3841e74_c1e3_11eb_8e85_02420a3936c5row2_col3\" class=\"data row2 col3\" >0.445873</td>\n",
              "            </tr>\n",
              "            <tr>\n",
              "                        <th id=\"T_d3841e74_c1e3_11eb_8e85_02420a3936c5level0_row3\" class=\"row_heading level0 row3\" >product</th>\n",
              "                        <td id=\"T_d3841e74_c1e3_11eb_8e85_02420a3936c5row3_col0\" class=\"data row3 col0\" >-0.00197353</td>\n",
              "                        <td id=\"T_d3841e74_c1e3_11eb_8e85_02420a3936c5row3_col1\" class=\"data row3 col1\" >-0.00104555</td>\n",
              "                        <td id=\"T_d3841e74_c1e3_11eb_8e85_02420a3936c5row3_col2\" class=\"data row3 col2\" >0.445873</td>\n",
              "                        <td id=\"T_d3841e74_c1e3_11eb_8e85_02420a3936c5row3_col3\" class=\"data row3 col3\" >1</td>\n",
              "            </tr>\n",
              "    </tbody></table>"
            ],
            "text/plain": [
              "<pandas.io.formats.style.Styler at 0x7fbc23f675d0>"
            ]
          },
          "execution_count": 22,
          "metadata": {},
          "output_type": "execute_result"
        }
      ]
    },
    {
      "cell_type": "markdown",
      "metadata": {
        "id": "ngrNDJiWs7SL"
      },
      "source": [
        "По корреляционной матрице региона 1 мы видим наличие корреляции между признаком f2 и целевым признаком product.\n",
        "В остальных двух коэффициент корреляции между этими признаками ниже, до явной линейной зависимости не дотягивает. \n",
        "Посмотрим, как этот показатель скажется на обучении модели."
      ]
    },
    {
      "cell_type": "markdown",
      "metadata": {
        "id": "CF-4RYyns7SL"
      },
      "source": [
        "### Разделение на тренировочную и валидационную выборки"
      ]
    },
    {
      "cell_type": "markdown",
      "metadata": {
        "id": "z4PJ63DCs7SL"
      },
      "source": [
        "Целевой признак - product. Остальные запишем во features (все, кроме id, он никак не поможет обучению)"
      ]
    },
    {
      "cell_type": "code",
      "metadata": {
        "id": "AIJSb37Gs7SM"
      },
      "source": [
        "# регион 0\n",
        "features_0 = data_0.drop(['product','id'], axis=1)\n",
        "target_0 = data_0['product']\n",
        "\n",
        "# регион 1\n",
        "features_1 = data_1.drop(['product','id'], axis=1)\n",
        "target_1 = data_1['product']\n",
        "\n",
        "# регион 2\n",
        "features_2 = data_2.drop(['product','id'], axis=1)\n",
        "target_2 = data_2['product']"
      ],
      "execution_count": null,
      "outputs": []
    },
    {
      "cell_type": "code",
      "metadata": {
        "id": "huKeVxzTs7SM"
      },
      "source": [
        "# регион 0\n",
        "features_train_0, features_valid_0, target_train_0, target_valid_0 = train_test_split(\n",
        "    features_0, target_0, test_size=0.25, random_state=12345)\n",
        "\n",
        "# регион 1\n",
        "features_train_1, features_valid_1, target_train_1, target_valid_1 = train_test_split(\n",
        "    features_1, target_1, test_size=0.25, random_state=12345)\n",
        "\n",
        "# регион 2\n",
        "features_train_2, features_valid_2, target_train_2, target_valid_2 = train_test_split(\n",
        "    features_2, target_2, test_size=0.25, random_state=12345)"
      ],
      "execution_count": null,
      "outputs": []
    },
    {
      "cell_type": "markdown",
      "metadata": {
        "id": "BVQXAqCJs7SM"
      },
      "source": [
        "### Масштабирование признаков"
      ]
    },
    {
      "cell_type": "code",
      "metadata": {
        "id": "vlpu6Jc6s7SN"
      },
      "source": [
        "# регион 0\n",
        "scaler_0 = StandardScaler()\n",
        "scaler_0.fit(features_train_0)\n",
        "features_train_0 = scaler_0.transform(features_train_0)\n",
        "features_valid_0 = scaler_0.transform(features_valid_0)\n",
        "\n",
        "# регион 1\n",
        "scaler_1 = StandardScaler()\n",
        "scaler_1.fit(features_train_1)\n",
        "features_train_1 = scaler_1.transform(features_train_1)\n",
        "features_valid_1 = scaler_1.transform(features_valid_1)\n",
        "\n",
        "# регион 2\n",
        "scaler_2 = StandardScaler()\n",
        "scaler_2.fit(features_train_2)\n",
        "features_train_2 = scaler_2.transform(features_train_2)\n",
        "features_valid_2 = scaler_2.transform(features_valid_2)"
      ],
      "execution_count": null,
      "outputs": []
    },
    {
      "cell_type": "markdown",
      "metadata": {
        "id": "3XG9YKmTs7SN"
      },
      "source": [
        "## Обучение и проверка моделей"
      ]
    },
    {
      "cell_type": "code",
      "metadata": {
        "id": "_0aK9iKTs7SN",
        "outputId": "a19d8ae9-44fe-4575-f4e6-bbeb53606b63"
      },
      "source": [
        "model_0 = LinearRegression()\n",
        "model_0.fit(features_train_0, target_train_0) \n",
        "\n",
        "predictions_valid_0 = model_0.predict(features_valid_0)\n",
        "product_predict_mean_0 = predictions_valid_0.mean()\n",
        "\n",
        "rmse_0 = sqrt(mean_squared_error(target_valid_0, predictions_valid_0))\n",
        "\n",
        "print('Регион 0')\n",
        "print('product_predict_mean:', product_predict_mean_0)\n",
        "print('rmse:', rmse_0)"
      ],
      "execution_count": null,
      "outputs": [
        {
          "name": "stdout",
          "output_type": "stream",
          "text": [
            "Регион 0\n",
            "product_predict_mean: 92.42384109947358\n",
            "rmse: 37.716904960382735\n"
          ]
        }
      ]
    },
    {
      "cell_type": "code",
      "metadata": {
        "id": "qsqabK3Os7SO",
        "outputId": "b748d961-8996-4206-f572-15bd9cb028be"
      },
      "source": [
        "model_1 = LinearRegression()\n",
        "model_1.fit(features_train_1, target_train_1) \n",
        "\n",
        "predictions_valid_1 = model_1.predict(features_valid_1)\n",
        "product_predict_mean_1 = predictions_valid_1.mean()\n",
        "\n",
        "rmse_1 = sqrt(mean_squared_error(target_valid_1, predictions_valid_1))\n",
        "\n",
        "print('Регион 1')\n",
        "print('product_predict_mean:', product_predict_mean_1)\n",
        "print('rmse:', rmse_1)"
      ],
      "execution_count": null,
      "outputs": [
        {
          "name": "stdout",
          "output_type": "stream",
          "text": [
            "Регион 1\n",
            "product_predict_mean: 68.98311857983121\n",
            "rmse: 0.8914901390348529\n"
          ]
        }
      ]
    },
    {
      "cell_type": "code",
      "metadata": {
        "id": "qe5VnOhEs7SO",
        "outputId": "e7fff8ca-6a87-4678-a7ae-e5c78c6d261e"
      },
      "source": [
        "model_2 = LinearRegression()\n",
        "model_2.fit(features_train_2, target_train_2) \n",
        "\n",
        "predictions_valid_2 = model_2.predict(features_valid_2)\n",
        "product_predict_mean_2 = predictions_valid_2.mean()\n",
        "\n",
        "rmse_2 = sqrt(mean_squared_error(target_valid_2, predictions_valid_2))\n",
        "\n",
        "print('Регион 2')\n",
        "print('product_predict_mean:', product_predict_mean_2)\n",
        "print('rmse:', rmse_2)"
      ],
      "execution_count": null,
      "outputs": [
        {
          "name": "stdout",
          "output_type": "stream",
          "text": [
            "Регион 2\n",
            "product_predict_mean: 95.11622302076478\n",
            "rmse: 39.975543264382345\n"
          ]
        }
      ]
    },
    {
      "cell_type": "markdown",
      "metadata": {
        "id": "OtTAYyjfs7SP"
      },
      "source": [
        "Вот тут мы и видим, как повели себя коррелирующие признаки - точность model_1 в разы выше точности моделей для других регионов."
      ]
    },
    {
      "cell_type": "markdown",
      "metadata": {
        "id": "gJcLflSas7SP"
      },
      "source": [
        "## Подготовка к расчёту прибыли"
      ]
    },
    {
      "cell_type": "markdown",
      "metadata": {
        "id": "j2AzE1oWs7SQ"
      },
      "source": [
        "Приведем фактические и предсказанные данные в удобный для дальнейших рассчетов вид. predictions по сути список, соответствующий списку target, поэтому отбросим индексы target, чтобы серии были совместимы."
      ]
    },
    {
      "cell_type": "code",
      "metadata": {
        "id": "cSN_7rIBs7SQ"
      },
      "source": [
        "predictions_valid_0 = pd.Series(predictions_valid_0)\n",
        "predictions_valid_1 = pd.Series(predictions_valid_1)\n",
        "predictions_valid_2 = pd.Series(predictions_valid_2)\n",
        "target_valid_0 = target_valid_0.reset_index(drop=True)\n",
        "target_valid_1 = target_valid_1.reset_index(drop=True)\n",
        "target_valid_2 = target_valid_2.reset_index(drop=True)"
      ],
      "execution_count": null,
      "outputs": []
    },
    {
      "cell_type": "markdown",
      "metadata": {
        "id": "nGvmdWVIs7SQ"
      },
      "source": [
        "Введём переменные по условию задачи"
      ]
    },
    {
      "cell_type": "code",
      "metadata": {
        "id": "ESTqj0ILs7SQ"
      },
      "source": [
        "BUDGET = 10000000000 # рублей\n",
        "BARELL_COST = 450*1000 # рублей за 1000 баррелей\n",
        "OIL_DRILLING_COST = BUDGET/200 # так как в каждом регионе выбираем 200 точек, делаем вывод, \n",
        "                               # что на одну точку можем потратить 1/200 часть бюджета"
      ],
      "execution_count": null,
      "outputs": []
    },
    {
      "cell_type": "markdown",
      "metadata": {
        "id": "a9k_sFCms7SQ"
      },
      "source": [
        "Рассчитаем потенциальную прибыль по всем точкам в регионах"
      ]
    },
    {
      "cell_type": "code",
      "metadata": {
        "id": "PSJr5Jx-s7SR"
      },
      "source": [
        "potential_income_0 = target_valid_0*BARELL_COST\n",
        "potential_predict_income_0 = predictions_valid_0*BARELL_COST\n",
        "\n",
        "potential_income_1 = target_valid_1*BARELL_COST\n",
        "potential_predict_income_1 = predictions_valid_1*BARELL_COST\n",
        "\n",
        "potential_income_2 = target_valid_2*BARELL_COST\n",
        "potential_predict_income_2 = predictions_valid_2*BARELL_COST"
      ],
      "execution_count": null,
      "outputs": []
    },
    {
      "cell_type": "markdown",
      "metadata": {
        "id": "xP3rBqe-s7SR"
      },
      "source": [
        "Сравним среднюю потенциальную прибыль в каждом регионе с затратами на одну точку."
      ]
    },
    {
      "cell_type": "code",
      "metadata": {
        "id": "Zv8XJuYhs7SR",
        "outputId": "0c591dd5-3250-49d2-8712-57eb00d12c08"
      },
      "source": [
        "potential_income_mean = {\n",
        "    'finance_in_million_rubles': ['potential income', \n",
        "                            'potential predict income', \n",
        "                            'oil drilling cost'],\n",
        "    'region_0': [potential_income_0.mean()/1000000, \n",
        "                 potential_predict_income_0.mean()/1000000, \n",
        "                 OIL_DRILLING_COST/1000000],\n",
        "    'region_1': [potential_income_1.mean()/1000000, \n",
        "                 potential_predict_income_1.mean()/1000000, \n",
        "                 OIL_DRILLING_COST/1000000],\n",
        "    'region_2': [potential_income_2.mean()/1000000, \n",
        "                 potential_predict_income_2.mean()/1000000, \n",
        "                 OIL_DRILLING_COST/1000000],\n",
        "}\n",
        "potential_income_mean_data = pd.DataFrame(potential_income_mean).set_index('finance_in_million_rubles')\n",
        "potential_income_mean_data "
      ],
      "execution_count": null,
      "outputs": [
        {
          "data": {
            "text/html": [
              "<div>\n",
              "<style scoped>\n",
              "    .dataframe tbody tr th:only-of-type {\n",
              "        vertical-align: middle;\n",
              "    }\n",
              "\n",
              "    .dataframe tbody tr th {\n",
              "        vertical-align: top;\n",
              "    }\n",
              "\n",
              "    .dataframe thead th {\n",
              "        text-align: right;\n",
              "    }\n",
              "</style>\n",
              "<table border=\"1\" class=\"dataframe\">\n",
              "  <thead>\n",
              "    <tr style=\"text-align: right;\">\n",
              "      <th></th>\n",
              "      <th>region_0</th>\n",
              "      <th>region_1</th>\n",
              "      <th>region_2</th>\n",
              "    </tr>\n",
              "    <tr>\n",
              "      <th>finance_in_million_rubles</th>\n",
              "      <th></th>\n",
              "      <th></th>\n",
              "      <th></th>\n",
              "    </tr>\n",
              "  </thead>\n",
              "  <tbody>\n",
              "    <tr>\n",
              "      <td>potential income</td>\n",
              "      <td>41.577070</td>\n",
              "      <td>31.041168</td>\n",
              "      <td>42.546518</td>\n",
              "    </tr>\n",
              "    <tr>\n",
              "      <td>potential predict income</td>\n",
              "      <td>41.590728</td>\n",
              "      <td>31.042403</td>\n",
              "      <td>42.802300</td>\n",
              "    </tr>\n",
              "    <tr>\n",
              "      <td>oil drilling cost</td>\n",
              "      <td>50.000000</td>\n",
              "      <td>50.000000</td>\n",
              "      <td>50.000000</td>\n",
              "    </tr>\n",
              "  </tbody>\n",
              "</table>\n",
              "</div>"
            ],
            "text/plain": [
              "                            region_0   region_1   region_2\n",
              "finance_in_million_rubles                                 \n",
              "potential income           41.577070  31.041168  42.546518\n",
              "potential predict income   41.590728  31.042403  42.802300\n",
              "oil drilling cost          50.000000  50.000000  50.000000"
            ]
          },
          "execution_count": 32,
          "metadata": {},
          "output_type": "execute_result"
        }
      ]
    },
    {
      "cell_type": "markdown",
      "metadata": {
        "id": "KD4kGvbVs7SS"
      },
      "source": [
        "Затраты на одну точку очевино превышают среднюю прибыль от одной точки. Придётся выбирать тщательно.\n",
        "\n",
        "Посчитаем количество убыточных точек в каждом регионе по факту и по предсказаниям."
      ]
    },
    {
      "cell_type": "code",
      "metadata": {
        "id": "lkNEMAXas7SS"
      },
      "source": [
        "unprofitable_0 = (potential_income_0 <= OIL_DRILLING_COST)*1\n",
        "unprofitable_predict_0 = (potential_predict_income_0 <= OIL_DRILLING_COST)*1\n",
        "\n",
        "unprofitable_1 = (potential_income_1 <= OIL_DRILLING_COST)*1\n",
        "unprofitable_predict_1 = (potential_predict_income_1 <= OIL_DRILLING_COST)*1\n",
        "\n",
        "unprofitable_2 = (potential_income_2 <= OIL_DRILLING_COST)*1\n",
        "unprofitable_predict_2 = (potential_predict_income_2 <= OIL_DRILLING_COST)*1"
      ],
      "execution_count": null,
      "outputs": []
    },
    {
      "cell_type": "code",
      "metadata": {
        "id": "L-7IILJWs7SS",
        "outputId": "a1a6b673-ebb4-4356-9d2f-4f8ffd26177b"
      },
      "source": [
        "potential_unprofitable = {\n",
        "    'unprofitable': ['potential unprofitable', 'potential unprofitable predict'],\n",
        "    'region_0': [unprofitable_0.sum(), unprofitable_predict_0.sum()],\n",
        "    'region_1': [unprofitable_1.sum(), unprofitable_predict_1.sum()],\n",
        "    'region_2': [unprofitable_2.sum(), unprofitable_predict_2.sum()],\n",
        "}\n",
        "potential_unprofitable_data = pd.DataFrame(potential_unprofitable).set_index('unprofitable')\n",
        "potential_unprofitable_data"
      ],
      "execution_count": null,
      "outputs": [
        {
          "data": {
            "text/html": [
              "<div>\n",
              "<style scoped>\n",
              "    .dataframe tbody tr th:only-of-type {\n",
              "        vertical-align: middle;\n",
              "    }\n",
              "\n",
              "    .dataframe tbody tr th {\n",
              "        vertical-align: top;\n",
              "    }\n",
              "\n",
              "    .dataframe thead th {\n",
              "        text-align: right;\n",
              "    }\n",
              "</style>\n",
              "<table border=\"1\" class=\"dataframe\">\n",
              "  <thead>\n",
              "    <tr style=\"text-align: right;\">\n",
              "      <th></th>\n",
              "      <th>region_0</th>\n",
              "      <th>region_1</th>\n",
              "      <th>region_2</th>\n",
              "    </tr>\n",
              "    <tr>\n",
              "      <th>unprofitable</th>\n",
              "      <th></th>\n",
              "      <th></th>\n",
              "      <th></th>\n",
              "    </tr>\n",
              "  </thead>\n",
              "  <tbody>\n",
              "    <tr>\n",
              "      <td>potential unprofitable</td>\n",
              "      <td>15885</td>\n",
              "      <td>20818</td>\n",
              "      <td>15556</td>\n",
              "    </tr>\n",
              "    <tr>\n",
              "      <td>potential unprofitable predict</td>\n",
              "      <td>19635</td>\n",
              "      <td>20411</td>\n",
              "      <td>19660</td>\n",
              "    </tr>\n",
              "  </tbody>\n",
              "</table>\n",
              "</div>"
            ],
            "text/plain": [
              "                                region_0  region_1  region_2\n",
              "unprofitable                                                \n",
              "potential unprofitable             15885     20818     15556\n",
              "potential unprofitable predict     19635     20411     19660"
            ]
          },
          "execution_count": 34,
          "metadata": {},
          "output_type": "execute_result"
        }
      ]
    },
    {
      "cell_type": "markdown",
      "metadata": {
        "id": "6rOYQs2Js7ST"
      },
      "source": [
        "По 0 и 2 регионам модель предсказывает больше убыточных точек, чем их есть на самом деле. В регионе 1 цифра близка к точной."
      ]
    },
    {
      "cell_type": "code",
      "metadata": {
        "id": "ZqOFX3Sxs7ST",
        "outputId": "b0c414bd-ae57-43e8-9ca5-7cad10dde1fa"
      },
      "source": [
        "potential_profitable = {\n",
        "    'profitable': ['potential profitable', \n",
        "                   'potential profitable_predict'],\n",
        "    'region_0': [len(target_valid_0) - unprofitable_0.sum(), \n",
        "                 len(predictions_valid_0) - unprofitable_predict_0.sum()],\n",
        "    'region_1': [len(target_valid_1) - unprofitable_1.sum(), \n",
        "                 len(predictions_valid_1) - unprofitable_predict_1.sum()],\n",
        "    'region_2': [len(target_valid_2) - unprofitable_2.sum(), \n",
        "                 len(predictions_valid_2) - unprofitable_predict_2.sum()],\n",
        "}\n",
        "potential_profitable_data = pd.DataFrame(potential_profitable).set_index('profitable')\n",
        "potential_profitable_data"
      ],
      "execution_count": null,
      "outputs": [
        {
          "data": {
            "text/html": [
              "<div>\n",
              "<style scoped>\n",
              "    .dataframe tbody tr th:only-of-type {\n",
              "        vertical-align: middle;\n",
              "    }\n",
              "\n",
              "    .dataframe tbody tr th {\n",
              "        vertical-align: top;\n",
              "    }\n",
              "\n",
              "    .dataframe thead th {\n",
              "        text-align: right;\n",
              "    }\n",
              "</style>\n",
              "<table border=\"1\" class=\"dataframe\">\n",
              "  <thead>\n",
              "    <tr style=\"text-align: right;\">\n",
              "      <th></th>\n",
              "      <th>region_0</th>\n",
              "      <th>region_1</th>\n",
              "      <th>region_2</th>\n",
              "    </tr>\n",
              "    <tr>\n",
              "      <th>profitable</th>\n",
              "      <th></th>\n",
              "      <th></th>\n",
              "      <th></th>\n",
              "    </tr>\n",
              "  </thead>\n",
              "  <tbody>\n",
              "    <tr>\n",
              "      <td>potential profitable</td>\n",
              "      <td>9110</td>\n",
              "      <td>4180</td>\n",
              "      <td>9442</td>\n",
              "    </tr>\n",
              "    <tr>\n",
              "      <td>potential profitable_predict</td>\n",
              "      <td>5360</td>\n",
              "      <td>4587</td>\n",
              "      <td>5338</td>\n",
              "    </tr>\n",
              "  </tbody>\n",
              "</table>\n",
              "</div>"
            ],
            "text/plain": [
              "                              region_0  region_1  region_2\n",
              "profitable                                                \n",
              "potential profitable              9110      4180      9442\n",
              "potential profitable_predict      5360      4587      5338"
            ]
          },
          "execution_count": 35,
          "metadata": {},
          "output_type": "execute_result"
        }
      ]
    },
    {
      "cell_type": "markdown",
      "metadata": {
        "id": "rQKRKEaYs7ST"
      },
      "source": [
        "В регионах от 4180 до 9442 прибыльных точек. "
      ]
    },
    {
      "cell_type": "markdown",
      "metadata": {
        "id": "NuKoqFRJs7SU"
      },
      "source": [
        "Посмотрим сколько нефти должно быть в одной точке, чтобы она считалаь прибыльной, и сравним со средними запасами нефти по регионам. "
      ]
    },
    {
      "cell_type": "code",
      "metadata": {
        "id": "pFdKumFNs7SU",
        "outputId": "64047f1b-b1de-4426-bc17-b383c673f277"
      },
      "source": [
        "min_product_for_profit = {\n",
        "    'product': ['product_min_for_profit', 'product_predict_min_for_profit', 'product_mean'],\n",
        "    'region_0': [target_valid_0[unprofitable_0[unprofitable_0 == 0].index].min(), \n",
        "                 predictions_valid_0[unprofitable_predict_0[unprofitable_predict_0 == 0].index].min(), \n",
        "                 target_valid_0.mean()],\n",
        "    'region_1': [target_valid_1[unprofitable_1[unprofitable_1 == 0].index].min(), \n",
        "                 predictions_valid_1[unprofitable_predict_1[unprofitable_predict_1 == 0].index].min(), \n",
        "                 target_valid_1.mean()],\n",
        "    'region_2': [target_valid_2[unprofitable_2[unprofitable_2 == 0].index].min(), \n",
        "                 predictions_valid_2[unprofitable_predict_2[unprofitable_predict_2 == 0].index].min(), \n",
        "                 target_valid_2.mean()],\n",
        "}\n",
        "min_product_for_profit_data = pd.DataFrame(min_product_for_profit).set_index('product')\n",
        "min_product_for_profit_data"
      ],
      "execution_count": null,
      "outputs": [
        {
          "data": {
            "text/html": [
              "<div>\n",
              "<style scoped>\n",
              "    .dataframe tbody tr th:only-of-type {\n",
              "        vertical-align: middle;\n",
              "    }\n",
              "\n",
              "    .dataframe tbody tr th {\n",
              "        vertical-align: top;\n",
              "    }\n",
              "\n",
              "    .dataframe thead th {\n",
              "        text-align: right;\n",
              "    }\n",
              "</style>\n",
              "<table border=\"1\" class=\"dataframe\">\n",
              "  <thead>\n",
              "    <tr style=\"text-align: right;\">\n",
              "      <th></th>\n",
              "      <th>region_0</th>\n",
              "      <th>region_1</th>\n",
              "      <th>region_2</th>\n",
              "    </tr>\n",
              "    <tr>\n",
              "      <th>product</th>\n",
              "      <th></th>\n",
              "      <th></th>\n",
              "      <th></th>\n",
              "    </tr>\n",
              "  </thead>\n",
              "  <tbody>\n",
              "    <tr>\n",
              "      <td>product_min_for_profit</td>\n",
              "      <td>111.127589</td>\n",
              "      <td>134.766305</td>\n",
              "      <td>111.117229</td>\n",
              "    </tr>\n",
              "    <tr>\n",
              "      <td>product_predict_min_for_profit</td>\n",
              "      <td>111.111297</td>\n",
              "      <td>111.111654</td>\n",
              "      <td>111.112366</td>\n",
              "    </tr>\n",
              "    <tr>\n",
              "      <td>product_mean</td>\n",
              "      <td>92.393490</td>\n",
              "      <td>68.980373</td>\n",
              "      <td>94.547818</td>\n",
              "    </tr>\n",
              "  </tbody>\n",
              "</table>\n",
              "</div>"
            ],
            "text/plain": [
              "                                  region_0    region_1    region_2\n",
              "product                                                           \n",
              "product_min_for_profit          111.127589  134.766305  111.117229\n",
              "product_predict_min_for_profit  111.111297  111.111654  111.112366\n",
              "product_mean                     92.393490   68.980373   94.547818"
            ]
          },
          "execution_count": 36,
          "metadata": {},
          "output_type": "execute_result"
        }
      ]
    },
    {
      "cell_type": "markdown",
      "metadata": {
        "id": "bK7pqCBgs7SU"
      },
      "source": [
        "В среднем по всем регионам нефти меньше необходимого."
      ]
    },
    {
      "cell_type": "markdown",
      "metadata": {
        "id": "a35VLh6Xs7SV"
      },
      "source": [
        "Напишем функцию, которая отсортирует по запасу нефти точки в регионе и выберет самые прибыльные."
      ]
    },
    {
      "cell_type": "code",
      "metadata": {
        "id": "h4863fYPs7SV"
      },
      "source": [
        "def sum_income(target, predicted, count):\n",
        "    predicted_sorted = predicted.sort_values(ascending=False)\n",
        "    selected = target[predicted_sorted.index][:count]\n",
        "    selected_sum = selected.sum()\n",
        "    total_potential_income = selected_sum*BARELL_COST - BUDGET\n",
        "    return total_potential_income"
      ],
      "execution_count": null,
      "outputs": []
    },
    {
      "cell_type": "markdown",
      "metadata": {
        "id": "wXp4o3C9s7SV"
      },
      "source": [
        "Посмотрим, какой максимальный доход каждый регион может получить со своих лучших 200 точек."
      ]
    },
    {
      "cell_type": "code",
      "metadata": {
        "id": "Zy8jtMScs7SV",
        "outputId": "8321907b-11b1-43d3-cf8e-84598897c771"
      },
      "source": [
        "total_potential_income_0 = sum_income(target_valid_0, predictions_valid_0, 200)\n",
        "total_potential_income_1 = sum_income(target_valid_1, predictions_valid_1, 200)\n",
        "total_potential_income_2 = sum_income(target_valid_2, predictions_valid_2, 200)\n",
        "\n",
        "print('Общий потенциальный доход в регионе 0:', total_potential_income_0)\n",
        "print('Общий потенциальный доход в регионе 1:', total_potential_income_1)\n",
        "print('Общий потенциальный доход в регионе 2:', total_potential_income_2)"
      ],
      "execution_count": null,
      "outputs": [
        {
          "name": "stdout",
          "output_type": "stream",
          "text": [
            "Общий потенциальный доход в регионе 0: 3136026056.655861\n",
            "Общий потенциальный доход в регионе 1: 2415086696.681511\n",
            "Общий потенциальный доход в регионе 2: 2465945792.012266\n"
          ]
        }
      ]
    },
    {
      "cell_type": "markdown",
      "metadata": {
        "id": "EEhGXaV-s7SW"
      },
      "source": [
        "Самым богатым на запасы является регион 0."
      ]
    },
    {
      "cell_type": "markdown",
      "metadata": {
        "id": "IpFuT2NOs7SW"
      },
      "source": [
        "## Расчёт прибыли и рисков "
      ]
    },
    {
      "cell_type": "markdown",
      "metadata": {
        "id": "9e5FoOmus7SW"
      },
      "source": [
        "Применим технику Bootstrap с 1000 выборок, чтобы найти распределения прибыли в трёх регионах."
      ]
    },
    {
      "cell_type": "code",
      "metadata": {
        "id": "rE3Ytq2gs7SX"
      },
      "source": [
        "STATE = np.random.RandomState(12345)\n",
        "COUNT = 200\n",
        "REITERATIONS = 1000\n",
        "SAMPLE_SIZE = 500\n",
        "\n",
        "def bootstrap(target, predictions, reiterations, sample_size, count):\n",
        "    values = []\n",
        "    for i in range(reiterations):\n",
        "        target_subsample = target.sample(n=sample_size, random_state=STATE, replace=True)\n",
        "        predicted_subsample = predictions[target_subsample.index]\n",
        "        income = sum_income(target_subsample, predicted_subsample, count)\n",
        "        values.append(income)\n",
        "\n",
        "    values = pd.Series(values) \n",
        "    mean = values.mean() \n",
        "    risk = (values<0).mean()*100 \n",
        "    #confidence_interval = st.t.interval(0.95, len(values)-1, loc=values.mean(), scale=values.sem()) \n",
        "    lower = values.quantile(0.025)\n",
        "    upper = values.quantile(0.975)\n",
        "    quantile_confidence_interval = (lower, upper)\n",
        "\n",
        "    return int(mean), quantile_confidence_interval, risk"
      ],
      "execution_count": null,
      "outputs": []
    },
    {
      "cell_type": "code",
      "metadata": {
        "id": "A2cmWg5Ds7SX"
      },
      "source": [
        "mean_0, quantile_confidence_interval_0, risk_0 = bootstrap(target_valid_0, \n",
        "                                                  predictions_valid_0, \n",
        "                                                  REITERATIONS, SAMPLE_SIZE, COUNT)\n",
        "\n",
        "mean_1, quantile_confidence_interval_1, risk_1 = bootstrap(target_valid_1, \n",
        "                                                  predictions_valid_1, \n",
        "                                                  REITERATIONS, SAMPLE_SIZE, COUNT)\n",
        "\n",
        "mean_2, quantile_confidence_interval_2, risk_2 = bootstrap(target_valid_2, \n",
        "                                                  predictions_valid_2, \n",
        "                                                  REITERATIONS, SAMPLE_SIZE, COUNT)"
      ],
      "execution_count": null,
      "outputs": []
    },
    {
      "cell_type": "code",
      "metadata": {
        "id": "xpwKubuEs7SX",
        "outputId": "27085868-5433-40e1-b09d-f7a358bacdde"
      },
      "source": [
        "profit_and_risk = pd.DataFrame({\n",
        "    'profit_and_risk_indicators': ['total_potential_income_mln', 'income_mean_bootstrap_mln', 'confidence_interval', 'risk_in_%'],\n",
        "    'region_0': [int(total_potential_income_0)/1000000, mean_0/1000000, quantile_confidence_interval_0, risk_0],\n",
        "    'region_1': [int(total_potential_income_1)/1000000, mean_1/1000000, quantile_confidence_interval_1, risk_1],\n",
        "    'region_2': [int(total_potential_income_2)/1000000, mean_2/1000000, quantile_confidence_interval_2, risk_2],\n",
        "}).set_index('profit_and_risk_indicators')\n",
        "profit_and_risk"
      ],
      "execution_count": null,
      "outputs": [
        {
          "data": {
            "text/html": [
              "<div>\n",
              "<style scoped>\n",
              "    .dataframe tbody tr th:only-of-type {\n",
              "        vertical-align: middle;\n",
              "    }\n",
              "\n",
              "    .dataframe tbody tr th {\n",
              "        vertical-align: top;\n",
              "    }\n",
              "\n",
              "    .dataframe thead th {\n",
              "        text-align: right;\n",
              "    }\n",
              "</style>\n",
              "<table border=\"1\" class=\"dataframe\">\n",
              "  <thead>\n",
              "    <tr style=\"text-align: right;\">\n",
              "      <th></th>\n",
              "      <th>region_0</th>\n",
              "      <th>region_1</th>\n",
              "      <th>region_2</th>\n",
              "    </tr>\n",
              "    <tr>\n",
              "      <th>profit_and_risk_indicators</th>\n",
              "      <th></th>\n",
              "      <th></th>\n",
              "      <th></th>\n",
              "    </tr>\n",
              "  </thead>\n",
              "  <tbody>\n",
              "    <tr>\n",
              "      <td>total_potential_income_mln</td>\n",
              "      <td>3136.03</td>\n",
              "      <td>2415.09</td>\n",
              "      <td>2465.95</td>\n",
              "    </tr>\n",
              "    <tr>\n",
              "      <td>income_mean_bootstrap_mln</td>\n",
              "      <td>459.086</td>\n",
              "      <td>523.579</td>\n",
              "      <td>341.472</td>\n",
              "    </tr>\n",
              "    <tr>\n",
              "      <td>confidence_interval</td>\n",
              "      <td>(-90234067.10362324, 987953883.1101811)</td>\n",
              "      <td>(133791191.22885112, 961450161.0437706)</td>\n",
              "      <td>(-198355934.11350116, 852708580.7650115)</td>\n",
              "    </tr>\n",
              "    <tr>\n",
              "      <td>risk_in_%</td>\n",
              "      <td>4.7</td>\n",
              "      <td>0.6</td>\n",
              "      <td>11.6</td>\n",
              "    </tr>\n",
              "  </tbody>\n",
              "</table>\n",
              "</div>"
            ],
            "text/plain": [
              "                                                           region_0  \\\n",
              "profit_and_risk_indicators                                            \n",
              "total_potential_income_mln                                  3136.03   \n",
              "income_mean_bootstrap_mln                                   459.086   \n",
              "confidence_interval         (-90234067.10362324, 987953883.1101811)   \n",
              "risk_in_%                                                       4.7   \n",
              "\n",
              "                                                           region_1  \\\n",
              "profit_and_risk_indicators                                            \n",
              "total_potential_income_mln                                  2415.09   \n",
              "income_mean_bootstrap_mln                                   523.579   \n",
              "confidence_interval         (133791191.22885112, 961450161.0437706)   \n",
              "risk_in_%                                                       0.6   \n",
              "\n",
              "                                                            region_2  \n",
              "profit_and_risk_indicators                                            \n",
              "total_potential_income_mln                                   2465.95  \n",
              "income_mean_bootstrap_mln                                    341.472  \n",
              "confidence_interval         (-198355934.11350116, 852708580.7650115)  \n",
              "risk_in_%                                                       11.6  "
            ]
          },
          "execution_count": 41,
          "metadata": {},
          "output_type": "execute_result"
        }
      ]
    },
    {
      "cell_type": "code",
      "metadata": {
        "id": "3_BMMTg4s7SY",
        "outputId": "923c78f1-608f-415e-83f1-ff451f19059f"
      },
      "source": [
        "profit_and_risk[profit_and_risk.index =='total_potential_income_mln'].plot(kind='bar', figsize=(6,5))\n",
        "plt.title('Потенциальная прибыль по предсказаниям модели без бутстрепа')\n",
        "plt.ylabel('млн.руб.')\n",
        "plt.show()\n",
        "profit_and_risk[profit_and_risk.index =='income_mean_bootstrap_mln'].plot(kind='bar', figsize=(6,5))\n",
        "plt.title('Потенциальная средняя прибыль по предсказаниям модели из 1000 выборок бутстрепа')\n",
        "plt.ylabel('млн.руб.')\n",
        "plt.show()\n",
        "profit_and_risk[profit_and_risk.index =='risk_in_%'].plot(kind='bar', figsize=(6,5))\n",
        "plt.title('Вероятность убытков для разных регионов в %')\n",
        "plt.ylabel('%')\n",
        "plt.show()"
      ],
      "execution_count": null,
      "outputs": [
        {
          "data": {
            "image/png": "[encoded data removed]",
            "text/plain": [
              "<Figure size 432x360 with 1 Axes>"
            ]
          },
          "metadata": {
            "needs_background": "light"
          },
          "output_type": "display_data"
        },
        {
          "data": {
            "image/png": "[encoded data removed]",
            "text/plain": [
              "<Figure size 432x360 with 1 Axes>"
            ]
          },
          "metadata": {
            "needs_background": "light"
          },
          "output_type": "display_data"
        },
        {
          "data": {
            "image/png": "[encoded data removed]",
            "text/plain": [
              "<Figure size 432x360 with 1 Axes>"
            ]
          },
          "metadata": {
            "needs_background": "light"
          },
          "output_type": "display_data"
        }
      ]
    },
    {
      "cell_type": "markdown",
      "metadata": {
        "id": "_Mr6pg9os7SY"
      },
      "source": [
        "Без бутстрепа из трех валидационных выборок по потенциальной прибыли побеждал регион 0.\n",
        "Однако, после процедуры изъятия из наших валидационных выборок тысячи подвыборок мы получили распределения потенциальной прибыли по регионам, из которых мы выбираем регион 1. \n",
        "\n",
        "Причины:\n",
        "1. Средняя прибыль в регионе 1 выше, чем в остальных.\n",
        "2. Риск убытков минимален (0.6%), тогда как в двух других регионах он выше заданной границы в 2.5%.\n",
        "3. <div class=\"alert alert-info\">Если мы посмотрим на доверительные интервалы, то увидим, что в регионе 1 95%-й доверительный интервал полностью прибыльный, в отличие от двух других регионов, где мы видим отрицательные нижние границы интервалов. Также разброс вероятных значений прибыли в регионе 0 ниже, чем в остальных двух регионах.</div> \n",
        "\n",
        "Все эти плюсы обеспечены точностью модели. Фактически запасы нефти в регионе 1 меньше, чем у конкурентов. "
      ]
    },
    {
      "cell_type": "markdown",
      "metadata": {
        "id": "9Vt3iZ1hs7Sb"
      },
      "source": [
        "## Вывод"
      ]
    },
    {
      "cell_type": "markdown",
      "metadata": {
        "id": "Q2Phw76as7Sb"
      },
      "source": [
        "После проведённого исследования для разработки нами был предложен Регион 1, так как для него удалось наиболее точно предсказать прибыльные скважины с наименьшим риском убытков и разбросом потенциальной прибыли от 200 точек. "
      ]
    },
    {
      "cell_type": "markdown",
      "metadata": {
        "id": "6Af7VFiFs7Sb"
      },
      "source": [
        ""
      ]
    }
  ]
}