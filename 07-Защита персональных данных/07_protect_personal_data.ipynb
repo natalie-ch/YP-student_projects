{
  "nbformat": 4,
  "nbformat_minor": 0,
  "metadata": {
    "ExecuteTimeLog": [
      {
        "duration": 759,
        "start_time": "2021-06-17T22:13:07.936Z"
      },
      {
        "duration": 64,
        "start_time": "2021-06-17T22:13:08.697Z"
      },
      {
        "duration": 22,
        "start_time": "2021-06-17T22:13:21.037Z"
      },
      {
        "duration": 10,
        "start_time": "2021-06-17T22:13:35.812Z"
      },
      {
        "duration": 338,
        "start_time": "2021-06-18T09:21:33.296Z"
      },
      {
        "duration": 731,
        "start_time": "2021-06-18T09:21:37.772Z"
      },
      {
        "duration": 20,
        "start_time": "2021-06-18T09:21:38.964Z"
      },
      {
        "duration": 21,
        "start_time": "2021-06-18T09:21:39.490Z"
      },
      {
        "duration": 9,
        "start_time": "2021-06-18T09:21:40.050Z"
      },
      {
        "duration": 6,
        "start_time": "2021-06-18T09:21:42.712Z"
      },
      {
        "duration": 11,
        "start_time": "2021-06-18T09:25:04.154Z"
      },
      {
        "duration": 9,
        "start_time": "2021-06-18T09:26:08.347Z"
      },
      {
        "duration": 679,
        "start_time": "2021-06-18T09:26:33.434Z"
      },
      {
        "duration": 20,
        "start_time": "2021-06-18T09:26:34.116Z"
      },
      {
        "duration": 21,
        "start_time": "2021-06-18T09:26:34.142Z"
      },
      {
        "duration": 26,
        "start_time": "2021-06-18T09:26:34.165Z"
      },
      {
        "duration": 11,
        "start_time": "2021-06-18T09:26:34.193Z"
      },
      {
        "duration": 4,
        "start_time": "2021-06-18T09:26:57.361Z"
      },
      {
        "duration": 715,
        "start_time": "2021-06-18T09:28:34.365Z"
      },
      {
        "duration": 21,
        "start_time": "2021-06-18T09:28:35.082Z"
      },
      {
        "duration": 20,
        "start_time": "2021-06-18T09:28:35.107Z"
      },
      {
        "duration": 10,
        "start_time": "2021-06-18T09:28:35.130Z"
      },
      {
        "duration": 96,
        "start_time": "2021-06-18T09:28:35.142Z"
      },
      {
        "duration": 1177,
        "start_time": "2021-06-18T09:28:34.063Z"
      },
      {
        "duration": 18,
        "start_time": "2021-06-18T09:28:51.421Z"
      },
      {
        "duration": 347,
        "start_time": "2021-06-18T09:29:25.756Z"
      },
      {
        "duration": 9,
        "start_time": "2021-06-18T09:29:39.841Z"
      },
      {
        "duration": 9,
        "start_time": "2021-06-18T09:30:35.049Z"
      },
      {
        "duration": 14,
        "start_time": "2021-06-18T09:31:56.338Z"
      },
      {
        "duration": 698,
        "start_time": "2021-06-18T09:32:04.914Z"
      },
      {
        "duration": 20,
        "start_time": "2021-06-18T09:32:05.615Z"
      },
      {
        "duration": 20,
        "start_time": "2021-06-18T09:32:05.639Z"
      },
      {
        "duration": 21,
        "start_time": "2021-06-18T09:32:05.663Z"
      },
      {
        "duration": 14,
        "start_time": "2021-06-18T09:32:05.687Z"
      },
      {
        "duration": 11,
        "start_time": "2021-06-18T09:32:05.703Z"
      },
      {
        "duration": 6,
        "start_time": "2021-06-18T09:32:05.717Z"
      },
      {
        "duration": 6,
        "start_time": "2021-06-18T09:32:33.540Z"
      },
      {
        "duration": 684,
        "start_time": "2021-06-18T09:34:52.823Z"
      },
      {
        "duration": 20,
        "start_time": "2021-06-18T09:34:53.509Z"
      },
      {
        "duration": 20,
        "start_time": "2021-06-18T09:34:53.532Z"
      },
      {
        "duration": 8,
        "start_time": "2021-06-18T09:34:53.555Z"
      },
      {
        "duration": 27,
        "start_time": "2021-06-18T09:34:53.566Z"
      },
      {
        "duration": 7,
        "start_time": "2021-06-18T09:34:53.595Z"
      },
      {
        "duration": 13,
        "start_time": "2021-06-18T09:34:53.605Z"
      },
      {
        "duration": 8,
        "start_time": "2021-06-18T09:35:24.663Z"
      },
      {
        "duration": 11,
        "start_time": "2021-06-18T09:35:39.679Z"
      },
      {
        "duration": 153,
        "start_time": "2021-06-18T09:56:36.700Z"
      },
      {
        "duration": 6715,
        "start_time": "2021-06-18T09:58:13.851Z"
      },
      {
        "duration": 98,
        "start_time": "2021-06-18T09:58:45.058Z"
      },
      {
        "duration": 462,
        "start_time": "2021-06-18T09:58:50.759Z"
      },
      {
        "duration": 163,
        "start_time": "2021-06-18T09:59:12.219Z"
      },
      {
        "duration": 4934,
        "start_time": "2021-06-18T09:59:46.261Z"
      },
      {
        "duration": 158,
        "start_time": "2021-06-18T10:00:04.307Z"
      },
      {
        "duration": 11,
        "start_time": "2021-06-18T10:00:28.144Z"
      },
      {
        "duration": 166,
        "start_time": "2021-06-18T10:00:50.363Z"
      },
      {
        "duration": 15,
        "start_time": "2021-06-18T10:01:34.610Z"
      },
      {
        "duration": 9,
        "start_time": "2021-06-18T10:02:38.317Z"
      },
      {
        "duration": 10,
        "start_time": "2021-06-18T10:02:44.620Z"
      },
      {
        "duration": 87,
        "start_time": "2021-06-18T10:04:18.355Z"
      },
      {
        "duration": 12,
        "start_time": "2021-06-18T10:04:23.424Z"
      },
      {
        "duration": 172,
        "start_time": "2021-06-18T10:05:59.357Z"
      },
      {
        "duration": 170,
        "start_time": "2021-06-18T10:10:18.681Z"
      },
      {
        "duration": 6,
        "start_time": "2021-06-18T10:12:50.974Z"
      },
      {
        "duration": 10,
        "start_time": "2021-06-18T10:12:51.802Z"
      },
      {
        "duration": 7,
        "start_time": "2021-06-18T10:13:04.581Z"
      },
      {
        "duration": 5,
        "start_time": "2021-06-18T10:15:24.104Z"
      },
      {
        "duration": 6,
        "start_time": "2021-06-18T10:16:40.490Z"
      },
      {
        "duration": 3,
        "start_time": "2021-06-18T10:19:33.531Z"
      },
      {
        "duration": 803,
        "start_time": "2021-06-18T10:20:12.002Z"
      },
      {
        "duration": 19,
        "start_time": "2021-06-18T10:20:12.808Z"
      },
      {
        "duration": 16,
        "start_time": "2021-06-18T10:20:12.831Z"
      },
      {
        "duration": 9,
        "start_time": "2021-06-18T10:20:12.850Z"
      },
      {
        "duration": 33,
        "start_time": "2021-06-18T10:20:12.862Z"
      },
      {
        "duration": 10,
        "start_time": "2021-06-18T10:20:12.898Z"
      },
      {
        "duration": 208,
        "start_time": "2021-06-18T10:20:12.910Z"
      },
      {
        "duration": 4,
        "start_time": "2021-06-18T10:20:13.121Z"
      },
      {
        "duration": 16,
        "start_time": "2021-06-18T10:20:13.127Z"
      },
      {
        "duration": 9,
        "start_time": "2021-06-18T10:20:13.145Z"
      },
      {
        "duration": 223,
        "start_time": "2021-06-18T10:20:13.156Z"
      },
      {
        "duration": 9,
        "start_time": "2021-06-18T10:20:24.300Z"
      },
      {
        "duration": 96,
        "start_time": "2021-06-18T10:21:06.734Z"
      },
      {
        "duration": 9,
        "start_time": "2021-06-18T10:21:10.735Z"
      },
      {
        "duration": 665,
        "start_time": "2021-06-18T10:22:47.490Z"
      },
      {
        "duration": 579,
        "start_time": "2021-06-18T10:23:16.269Z"
      },
      {
        "duration": 524,
        "start_time": "2021-06-18T10:23:59.144Z"
      },
      {
        "duration": 8,
        "start_time": "2021-06-18T10:24:53.556Z"
      },
      {
        "duration": 9,
        "start_time": "2021-06-18T10:25:49.507Z"
      },
      {
        "duration": 835,
        "start_time": "2021-06-18T10:29:52.358Z"
      },
      {
        "duration": 19,
        "start_time": "2021-06-18T10:29:53.196Z"
      },
      {
        "duration": 19,
        "start_time": "2021-06-18T10:29:53.218Z"
      },
      {
        "duration": 9,
        "start_time": "2021-06-18T10:29:53.240Z"
      },
      {
        "duration": 38,
        "start_time": "2021-06-18T10:29:53.252Z"
      },
      {
        "duration": 14,
        "start_time": "2021-06-18T10:29:53.292Z"
      },
      {
        "duration": 192,
        "start_time": "2021-06-18T10:29:53.308Z"
      },
      {
        "duration": 5,
        "start_time": "2021-06-18T10:29:53.504Z"
      },
      {
        "duration": 13,
        "start_time": "2021-06-18T10:29:53.511Z"
      },
      {
        "duration": 8,
        "start_time": "2021-06-18T10:29:53.527Z"
      },
      {
        "duration": 15,
        "start_time": "2021-06-18T10:29:53.538Z"
      },
      {
        "duration": 311,
        "start_time": "2021-06-18T10:29:53.556Z"
      },
      {
        "duration": 512,
        "start_time": "2021-06-18T10:29:53.869Z"
      },
      {
        "duration": 9,
        "start_time": "2021-06-18T10:29:54.385Z"
      },
      {
        "duration": 10,
        "start_time": "2021-06-18T10:29:54.397Z"
      },
      {
        "duration": 319,
        "start_time": "2021-06-18T10:33:52.920Z"
      },
      {
        "duration": 342,
        "start_time": "2021-06-18T10:34:35.761Z"
      },
      {
        "duration": 308,
        "start_time": "2021-06-18T10:34:41.497Z"
      },
      {
        "duration": 477,
        "start_time": "2021-06-18T10:34:50.613Z"
      },
      {
        "duration": 421,
        "start_time": "2021-06-18T10:34:56.453Z"
      },
      {
        "duration": 337,
        "start_time": "2021-06-18T10:35:03.641Z"
      },
      {
        "duration": 292,
        "start_time": "2021-06-18T10:35:18.295Z"
      },
      {
        "duration": 494,
        "start_time": "2021-06-18T10:37:47.658Z"
      },
      {
        "duration": 113,
        "start_time": "2021-06-18T12:42:20.313Z"
      },
      {
        "duration": 635,
        "start_time": "2021-06-18T14:59:11.883Z"
      },
      {
        "duration": 5,
        "start_time": "2021-06-18T14:59:38.286Z"
      },
      {
        "duration": 8,
        "start_time": "2021-06-18T14:59:39.542Z"
      },
      {
        "duration": 6,
        "start_time": "2021-06-18T15:05:05.291Z"
      },
      {
        "duration": 6,
        "start_time": "2021-06-18T15:05:17.378Z"
      },
      {
        "duration": 2435,
        "start_time": "2021-06-18T15:05:55.145Z"
      },
      {
        "duration": 8,
        "start_time": "2021-06-18T15:07:26.052Z"
      },
      {
        "duration": 5,
        "start_time": "2021-06-18T15:07:27.484Z"
      },
      {
        "duration": 7,
        "start_time": "2021-06-18T15:07:28.228Z"
      },
      {
        "duration": 7,
        "start_time": "2021-06-18T15:07:49.636Z"
      },
      {
        "duration": 7,
        "start_time": "2021-06-18T15:08:06.694Z"
      },
      {
        "duration": 6,
        "start_time": "2021-06-18T15:08:10.191Z"
      },
      {
        "duration": 6,
        "start_time": "2021-06-18T15:08:11.928Z"
      },
      {
        "duration": 6,
        "start_time": "2021-06-18T15:08:13.919Z"
      },
      {
        "duration": 7,
        "start_time": "2021-06-18T15:11:28.455Z"
      },
      {
        "duration": 285,
        "start_time": "2021-06-18T15:11:34.280Z"
      },
      {
        "duration": 7,
        "start_time": "2021-06-18T15:11:53.093Z"
      },
      {
        "duration": 6,
        "start_time": "2021-06-18T15:11:55.268Z"
      },
      {
        "duration": 6,
        "start_time": "2021-06-18T15:12:12.260Z"
      },
      {
        "duration": 6,
        "start_time": "2021-06-18T15:13:44.337Z"
      },
      {
        "duration": 6,
        "start_time": "2021-06-18T15:14:10.761Z"
      },
      {
        "duration": 7,
        "start_time": "2021-06-18T15:14:28.197Z"
      },
      {
        "duration": 6,
        "start_time": "2021-06-18T15:15:29.016Z"
      },
      {
        "duration": 6,
        "start_time": "2021-06-18T15:31:06.360Z"
      },
      {
        "duration": 819,
        "start_time": "2021-06-18T15:31:07.549Z"
      },
      {
        "duration": 6,
        "start_time": "2021-06-18T15:31:27.113Z"
      },
      {
        "duration": 7,
        "start_time": "2021-06-18T15:31:27.939Z"
      },
      {
        "duration": 7,
        "start_time": "2021-06-18T15:31:32.505Z"
      },
      {
        "duration": 6,
        "start_time": "2021-06-18T15:33:25.060Z"
      },
      {
        "duration": 7,
        "start_time": "2021-06-18T15:33:33.378Z"
      },
      {
        "duration": 5,
        "start_time": "2021-06-18T15:33:41.319Z"
      },
      {
        "duration": 6,
        "start_time": "2021-06-18T15:34:08.336Z"
      },
      {
        "duration": 6,
        "start_time": "2021-06-18T15:34:16.115Z"
      },
      {
        "duration": 6,
        "start_time": "2021-06-18T15:35:14.372Z"
      },
      {
        "duration": 6,
        "start_time": "2021-06-18T15:39:35.596Z"
      },
      {
        "duration": 6,
        "start_time": "2021-06-18T15:39:52.728Z"
      },
      {
        "duration": 6,
        "start_time": "2021-06-18T15:39:54.057Z"
      },
      {
        "duration": 6,
        "start_time": "2021-06-18T15:39:55.209Z"
      },
      {
        "duration": 282,
        "start_time": "2021-06-18T15:41:31.179Z"
      },
      {
        "duration": 7,
        "start_time": "2021-06-18T15:41:51.222Z"
      },
      {
        "duration": 6,
        "start_time": "2021-06-18T15:42:08.640Z"
      },
      {
        "duration": 7,
        "start_time": "2021-06-18T15:43:42.256Z"
      },
      {
        "duration": 793,
        "start_time": "2021-06-18T15:43:42.899Z"
      },
      {
        "duration": 6,
        "start_time": "2021-06-18T15:44:16.364Z"
      },
      {
        "duration": 7,
        "start_time": "2021-06-18T15:44:55.070Z"
      },
      {
        "duration": 7,
        "start_time": "2021-06-18T15:44:55.822Z"
      },
      {
        "duration": 6,
        "start_time": "2021-06-18T15:44:58.589Z"
      },
      {
        "duration": 8,
        "start_time": "2021-06-18T15:45:34.061Z"
      },
      {
        "duration": 7,
        "start_time": "2021-06-18T15:45:34.751Z"
      },
      {
        "duration": 6,
        "start_time": "2021-06-18T15:45:37.194Z"
      },
      {
        "duration": 6,
        "start_time": "2021-06-18T15:45:50.267Z"
      },
      {
        "duration": 6,
        "start_time": "2021-06-18T15:46:08.290Z"
      },
      {
        "duration": 7,
        "start_time": "2021-06-18T15:49:35.137Z"
      },
      {
        "duration": 5,
        "start_time": "2021-06-18T15:49:36.439Z"
      },
      {
        "duration": 6,
        "start_time": "2021-06-18T15:51:59.562Z"
      },
      {
        "duration": 8,
        "start_time": "2021-06-18T15:58:22.671Z"
      },
      {
        "duration": 6,
        "start_time": "2021-06-18T15:58:24.399Z"
      },
      {
        "duration": 6,
        "start_time": "2021-06-18T15:58:48.032Z"
      },
      {
        "duration": 7,
        "start_time": "2021-06-18T16:27:03.363Z"
      },
      {
        "duration": 550,
        "start_time": "2021-06-18T16:27:04.573Z"
      },
      {
        "duration": 7,
        "start_time": "2021-06-18T16:27:21.668Z"
      },
      {
        "duration": 8,
        "start_time": "2021-06-18T16:27:22.359Z"
      },
      {
        "duration": 6,
        "start_time": "2021-06-18T16:27:26.553Z"
      },
      {
        "duration": 7,
        "start_time": "2021-06-18T16:28:07.483Z"
      },
      {
        "duration": 6,
        "start_time": "2021-06-18T16:28:09.652Z"
      },
      {
        "duration": 6,
        "start_time": "2021-06-18T16:28:11.276Z"
      },
      {
        "duration": 13,
        "start_time": "2021-06-18T16:41:00.185Z"
      },
      {
        "duration": 18,
        "start_time": "2021-06-18T16:41:29.750Z"
      },
      {
        "duration": 19,
        "start_time": "2021-06-18T16:41:33.778Z"
      },
      {
        "duration": 5,
        "start_time": "2021-06-18T16:42:03.509Z"
      },
      {
        "duration": 256,
        "start_time": "2021-06-18T16:46:46.303Z"
      },
      {
        "duration": 8,
        "start_time": "2021-06-18T16:46:50.933Z"
      },
      {
        "duration": 7,
        "start_time": "2021-06-18T16:46:51.430Z"
      },
      {
        "duration": 5,
        "start_time": "2021-06-18T16:46:52.775Z"
      },
      {
        "duration": 6,
        "start_time": "2021-06-18T16:46:54.353Z"
      },
      {
        "duration": 6,
        "start_time": "2021-06-18T16:47:25.562Z"
      },
      {
        "duration": 6,
        "start_time": "2021-06-18T16:47:39.096Z"
      },
      {
        "duration": 5,
        "start_time": "2021-06-18T16:49:00.495Z"
      },
      {
        "duration": 86,
        "start_time": "2021-06-18T16:57:26.597Z"
      },
      {
        "duration": 264,
        "start_time": "2021-06-18T17:02:03.212Z"
      },
      {
        "duration": 90,
        "start_time": "2021-06-18T17:05:22.301Z"
      },
      {
        "duration": 5,
        "start_time": "2021-06-18T17:05:28.036Z"
      },
      {
        "duration": 4,
        "start_time": "2021-06-18T17:06:16.466Z"
      },
      {
        "duration": 5,
        "start_time": "2021-06-18T17:07:52.049Z"
      },
      {
        "duration": 1226,
        "start_time": "2021-06-18T17:07:53.435Z"
      },
      {
        "duration": 5,
        "start_time": "2021-06-18T17:08:05.440Z"
      },
      {
        "duration": 9,
        "start_time": "2021-06-18T17:08:06.021Z"
      },
      {
        "duration": 6,
        "start_time": "2021-06-18T17:14:03.094Z"
      },
      {
        "duration": 17,
        "start_time": "2021-06-18T17:14:04.068Z"
      },
      {
        "duration": 6,
        "start_time": "2021-06-18T17:18:50.846Z"
      },
      {
        "duration": 10,
        "start_time": "2021-06-18T17:18:51.961Z"
      },
      {
        "duration": 6,
        "start_time": "2021-06-18T17:20:42.445Z"
      },
      {
        "duration": 592,
        "start_time": "2021-06-18T17:20:42.932Z"
      },
      {
        "duration": 6,
        "start_time": "2021-06-18T17:21:01.763Z"
      },
      {
        "duration": 22,
        "start_time": "2021-06-18T17:21:03.170Z"
      },
      {
        "duration": 13,
        "start_time": "2021-06-18T17:22:22.484Z"
      },
      {
        "duration": 5,
        "start_time": "2021-06-18T17:22:31.846Z"
      },
      {
        "duration": 6,
        "start_time": "2021-06-18T17:22:44.445Z"
      },
      {
        "duration": 7,
        "start_time": "2021-06-18T17:34:37.862Z"
      },
      {
        "duration": 10,
        "start_time": "2021-06-18T17:34:39.781Z"
      },
      {
        "duration": 6,
        "start_time": "2021-06-18T17:34:40.318Z"
      },
      {
        "duration": 5,
        "start_time": "2021-06-18T17:34:40.900Z"
      },
      {
        "duration": 6,
        "start_time": "2021-06-18T17:35:26.511Z"
      },
      {
        "duration": 104,
        "start_time": "2021-06-18T17:35:27.681Z"
      },
      {
        "duration": 6,
        "start_time": "2021-06-18T17:35:28.472Z"
      },
      {
        "duration": 7,
        "start_time": "2021-06-18T17:37:50.818Z"
      },
      {
        "duration": 10,
        "start_time": "2021-06-18T17:37:53.005Z"
      },
      {
        "duration": 6,
        "start_time": "2021-06-18T17:37:54.017Z"
      },
      {
        "duration": 5,
        "start_time": "2021-06-18T17:37:54.914Z"
      },
      {
        "duration": 305,
        "start_time": "2021-06-18T17:41:44.147Z"
      },
      {
        "duration": 6,
        "start_time": "2021-06-18T17:41:49.198Z"
      },
      {
        "duration": 107,
        "start_time": "2021-06-18T17:41:49.684Z"
      },
      {
        "duration": 5,
        "start_time": "2021-06-18T17:41:50.250Z"
      },
      {
        "duration": 5,
        "start_time": "2021-06-18T17:41:50.943Z"
      },
      {
        "duration": 5,
        "start_time": "2021-06-18T17:41:51.623Z"
      },
      {
        "duration": 5,
        "start_time": "2021-06-18T17:41:53.761Z"
      },
      {
        "duration": 10,
        "start_time": "2021-06-18T17:45:05.080Z"
      },
      {
        "duration": 5,
        "start_time": "2021-06-18T17:45:05.876Z"
      },
      {
        "duration": 6,
        "start_time": "2021-06-18T17:45:06.819Z"
      },
      {
        "duration": 5,
        "start_time": "2021-06-18T17:45:07.771Z"
      },
      {
        "duration": 5,
        "start_time": "2021-06-18T17:45:10.246Z"
      },
      {
        "duration": 14,
        "start_time": "2021-06-18T18:02:12.246Z"
      },
      {
        "duration": 15,
        "start_time": "2021-06-18T18:03:10.693Z"
      },
      {
        "duration": 5,
        "start_time": "2021-06-18T18:32:37.940Z"
      },
      {
        "duration": 5,
        "start_time": "2021-06-18T18:32:55.079Z"
      },
      {
        "duration": 5,
        "start_time": "2021-06-18T18:34:35.370Z"
      },
      {
        "duration": 4,
        "start_time": "2021-06-18T18:35:23.342Z"
      },
      {
        "duration": 6,
        "start_time": "2021-06-18T18:36:09.169Z"
      },
      {
        "duration": 267,
        "start_time": "2021-06-18T18:43:02.874Z"
      },
      {
        "duration": 6,
        "start_time": "2021-06-18T18:43:38.607Z"
      },
      {
        "duration": 12,
        "start_time": "2021-06-18T18:43:39.299Z"
      },
      {
        "duration": 12,
        "start_time": "2021-06-18T18:43:40.444Z"
      },
      {
        "duration": 17,
        "start_time": "2021-06-18T18:43:41.443Z"
      },
      {
        "duration": 6,
        "start_time": "2021-06-18T18:43:44.767Z"
      },
      {
        "duration": 6,
        "start_time": "2021-06-18T18:43:48.395Z"
      },
      {
        "duration": 6,
        "start_time": "2021-06-18T18:43:50.135Z"
      },
      {
        "duration": 6,
        "start_time": "2021-06-18T18:44:43.436Z"
      },
      {
        "duration": 7,
        "start_time": "2021-06-18T18:44:47.328Z"
      },
      {
        "duration": 6,
        "start_time": "2021-06-18T18:51:54.183Z"
      },
      {
        "duration": 6,
        "start_time": "2021-06-18T18:51:55.046Z"
      },
      {
        "duration": 15,
        "start_time": "2021-06-18T18:51:56.293Z"
      },
      {
        "duration": 6,
        "start_time": "2021-06-18T18:54:17.448Z"
      },
      {
        "duration": 7,
        "start_time": "2021-06-18T18:54:18.573Z"
      },
      {
        "duration": 16,
        "start_time": "2021-06-18T18:54:19.360Z"
      },
      {
        "duration": 286,
        "start_time": "2021-06-18T19:00:12.762Z"
      },
      {
        "duration": 277,
        "start_time": "2021-06-18T19:00:22.463Z"
      },
      {
        "duration": 281,
        "start_time": "2021-06-18T19:00:34.637Z"
      },
      {
        "duration": 279,
        "start_time": "2021-06-18T19:01:41.751Z"
      },
      {
        "duration": 7,
        "start_time": "2021-06-18T19:02:15.183Z"
      },
      {
        "duration": 7,
        "start_time": "2021-06-18T19:06:16.301Z"
      },
      {
        "duration": 13,
        "start_time": "2021-06-18T19:06:21.436Z"
      },
      {
        "duration": 12,
        "start_time": "2021-06-18T19:06:57.198Z"
      },
      {
        "duration": 8,
        "start_time": "2021-06-18T19:16:22.568Z"
      },
      {
        "duration": 5,
        "start_time": "2021-06-18T19:16:27.475Z"
      },
      {
        "duration": 7,
        "start_time": "2021-06-18T19:16:28.454Z"
      },
      {
        "duration": 7,
        "start_time": "2021-06-18T19:16:29.256Z"
      },
      {
        "duration": 6,
        "start_time": "2021-06-18T19:16:36.390Z"
      },
      {
        "duration": 7,
        "start_time": "2021-06-18T19:16:38.453Z"
      },
      {
        "duration": 8,
        "start_time": "2021-06-18T19:16:56.164Z"
      },
      {
        "duration": 6,
        "start_time": "2021-06-18T19:16:58.131Z"
      },
      {
        "duration": 5,
        "start_time": "2021-06-18T19:19:43.003Z"
      },
      {
        "duration": 10,
        "start_time": "2021-06-18T19:19:43.562Z"
      },
      {
        "duration": 6,
        "start_time": "2021-06-18T19:19:44.408Z"
      },
      {
        "duration": 322,
        "start_time": "2021-06-18T19:28:51.635Z"
      },
      {
        "duration": 7,
        "start_time": "2021-06-18T19:28:59.537Z"
      },
      {
        "duration": 21,
        "start_time": "2021-06-18T19:29:00.070Z"
      },
      {
        "duration": 299,
        "start_time": "2021-06-18T19:31:14.864Z"
      },
      {
        "duration": 263,
        "start_time": "2021-06-18T19:31:28.632Z"
      },
      {
        "duration": 10,
        "start_time": "2021-06-18T19:31:40.243Z"
      },
      {
        "duration": 10,
        "start_time": "2021-06-18T19:31:49.752Z"
      },
      {
        "duration": 12,
        "start_time": "2021-06-18T19:32:01.402Z"
      },
      {
        "duration": 13,
        "start_time": "2021-06-18T19:32:06.058Z"
      },
      {
        "duration": 7,
        "start_time": "2021-06-18T19:35:39.373Z"
      },
      {
        "duration": 8,
        "start_time": "2021-06-18T19:36:12.262Z"
      },
      {
        "duration": 5,
        "start_time": "2021-06-18T19:39:50.078Z"
      },
      {
        "duration": 7,
        "start_time": "2021-06-18T19:41:27.844Z"
      },
      {
        "duration": 6,
        "start_time": "2021-06-18T19:41:29.375Z"
      },
      {
        "duration": 5,
        "start_time": "2021-06-18T19:41:57.763Z"
      },
      {
        "duration": 6,
        "start_time": "2021-06-18T19:41:58.760Z"
      },
      {
        "duration": 6,
        "start_time": "2021-06-18T19:42:01.692Z"
      },
      {
        "duration": 5,
        "start_time": "2021-06-18T19:42:03.670Z"
      },
      {
        "duration": 12,
        "start_time": "2021-06-18T19:46:14.248Z"
      },
      {
        "duration": 1384,
        "start_time": "2021-06-18T20:05:59.803Z"
      },
      {
        "duration": 21,
        "start_time": "2021-06-18T20:06:01.189Z"
      },
      {
        "duration": 24,
        "start_time": "2021-06-18T20:06:01.214Z"
      },
      {
        "duration": 9,
        "start_time": "2021-06-18T20:06:01.241Z"
      },
      {
        "duration": 58,
        "start_time": "2021-06-18T20:06:01.253Z"
      },
      {
        "duration": 17,
        "start_time": "2021-06-18T20:06:01.314Z"
      },
      {
        "duration": 193,
        "start_time": "2021-06-18T20:06:01.334Z"
      },
      {
        "duration": 4,
        "start_time": "2021-06-18T20:06:01.529Z"
      },
      {
        "duration": 20,
        "start_time": "2021-06-18T20:06:01.538Z"
      },
      {
        "duration": 20,
        "start_time": "2021-06-18T20:06:01.562Z"
      },
      {
        "duration": 22,
        "start_time": "2021-06-18T20:06:01.584Z"
      },
      {
        "duration": 309,
        "start_time": "2021-06-18T20:06:01.608Z"
      },
      {
        "duration": 528,
        "start_time": "2021-06-18T20:06:01.919Z"
      },
      {
        "duration": 7,
        "start_time": "2021-06-18T20:06:02.450Z"
      },
      {
        "duration": 30,
        "start_time": "2021-06-18T20:06:02.459Z"
      },
      {
        "duration": 11,
        "start_time": "2021-06-18T20:06:02.492Z"
      },
      {
        "duration": 11,
        "start_time": "2021-06-18T20:06:02.506Z"
      },
      {
        "duration": 68,
        "start_time": "2021-06-18T20:06:02.520Z"
      },
      {
        "duration": 201,
        "start_time": "2021-06-18T20:06:02.591Z"
      },
      {
        "duration": 17,
        "start_time": "2021-06-18T20:06:02.795Z"
      },
      {
        "duration": 24,
        "start_time": "2021-06-18T20:06:02.814Z"
      },
      {
        "duration": 52,
        "start_time": "2021-06-18T20:06:02.840Z"
      },
      {
        "duration": 92,
        "start_time": "2021-06-18T20:06:02.895Z"
      },
      {
        "duration": 10,
        "start_time": "2021-06-18T20:06:02.990Z"
      },
      {
        "duration": 8,
        "start_time": "2021-06-18T20:06:03.003Z"
      },
      {
        "duration": 5,
        "start_time": "2021-06-18T20:06:03.013Z"
      },
      {
        "duration": 9,
        "start_time": "2021-06-18T20:06:03.025Z"
      },
      {
        "duration": 47,
        "start_time": "2021-06-18T20:06:03.037Z"
      },
      {
        "duration": 5,
        "start_time": "2021-06-18T20:06:03.087Z"
      },
      {
        "duration": 14,
        "start_time": "2021-06-18T20:06:03.095Z"
      },
      {
        "duration": 9,
        "start_time": "2021-06-18T20:06:03.112Z"
      },
      {
        "duration": 14,
        "start_time": "2021-06-18T20:06:03.123Z"
      },
      {
        "duration": 1401,
        "start_time": "2021-06-18T20:59:40.605Z"
      },
      {
        "duration": 20,
        "start_time": "2021-06-18T20:59:42.009Z"
      },
      {
        "duration": 16,
        "start_time": "2021-06-18T20:59:42.033Z"
      },
      {
        "duration": 9,
        "start_time": "2021-06-18T20:59:42.052Z"
      },
      {
        "duration": 17,
        "start_time": "2021-06-18T20:59:42.083Z"
      },
      {
        "duration": 14,
        "start_time": "2021-06-18T20:59:42.103Z"
      },
      {
        "duration": 211,
        "start_time": "2021-06-18T20:59:42.120Z"
      },
      {
        "duration": 4,
        "start_time": "2021-06-18T20:59:42.335Z"
      },
      {
        "duration": 10,
        "start_time": "2021-06-18T20:59:42.342Z"
      },
      {
        "duration": 8,
        "start_time": "2021-06-18T20:59:42.354Z"
      },
      {
        "duration": 7,
        "start_time": "2021-06-18T20:59:42.384Z"
      },
      {
        "duration": 312,
        "start_time": "2021-06-18T20:59:42.394Z"
      },
      {
        "duration": 517,
        "start_time": "2021-06-18T20:59:42.708Z"
      },
      {
        "duration": 7,
        "start_time": "2021-06-18T20:59:43.228Z"
      },
      {
        "duration": 17,
        "start_time": "2021-06-18T20:59:43.237Z"
      },
      {
        "duration": 27,
        "start_time": "2021-06-18T20:59:43.256Z"
      },
      {
        "duration": 10,
        "start_time": "2021-06-18T20:59:43.285Z"
      },
      {
        "duration": 90,
        "start_time": "2021-06-18T20:59:43.297Z"
      },
      {
        "duration": 106,
        "start_time": "2021-06-18T20:59:43.390Z"
      },
      {
        "duration": 8,
        "start_time": "2021-06-18T20:59:43.498Z"
      },
      {
        "duration": 87,
        "start_time": "2021-06-18T20:59:43.508Z"
      },
      {
        "duration": 7,
        "start_time": "2021-06-18T20:59:43.598Z"
      },
      {
        "duration": 8,
        "start_time": "2021-06-18T20:59:43.686Z"
      },
      {
        "duration": 89,
        "start_time": "2021-06-18T20:59:43.698Z"
      },
      {
        "duration": 7,
        "start_time": "2021-06-18T20:59:43.790Z"
      },
      {
        "duration": 5,
        "start_time": "2021-06-18T20:59:43.799Z"
      },
      {
        "duration": 10,
        "start_time": "2021-06-18T20:59:43.806Z"
      },
      {
        "duration": 6,
        "start_time": "2021-06-18T20:59:43.818Z"
      },
      {
        "duration": 5,
        "start_time": "2021-06-18T20:59:43.826Z"
      },
      {
        "duration": 52,
        "start_time": "2021-06-18T20:59:43.834Z"
      },
      {
        "duration": 6,
        "start_time": "2021-06-18T20:59:43.888Z"
      },
      {
        "duration": 13,
        "start_time": "2021-06-18T20:59:43.897Z"
      },
      {
        "duration": 6,
        "start_time": "2021-06-18T21:01:09.301Z"
      },
      {
        "duration": 412,
        "start_time": "2021-06-18T21:01:09.813Z"
      },
      {
        "duration": 6,
        "start_time": "2021-06-18T21:01:48.355Z"
      },
      {
        "duration": 272,
        "start_time": "2021-06-18T21:01:48.940Z"
      },
      {
        "duration": 1330,
        "start_time": "2021-06-18T21:02:18.045Z"
      },
      {
        "duration": 19,
        "start_time": "2021-06-18T21:02:19.377Z"
      },
      {
        "duration": 15,
        "start_time": "2021-06-18T21:02:19.399Z"
      },
      {
        "duration": 9,
        "start_time": "2021-06-18T21:02:19.417Z"
      },
      {
        "duration": 15,
        "start_time": "2021-06-18T21:02:19.429Z"
      },
      {
        "duration": 41,
        "start_time": "2021-06-18T21:02:19.446Z"
      },
      {
        "duration": 187,
        "start_time": "2021-06-18T21:02:19.490Z"
      },
      {
        "duration": 5,
        "start_time": "2021-06-18T21:02:19.680Z"
      },
      {
        "duration": 10,
        "start_time": "2021-06-18T21:02:19.688Z"
      },
      {
        "duration": 8,
        "start_time": "2021-06-18T21:02:19.700Z"
      },
      {
        "duration": 9,
        "start_time": "2021-06-18T21:02:19.710Z"
      },
      {
        "duration": 325,
        "start_time": "2021-06-18T21:02:19.721Z"
      },
      {
        "duration": 499,
        "start_time": "2021-06-18T21:02:20.049Z"
      },
      {
        "duration": 8,
        "start_time": "2021-06-18T21:02:20.550Z"
      },
      {
        "duration": 25,
        "start_time": "2021-06-18T21:02:20.561Z"
      },
      {
        "duration": 13,
        "start_time": "2021-06-18T21:02:20.589Z"
      },
      {
        "duration": 9,
        "start_time": "2021-06-18T21:02:20.605Z"
      },
      {
        "duration": 70,
        "start_time": "2021-06-18T21:02:20.616Z"
      },
      {
        "duration": 107,
        "start_time": "2021-06-18T21:02:20.691Z"
      },
      {
        "duration": 84,
        "start_time": "2021-06-18T21:02:20.801Z"
      },
      {
        "duration": 402,
        "start_time": "2021-06-18T21:02:20.887Z"
      },
      {
        "duration": 291,
        "start_time": "2021-06-18T21:02:21.000Z"
      },
      {
        "duration": 283,
        "start_time": "2021-06-18T21:02:21.010Z"
      },
      {
        "duration": 272,
        "start_time": "2021-06-18T21:02:21.022Z"
      },
      {
        "duration": 262,
        "start_time": "2021-06-18T21:02:21.034Z"
      },
      {
        "duration": 255,
        "start_time": "2021-06-18T21:02:21.042Z"
      },
      {
        "duration": 247,
        "start_time": "2021-06-18T21:02:21.052Z"
      },
      {
        "duration": 237,
        "start_time": "2021-06-18T21:02:21.063Z"
      },
      {
        "duration": 234,
        "start_time": "2021-06-18T21:02:21.067Z"
      },
      {
        "duration": 230,
        "start_time": "2021-06-18T21:02:21.073Z"
      },
      {
        "duration": 221,
        "start_time": "2021-06-18T21:02:21.083Z"
      },
      {
        "duration": 217,
        "start_time": "2021-06-18T21:02:21.088Z"
      },
      {
        "duration": 7,
        "start_time": "2021-06-18T21:02:45.152Z"
      },
      {
        "duration": 8,
        "start_time": "2021-06-18T21:02:45.619Z"
      },
      {
        "duration": 5,
        "start_time": "2021-06-18T21:02:48.676Z"
      },
      {
        "duration": 1413,
        "start_time": "2021-06-18T21:02:55.775Z"
      },
      {
        "duration": 19,
        "start_time": "2021-06-18T21:02:57.191Z"
      },
      {
        "duration": 17,
        "start_time": "2021-06-18T21:02:57.214Z"
      },
      {
        "duration": 9,
        "start_time": "2021-06-18T21:02:57.235Z"
      },
      {
        "duration": 47,
        "start_time": "2021-06-18T21:02:57.247Z"
      },
      {
        "duration": 17,
        "start_time": "2021-06-18T21:02:57.296Z"
      },
      {
        "duration": 203,
        "start_time": "2021-06-18T21:02:57.316Z"
      },
      {
        "duration": 5,
        "start_time": "2021-06-18T21:02:57.523Z"
      },
      {
        "duration": 12,
        "start_time": "2021-06-18T21:02:57.531Z"
      },
      {
        "duration": 13,
        "start_time": "2021-06-18T21:02:57.545Z"
      },
      {
        "duration": 9,
        "start_time": "2021-06-18T21:02:57.582Z"
      },
      {
        "duration": 307,
        "start_time": "2021-06-18T21:02:57.593Z"
      },
      {
        "duration": 510,
        "start_time": "2021-06-18T21:02:57.902Z"
      },
      {
        "duration": 8,
        "start_time": "2021-06-18T21:02:58.414Z"
      },
      {
        "duration": 12,
        "start_time": "2021-06-18T21:02:58.425Z"
      },
      {
        "duration": 14,
        "start_time": "2021-06-18T21:02:58.440Z"
      },
      {
        "duration": 30,
        "start_time": "2021-06-18T21:02:58.457Z"
      },
      {
        "duration": 26,
        "start_time": "2021-06-18T21:02:58.489Z"
      },
      {
        "duration": 104,
        "start_time": "2021-06-18T21:02:58.586Z"
      },
      {
        "duration": 9,
        "start_time": "2021-06-18T21:02:58.692Z"
      },
      {
        "duration": 14,
        "start_time": "2021-06-18T21:02:58.703Z"
      },
      {
        "duration": 65,
        "start_time": "2021-06-18T21:02:58.720Z"
      },
      {
        "duration": 6,
        "start_time": "2021-06-18T21:02:58.791Z"
      },
      {
        "duration": 87,
        "start_time": "2021-06-18T21:02:58.802Z"
      },
      {
        "duration": 7,
        "start_time": "2021-06-18T21:02:58.892Z"
      },
      {
        "duration": 7,
        "start_time": "2021-06-18T21:02:58.901Z"
      },
      {
        "duration": 14,
        "start_time": "2021-06-18T21:02:58.910Z"
      },
      {
        "duration": 9,
        "start_time": "2021-06-18T21:02:58.927Z"
      },
      {
        "duration": 5,
        "start_time": "2021-06-18T21:02:58.939Z"
      },
      {
        "duration": 39,
        "start_time": "2021-06-18T21:02:58.946Z"
      },
      {
        "duration": 9,
        "start_time": "2021-06-18T21:02:58.987Z"
      },
      {
        "duration": 14,
        "start_time": "2021-06-18T21:02:58.999Z"
      },
      {
        "duration": 1416,
        "start_time": "2021-06-18T21:04:28.454Z"
      },
      {
        "duration": 21,
        "start_time": "2021-06-18T21:04:29.873Z"
      },
      {
        "duration": 16,
        "start_time": "2021-06-18T21:04:29.898Z"
      },
      {
        "duration": 15,
        "start_time": "2021-06-18T21:04:29.916Z"
      },
      {
        "duration": 14,
        "start_time": "2021-06-18T21:04:29.934Z"
      },
      {
        "duration": 34,
        "start_time": "2021-06-18T21:04:29.950Z"
      },
      {
        "duration": 181,
        "start_time": "2021-06-18T21:04:29.987Z"
      },
      {
        "duration": 13,
        "start_time": "2021-06-18T21:04:30.170Z"
      },
      {
        "duration": 13,
        "start_time": "2021-06-18T21:04:30.189Z"
      },
      {
        "duration": 13,
        "start_time": "2021-06-18T21:04:30.205Z"
      },
      {
        "duration": 20,
        "start_time": "2021-06-18T21:04:30.220Z"
      },
      {
        "duration": 303,
        "start_time": "2021-06-18T21:04:30.243Z"
      },
      {
        "duration": 513,
        "start_time": "2021-06-18T21:04:30.549Z"
      },
      {
        "duration": 25,
        "start_time": "2021-06-18T21:04:31.064Z"
      },
      {
        "duration": 25,
        "start_time": "2021-06-18T21:04:31.092Z"
      },
      {
        "duration": 14,
        "start_time": "2021-06-18T21:04:31.120Z"
      },
      {
        "duration": 22,
        "start_time": "2021-06-18T21:04:31.136Z"
      },
      {
        "duration": 53,
        "start_time": "2021-06-18T21:04:31.161Z"
      },
      {
        "duration": 107,
        "start_time": "2021-06-18T21:04:31.286Z"
      },
      {
        "duration": 34,
        "start_time": "2021-06-18T21:04:31.395Z"
      },
      {
        "duration": 10,
        "start_time": "2021-06-18T21:04:31.432Z"
      },
      {
        "duration": 41,
        "start_time": "2021-06-18T21:04:31.445Z"
      },
      {
        "duration": 97,
        "start_time": "2021-06-18T21:04:31.488Z"
      },
      {
        "duration": 23,
        "start_time": "2021-06-18T21:04:31.587Z"
      },
      {
        "duration": 13,
        "start_time": "2021-06-18T21:04:31.612Z"
      },
      {
        "duration": 15,
        "start_time": "2021-06-18T21:04:31.627Z"
      },
      {
        "duration": 22,
        "start_time": "2021-06-18T21:04:31.648Z"
      },
      {
        "duration": 12,
        "start_time": "2021-06-18T21:04:31.673Z"
      },
      {
        "duration": 25,
        "start_time": "2021-06-18T21:04:31.687Z"
      },
      {
        "duration": 21,
        "start_time": "2021-06-18T21:04:31.715Z"
      },
      {
        "duration": 10,
        "start_time": "2021-06-18T21:04:31.739Z"
      },
      {
        "duration": 19,
        "start_time": "2021-06-18T21:04:31.751Z"
      },
      {
        "duration": 1400,
        "start_time": "2021-06-18T21:08:20.873Z"
      },
      {
        "duration": 22,
        "start_time": "2021-06-18T21:08:22.276Z"
      },
      {
        "duration": 18,
        "start_time": "2021-06-18T21:08:22.302Z"
      },
      {
        "duration": 11,
        "start_time": "2021-06-18T21:08:22.323Z"
      },
      {
        "duration": 49,
        "start_time": "2021-06-18T21:08:22.337Z"
      },
      {
        "duration": 13,
        "start_time": "2021-06-18T21:08:22.389Z"
      },
      {
        "duration": 214,
        "start_time": "2021-06-18T21:08:22.405Z"
      },
      {
        "duration": 6,
        "start_time": "2021-06-18T21:08:22.622Z"
      },
      {
        "duration": 9,
        "start_time": "2021-06-18T21:08:22.632Z"
      },
      {
        "duration": 9,
        "start_time": "2021-06-18T21:08:22.644Z"
      },
      {
        "duration": 9,
        "start_time": "2021-06-18T21:08:22.684Z"
      },
      {
        "duration": 322,
        "start_time": "2021-06-18T21:08:22.695Z"
      },
      {
        "duration": 505,
        "start_time": "2021-06-18T21:08:23.020Z"
      },
      {
        "duration": 8,
        "start_time": "2021-06-18T21:08:23.527Z"
      },
      {
        "duration": 14,
        "start_time": "2021-06-18T21:08:23.538Z"
      },
      {
        "duration": 28,
        "start_time": "2021-06-18T21:08:23.555Z"
      },
      {
        "duration": 11,
        "start_time": "2021-06-18T21:08:23.586Z"
      },
      {
        "duration": 86,
        "start_time": "2021-06-18T21:08:23.600Z"
      },
      {
        "duration": 105,
        "start_time": "2021-06-18T21:08:23.690Z"
      },
      {
        "duration": 84,
        "start_time": "2021-06-18T21:08:23.799Z"
      },
      {
        "duration": 7,
        "start_time": "2021-06-18T21:08:23.886Z"
      },
      {
        "duration": 7,
        "start_time": "2021-06-18T21:08:23.896Z"
      },
      {
        "duration": 84,
        "start_time": "2021-06-18T21:08:23.905Z"
      },
      {
        "duration": 9,
        "start_time": "2021-06-18T21:08:23.992Z"
      },
      {
        "duration": 7,
        "start_time": "2021-06-18T21:08:24.083Z"
      },
      {
        "duration": 6,
        "start_time": "2021-06-18T21:08:24.092Z"
      },
      {
        "duration": 10,
        "start_time": "2021-06-18T21:08:24.102Z"
      },
      {
        "duration": 5,
        "start_time": "2021-06-18T21:08:24.115Z"
      },
      {
        "duration": 7,
        "start_time": "2021-06-18T21:08:24.122Z"
      },
      {
        "duration": 10,
        "start_time": "2021-06-18T21:08:24.131Z"
      },
      {
        "duration": 42,
        "start_time": "2021-06-18T21:08:24.144Z"
      },
      {
        "duration": 13,
        "start_time": "2021-06-18T21:08:24.189Z"
      }
    ],
    "kernelspec": {
      "display_name": "Python 3",
      "language": "python",
      "name": "python3"
    },
    "language_info": {
      "codemirror_mode": {
        "name": "ipython",
        "version": 3
      },
      "file_extension": ".py",
      "mimetype": "text/x-python",
      "name": "python",
      "nbconvert_exporter": "python",
      "pygments_lexer": "ipython3",
      "version": "3.7.8"
    },
    "toc": {
      "base_numbering": 1,
      "nav_menu": {
        "height": "268px",
        "width": "372px"
      },
      "number_sections": true,
      "sideBar": true,
      "skip_h1_title": true,
      "title_cell": "Содержание",
      "title_sidebar": "Contents",
      "toc_cell": true,
      "toc_position": {
        "height": "calc(100% - 180px)",
        "left": "10px",
        "top": "150px",
        "width": "165px"
      },
      "toc_section_display": true,
      "toc_window_display": false
    },
    "colab": {
      "name": "лин_ал.ipynb",
      "provenance": [],
      "collapsed_sections": []
    }
  },
  "cells": [
    {
      "cell_type": "markdown",
      "metadata": {
        "toc": true,
        "id": "AKZrJBwhq8ZC"
      },
      "source": [
        "<h1>Содержание<span class=\"tocSkip\"></span></h1>\n",
        "<div class=\"toc\"><ul class=\"toc-item\"><li><span><a href=\"#Загрузка-данных\" data-toc-modified-id=\"Загрузка-данных-1\"><span class=\"toc-item-num\">1&nbsp;&nbsp;</span>Загрузка данных</a></span><ul class=\"toc-item\"><li><span><a href=\"#Просмотр-и-предобработка-данных\" data-toc-modified-id=\"Просмотр-и-предобработка-данных-1.1\"><span class=\"toc-item-num\">1.1&nbsp;&nbsp;</span>Просмотр и предобработка данных</a></span></li><li><span><a href=\"#Признаки\" data-toc-modified-id=\"Признаки-1.2\"><span class=\"toc-item-num\">1.2&nbsp;&nbsp;</span>Признаки</a></span><ul class=\"toc-item\"><li><span><a href=\"#Пол\" data-toc-modified-id=\"Пол-1.2.1\"><span class=\"toc-item-num\">1.2.1&nbsp;&nbsp;</span>Пол</a></span></li><li><span><a href=\"#Возраст\" data-toc-modified-id=\"Возраст-1.2.2\"><span class=\"toc-item-num\">1.2.2&nbsp;&nbsp;</span>Возраст</a></span></li><li><span><a href=\"#Зарплата\" data-toc-modified-id=\"Зарплата-1.2.3\"><span class=\"toc-item-num\">1.2.3&nbsp;&nbsp;</span>Зарплата</a></span></li><li><span><a href=\"#Члены-семьи\" data-toc-modified-id=\"Члены-семьи-1.2.4\"><span class=\"toc-item-num\">1.2.4&nbsp;&nbsp;</span>Члены семьи</a></span></li><li><span><a href=\"#Страховые-выплаты---целевой-признак\" data-toc-modified-id=\"Страховые-выплаты---целевой-признак-1.2.5\"><span class=\"toc-item-num\">1.2.5&nbsp;&nbsp;</span>Страховые выплаты - целевой признак</a></span></li></ul></li></ul></li><li><span><a href=\"#Умножение-матриц\" data-toc-modified-id=\"Умножение-матриц-2\"><span class=\"toc-item-num\">2&nbsp;&nbsp;</span>Умножение матриц</a></span></li><li><span><a href=\"#Алгоритм-преобразования\" data-toc-modified-id=\"Алгоритм-преобразования-3\"><span class=\"toc-item-num\">3&nbsp;&nbsp;</span>Алгоритм преобразования</a></span></li><li><span><a href=\"#Проверка-алгоритма\" data-toc-modified-id=\"Проверка-алгоритма-4\"><span class=\"toc-item-num\">4&nbsp;&nbsp;</span>Проверка алгоритма</a></span><ul class=\"toc-item\"><li><span><a href=\"#Выделение-признаков-и-целевого-признака\" data-toc-modified-id=\"Выделение-признаков-и-целевого-признака-4.1\"><span class=\"toc-item-num\">4.1&nbsp;&nbsp;</span>Выделение признаков и целевого признака</a></span></li><li><span><a href=\"#Проверим-соответствие-метрик-формулы-и-готового-алгоритма-из-sklearn.\" data-toc-modified-id=\"Проверим-соответствие-метрик-формулы-и-готового-алгоритма-из-sklearn.-4.2\"><span class=\"toc-item-num\">4.2&nbsp;&nbsp;</span>Проверим соответствие метрик формулы и готового алгоритма из sklearn.</a></span></li><li><span><a href=\"#Создание-обратимой-матрицы\" data-toc-modified-id=\"Создание-обратимой-матрицы-4.3\"><span class=\"toc-item-num\">4.3&nbsp;&nbsp;</span>Создание обратимой матрицы</a></span></li><li><span><a href=\"#Создание-преобразованной-матрицы\" data-toc-modified-id=\"Создание-преобразованной-матрицы-4.4\"><span class=\"toc-item-num\">4.4&nbsp;&nbsp;</span>Создание преобразованной матрицы</a></span></li><li><span><a href=\"#Разделение-на-обучающую-и-тестовую-выборки\" data-toc-modified-id=\"Разделение-на-обучающую-и-тестовую-выборки-4.5\"><span class=\"toc-item-num\">4.5&nbsp;&nbsp;</span>Разделение на обучающую и тестовую выборки</a></span><ul class=\"toc-item\"><li><span><a href=\"#Исходные-данные\" data-toc-modified-id=\"Исходные-данные-4.5.1\"><span class=\"toc-item-num\">4.5.1&nbsp;&nbsp;</span>Исходные данные</a></span></li><li><span><a href=\"#Преобразованные-данные\" data-toc-modified-id=\"Преобразованные-данные-4.5.2\"><span class=\"toc-item-num\">4.5.2&nbsp;&nbsp;</span>Преобразованные данные</a></span></li></ul></li><li><span><a href=\"#Масштабирование-признаков\" data-toc-modified-id=\"Масштабирование-признаков-4.6\"><span class=\"toc-item-num\">4.6&nbsp;&nbsp;</span>Масштабирование признаков</a></span><ul class=\"toc-item\"><li><span><a href=\"#Исходные-данные\" data-toc-modified-id=\"Исходные-данные-4.6.1\"><span class=\"toc-item-num\">4.6.1&nbsp;&nbsp;</span>Исходные данные</a></span></li><li><span><a href=\"#Преобразованные-данные\" data-toc-modified-id=\"Преобразованные-данные-4.6.2\"><span class=\"toc-item-num\">4.6.2&nbsp;&nbsp;</span>Преобразованные данные</a></span></li></ul></li><li><span><a href=\"#Обучение-и-проверка\" data-toc-modified-id=\"Обучение-и-проверка-4.7\"><span class=\"toc-item-num\">4.7&nbsp;&nbsp;</span>Обучение и проверка</a></span><ul class=\"toc-item\"><li><span><a href=\"#Исходные-данные\" data-toc-modified-id=\"Исходные-данные-4.7.1\"><span class=\"toc-item-num\">4.7.1&nbsp;&nbsp;</span>Исходные данные</a></span></li><li><span><a href=\"#Преобразованные-данные\" data-toc-modified-id=\"Преобразованные-данные-4.7.2\"><span class=\"toc-item-num\">4.7.2&nbsp;&nbsp;</span>Преобразованные данные</a></span></li><li><span><a href=\"#Сравнение-метрик\" data-toc-modified-id=\"Сравнение-метрик-4.7.3\"><span class=\"toc-item-num\">4.7.3&nbsp;&nbsp;</span>Сравнение метрик</a></span></li></ul></li></ul></li><li><span><a href=\"#Вывод\" data-toc-modified-id=\"Вывод-5\"><span class=\"toc-item-num\">5&nbsp;&nbsp;</span>Вывод</a></span></li><li><span><a href=\"#Чек-лист-проверки\" data-toc-modified-id=\"Чек-лист-проверки-6\"><span class=\"toc-item-num\">6&nbsp;&nbsp;</span>Чек-лист проверки</a></span></li></ul></div>"
      ]
    },
    {
      "cell_type": "markdown",
      "metadata": {
        "id": "3WyvV9xKq8ZJ"
      },
      "source": [
        "# Защита персональных данных клиентов"
      ]
    },
    {
      "cell_type": "markdown",
      "metadata": {
        "id": "g4vh9RPtq8ZJ"
      },
      "source": [
        "Вам нужно защитить данные клиентов страховой компании «Хоть потоп». Разработайте такой метод преобразования данных, чтобы по ним было сложно восстановить персональную информацию. Обоснуйте корректность его работы.\n",
        "\n",
        "Нужно защитить данные, чтобы при преобразовании качество моделей машинного обучения не ухудшилось. Подбирать наилучшую модель не требуется."
      ]
    },
    {
      "cell_type": "markdown",
      "metadata": {
        "id": "ID-pguCQq8ZK"
      },
      "source": [
        "*\tПризнаки: пол, возраст и зарплата застрахованного, количество членов его семьи.\n",
        "*\tЦелевой признак: количество страховых выплат клиенту за последние 5 лет.\n"
      ]
    },
    {
      "cell_type": "markdown",
      "metadata": {
        "id": "TrndEgldq8ZK"
      },
      "source": [
        "## Загрузка данных"
      ]
    },
    {
      "cell_type": "code",
      "metadata": {
        "id": "4KWt2xMzq8ZL"
      },
      "source": [
        "import pandas as pd\n",
        "import numpy as np\n",
        "import matplotlib.pyplot as plt\n",
        "from sklearn.model_selection import train_test_split\n",
        "from sklearn.preprocessing import StandardScaler\n",
        "from sklearn.linear_model import LinearRegression\n",
        "from sklearn.metrics import mean_squared_error\n",
        "from sklearn.metrics import r2_score"
      ],
      "execution_count": null,
      "outputs": []
    },
    {
      "cell_type": "code",
      "metadata": {
        "id": "ukw1ZnTpq8ZM"
      },
      "source": [
        "data = pd.read_csv('/datasets/insurance.csv')"
      ],
      "execution_count": null,
      "outputs": []
    },
    {
      "cell_type": "markdown",
      "metadata": {
        "id": "P08qw8Nsq8ZM"
      },
      "source": [
        "### Просмотр и предобработка данных"
      ]
    },
    {
      "cell_type": "code",
      "metadata": {
        "id": "7vcToXjMq8ZM",
        "outputId": "d683171a-6041-4d17-ef40-081444ba7057"
      },
      "source": [
        "data.head()"
      ],
      "execution_count": null,
      "outputs": [
        {
          "data": {
            "text/html": [
              "<div>\n",
              "<style scoped>\n",
              "    .dataframe tbody tr th:only-of-type {\n",
              "        vertical-align: middle;\n",
              "    }\n",
              "\n",
              "    .dataframe tbody tr th {\n",
              "        vertical-align: top;\n",
              "    }\n",
              "\n",
              "    .dataframe thead th {\n",
              "        text-align: right;\n",
              "    }\n",
              "</style>\n",
              "<table border=\"1\" class=\"dataframe\">\n",
              "  <thead>\n",
              "    <tr style=\"text-align: right;\">\n",
              "      <th></th>\n",
              "      <th>Пол</th>\n",
              "      <th>Возраст</th>\n",
              "      <th>Зарплата</th>\n",
              "      <th>Члены семьи</th>\n",
              "      <th>Страховые выплаты</th>\n",
              "    </tr>\n",
              "  </thead>\n",
              "  <tbody>\n",
              "    <tr>\n",
              "      <td>0</td>\n",
              "      <td>1</td>\n",
              "      <td>41.0</td>\n",
              "      <td>49600.0</td>\n",
              "      <td>1</td>\n",
              "      <td>0</td>\n",
              "    </tr>\n",
              "    <tr>\n",
              "      <td>1</td>\n",
              "      <td>0</td>\n",
              "      <td>46.0</td>\n",
              "      <td>38000.0</td>\n",
              "      <td>1</td>\n",
              "      <td>1</td>\n",
              "    </tr>\n",
              "    <tr>\n",
              "      <td>2</td>\n",
              "      <td>0</td>\n",
              "      <td>29.0</td>\n",
              "      <td>21000.0</td>\n",
              "      <td>0</td>\n",
              "      <td>0</td>\n",
              "    </tr>\n",
              "    <tr>\n",
              "      <td>3</td>\n",
              "      <td>0</td>\n",
              "      <td>21.0</td>\n",
              "      <td>41700.0</td>\n",
              "      <td>2</td>\n",
              "      <td>0</td>\n",
              "    </tr>\n",
              "    <tr>\n",
              "      <td>4</td>\n",
              "      <td>1</td>\n",
              "      <td>28.0</td>\n",
              "      <td>26100.0</td>\n",
              "      <td>0</td>\n",
              "      <td>0</td>\n",
              "    </tr>\n",
              "  </tbody>\n",
              "</table>\n",
              "</div>"
            ],
            "text/plain": [
              "   Пол  Возраст  Зарплата  Члены семьи  Страховые выплаты\n",
              "0    1     41.0   49600.0            1                  0\n",
              "1    0     46.0   38000.0            1                  1\n",
              "2    0     29.0   21000.0            0                  0\n",
              "3    0     21.0   41700.0            2                  0\n",
              "4    1     28.0   26100.0            0                  0"
            ]
          },
          "execution_count": 3,
          "metadata": {},
          "output_type": "execute_result"
        }
      ]
    },
    {
      "cell_type": "code",
      "metadata": {
        "id": "Ijs4ahS9q8ZO",
        "outputId": "af62016c-cc66-415c-d996-9734654a64ba"
      },
      "source": [
        "data.info()"
      ],
      "execution_count": null,
      "outputs": [
        {
          "name": "stdout",
          "output_type": "stream",
          "text": [
            "<class 'pandas.core.frame.DataFrame'>\n",
            "RangeIndex: 5000 entries, 0 to 4999\n",
            "Data columns (total 5 columns):\n",
            "Пол                  5000 non-null int64\n",
            "Возраст              5000 non-null float64\n",
            "Зарплата             5000 non-null float64\n",
            "Члены семьи          5000 non-null int64\n",
            "Страховые выплаты    5000 non-null int64\n",
            "dtypes: float64(2), int64(3)\n",
            "memory usage: 195.4 KB\n"
          ]
        }
      ]
    },
    {
      "cell_type": "code",
      "metadata": {
        "id": "19MfPma3q8ZO",
        "outputId": "2320dcb3-510e-41ec-8750-89c3088187b1"
      },
      "source": [
        "print('Количество полных дублей:', data.duplicated().sum())\n",
        "data = data.drop_duplicates().reset_index(drop=True)\n",
        "print('Количество полных дублей:', data.duplicated().sum())"
      ],
      "execution_count": null,
      "outputs": [
        {
          "name": "stdout",
          "output_type": "stream",
          "text": [
            "Количество полных дублей: 153\n",
            "Количество полных дублей: 0\n"
          ]
        }
      ]
    },
    {
      "cell_type": "markdown",
      "metadata": {
        "id": "H6oHx0MGq8ZP"
      },
      "source": [
        "Приведём все данные к целочисленному типу. "
      ]
    },
    {
      "cell_type": "code",
      "metadata": {
        "id": "K41A3Zfiq8ZP",
        "outputId": "765ad5d3-e734-421f-9213-7875d08a17a4"
      },
      "source": [
        "print('Суммарный возраст до преобразования', data['Возраст'].sum())\n",
        "print('Суммарная зарплата до преобразования', data['Зарплата'].sum())\n",
        "print()\n",
        "data['Возраст'] = data['Возраст'].astype(int)\n",
        "#data['Зарплата'] = data['Зарплата'].astype(int)\n",
        "print('Суммарный возраст после преобразования', data['Возраст'].sum())\n",
        "print('Суммарная зарплата после преобразования', data['Зарплата'].astype(int).sum())\n",
        "print('Разница в данных по зарплате:', data['Зарплата'].sum() - data['Зарплата'].astype(int).sum())"
      ],
      "execution_count": null,
      "outputs": [
        {
          "name": "stdout",
          "output_type": "stream",
          "text": [
            "Суммарный возраст до преобразования 150373.0\n",
            "Суммарная зарплата до преобразования 193375000.0\n",
            "\n",
            "Суммарный возраст после преобразования 150373\n",
            "Суммарная зарплата после преобразования 193374997\n",
            "Разница в данных по зарплате: 3.0\n"
          ]
        }
      ]
    },
    {
      "cell_type": "markdown",
      "metadata": {
        "id": "GZVjFL1qq8ZQ"
      },
      "source": [
        "Если возраст у нас выражен сразу в целых годах, то при преобразовании зарплат мы теряем суммарно 3 рубля."
      ]
    },
    {
      "cell_type": "code",
      "metadata": {
        "id": "DKJUVWKXq8ZQ",
        "outputId": "7efc9a53-4ed6-4fd1-9a3b-4338ca85060e"
      },
      "source": [
        "indexes = []\n",
        "for i in range(len(data)):\n",
        "    if data['Зарплата'][i] != data['Зарплата'][i].astype(int):\n",
        "        indexes.append(i)\n",
        "print('Количество объектов с дробной цифрой в зарплате:', len(data.query('index == @indexes')))        \n",
        "print('Вот эти три рубля (разница между изменившимися после преобразования объектами):', (data.query('index == @indexes')['Зарплата'] - data.query('index == @indexes')['Зарплата'].astype(int)).sum())\n",
        "print('Разница между неизменившимися после преобразования объектами:', (data.query('index != @indexes')['Зарплата'] - data.query('index != @indexes')['Зарплата'].astype(int)).sum())"
      ],
      "execution_count": null,
      "outputs": [
        {
          "name": "stdout",
          "output_type": "stream",
          "text": [
            "Количество объектов с дробной цифрой в зарплате: 38\n",
            "Вот эти три рубля (разница между изменившимися после преобразования объектами): 3.0000000001127773\n",
            "Разница между неизменившимися после преобразования объектами: 0.0\n"
          ]
        }
      ]
    },
    {
      "cell_type": "markdown",
      "metadata": {
        "id": "5q7EKnyJq8ZR"
      },
      "source": [
        "Примем решение пренебречь 3 рублями на 38 человек (0.07 рубля на человека в среднем) и преобразовать зарплатный тип данных в целочисленный."
      ]
    },
    {
      "cell_type": "code",
      "metadata": {
        "id": "pHmMFdPNq8ZS"
      },
      "source": [
        "data['Зарплата'] = data['Зарплата'].astype(int)"
      ],
      "execution_count": null,
      "outputs": []
    },
    {
      "cell_type": "code",
      "metadata": {
        "id": "ikf1Mpyuq8ZS",
        "outputId": "31919880-3ecf-4d2b-95f8-f9850dfa2a1e"
      },
      "source": [
        "data.dtypes"
      ],
      "execution_count": null,
      "outputs": [
        {
          "data": {
            "text/plain": [
              "Пол                  int64\n",
              "Возраст              int64\n",
              "Зарплата             int64\n",
              "Члены семьи          int64\n",
              "Страховые выплаты    int64\n",
              "dtype: object"
            ]
          },
          "execution_count": 9,
          "metadata": {},
          "output_type": "execute_result"
        }
      ]
    },
    {
      "cell_type": "code",
      "metadata": {
        "id": "pN-Vvjfpq8ZT",
        "outputId": "b28659ac-5409-4fa8-ce46-0a7fe3e54c87"
      },
      "source": [
        "data.shape"
      ],
      "execution_count": null,
      "outputs": [
        {
          "data": {
            "text/plain": [
              "(4847, 5)"
            ]
          },
          "execution_count": 10,
          "metadata": {},
          "output_type": "execute_result"
        }
      ]
    },
    {
      "cell_type": "markdown",
      "metadata": {
        "id": "765TWO1Nq8ZU"
      },
      "source": [
        "### Признаки"
      ]
    },
    {
      "cell_type": "markdown",
      "metadata": {
        "id": "aBHn9nVEq8ZU"
      },
      "source": [
        "#### Пол"
      ]
    },
    {
      "cell_type": "code",
      "metadata": {
        "id": "yHZqr_C7q8ZU",
        "outputId": "06b2dbe2-eaa1-4831-839f-e9b90808d133"
      },
      "source": [
        "data['Пол'].value_counts()"
      ],
      "execution_count": null,
      "outputs": [
        {
          "data": {
            "text/plain": [
              "0    2431\n",
              "1    2416\n",
              "Name: Пол, dtype: int64"
            ]
          },
          "execution_count": 11,
          "metadata": {},
          "output_type": "execute_result"
        }
      ]
    },
    {
      "cell_type": "markdown",
      "metadata": {
        "id": "f_DRqL0Uq8ZV"
      },
      "source": [
        "Предполагаем, что 1 - мужской пол. Данные по полу распределены равномерно. "
      ]
    },
    {
      "cell_type": "markdown",
      "metadata": {
        "id": "zU9oAYJhq8ZV"
      },
      "source": [
        "#### Возраст"
      ]
    },
    {
      "cell_type": "code",
      "metadata": {
        "id": "mn9s-YZXq8ZV",
        "outputId": "f25ee36b-1159-4995-9645-982c2213d20d"
      },
      "source": [
        "data['Возраст'].hist(bins=15)\n",
        "plt.title('Возраст застрахованных лиц')\n",
        "plt.xlabel('Возраст')\n",
        "plt.ylabel('Количество')\n",
        "plt.show()"
      ],
      "execution_count": null,
      "outputs": [
        {
          "data": {
            "image/png": "[encoded data removed]",
            "text/plain": [
              "<Figure size 432x288 with 1 Axes>"
            ]
          },
          "metadata": {
            "needs_background": "light"
          },
          "output_type": "display_data"
        }
      ]
    },
    {
      "cell_type": "markdown",
      "metadata": {
        "id": "ZDrsmeQZq8ZW"
      },
      "source": [
        "Большинство - в возрасте до 40 лет. Самая многочисленная группа - около 20 лет. Аномальных значений возраста нет."
      ]
    },
    {
      "cell_type": "markdown",
      "metadata": {
        "id": "9EZNxKEWq8ZW"
      },
      "source": [
        "#### Зарплата"
      ]
    },
    {
      "cell_type": "code",
      "metadata": {
        "id": "MEyCvRklq8ZW",
        "outputId": "9ff4851c-0e24-4c2d-93ff-0d8d635f794a"
      },
      "source": [
        "data['Зарплата'].hist()\n",
        "plt.show()\n",
        "data.boxplot('Зарплата')\n",
        "plt.show()\n",
        "data['Зарплата'].describe()"
      ],
      "execution_count": null,
      "outputs": [
        {
          "data": {
            "image/png": "[encoded data removed]",
            "text/plain": [
              "<Figure size 432x288 with 1 Axes>"
            ]
          },
          "metadata": {
            "needs_background": "light"
          },
          "output_type": "display_data"
        },
        {
          "data": {
            "image/png": "[encoded data removed]",
            "text/plain": [
              "<Figure size 432x288 with 1 Axes>"
            ]
          },
          "metadata": {
            "needs_background": "light"
          },
          "output_type": "display_data"
        },
        {
          "data": {
            "text/plain": [
              "count     4847.000000\n",
              "mean     39895.811223\n",
              "std       9972.952441\n",
              "min       5300.000000\n",
              "25%      33200.000000\n",
              "50%      40200.000000\n",
              "75%      46600.000000\n",
              "max      79000.000000\n",
              "Name: Зарплата, dtype: float64"
            ]
          },
          "execution_count": 13,
          "metadata": {},
          "output_type": "execute_result"
        }
      ]
    },
    {
      "cell_type": "markdown",
      "metadata": {
        "id": "cSGf-5eeq8ZX"
      },
      "source": [
        "Медианная зарплата около 40 тыс. и почти совпадает со средней. Распределение похоже на нормальное. Присутствуют выбросы, равномерно с обеих сторон. Их пока трогать не будем."
      ]
    },
    {
      "cell_type": "markdown",
      "metadata": {
        "id": "FgFopdqvq8ZX"
      },
      "source": [
        "#### Члены семьи"
      ]
    },
    {
      "cell_type": "code",
      "metadata": {
        "id": "fOjQtFEBq8ZX",
        "outputId": "2dd647c5-d963-4297-d032-c6983aebde7f"
      },
      "source": [
        "data['Члены семьи'].value_counts()"
      ],
      "execution_count": null,
      "outputs": [
        {
          "data": {
            "text/plain": [
              "1    1748\n",
              "0    1461\n",
              "2    1038\n",
              "3     437\n",
              "4     124\n",
              "5      32\n",
              "6       7\n",
              "Name: Члены семьи, dtype: int64"
            ]
          },
          "execution_count": 14,
          "metadata": {},
          "output_type": "execute_result"
        }
      ]
    },
    {
      "cell_type": "markdown",
      "metadata": {
        "id": "ZZAAyw_Zq8ZX"
      },
      "source": [
        "Никаких аномалий в количестве членов семьи нет. Большинство проживает с одним членом семьи или одиноко."
      ]
    },
    {
      "cell_type": "markdown",
      "metadata": {
        "id": "FUlnuS8aq8ZY"
      },
      "source": [
        "#### Страховые выплаты - целевой признак"
      ]
    },
    {
      "cell_type": "code",
      "metadata": {
        "id": "dsI94ypAq8ZY",
        "outputId": "75b62e32-0fc5-4662-e4c3-d509ec7a6c94"
      },
      "source": [
        "data['Страховые выплаты'].value_counts()"
      ],
      "execution_count": null,
      "outputs": [
        {
          "data": {
            "text/plain": [
              "0    4284\n",
              "1     423\n",
              "2     114\n",
              "3      18\n",
              "4       7\n",
              "5       1\n",
              "Name: Страховые выплаты, dtype: int64"
            ]
          },
          "execution_count": 15,
          "metadata": {},
          "output_type": "execute_result"
        }
      ]
    },
    {
      "cell_type": "markdown",
      "metadata": {
        "id": "M5vzAntYq8ZY"
      },
      "source": [
        "Максимум 5 страховых выплат (у одного человека). Большинство обошлось без выплат. "
      ]
    },
    {
      "cell_type": "markdown",
      "metadata": {
        "id": "PgFIY_jsq8ZY"
      },
      "source": [
        "Считаем данные готовыми к дальнейшей работе."
      ]
    },
    {
      "cell_type": "markdown",
      "metadata": {
        "id": "8C4R1Q0Hq8ZZ"
      },
      "source": [
        "## Умножение матриц"
      ]
    },
    {
      "cell_type": "markdown",
      "metadata": {
        "id": "sSkL2FTHq8ZZ"
      },
      "source": [
        "Обозначения:\n",
        "\n",
        "- $X$ — матрица признаков (нулевой столбец состоит из единиц)\n",
        "\n",
        "- $y$ — вектор целевого признака\n",
        "\n",
        "- $P$ — матрица, на которую умножаются признаки\n",
        "\n",
        "- $w$ — вектор весов линейной регрессии (нулевой элемент равен сдвигу)"
      ]
    },
    {
      "cell_type": "markdown",
      "metadata": {
        "id": "qJXH2oDTq8Za"
      },
      "source": [
        "Предсказания:\n",
        "\n",
        "$$\n",
        "a = Xw\n",
        "$$\n",
        "\n",
        "Задача обучения:\n",
        "\n",
        "$$\n",
        "w = \\arg\\min_w MSE(Xw, y)\n",
        "$$\n",
        "\n",
        "Формула обучения:\n",
        "\n",
        "$$\n",
        "w = (X^T X)^{-1} X^T y\n",
        "$$\n"
      ]
    },
    {
      "cell_type": "markdown",
      "metadata": {
        "id": "UW6DCtYBq8Za"
      },
      "source": [
        "**Ответьте на вопрос и обоснуйте решение**\n",
        "\n",
        "Признаки умножают на обратимую матрицу. Изменится ли качество линейной регрессии? (Её можно обучить заново.)\n",
        "- a. Изменится. Приведите примеры матриц.\n",
        "- b. Не изменится. Укажите, как связаны параметры линейной регрессии в исходной задаче и в преобразованной.\n"
      ]
    },
    {
      "cell_type": "markdown",
      "metadata": {
        "id": "m0OyBm-Dq8Za"
      },
      "source": [
        "**Ответ:** не изменится.\n",
        "\n",
        "**Обоснование:** \n",
        "\n",
        "Если:\n",
        "$$\n",
        "a = Xw\n",
        "$$\n",
        "\n",
        "$$\n",
        "w = (X^T X)^{-1} X^T y\n",
        "$$\n",
        "\n",
        "Следовательно:\n",
        "$$\n",
        "a = X(X^T X)^{-1} X^T y\n",
        "$$\n",
        "\n",
        "Умножим X на обратимую матрицу C, получим матрицу B:\n",
        "\n",
        "$$\n",
        "В = XC\n",
        "$$\n",
        "\n",
        "Предсказание **d** для матрицы B выглядит следующим образом:\n",
        "$$\n",
        "d = В(В^T В)^{-1} В^T y\n",
        "$$\n",
        "**Мы хотим доказать, что d = a.**\n",
        "\n",
        "Поэтапно раскроем скобки, помня, что \n",
        "$$\n",
        "1\n",
        "$$\n",
        "* При возведении в степень произведения каждый из множителей возводится в степень.\n",
        "$$\n",
        "(ab)^{n} = a^{n} b^{n}\n",
        "$$\n",
        "$$\n",
        "2\n",
        "$$\n",
        "* Транспонированное произведение матриц равно произведению транспонированных матриц.\n",
        "\n",
        "$$\n",
        "(AB)^{T} = A^{T} B^{T}\n",
        "$$"
      ]
    },
    {
      "cell_type": "markdown",
      "metadata": {
        "id": "33DF7iuUq8Za"
      },
      "source": [
        "-"
      ]
    },
    {
      "cell_type": "markdown",
      "metadata": {
        "id": "1-QqUW2mq8Zb"
      },
      "source": [
        "$$\n",
        "d = XC((XC)^T (XC))^{-1} (XC)^T y\n",
        "$$"
      ]
    },
    {
      "cell_type": "markdown",
      "metadata": {
        "id": "Jn8YNCxPq8Zb"
      },
      "source": [
        "$$\n",
        "d = XC((XC)^T)^{-1} (XC)^{-1} (XC)^T y\n",
        "$$"
      ]
    },
    {
      "cell_type": "markdown",
      "metadata": {
        "id": "MgxKkw0yq8Zb"
      },
      "source": [
        "$$\n",
        "d = X C (X^T)^{-1} (C^T)^{-1} X^{-1} C^{-1} X^T C^T y\n",
        "$$"
      ]
    },
    {
      "cell_type": "markdown",
      "metadata": {
        "id": "81Yk0IDRq8Zb"
      },
      "source": [
        "$$\n",
        "d = (X C (X^T)^{-1} X^{-1} X^T C^T y) / (C^T C)\n",
        "$$"
      ]
    },
    {
      "cell_type": "markdown",
      "metadata": {
        "id": "pkm6wf-wq8Zb"
      },
      "source": [
        "$$\n",
        "d = X (X^T)^{-1} X^{-1} X^T y\n",
        "$$"
      ]
    },
    {
      "cell_type": "markdown",
      "metadata": {
        "id": "poD2PANuq8Zc"
      },
      "source": [
        "$$\n",
        "d = X (X^T X)^{-1} X^T y\n",
        "$$"
      ]
    },
    {
      "cell_type": "markdown",
      "metadata": {
        "id": "uGNzX2zHq8Zc"
      },
      "source": [
        "$$\n",
        "a = X(X^T X)^{-1} X^T y\n",
        "$$"
      ]
    },
    {
      "cell_type": "markdown",
      "metadata": {
        "id": "hr6YI7bJq8Zc"
      },
      "source": [
        "$$\n",
        "d = a\n",
        "$$"
      ]
    },
    {
      "cell_type": "markdown",
      "metadata": {
        "id": "8HSvWy-oq8Zc"
      },
      "source": [
        "Что и требовалось доказать"
      ]
    },
    {
      "cell_type": "markdown",
      "metadata": {
        "id": "XNLpKI8wq8Zd"
      },
      "source": [
        "## Алгоритм преобразования"
      ]
    },
    {
      "cell_type": "markdown",
      "metadata": {
        "id": "rVqymSTsq8Zd"
      },
      "source": [
        "\n",
        "\n",
        "**Алгоритм**\n",
        "\n",
        "* Сравнение метрик полученных при помощи линейной регрессии из sklearn и при помощи предложенной формулы.\n",
        "* Создание обратимой матрицы: \n",
        "    - способ создания, \n",
        "    - размер матрицы, \n",
        "    - проверка на обратимость. \n",
        "* Умножение матрицы с данными на обратимую матрицу - получение преобразованных признаков.\n",
        "* Обучение модели линейной регрессии на преобразованных признаках. Получение предсказаний и значений метрики.\n",
        "* Обучение модели линейной регрессии на первичных (непреобразованных) признаках. Получение предсказаний и значений метрики. \n",
        "* Сравнение метрик, полученных на преобразованной и первоначальной матрицах.\n"
      ]
    },
    {
      "cell_type": "markdown",
      "metadata": {
        "id": "x64lBtmsq8Ze"
      },
      "source": [
        "**Обоснование**\n",
        "\n",
        "* Ранее мы уже доказали, что умножение матрицы на обратимую матрицу не влияет на предсказания модели линейной регрессии по формуле. Осталось проверить это на практике. Чтобы подтвердить теоретические выводы на каждой из матриц сравним метрику, полученную при помощи пресказаний из формулы, и метрику, полученную при помощи предсказаний их sklearn. Гипотеза1: они не отличаются.\n",
        "\n",
        "* Создадим подходящую по размеру обратимую матрицу. \n",
        "\n",
        "  - Размер: если исходная матрица имеет размер m(признаки) x n(объекты), то необходимо будет сгенерировать матрицу размером m x m. Тогда будет возможным корректное умножение матриц.\n",
        "\n",
        "  - Способ создания: для наибольшей защищенности данных воспользуемся генератором псевдослучайных чисел (np.random.randint()). Проверяем на обратимость.\n",
        "\n",
        "* Преобразуем исходную матрицу, умножив её на созданную обратимую матрицу. Получаем две матрицы признаков - исходную и преобразованную.\n",
        "\n",
        "* Обучим модель линейной регрессии на исходной и преобразованной матрицах признаков, вычислим предсказания и по ним - метрики.\n",
        "\n",
        "* После сравним метрики, полученные на исходной и преобразованной матрицах. Мы предполагаем, что раз предсказания на исходной и преобразованной матрицах не отличаются, то и метрики будут равны. Так что гипотеза2: метрики не отличаются.\n",
        "\n",
        "* В случае принятия гипотез можно будет принять такой алгоритм как подходящий для защиты данных."
      ]
    },
    {
      "cell_type": "markdown",
      "metadata": {
        "id": "DbUFbC_iq8Ze"
      },
      "source": [
        "## Проверка алгоритма"
      ]
    },
    {
      "cell_type": "markdown",
      "metadata": {
        "id": "1qNUJNXsq8Zf"
      },
      "source": [
        "### Выделение признаков и целевого признака"
      ]
    },
    {
      "cell_type": "code",
      "metadata": {
        "id": "GFV7J0CXq8Zf"
      },
      "source": [
        "features = data.drop('Страховые выплаты',axis=1)\n",
        "target = data['Страховые выплаты']"
      ],
      "execution_count": null,
      "outputs": []
    },
    {
      "cell_type": "markdown",
      "metadata": {
        "id": "X-d8XxKkq8Zf"
      },
      "source": [
        "### Проверим соответствие метрик формулы и готового алгоритма из sklearn."
      ]
    },
    {
      "cell_type": "markdown",
      "metadata": {
        "id": "-qzrodd3q8Zf"
      },
      "source": [
        "Предположим, что соответствующие метрики будут равны. "
      ]
    },
    {
      "cell_type": "code",
      "metadata": {
        "id": "3Sd4ljCxq8Zg"
      },
      "source": [
        "def fit_predict(features, target):\n",
        "    \n",
        "    #формула\n",
        "    X = np.concatenate((np.ones((features.shape[0], 1)), features), axis=1) #добавим столбец из единиц\n",
        "    w = np.linalg.inv(X.T @ X) @ X.T @ target\n",
        "    predictions_formula = X @ w\n",
        "    mse_formula = mean_squared_error(target, predictions_formula)\n",
        "    r2_formula = r2_score(target, predictions_formula)\n",
        "    \n",
        "    #sklearn\n",
        "    model = LinearRegression().fit(features, target)\n",
        "    predictions_sklearn = model.predict(features)\n",
        "    mse_sklearn = mean_squared_error(target, predictions_sklearn)\n",
        "    r2_sklearn = r2_score(target, predictions_sklearn)\n",
        "    \n",
        "    return mse_formula, mse_sklearn, r2_formula, r2_sklearn  "
      ],
      "execution_count": null,
      "outputs": []
    },
    {
      "cell_type": "code",
      "metadata": {
        "id": "wSfD1ieCq8Zg"
      },
      "source": [
        "mse_formula, mse_sklearn, r2_formula, r2_sklearn = fit_predict(features, target)"
      ],
      "execution_count": null,
      "outputs": []
    },
    {
      "cell_type": "code",
      "metadata": {
        "id": "p7qkuW8Nq8Zg",
        "outputId": "fcba7cf0-8b40-4c82-8f8d-07b3cc099290"
      },
      "source": [
        "metrics = {\n",
        "    'Метрики': ['mse_formula',\n",
        "                'mse_sklearn',\n",
        "                'r2_formula',\n",
        "                'r2_sklearn'],\n",
        "    'Значения': [mse_formula, \n",
        "                 mse_sklearn, \n",
        "                 r2_formula, \n",
        "                 r2_sklearn]\n",
        "}\n",
        "metrics = pd.DataFrame(metrics).set_index('Метрики')\n",
        "metrics"
      ],
      "execution_count": null,
      "outputs": [
        {
          "data": {
            "text/html": [
              "<div>\n",
              "<style scoped>\n",
              "    .dataframe tbody tr th:only-of-type {\n",
              "        vertical-align: middle;\n",
              "    }\n",
              "\n",
              "    .dataframe tbody tr th {\n",
              "        vertical-align: top;\n",
              "    }\n",
              "\n",
              "    .dataframe thead th {\n",
              "        text-align: right;\n",
              "    }\n",
              "</style>\n",
              "<table border=\"1\" class=\"dataframe\">\n",
              "  <thead>\n",
              "    <tr style=\"text-align: right;\">\n",
              "      <th></th>\n",
              "      <th>Значения</th>\n",
              "    </tr>\n",
              "    <tr>\n",
              "      <th>Метрики</th>\n",
              "      <th></th>\n",
              "    </tr>\n",
              "  </thead>\n",
              "  <tbody>\n",
              "    <tr>\n",
              "      <td>mse_formula</td>\n",
              "      <td>0.125273</td>\n",
              "    </tr>\n",
              "    <tr>\n",
              "      <td>mse_sklearn</td>\n",
              "      <td>0.125273</td>\n",
              "    </tr>\n",
              "    <tr>\n",
              "      <td>r2_formula</td>\n",
              "      <td>0.430201</td>\n",
              "    </tr>\n",
              "    <tr>\n",
              "      <td>r2_sklearn</td>\n",
              "      <td>0.430201</td>\n",
              "    </tr>\n",
              "  </tbody>\n",
              "</table>\n",
              "</div>"
            ],
            "text/plain": [
              "             Значения\n",
              "Метрики              \n",
              "mse_formula  0.125273\n",
              "mse_sklearn  0.125273\n",
              "r2_formula   0.430201\n",
              "r2_sklearn   0.430201"
            ]
          },
          "execution_count": 19,
          "metadata": {},
          "output_type": "execute_result"
        }
      ]
    },
    {
      "cell_type": "markdown",
      "metadata": {
        "id": "HtZrdE6mq8Zg"
      },
      "source": [
        "Предположение подтвердилось. Результаты формулы и линейной регрессии из пакета sklearn одинаковы. "
      ]
    },
    {
      "cell_type": "markdown",
      "metadata": {
        "id": "ZLv7_8EAq8Zh"
      },
      "source": [
        "### Создание обратимой матрицы"
      ]
    },
    {
      "cell_type": "code",
      "metadata": {
        "id": "YlqT_YGiq8Zh"
      },
      "source": [
        "def random_matrix(features):\n",
        "    np.random.seed(12345)\n",
        "    matrix = np.random.randint(-10, 10, size = (features.shape[1], features.shape[1])) #случайная квадратная матрица размером с количество признаков\n",
        "    define = np.linalg.det(matrix) #определитель (если он равен 0, матрица необратима)\n",
        "    while define == 0:\n",
        "        np.random.seed(12345)\n",
        "        matrix = np.random.randint(-10, 10, size = (features.shape[1], features.shape[1]))\n",
        "    inv_matrix = np.linalg.inv(matrix) #обратная матрица\n",
        "    e_matrix = (np.dot(matrix, inv_matrix)).astype(int) #единичная матрица\n",
        "    return e_matrix, inv_matrix, matrix     "
      ],
      "execution_count": null,
      "outputs": []
    },
    {
      "cell_type": "code",
      "metadata": {
        "id": "3GcvAIo0q8Zi",
        "outputId": "443ce871-ab8c-48db-e830-84d92e0d2636"
      },
      "source": [
        "e_matrix_random, inv_matrix_random, matrix_random = random_matrix(features)\n",
        "matrix_random"
      ],
      "execution_count": null,
      "outputs": [
        {
          "data": {
            "text/plain": [
              "array([[-8, -5, -9, -6],\n",
              "       [-1, -5, -8, -9],\n",
              "       [ 7,  4, -1,  6],\n",
              "       [ 8, -1,  1,  3]])"
            ]
          },
          "execution_count": 21,
          "metadata": {},
          "output_type": "execute_result"
        }
      ]
    },
    {
      "cell_type": "markdown",
      "metadata": {
        "id": "t0knrUabq8Zi"
      },
      "source": [
        "Для проверки и из любопытства посморим на единичную матрицу. Есть."
      ]
    },
    {
      "cell_type": "code",
      "metadata": {
        "id": "Om05eaBNq8Zi",
        "outputId": "0fc45368-9200-42a8-840d-ac4db9a3800a"
      },
      "source": [
        "e_matrix_random"
      ],
      "execution_count": null,
      "outputs": [
        {
          "data": {
            "text/plain": [
              "array([[1, 0, 0, 0],\n",
              "       [0, 1, 0, 0],\n",
              "       [0, 0, 1, 0],\n",
              "       [0, 0, 0, 1]])"
            ]
          },
          "execution_count": 22,
          "metadata": {},
          "output_type": "execute_result"
        }
      ]
    },
    {
      "cell_type": "markdown",
      "metadata": {
        "id": "8Ttt7Em3q8Zi"
      },
      "source": [
        "### Создание преобразованной матрицы"
      ]
    },
    {
      "cell_type": "code",
      "metadata": {
        "id": "df3MpzGjq8Zj",
        "outputId": "589580e9-a0f1-41d2-9c7f-9805aa183c5b"
      },
      "source": [
        "features_transformed = np.dot(features, matrix_random)\n",
        "print('Размер преобразованной матрицы:', features_transformed.shape)\n",
        "print('Размер исходной матрицы:', features.shape)"
      ],
      "execution_count": null,
      "outputs": [
        {
          "name": "stdout",
          "output_type": "stream",
          "text": [
            "Размер преобразованной матрицы: (4847, 4)\n",
            "Размер исходной матрицы: (4847, 4)\n"
          ]
        }
      ]
    },
    {
      "cell_type": "markdown",
      "metadata": {
        "id": "S5VlAHyAq8Zj"
      },
      "source": [
        "### Разделение на обучающую и тестовую выборки"
      ]
    },
    {
      "cell_type": "markdown",
      "metadata": {
        "id": "w1XtIplXq8Zj"
      },
      "source": [
        "#### Исходные данные"
      ]
    },
    {
      "cell_type": "code",
      "metadata": {
        "id": "ehWF8azmq8Zj"
      },
      "source": [
        "features_train, features_test, target_train, target_test = train_test_split(\n",
        "    features, target, test_size=0.25, random_state=12345)"
      ],
      "execution_count": null,
      "outputs": []
    },
    {
      "cell_type": "markdown",
      "metadata": {
        "id": "FB_P_l1Gq8Zk"
      },
      "source": [
        "#### Преобразованные данные"
      ]
    },
    {
      "cell_type": "code",
      "metadata": {
        "id": "57hTzVJWq8Zk"
      },
      "source": [
        "features_train_transformed, features_test_transformed, target_train_transformed, target_test_transformed = train_test_split(\n",
        "    features_transformed, target, test_size=0.25, random_state=12345)"
      ],
      "execution_count": null,
      "outputs": []
    },
    {
      "cell_type": "markdown",
      "metadata": {
        "id": "pltpl-W8q8Zk"
      },
      "source": [
        "### Масштабирование признаков"
      ]
    },
    {
      "cell_type": "code",
      "metadata": {
        "id": "JTPNe3ESq8Zk"
      },
      "source": [
        "def scaler_st(features_train, features_test):\n",
        "    scaler = StandardScaler()\n",
        "    scaler.fit(features_train) \n",
        "    features_train = scaler.transform(features_train)\n",
        "    features_test = scaler.transform(features_test) \n",
        "    return features_train, features_test"
      ],
      "execution_count": null,
      "outputs": []
    },
    {
      "cell_type": "markdown",
      "metadata": {
        "id": "e4vdHtd6q8Zk"
      },
      "source": [
        "#### Исходные данные"
      ]
    },
    {
      "cell_type": "code",
      "metadata": {
        "id": "tR9vJ0Aaq8Zl"
      },
      "source": [
        "features_train, features_test = scaler_st(features_train, features_test)"
      ],
      "execution_count": null,
      "outputs": []
    },
    {
      "cell_type": "markdown",
      "metadata": {
        "id": "o5_NLIoAq8Zl"
      },
      "source": [
        "#### Преобразованные данные"
      ]
    },
    {
      "cell_type": "code",
      "metadata": {
        "id": "YUpC5chRq8Zl"
      },
      "source": [
        "features_train_transformed, features_test_transformed = scaler_st(features_train_transformed, features_test_transformed)"
      ],
      "execution_count": null,
      "outputs": []
    },
    {
      "cell_type": "markdown",
      "metadata": {
        "id": "XdbatKL1q8Zl"
      },
      "source": [
        "### Обучение и проверка"
      ]
    },
    {
      "cell_type": "code",
      "metadata": {
        "id": "GGKgZmJuq8Zl"
      },
      "source": [
        "def linear_fit(features_train, features_test, target_train, target_test):\n",
        "    model = LinearRegression().fit(features_train, target_train)\n",
        "    predictions = model.predict(features_test)\n",
        "    mse = mean_squared_error(target_test, predictions)\n",
        "    r2 = r2_score(target_test, predictions)\n",
        "    \n",
        "    return mse, r2 "
      ],
      "execution_count": null,
      "outputs": []
    },
    {
      "cell_type": "markdown",
      "metadata": {
        "id": "djyo1Qooq8Zm"
      },
      "source": [
        "#### Исходные данные"
      ]
    },
    {
      "cell_type": "code",
      "metadata": {
        "id": "Uq7vmo2-q8Zm"
      },
      "source": [
        "mse, r2 = linear_fit(features_train, features_test, target_train, target_test)"
      ],
      "execution_count": null,
      "outputs": []
    },
    {
      "cell_type": "markdown",
      "metadata": {
        "id": "f5y7Zpm1q8Zm"
      },
      "source": [
        "#### Преобразованные данные"
      ]
    },
    {
      "cell_type": "code",
      "metadata": {
        "id": "nMSJfH52q8Zm"
      },
      "source": [
        "mse_transformed, r2_transformed = linear_fit(features_train_transformed, features_test_transformed, target_train_transformed, target_test_transformed)"
      ],
      "execution_count": null,
      "outputs": []
    },
    {
      "cell_type": "markdown",
      "metadata": {
        "id": "Z8-AYIHZq8Zn"
      },
      "source": [
        "#### Сравнение метрик"
      ]
    },
    {
      "cell_type": "code",
      "metadata": {
        "id": "u3oM0raxq8Zn",
        "outputId": "1070a6f2-262f-404c-d447-bd04d81c3f15"
      },
      "source": [
        "metrics_sklearn = {\n",
        "    'Метрики': ['mse на исходных данных',\n",
        "                'mse на преобразованных данных',\n",
        "                'r2 на исходных данных',\n",
        "                'r2 на преобразованных данных'],\n",
        "    'Значения': [mse, \n",
        "                 mse_transformed, \n",
        "                 r2, \n",
        "                 r2_transformed]\n",
        "}\n",
        "metrics_sklearn = pd.DataFrame(metrics_sklearn).set_index('Метрики')\n",
        "metrics_sklearn"
      ],
      "execution_count": null,
      "outputs": [
        {
          "data": {
            "text/html": [
              "<div>\n",
              "<style scoped>\n",
              "    .dataframe tbody tr th:only-of-type {\n",
              "        vertical-align: middle;\n",
              "    }\n",
              "\n",
              "    .dataframe tbody tr th {\n",
              "        vertical-align: top;\n",
              "    }\n",
              "\n",
              "    .dataframe thead th {\n",
              "        text-align: right;\n",
              "    }\n",
              "</style>\n",
              "<table border=\"1\" class=\"dataframe\">\n",
              "  <thead>\n",
              "    <tr style=\"text-align: right;\">\n",
              "      <th></th>\n",
              "      <th>Значения</th>\n",
              "    </tr>\n",
              "    <tr>\n",
              "      <th>Метрики</th>\n",
              "      <th></th>\n",
              "    </tr>\n",
              "  </thead>\n",
              "  <tbody>\n",
              "    <tr>\n",
              "      <td>mse на исходных данных</td>\n",
              "      <td>0.119550</td>\n",
              "    </tr>\n",
              "    <tr>\n",
              "      <td>mse на преобразованных данных</td>\n",
              "      <td>0.119550</td>\n",
              "    </tr>\n",
              "    <tr>\n",
              "      <td>r2 на исходных данных</td>\n",
              "      <td>0.423077</td>\n",
              "    </tr>\n",
              "    <tr>\n",
              "      <td>r2 на преобразованных данных</td>\n",
              "      <td>0.423077</td>\n",
              "    </tr>\n",
              "  </tbody>\n",
              "</table>\n",
              "</div>"
            ],
            "text/plain": [
              "                               Значения\n",
              "Метрики                                \n",
              "mse на исходных данных         0.119550\n",
              "mse на преобразованных данных  0.119550\n",
              "r2 на исходных данных          0.423077\n",
              "r2 на преобразованных данных   0.423077"
            ]
          },
          "execution_count": 32,
          "metadata": {},
          "output_type": "execute_result"
        }
      ]
    },
    {
      "cell_type": "markdown",
      "metadata": {
        "id": "-e0AfLa2q8Zn"
      },
      "source": [
        "Метрики, полученные при обучении и тестировании на исходных и преобразованных данных, одинаковы."
      ]
    },
    {
      "cell_type": "markdown",
      "metadata": {
        "id": "aC3-Y7vEq8Zp"
      },
      "source": [
        "## Вывод"
      ]
    },
    {
      "cell_type": "markdown",
      "metadata": {
        "id": "LZOsbhk5q8Zq"
      },
      "source": [
        "* Были загружены, исследованы и предобработаны данные.\n",
        "* Теоретически было доказано, что если признаки умножают на обратимую матрицу, качество линейной регрессии не изменяется.\n",
        "* Было проверено соответствие формулы из теоретического обоснования готовому пакету LinearRegression из модуля sklearn.\n",
        "* Мы преобразовали признаки при помощи умножения на обратимую матрицу соответствующего количеству признаков размера. После обучили линейной регрессией модели на исходных и преобразованных данных. Сравнили метрики - они не отличаются, исходя из чего мы можем предложить такой способ шифровки данных подходящим для их защиты и не искажающим предсказания обученной модели.\n"
      ]
    }
  ]
}