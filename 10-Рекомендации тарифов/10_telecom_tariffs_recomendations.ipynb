{
  "nbformat": 4,
  "nbformat_minor": 0,
  "metadata": {
    "kernelspec": {
      "display_name": "Python 3",
      "language": "python",
      "name": "python3"
    },
    "language_info": {
      "codemirror_mode": {
        "name": "ipython",
        "version": 3
      },
      "file_extension": ".py",
      "mimetype": "text/x-python",
      "name": "python",
      "nbconvert_exporter": "python",
      "pygments_lexer": "ipython3",
      "version": "3.7.8"
    },
    "toc": {
      "base_numbering": 1,
      "nav_menu": {
        "height": "419px",
        "width": "506px"
      },
      "number_sections": true,
      "sideBar": true,
      "skip_h1_title": true,
      "title_cell": "Table of Contents",
      "title_sidebar": "Contents",
      "toc_cell": false,
      "toc_position": {},
      "toc_section_display": true,
      "toc_window_display": false
    },
    "colab": {
      "name": "введение_в_мл.ipynb",
      "provenance": [],
      "collapsed_sections": [],
      "toc_visible": true
    }
  },
  "cells": [
    {
      "cell_type": "markdown",
      "metadata": {
        "id": "oManWVvsdkmb"
      },
      "source": [
        "# Рекомендация тарифов"
      ]
    },
    {
      "cell_type": "markdown",
      "metadata": {
        "id": "rylZsOYqdkmd"
      },
      "source": [
        "## Изучение данных"
      ]
    },
    {
      "cell_type": "code",
      "metadata": {
        "id": "2qDTOKiIdkme"
      },
      "source": [
        "import pandas as pd\n",
        "import numpy as np\n",
        "from sklearn.model_selection import train_test_split\n",
        "from sklearn.tree import DecisionTreeClassifier\n",
        "from sklearn import tree\n",
        "from sklearn.ensemble import RandomForestClassifier\n",
        "from sklearn.linear_model import LogisticRegression\n",
        "from math import sqrt\n",
        "import matplotlib.pyplot as plt\n",
        "from sklearn.metrics import accuracy_score\n",
        "from sklearn.metrics import confusion_matrix\n",
        "from sklearn.metrics import precision_score\n",
        "from sklearn.metrics import recall_score\n",
        "from sklearn.metrics import f1_score\n",
        "from sklearn.metrics import classification_report\n",
        "from sklearn.dummy import DummyClassifier\n",
        "import warnings\n",
        "warnings.filterwarnings('ignore')"
      ],
      "execution_count": null,
      "outputs": []
    },
    {
      "cell_type": "code",
      "metadata": {
        "id": "CH3-k1sddkmg",
        "outputId": "6503d411-1e9a-45c4-fd69-3e574cc6543f"
      },
      "source": [
        "data = pd.read_csv('/datasets/users_behavior.csv')\n",
        "data.head()"
      ],
      "execution_count": null,
      "outputs": [
        {
          "data": {
            "text/html": [
              "<div>\n",
              "<style scoped>\n",
              "    .dataframe tbody tr th:only-of-type {\n",
              "        vertical-align: middle;\n",
              "    }\n",
              "\n",
              "    .dataframe tbody tr th {\n",
              "        vertical-align: top;\n",
              "    }\n",
              "\n",
              "    .dataframe thead th {\n",
              "        text-align: right;\n",
              "    }\n",
              "</style>\n",
              "<table border=\"1\" class=\"dataframe\">\n",
              "  <thead>\n",
              "    <tr style=\"text-align: right;\">\n",
              "      <th></th>\n",
              "      <th>calls</th>\n",
              "      <th>minutes</th>\n",
              "      <th>messages</th>\n",
              "      <th>mb_used</th>\n",
              "      <th>is_ultra</th>\n",
              "    </tr>\n",
              "  </thead>\n",
              "  <tbody>\n",
              "    <tr>\n",
              "      <td>0</td>\n",
              "      <td>40.0</td>\n",
              "      <td>311.90</td>\n",
              "      <td>83.0</td>\n",
              "      <td>19915.42</td>\n",
              "      <td>0</td>\n",
              "    </tr>\n",
              "    <tr>\n",
              "      <td>1</td>\n",
              "      <td>85.0</td>\n",
              "      <td>516.75</td>\n",
              "      <td>56.0</td>\n",
              "      <td>22696.96</td>\n",
              "      <td>0</td>\n",
              "    </tr>\n",
              "    <tr>\n",
              "      <td>2</td>\n",
              "      <td>77.0</td>\n",
              "      <td>467.66</td>\n",
              "      <td>86.0</td>\n",
              "      <td>21060.45</td>\n",
              "      <td>0</td>\n",
              "    </tr>\n",
              "    <tr>\n",
              "      <td>3</td>\n",
              "      <td>106.0</td>\n",
              "      <td>745.53</td>\n",
              "      <td>81.0</td>\n",
              "      <td>8437.39</td>\n",
              "      <td>1</td>\n",
              "    </tr>\n",
              "    <tr>\n",
              "      <td>4</td>\n",
              "      <td>66.0</td>\n",
              "      <td>418.74</td>\n",
              "      <td>1.0</td>\n",
              "      <td>14502.75</td>\n",
              "      <td>0</td>\n",
              "    </tr>\n",
              "  </tbody>\n",
              "</table>\n",
              "</div>"
            ],
            "text/plain": [
              "   calls  minutes  messages   mb_used  is_ultra\n",
              "0   40.0   311.90      83.0  19915.42         0\n",
              "1   85.0   516.75      56.0  22696.96         0\n",
              "2   77.0   467.66      86.0  21060.45         0\n",
              "3  106.0   745.53      81.0   8437.39         1\n",
              "4   66.0   418.74       1.0  14502.75         0"
            ]
          },
          "execution_count": 2,
          "metadata": {},
          "output_type": "execute_result"
        }
      ]
    },
    {
      "cell_type": "markdown",
      "metadata": {
        "id": "JJOZvPu_dkmh"
      },
      "source": [
        "**Описание данных**\n",
        "\n",
        "Каждый объект в наборе данных — это информация о поведении одного пользователя за месяц. \n",
        "\n",
        "Известно:\n",
        "*\tсalls — количество звонков,\n",
        "*\tminutes — суммарная длительность звонков в минутах,\n",
        "*\tmessages — количество sms-сообщений,\n",
        "*\tmb_used — израсходованный интернет-трафик в Мб,\n",
        "*\tis_ultra — каким тарифом пользовался в течение месяца («Ультра» — 1, «Смарт» — 0).\n"
      ]
    },
    {
      "cell_type": "code",
      "metadata": {
        "id": "4hy5G7Zedkmi",
        "outputId": "0f5874c1-b4a6-4135-88a0-e48ef741f1fe"
      },
      "source": [
        "data.info()"
      ],
      "execution_count": null,
      "outputs": [
        {
          "name": "stdout",
          "output_type": "stream",
          "text": [
            "<class 'pandas.core.frame.DataFrame'>\n",
            "RangeIndex: 3214 entries, 0 to 3213\n",
            "Data columns (total 5 columns):\n",
            "calls       3214 non-null float64\n",
            "minutes     3214 non-null float64\n",
            "messages    3214 non-null float64\n",
            "mb_used     3214 non-null float64\n",
            "is_ultra    3214 non-null int64\n",
            "dtypes: float64(4), int64(1)\n",
            "memory usage: 125.7 KB\n"
          ]
        }
      ]
    },
    {
      "cell_type": "code",
      "metadata": {
        "id": "W_UJP5A6dkmj",
        "outputId": "212ec69a-185c-4510-e9ee-aa7a14354547"
      },
      "source": [
        "data.describe()"
      ],
      "execution_count": null,
      "outputs": [
        {
          "data": {
            "text/html": [
              "<div>\n",
              "<style scoped>\n",
              "    .dataframe tbody tr th:only-of-type {\n",
              "        vertical-align: middle;\n",
              "    }\n",
              "\n",
              "    .dataframe tbody tr th {\n",
              "        vertical-align: top;\n",
              "    }\n",
              "\n",
              "    .dataframe thead th {\n",
              "        text-align: right;\n",
              "    }\n",
              "</style>\n",
              "<table border=\"1\" class=\"dataframe\">\n",
              "  <thead>\n",
              "    <tr style=\"text-align: right;\">\n",
              "      <th></th>\n",
              "      <th>calls</th>\n",
              "      <th>minutes</th>\n",
              "      <th>messages</th>\n",
              "      <th>mb_used</th>\n",
              "      <th>is_ultra</th>\n",
              "    </tr>\n",
              "  </thead>\n",
              "  <tbody>\n",
              "    <tr>\n",
              "      <td>count</td>\n",
              "      <td>3214.000000</td>\n",
              "      <td>3214.000000</td>\n",
              "      <td>3214.000000</td>\n",
              "      <td>3214.000000</td>\n",
              "      <td>3214.000000</td>\n",
              "    </tr>\n",
              "    <tr>\n",
              "      <td>mean</td>\n",
              "      <td>63.038892</td>\n",
              "      <td>438.208787</td>\n",
              "      <td>38.281269</td>\n",
              "      <td>17207.673836</td>\n",
              "      <td>0.306472</td>\n",
              "    </tr>\n",
              "    <tr>\n",
              "      <td>std</td>\n",
              "      <td>33.236368</td>\n",
              "      <td>234.569872</td>\n",
              "      <td>36.148326</td>\n",
              "      <td>7570.968246</td>\n",
              "      <td>0.461100</td>\n",
              "    </tr>\n",
              "    <tr>\n",
              "      <td>min</td>\n",
              "      <td>0.000000</td>\n",
              "      <td>0.000000</td>\n",
              "      <td>0.000000</td>\n",
              "      <td>0.000000</td>\n",
              "      <td>0.000000</td>\n",
              "    </tr>\n",
              "    <tr>\n",
              "      <td>25%</td>\n",
              "      <td>40.000000</td>\n",
              "      <td>274.575000</td>\n",
              "      <td>9.000000</td>\n",
              "      <td>12491.902500</td>\n",
              "      <td>0.000000</td>\n",
              "    </tr>\n",
              "    <tr>\n",
              "      <td>50%</td>\n",
              "      <td>62.000000</td>\n",
              "      <td>430.600000</td>\n",
              "      <td>30.000000</td>\n",
              "      <td>16943.235000</td>\n",
              "      <td>0.000000</td>\n",
              "    </tr>\n",
              "    <tr>\n",
              "      <td>75%</td>\n",
              "      <td>82.000000</td>\n",
              "      <td>571.927500</td>\n",
              "      <td>57.000000</td>\n",
              "      <td>21424.700000</td>\n",
              "      <td>1.000000</td>\n",
              "    </tr>\n",
              "    <tr>\n",
              "      <td>max</td>\n",
              "      <td>244.000000</td>\n",
              "      <td>1632.060000</td>\n",
              "      <td>224.000000</td>\n",
              "      <td>49745.730000</td>\n",
              "      <td>1.000000</td>\n",
              "    </tr>\n",
              "  </tbody>\n",
              "</table>\n",
              "</div>"
            ],
            "text/plain": [
              "             calls      minutes     messages       mb_used     is_ultra\n",
              "count  3214.000000  3214.000000  3214.000000   3214.000000  3214.000000\n",
              "mean     63.038892   438.208787    38.281269  17207.673836     0.306472\n",
              "std      33.236368   234.569872    36.148326   7570.968246     0.461100\n",
              "min       0.000000     0.000000     0.000000      0.000000     0.000000\n",
              "25%      40.000000   274.575000     9.000000  12491.902500     0.000000\n",
              "50%      62.000000   430.600000    30.000000  16943.235000     0.000000\n",
              "75%      82.000000   571.927500    57.000000  21424.700000     1.000000\n",
              "max     244.000000  1632.060000   224.000000  49745.730000     1.000000"
            ]
          },
          "execution_count": 4,
          "metadata": {},
          "output_type": "execute_result"
        }
      ]
    },
    {
      "cell_type": "markdown",
      "metadata": {
        "id": "cQPwvSHEdkmk"
      },
      "source": [
        "У нас есть данные по 3214 абонентам Мегалайна. По условию задания данные уже предобработаны - пропусков и выбросов нет. Тип тарифа (\"Ультра\" - 1 или \"Смарт\" - 0) хранится в переменной is_ultra, доля тарифа \"Ультра\" - 0.306472. "
      ]
    },
    {
      "cell_type": "markdown",
      "metadata": {
        "id": "NVETFisXdkml"
      },
      "source": [
        "## Разбиение на выборки"
      ]
    },
    {
      "cell_type": "markdown",
      "metadata": {
        "id": "kkb5nmJpdkmm"
      },
      "source": [
        "Наша задача: \"построить модель для задачи классификации, которая выберет подходящий тариф\". Исходя из задачи, целевым признаком (target) мы нарекаем is_ultra: предлагаем пользователю тариф \"Ультра\" (1) или \"Смарт\" (0). Остальные признаки объединяем в features."
      ]
    },
    {
      "cell_type": "code",
      "metadata": {
        "id": "EiUvxL9Qdkmm"
      },
      "source": [
        "features = data.drop(['is_ultra'], axis=1)\n",
        "target = data['is_ultra']"
      ],
      "execution_count": null,
      "outputs": []
    },
    {
      "cell_type": "markdown",
      "metadata": {
        "id": "1Gq6Ddlddkmn"
      },
      "source": [
        "Разделим нашу выборку на три: train, valid и test в соотношении 3:1:1. Для этого сначала выделим тренировочную выборку (60%), а следующим шагом разделим оставшиеся 40% на валидационную и тестовую. "
      ]
    },
    {
      "cell_type": "code",
      "metadata": {
        "id": "CFVTq4p5dkmn"
      },
      "source": [
        "features_train, features_valid_test, target_train, target_valid_test = train_test_split(features, target, test_size=0.4, random_state=12345)\n",
        "features_valid, features_test, target_valid, target_test = train_test_split(features_valid_test, target_valid_test, test_size=0.5, random_state=12345)"
      ],
      "execution_count": null,
      "outputs": []
    },
    {
      "cell_type": "code",
      "metadata": {
        "id": "jaI5k5H8dkmo",
        "outputId": "26b7a959-afa2-4886-c003-207eec76e798"
      },
      "source": [
        "print('Размер train:', len(features_train))\n",
        "print('Размер valid:', len(features_valid))\n",
        "print('Размер test:', len(features_test))"
      ],
      "execution_count": null,
      "outputs": [
        {
          "name": "stdout",
          "output_type": "stream",
          "text": [
            "Размер train: 1928\n",
            "Размер valid: 643\n",
            "Размер test: 643\n"
          ]
        }
      ]
    },
    {
      "cell_type": "markdown",
      "metadata": {
        "id": "g0igfm2Vdkmo"
      },
      "source": [
        "Проверим соотношение."
      ]
    },
    {
      "cell_type": "code",
      "metadata": {
        "id": "lRHe8Ks0dkmp",
        "outputId": "8910aa3b-acd4-4a04-ea5f-6f8475c44d33"
      },
      "source": [
        "print('Доля train:', len(features_train)/len(data))\n",
        "print('Доля valid:', len(features_valid)/len(data))\n",
        "print('Доля test:', len(features_test)/len(data))"
      ],
      "execution_count": null,
      "outputs": [
        {
          "name": "stdout",
          "output_type": "stream",
          "text": [
            "Доля train: 0.5998755444928439\n",
            "Доля valid: 0.2000622277535781\n",
            "Доля test: 0.2000622277535781\n"
          ]
        }
      ]
    },
    {
      "cell_type": "markdown",
      "metadata": {
        "id": "xPB6nClbdkmp"
      },
      "source": [
        "60% - тренировочная, 20% - валидационная, 20% - тестовая. Всё сходится. "
      ]
    },
    {
      "cell_type": "code",
      "metadata": {
        "id": "L_EkvpK_dkmq",
        "outputId": "1828d3cd-a990-4a4a-a713-d70f650bc36f"
      },
      "source": [
        "print('\"Ультра\" в target_train:', target_train.sum(), '|', '\"Смарт\" в target_train:', (target_train.count() - target_train.sum()))\n",
        "print('\"Ультра\" в target_valid:', target_valid.sum(), '|', '\"Смарт\" в target_valid:', (target_valid.count() - target_valid.sum()))\n",
        "print('\"Ультра\" в target_test:', target_test.sum(), '|', '\"Смарт\" в target_test:', (target_test.count() - target_test.sum()))\n"
      ],
      "execution_count": null,
      "outputs": [
        {
          "name": "stdout",
          "output_type": "stream",
          "text": [
            "\"Ультра\" в target_train: 593 | \"Смарт\" в target_train: 1335\n",
            "\"Ультра\" в target_valid: 189 | \"Смарт\" в target_valid: 454\n",
            "\"Ультра\" в target_test: 203 | \"Смарт\" в target_test: 440\n"
          ]
        }
      ]
    },
    {
      "cell_type": "markdown",
      "metadata": {
        "id": "N1bNsyF8dkmr"
      },
      "source": [
        "## Исследование моделей"
      ]
    },
    {
      "cell_type": "markdown",
      "metadata": {
        "id": "EOWyINPCdkmr"
      },
      "source": [
        "В рамках задачи классификации исследуем три модели:\n",
        "* решающее дерево\n",
        "* случайный лес\n",
        "* логистическая регрессия"
      ]
    },
    {
      "cell_type": "markdown",
      "metadata": {
        "id": "KEkf-MfHdkms"
      },
      "source": [
        "### Решающее дерево"
      ]
    },
    {
      "cell_type": "markdown",
      "metadata": {
        "id": "TN8mSg_ndkms"
      },
      "source": [
        "Обучим модели с глубиной дерева от 1 до 21 и выберем лучшее по показателю accuracy. Лучшую модель сохраним в best_model_tree. "
      ]
    },
    {
      "cell_type": "code",
      "metadata": {
        "id": "0zZUaw6bdkms",
        "outputId": "e54c9451-7d40-4cb7-d31c-cbc5a8d8f4ce"
      },
      "source": [
        "best_model_tree = None\n",
        "depth_of_best_model = 0\n",
        "best_result_tree = 0\n",
        "depths = []\n",
        "accuracy_scores = []\n",
        "for depth in range(1, 21):\n",
        "    model = DecisionTreeClassifier(random_state=12345, max_depth=depth)\n",
        "    model.fit(features_train, target_train)\n",
        "    predictions = model.predict(features_valid)\n",
        "    result = accuracy_score(target_valid, predictions)\n",
        "    depths.append(depth)\n",
        "    accuracy_scores.append(result)\n",
        "    if result > best_result_tree:\n",
        "        best_model_tree = model\n",
        "        depth_of_best_model = depth\n",
        "        best_result_tree = result\n",
        "    print(\"Depth:\", depth, \"|\", \"Accuracy:\", result)\n",
        "print(\"---------------------------------------------------------------\")        \n",
        "print(\"Accuracy лучшей модели:\", best_result_tree, \"при глубине дерева\", depth_of_best_model)"
      ],
      "execution_count": null,
      "outputs": [
        {
          "name": "stdout",
          "output_type": "stream",
          "text": [
            "Depth: 1 | Accuracy: 0.7542768273716952\n",
            "Depth: 2 | Accuracy: 0.7822706065318819\n",
            "Depth: 3 | Accuracy: 0.7853810264385692\n",
            "Depth: 4 | Accuracy: 0.7791601866251944\n",
            "Depth: 5 | Accuracy: 0.7791601866251944\n",
            "Depth: 6 | Accuracy: 0.7838258164852255\n",
            "Depth: 7 | Accuracy: 0.7822706065318819\n",
            "Depth: 8 | Accuracy: 0.7791601866251944\n",
            "Depth: 9 | Accuracy: 0.7822706065318819\n",
            "Depth: 10 | Accuracy: 0.7744945567651633\n",
            "Depth: 11 | Accuracy: 0.7620528771384136\n",
            "Depth: 12 | Accuracy: 0.7620528771384136\n",
            "Depth: 13 | Accuracy: 0.7558320373250389\n",
            "Depth: 14 | Accuracy: 0.7589424572317263\n",
            "Depth: 15 | Accuracy: 0.7465007776049767\n",
            "Depth: 16 | Accuracy: 0.7340590979782271\n",
            "Depth: 17 | Accuracy: 0.7356143079315708\n",
            "Depth: 18 | Accuracy: 0.7309486780715396\n",
            "Depth: 19 | Accuracy: 0.7278382581648523\n",
            "Depth: 20 | Accuracy: 0.7216174183514774\n",
            "---------------------------------------------------------------\n",
            "Accuracy лучшей модели: 0.7853810264385692 при глубине дерева 3\n"
          ]
        }
      ]
    },
    {
      "cell_type": "markdown",
      "metadata": {
        "id": "JogfB6KOdkmt"
      },
      "source": [
        "Лучшей оказалась модель с глубиной дерева 3 (accuracy - 0.7853810264385692). Дерево:"
      ]
    },
    {
      "cell_type": "code",
      "metadata": {
        "id": "EfxsB5ODdkmt",
        "outputId": "1248b5f3-0a92-4063-c4a6-5a7b1fc7eb01"
      },
      "source": [
        "plt.figure(figsize=(10,8))\n",
        "tree.plot_tree(best_model_tree)"
      ],
      "execution_count": null,
      "outputs": [
        {
          "data": {
            "text/plain": [
              "[Text(279.0, 380.52, 'X[3] <= 26244.135\\nentropy = 0.426\\nsamples = 1928\\nvalue = [1335, 593]'),\n",
              " Text(139.5, 271.8, 'X[1] <= 755.485\\nentropy = 0.375\\nsamples = 1736\\nvalue = [1302, 434]'),\n",
              " Text(69.75, 163.07999999999998, 'X[2] <= 115.0\\nentropy = 0.337\\nsamples = 1622\\nvalue = [1274, 348]'),\n",
              " Text(34.875, 54.360000000000014, 'entropy = 0.311\\nsamples = 1570\\nvalue = [1267, 303]'),\n",
              " Text(104.625, 54.360000000000014, 'entropy = 0.233\\nsamples = 52\\nvalue = [7, 45]'),\n",
              " Text(209.25, 163.07999999999998, 'X[0] <= 128.5\\nentropy = 0.371\\nsamples = 114\\nvalue = [28, 86]'),\n",
              " Text(174.375, 54.360000000000014, 'entropy = 0.45\\nsamples = 76\\nvalue = [26, 50]'),\n",
              " Text(244.125, 54.360000000000014, 'entropy = 0.1\\nsamples = 38\\nvalue = [2, 36]'),\n",
              " Text(418.5, 271.8, 'X[3] <= 31565.21\\nentropy = 0.285\\nsamples = 192\\nvalue = [33, 159]'),\n",
              " Text(348.75, 163.07999999999998, 'X[1] <= 592.61\\nentropy = 0.394\\nsamples = 111\\nvalue = [30, 81]'),\n",
              " Text(313.875, 54.360000000000014, 'entropy = 0.45\\nsamples = 76\\nvalue = [26, 50]'),\n",
              " Text(383.625, 54.360000000000014, 'entropy = 0.202\\nsamples = 35\\nvalue = [4, 31]'),\n",
              " Text(488.25, 163.07999999999998, 'X[3] <= 33851.369\\nentropy = 0.071\\nsamples = 81\\nvalue = [3, 78]'),\n",
              " Text(453.375, 54.360000000000014, 'entropy = 0.0\\nsamples = 31\\nvalue = [0, 31]'),\n",
              " Text(523.125, 54.360000000000014, 'entropy = 0.113\\nsamples = 50\\nvalue = [3, 47]')]"
            ]
          },
          "execution_count": 11,
          "metadata": {},
          "output_type": "execute_result"
        },
        {
          "data": {
            "image/png": "[encoded data removed]",
            "text/plain": [
              "<Figure size 720x576 with 1 Axes>"
            ]
          },
          "metadata": {
            "needs_background": "light"
          },
          "output_type": "display_data"
        }
      ]
    },
    {
      "cell_type": "code",
      "metadata": {
        "id": "h7eL38Uodkmu",
        "outputId": "caaef086-177a-4c6a-8e3c-fec683e6d0ce"
      },
      "source": [
        "depths = pd.Series(depths) \n",
        "accuracy_scores = pd.Series(accuracy_scores) \n",
        "pd.concat([depths, accuracy_scores], axis=1).plot(x=0, y=1, figsize=(15,5), title='Accuracies при разных глубинах деревьев')"
      ],
      "execution_count": null,
      "outputs": [
        {
          "data": {
            "text/plain": [
              "<matplotlib.axes._subplots.AxesSubplot at 0x7fcb20a8af90>"
            ]
          },
          "execution_count": 12,
          "metadata": {},
          "output_type": "execute_result"
        },
        {
          "data": {
            "image/png": "[encoded data removed]",
            "text/plain": [
              "<Figure size 1080x360 with 1 Axes>"
            ]
          },
          "metadata": {
            "needs_background": "light"
          },
          "output_type": "display_data"
        }
      ]
    },
    {
      "cell_type": "markdown",
      "metadata": {
        "id": "GLXWpiW7dkmv"
      },
      "source": [
        "На графике видим, что после глубины дерева 9 показатель точности стабильно падает - модель переобучается. Видимо, при выборке большего размера была бы другая картина. "
      ]
    },
    {
      "cell_type": "markdown",
      "metadata": {
        "id": "1ibWsU7fdkmv"
      },
      "source": [
        "### Случайный лес"
      ]
    },
    {
      "cell_type": "markdown",
      "metadata": {
        "id": "KBSC2Ofmdkmw"
      },
      "source": [
        "Обучим модели случайного леса с разным количеством оценщиков-деревьев и с разными глубинами деревьев. Лучший по accuracy вариант сохраним в best_model_forest."
      ]
    },
    {
      "cell_type": "code",
      "metadata": {
        "id": "bdqJl7B8dkmw",
        "outputId": "47b6deec-45e1-4a3d-bbe3-65ad35f26361"
      },
      "source": [
        "best_model_forest = None\n",
        "est_of_best_model = 0\n",
        "depth_of_best_model = 0\n",
        "best_result_forest = 0\n",
        "depths = []\n",
        "accuracy_scores = []\n",
        "forest = [] \n",
        "for est in range(10, 150, 10):\n",
        "    for depth in range(1, 11):\n",
        "        model = RandomForestClassifier(random_state=12345, n_estimators=est, max_depth=depth)\n",
        "        model.fit(features_train, target_train)\n",
        "        predictions = model.predict(features_valid)\n",
        "        result = accuracy_score(target_valid, predictions)\n",
        "        forest.append(est)\n",
        "        depths.append(depth)\n",
        "        accuracy_scores.append(result)\n",
        "        if result > best_result_forest:\n",
        "            best_model_forest = model\n",
        "            est_of_best_model = est\n",
        "            depth_of_best_model = depth\n",
        "            best_result_forest = result\n",
        "            print(\"n_estimators:\", est, \"|\", \"Depth:\", depth, \"|\", \"Accuracy:\", result)\n",
        "print(\"-----------------------------------------------------------------------------------------\")        \n",
        "print(\"Accuracy лучшей модели:\", best_result_forest, \"при количестве оценщиков\", est_of_best_model, \"при глубине дерева\", depth_of_best_model)"
      ],
      "execution_count": null,
      "outputs": [
        {
          "name": "stdout",
          "output_type": "stream",
          "text": [
            "n_estimators: 10 | Depth: 1 | Accuracy: 0.7558320373250389\n",
            "n_estimators: 10 | Depth: 2 | Accuracy: 0.7776049766718507\n",
            "n_estimators: 10 | Depth: 3 | Accuracy: 0.7853810264385692\n",
            "n_estimators: 10 | Depth: 4 | Accuracy: 0.7900466562986003\n",
            "n_estimators: 10 | Depth: 5 | Accuracy: 0.7931570762052877\n",
            "n_estimators: 10 | Depth: 6 | Accuracy: 0.8009331259720062\n",
            "n_estimators: 30 | Depth: 7 | Accuracy: 0.80248833592535\n",
            "n_estimators: 40 | Depth: 8 | Accuracy: 0.8087091757387247\n",
            "-----------------------------------------------------------------------------------------\n",
            "Accuracy лучшей модели: 0.8087091757387247 при количестве оценщиков 40 при глубине дерева 8\n"
          ]
        }
      ]
    },
    {
      "cell_type": "markdown",
      "metadata": {
        "id": "0cCujYLgdkmx"
      },
      "source": [
        "Лучшей оказалась модель с 40 деревьями и глубиной дерева 8: accuracy = 0.8087091757387247"
      ]
    },
    {
      "cell_type": "code",
      "metadata": {
        "id": "MBqXXMHLdkmx",
        "outputId": "93c217d1-3669-4513-9c56-7da860f644a5"
      },
      "source": [
        "forest = pd.Series(forest)\n",
        "depths = pd.Series(depths) \n",
        "accuracy_scores = pd.Series(accuracy_scores) \n",
        "forest_data = pd.concat([forest, depths, accuracy_scores], axis=1)\n",
        "forest_data.columns = ['est', 'depth', 'accuracy']\n",
        "forest_data.sample(3)"
      ],
      "execution_count": null,
      "outputs": [
        {
          "data": {
            "text/html": [
              "<div>\n",
              "<style scoped>\n",
              "    .dataframe tbody tr th:only-of-type {\n",
              "        vertical-align: middle;\n",
              "    }\n",
              "\n",
              "    .dataframe tbody tr th {\n",
              "        vertical-align: top;\n",
              "    }\n",
              "\n",
              "    .dataframe thead th {\n",
              "        text-align: right;\n",
              "    }\n",
              "</style>\n",
              "<table border=\"1\" class=\"dataframe\">\n",
              "  <thead>\n",
              "    <tr style=\"text-align: right;\">\n",
              "      <th></th>\n",
              "      <th>est</th>\n",
              "      <th>depth</th>\n",
              "      <th>accuracy</th>\n",
              "    </tr>\n",
              "  </thead>\n",
              "  <tbody>\n",
              "    <tr>\n",
              "      <td>103</td>\n",
              "      <td>110</td>\n",
              "      <td>4</td>\n",
              "      <td>0.788491</td>\n",
              "    </tr>\n",
              "    <tr>\n",
              "      <td>50</td>\n",
              "      <td>60</td>\n",
              "      <td>1</td>\n",
              "      <td>0.763608</td>\n",
              "    </tr>\n",
              "    <tr>\n",
              "      <td>53</td>\n",
              "      <td>60</td>\n",
              "      <td>4</td>\n",
              "      <td>0.786936</td>\n",
              "    </tr>\n",
              "  </tbody>\n",
              "</table>\n",
              "</div>"
            ],
            "text/plain": [
              "     est  depth  accuracy\n",
              "103  110      4  0.788491\n",
              "50    60      1  0.763608\n",
              "53    60      4  0.786936"
            ]
          },
          "execution_count": 14,
          "metadata": {},
          "output_type": "execute_result"
        }
      ]
    },
    {
      "cell_type": "code",
      "metadata": {
        "id": "dqagsrP0dkmx",
        "outputId": "32664efd-d4cc-4160-85ea-4f6bdad45f88"
      },
      "source": [
        "plt.figure(figsize=(18,8))\n",
        "plt.plot(forest_data.pivot_table(index='est', values='accuracy', aggfunc='max'), label='accuracy')\n",
        "plt.title('Accuracy при разном количестве n_estimators')\n",
        "plt.legend()\n",
        "plt.grid(True)\n",
        "plt.show()"
      ],
      "execution_count": null,
      "outputs": [
        {
          "data": {
            "image/png": "[encoded data removed]",
            "text/plain": [
              "<Figure size 1296x576 with 1 Axes>"
            ]
          },
          "metadata": {
            "needs_background": "light"
          },
          "output_type": "display_data"
        }
      ]
    },
    {
      "cell_type": "markdown",
      "metadata": {
        "id": "kwEfgjNedkmy"
      },
      "source": [
        "Динамика точности моделей при разных количествах оценщиков и пик на 40. Если мы увеличим est до 600, то увидим, что помимо того, что обучение занимает очень много времени, в районе 300 est, accuracy начинает расти, затем снова падает, и после примерно 550 стабилизируется примерно на 0.802. "
      ]
    },
    {
      "cell_type": "code",
      "metadata": {
        "id": "h7Jmp__4dkmy",
        "outputId": "6666f3bc-0e56-4295-fc21-7b0cb2a2e21d"
      },
      "source": [
        "plt.figure(figsize=(18,8))\n",
        "for i, group_data in forest_data.query('est <= 100').groupby('est'):\n",
        "    plt.plot(group_data.pivot_table(index='depth', values='accuracy', aggfunc='max'), label=i)\n",
        "    plt.title('Лучшие модели при разном количестве деревьев')\n",
        "    plt.legend()\n",
        "    plt.grid(True)\n",
        "plt.show()"
      ],
      "execution_count": null,
      "outputs": [
        {
          "data": {
            "image/png": "[encoded data removed]",
            "text/plain": [
              "<Figure size 1296x576 with 1 Axes>"
            ]
          },
          "metadata": {
            "needs_background": "light"
          },
          "output_type": "display_data"
        }
      ]
    },
    {
      "cell_type": "markdown",
      "metadata": {
        "id": "1AKaGJ0Wdkmy"
      },
      "source": [
        "Здесь можно рассмотреть лучшие модели при количестве деревьев до 100. Лучший показатель на 40 и 50 деревьях. После глубины дерева 8 все снижают accuracy. "
      ]
    },
    {
      "cell_type": "code",
      "metadata": {
        "id": "TOUNFuQXdkmz",
        "outputId": "14e6f5c5-95d7-497b-e8f3-964d87da3234"
      },
      "source": [
        "forest_data.query('est == 40').plot(x='depth', y='accuracy', figsize=(10,5), title='Дерево, давшее лучший показатель')"
      ],
      "execution_count": null,
      "outputs": [
        {
          "data": {
            "text/plain": [
              "<matplotlib.axes._subplots.AxesSubplot at 0x7fcb20322210>"
            ]
          },
          "execution_count": 17,
          "metadata": {},
          "output_type": "execute_result"
        },
        {
          "data": {
            "image/png": "[encoded data removed]",
            "text/plain": [
              "<Figure size 720x360 with 1 Axes>"
            ]
          },
          "metadata": {
            "needs_background": "light"
          },
          "output_type": "display_data"
        }
      ]
    },
    {
      "cell_type": "markdown",
      "metadata": {
        "id": "WV5KGzl2dkmz"
      },
      "source": [
        "### Логистическая регрессия"
      ]
    },
    {
      "cell_type": "markdown",
      "metadata": {
        "id": "cfn2vzzJdkmz"
      },
      "source": [
        "Обучим модели логистической регрессии с разным количествои итераций и разной деталиацией для решателя liblinear"
      ]
    },
    {
      "cell_type": "code",
      "metadata": {
        "id": "_zXp2Hwidkmz",
        "outputId": "6d2c1059-471c-4a14-ccb9-b551af6c9a75"
      },
      "source": [
        "best_model_logr = None\n",
        "best_max_iter = 0\n",
        "best_result_logr = 0\n",
        "iterations = []\n",
        "accuracy_scores = []\n",
        "for iteration in range(1,51):\n",
        "    for verb in range(1,6):\n",
        "        model = LogisticRegression(random_state=12345, max_iter = iteration, verbose=verb)\n",
        "        model.fit(features_train, target_train)\n",
        "        predictions = model.predict(features_valid)\n",
        "        result = accuracy_score(target_valid, predictions)\n",
        "        iterations.append(iteration)\n",
        "        accuracy_scores.append(result)\n",
        "        print('max_iter:', iteration, '|','accuracy:', result, '|', 'verbose', verb)\n",
        "        if result > best_result_logr:\n",
        "            best_result_logr = result\n",
        "            best_max_iter = iteration\n",
        "            best_verbose = verb\n",
        "            best_model_logr = model\n",
        "print(\"-------------------------------------------------------------------\") \n",
        "print('Accuracy лучшей модели', best_result_logr,'при количестве итераций', best_max_iter, 'при степени детализации для liblinear', best_verbose)"
      ],
      "execution_count": null,
      "outputs": [
        {
          "name": "stdout",
          "output_type": "stream",
          "text": [
            "[LibLinear]max_iter: 1 | accuracy: 0.7060653188180405 | verbose 1\n",
            "[LibLinear]max_iter: 1 | accuracy: 0.7060653188180405 | verbose 2\n",
            "[LibLinear]max_iter: 1 | accuracy: 0.7060653188180405 | verbose 3\n",
            "[LibLinear]max_iter: 1 | accuracy: 0.7060653188180405 | verbose 4\n",
            "[LibLinear]max_iter: 1 | accuracy: 0.7060653188180405 | verbose 5\n",
            "[LibLinear]max_iter: 2 | accuracy: 0.7060653188180405 | verbose 1\n",
            "[LibLinear]max_iter: 2 | accuracy: 0.7060653188180405 | verbose 2\n",
            "[LibLinear]max_iter: 2 | accuracy: 0.7060653188180405 | verbose 3\n",
            "[LibLinear]max_iter: 2 | accuracy: 0.7060653188180405 | verbose 4\n",
            "[LibLinear]max_iter: 2 | accuracy: 0.7060653188180405 | verbose 5\n",
            "[LibLinear]max_iter: 3 | accuracy: 0.7060653188180405 | verbose 1\n",
            "[LibLinear]max_iter: 3 | accuracy: 0.7060653188180405 | verbose 2\n",
            "[LibLinear]max_iter: 3 | accuracy: 0.7060653188180405 | verbose 3\n",
            "[LibLinear]max_iter: 3 | accuracy: 0.7060653188180405 | verbose 4\n",
            "[LibLinear]max_iter: 3 | accuracy: 0.7060653188180405 | verbose 5\n",
            "[LibLinear]max_iter: 4 | accuracy: 0.7060653188180405 | verbose 1\n",
            "[LibLinear]max_iter: 4 | accuracy: 0.7060653188180405 | verbose 2\n",
            "[LibLinear]max_iter: 4 | accuracy: 0.7060653188180405 | verbose 3\n",
            "[LibLinear]max_iter: 4 | accuracy: 0.7060653188180405 | verbose 4\n",
            "[LibLinear]max_iter: 4 | accuracy: 0.7060653188180405 | verbose 5\n",
            "[LibLinear]max_iter: 5 | accuracy: 0.7060653188180405 | verbose 1\n",
            "[LibLinear]max_iter: 5 | accuracy: 0.7060653188180405 | verbose 2\n",
            "[LibLinear]max_iter: 5 | accuracy: 0.7060653188180405 | verbose 3\n",
            "[LibLinear]max_iter: 5 | accuracy: 0.7060653188180405 | verbose 4\n",
            "[LibLinear]max_iter: 5 | accuracy: 0.7060653188180405 | verbose 5\n",
            "[LibLinear]max_iter: 6 | accuracy: 0.7060653188180405 | verbose 1\n",
            "[LibLinear]max_iter: 6 | accuracy: 0.7060653188180405 | verbose 2\n",
            "[LibLinear]max_iter: 6 | accuracy: 0.7060653188180405 | verbose 3\n",
            "[LibLinear]max_iter: 6 | accuracy: 0.7060653188180405 | verbose 4\n",
            "[LibLinear]max_iter: 6 | accuracy: 0.7060653188180405 | verbose 5\n",
            "[LibLinear]max_iter: 7 | accuracy: 0.7060653188180405 | verbose 1\n",
            "[LibLinear]max_iter: 7 | accuracy: 0.7060653188180405 | verbose 2\n",
            "[LibLinear]max_iter: 7 | accuracy: 0.7060653188180405 | verbose 3\n",
            "[LibLinear]max_iter: 7 | accuracy: 0.7060653188180405 | verbose 4\n",
            "[LibLinear]max_iter: 7 | accuracy: 0.7060653188180405 | verbose 5\n",
            "[LibLinear]max_iter: 8 | accuracy: 0.7060653188180405 | verbose 1\n",
            "[LibLinear]max_iter: 8 | accuracy: 0.7060653188180405 | verbose 2\n",
            "[LibLinear]max_iter: 8 | accuracy: 0.7060653188180405 | verbose 3\n",
            "[LibLinear]max_iter: 8 | accuracy: 0.7060653188180405 | verbose 4\n",
            "[LibLinear]max_iter: 8 | accuracy: 0.7060653188180405 | verbose 5\n",
            "[LibLinear]max_iter: 9 | accuracy: 0.7076205287713841 | verbose 1\n",
            "[LibLinear]max_iter: 9 | accuracy: 0.7076205287713841 | verbose 2\n",
            "[LibLinear]max_iter: 9 | accuracy: 0.7076205287713841 | verbose 3\n",
            "[LibLinear]max_iter: 9 | accuracy: 0.7076205287713841 | verbose 4\n",
            "[LibLinear]max_iter: 9 | accuracy: 0.7076205287713841 | verbose 5\n",
            "[LibLinear]max_iter: 10 | accuracy: 0.7076205287713841 | verbose 1\n",
            "[LibLinear]max_iter: 10 | accuracy: 0.7076205287713841 | verbose 2\n",
            "[LibLinear]max_iter: 10 | accuracy: 0.7076205287713841 | verbose 3\n",
            "[LibLinear]max_iter: 10 | accuracy: 0.7076205287713841 | verbose 4\n",
            "[LibLinear]max_iter: 10 | accuracy: 0.7076205287713841 | verbose 5\n",
            "[LibLinear]max_iter: 11 | accuracy: 0.7076205287713841 | verbose 1\n",
            "[LibLinear]max_iter: 11 | accuracy: 0.7076205287713841 | verbose 2\n",
            "[LibLinear]max_iter: 11 | accuracy: 0.7076205287713841 | verbose 3\n",
            "[LibLinear]max_iter: 11 | accuracy: 0.7076205287713841 | verbose 4\n",
            "[LibLinear]max_iter: 11 | accuracy: 0.7076205287713841 | verbose 5\n",
            "[LibLinear]max_iter: 12 | accuracy: 0.7076205287713841 | verbose 1\n",
            "[LibLinear]max_iter: 12 | accuracy: 0.7076205287713841 | verbose 2\n",
            "[LibLinear]max_iter: 12 | accuracy: 0.7076205287713841 | verbose 3\n",
            "[LibLinear]max_iter: 12 | accuracy: 0.7076205287713841 | verbose 4\n",
            "[LibLinear]max_iter: 12 | accuracy: 0.7076205287713841 | verbose 5\n",
            "[LibLinear]max_iter: 13 | accuracy: 0.7076205287713841 | verbose 1\n",
            "[LibLinear]max_iter: 13 | accuracy: 0.7076205287713841 | verbose 2\n",
            "[LibLinear]max_iter: 13 | accuracy: 0.7076205287713841 | verbose 3\n",
            "[LibLinear]max_iter: 13 | accuracy: 0.7076205287713841 | verbose 4\n",
            "[LibLinear]max_iter: 13 | accuracy: 0.7076205287713841 | verbose 5\n",
            "[LibLinear]max_iter: 14 | accuracy: 0.7091757387247278 | verbose 1\n",
            "[LibLinear]max_iter: 14 | accuracy: 0.7091757387247278 | verbose 2\n",
            "[LibLinear]max_iter: 14 | accuracy: 0.7091757387247278 | verbose 3\n",
            "[LibLinear]max_iter: 14 | accuracy: 0.7091757387247278 | verbose 4\n",
            "[LibLinear]max_iter: 14 | accuracy: 0.7091757387247278 | verbose 5\n",
            "[LibLinear]max_iter: 15 | accuracy: 0.7091757387247278 | verbose 1\n",
            "[LibLinear]max_iter: 15 | accuracy: 0.7091757387247278 | verbose 2\n",
            "[LibLinear]max_iter: 15 | accuracy: 0.7091757387247278 | verbose 3\n",
            "[LibLinear]max_iter: 15 | accuracy: 0.7091757387247278 | verbose 4\n",
            "[LibLinear]max_iter: 15 | accuracy: 0.7091757387247278 | verbose 5\n",
            "[LibLinear]max_iter: 16 | accuracy: 0.7045101088646968 | verbose 1\n",
            "[LibLinear]max_iter: 16 | accuracy: 0.7045101088646968 | verbose 2\n",
            "[LibLinear]max_iter: 16 | accuracy: 0.7045101088646968 | verbose 3\n",
            "[LibLinear]max_iter: 16 | accuracy: 0.7045101088646968 | verbose 4\n",
            "[LibLinear]max_iter: 16 | accuracy: 0.7045101088646968 | verbose 5\n",
            "[LibLinear]max_iter: 17 | accuracy: 0.7122861586314152 | verbose 1\n",
            "[LibLinear]max_iter: 17 | accuracy: 0.7122861586314152 | verbose 2\n",
            "[LibLinear]max_iter: 17 | accuracy: 0.7122861586314152 | verbose 3\n",
            "[LibLinear]max_iter: 17 | accuracy: 0.7122861586314152 | verbose 4\n",
            "[LibLinear]max_iter: 17 | accuracy: 0.7122861586314152 | verbose 5\n",
            "[LibLinear]max_iter: 18 | accuracy: 0.7060653188180405 | verbose 1\n",
            "[LibLinear]max_iter: 18 | accuracy: 0.7060653188180405 | verbose 2\n",
            "[LibLinear]max_iter: 18 | accuracy: 0.7060653188180405 | verbose 3\n",
            "[LibLinear]max_iter: 18 | accuracy: 0.7060653188180405 | verbose 4\n",
            "[LibLinear]max_iter: 18 | accuracy: 0.7060653188180405 | verbose 5\n",
            "[LibLinear]max_iter: 19 | accuracy: 0.7091757387247278 | verbose 1\n",
            "[LibLinear]max_iter: 19 | accuracy: 0.7091757387247278 | verbose 2\n",
            "[LibLinear]max_iter: 19 | accuracy: 0.7091757387247278 | verbose 3\n",
            "[LibLinear]max_iter: 19 | accuracy: 0.7091757387247278 | verbose 4\n",
            "[LibLinear]max_iter: 19 | accuracy: 0.7091757387247278 | verbose 5\n",
            "[LibLinear]max_iter: 20 | accuracy: 0.7091757387247278 | verbose 1\n",
            "[LibLinear]max_iter: 20 | accuracy: 0.7091757387247278 | verbose 2\n",
            "[LibLinear]max_iter: 20 | accuracy: 0.7091757387247278 | verbose 3\n",
            "[LibLinear]max_iter: 20 | accuracy: 0.7091757387247278 | verbose 4\n",
            "[LibLinear]max_iter: 20 | accuracy: 0.7091757387247278 | verbose 5\n",
            "[LibLinear]max_iter: 21 | accuracy: 0.6998444790046656 | verbose 1\n",
            "[LibLinear]max_iter: 21 | accuracy: 0.6998444790046656 | verbose 2\n",
            "[LibLinear]max_iter: 21 | accuracy: 0.6998444790046656 | verbose 3\n",
            "[LibLinear]max_iter: 21 | accuracy: 0.6998444790046656 | verbose 4\n",
            "[LibLinear]max_iter: 21 | accuracy: 0.6998444790046656 | verbose 5\n",
            "[LibLinear]max_iter: 22 | accuracy: 0.6998444790046656 | verbose 1\n",
            "[LibLinear]max_iter: 22 | accuracy: 0.6998444790046656 | verbose 2\n",
            "[LibLinear]max_iter: 22 | accuracy: 0.6998444790046656 | verbose 3\n",
            "[LibLinear]max_iter: 22 | accuracy: 0.6998444790046656 | verbose 4\n",
            "[LibLinear]max_iter: 22 | accuracy: 0.6998444790046656 | verbose 5\n",
            "[LibLinear]max_iter: 23 | accuracy: 0.713841368584759 | verbose 1\n",
            "[LibLinear]max_iter: 23 | accuracy: 0.713841368584759 | verbose 2\n",
            "[LibLinear]max_iter: 23 | accuracy: 0.713841368584759 | verbose 3\n",
            "[LibLinear]max_iter: 23 | accuracy: 0.713841368584759 | verbose 4\n",
            "[LibLinear]max_iter: 23 | accuracy: 0.713841368584759 | verbose 5\n",
            "[LibLinear]max_iter: 24 | accuracy: 0.713841368584759 | verbose 1\n",
            "[LibLinear]max_iter: 24 | accuracy: 0.713841368584759 | verbose 2\n",
            "[LibLinear]max_iter: 24 | accuracy: 0.713841368584759 | verbose 3\n",
            "[LibLinear]max_iter: 24 | accuracy: 0.713841368584759 | verbose 4\n",
            "[LibLinear]max_iter: 24 | accuracy: 0.713841368584759 | verbose 5\n",
            "[LibLinear]max_iter: 25 | accuracy: 0.7309486780715396 | verbose 1\n",
            "[LibLinear]max_iter: 25 | accuracy: 0.7309486780715396 | verbose 2\n",
            "[LibLinear]max_iter: 25 | accuracy: 0.7309486780715396 | verbose 3\n",
            "[LibLinear]max_iter: 25 | accuracy: 0.7309486780715396 | verbose 4\n",
            "[LibLinear]max_iter: 25 | accuracy: 0.7309486780715396 | verbose 5\n",
            "[LibLinear]max_iter: 26 | accuracy: 0.7309486780715396 | verbose 1\n",
            "[LibLinear]max_iter: 26 | accuracy: 0.7309486780715396 | verbose 2\n",
            "[LibLinear]max_iter: 26 | accuracy: 0.7309486780715396 | verbose 3\n",
            "[LibLinear]max_iter: 26 | accuracy: 0.7309486780715396 | verbose 4\n",
            "[LibLinear]max_iter: 26 | accuracy: 0.7309486780715396 | verbose 5\n",
            "[LibLinear]max_iter: 27 | accuracy: 0.7573872472783826 | verbose 1\n",
            "[LibLinear]max_iter: 27 | accuracy: 0.7573872472783826 | verbose 2\n",
            "[LibLinear]max_iter: 27 | accuracy: 0.7573872472783826 | verbose 3\n",
            "[LibLinear]max_iter: 27 | accuracy: 0.7573872472783826 | verbose 4\n",
            "[LibLinear]max_iter: 27 | accuracy: 0.7573872472783826 | verbose 5\n",
            "[LibLinear]max_iter: 28 | accuracy: 0.7573872472783826 | verbose 1\n",
            "[LibLinear]max_iter: 28 | accuracy: 0.7573872472783826 | verbose 2\n",
            "[LibLinear]max_iter: 28 | accuracy: 0.7573872472783826 | verbose 3\n",
            "[LibLinear]max_iter: 28 | accuracy: 0.7573872472783826 | verbose 4\n",
            "[LibLinear]max_iter: 28 | accuracy: 0.7573872472783826 | verbose 5\n",
            "[LibLinear]max_iter: 29 | accuracy: 0.7589424572317263 | verbose 1\n",
            "[LibLinear]max_iter: 29 | accuracy: 0.7589424572317263 | verbose 2\n",
            "[LibLinear]max_iter: 29 | accuracy: 0.7589424572317263 | verbose 3\n",
            "[LibLinear]max_iter: 29 | accuracy: 0.7589424572317263 | verbose 4\n",
            "[LibLinear]max_iter: 29 | accuracy: 0.7589424572317263 | verbose 5\n",
            "[LibLinear]max_iter: 30 | accuracy: 0.7589424572317263 | verbose 1\n",
            "[LibLinear]max_iter: 30 | accuracy: 0.7589424572317263 | verbose 2\n",
            "[LibLinear]max_iter: 30 | accuracy: 0.7589424572317263 | verbose 3\n",
            "[LibLinear]max_iter: 30 | accuracy: 0.7589424572317263 | verbose 4\n",
            "[LibLinear]max_iter: 30 | accuracy: 0.7589424572317263 | verbose 5\n",
            "[LibLinear]max_iter: 31 | accuracy: 0.7589424572317263 | verbose 1\n",
            "[LibLinear]max_iter: 31 | accuracy: 0.7589424572317263 | verbose 2\n",
            "[LibLinear]max_iter: 31 | accuracy: 0.7589424572317263 | verbose 3\n",
            "[LibLinear]max_iter: 31 | accuracy: 0.7589424572317263 | verbose 4\n",
            "[LibLinear]max_iter: 31 | accuracy: 0.7589424572317263 | verbose 5\n",
            "[LibLinear]max_iter: 32 | accuracy: 0.7589424572317263 | verbose 1\n",
            "[LibLinear]max_iter: 32 | accuracy: 0.7589424572317263 | verbose 2\n",
            "[LibLinear]max_iter: 32 | accuracy: 0.7589424572317263 | verbose 3\n",
            "[LibLinear]max_iter: 32 | accuracy: 0.7589424572317263 | verbose 4\n",
            "[LibLinear]max_iter: 32 | accuracy: 0.7589424572317263 | verbose 5\n",
            "[LibLinear]max_iter: 33 | accuracy: 0.7589424572317263 | verbose 1\n",
            "[LibLinear]max_iter: 33 | accuracy: 0.7589424572317263 | verbose 2\n",
            "[LibLinear]max_iter: 33 | accuracy: 0.7589424572317263 | verbose 3\n",
            "[LibLinear]max_iter: 33 | accuracy: 0.7589424572317263 | verbose 4\n",
            "[LibLinear]max_iter: 33 | accuracy: 0.7589424572317263 | verbose 5\n",
            "[LibLinear]max_iter: 34 | accuracy: 0.7589424572317263 | verbose 1\n",
            "[LibLinear]max_iter: 34 | accuracy: 0.7589424572317263 | verbose 2\n",
            "[LibLinear]max_iter: 34 | accuracy: 0.7589424572317263 | verbose 3\n",
            "[LibLinear]max_iter: 34 | accuracy: 0.7589424572317263 | verbose 4\n",
            "[LibLinear]max_iter: 34 | accuracy: 0.7589424572317263 | verbose 5\n",
            "[LibLinear]max_iter: 35 | accuracy: 0.7589424572317263 | verbose 1\n",
            "[LibLinear]max_iter: 35 | accuracy: 0.7589424572317263 | verbose 2\n",
            "[LibLinear]max_iter: 35 | accuracy: 0.7589424572317263 | verbose 3\n",
            "[LibLinear]max_iter: 35 | accuracy: 0.7589424572317263 | verbose 4\n",
            "[LibLinear]max_iter: 35 | accuracy: 0.7589424572317263 | verbose 5\n",
            "[LibLinear]max_iter: 36 | accuracy: 0.7589424572317263 | verbose 1\n",
            "[LibLinear]max_iter: 36 | accuracy: 0.7589424572317263 | verbose 2\n",
            "[LibLinear]max_iter: 36 | accuracy: 0.7589424572317263 | verbose 3\n",
            "[LibLinear]max_iter: 36 | accuracy: 0.7589424572317263 | verbose 4\n",
            "[LibLinear]max_iter: 36 | accuracy: 0.7589424572317263 | verbose 5\n",
            "[LibLinear]max_iter: 37 | accuracy: 0.7589424572317263 | verbose 1\n",
            "[LibLinear]max_iter: 37 | accuracy: 0.7589424572317263 | verbose 2\n",
            "[LibLinear]max_iter: 37 | accuracy: 0.7589424572317263 | verbose 3\n",
            "[LibLinear]max_iter: 37 | accuracy: 0.7589424572317263 | verbose 4\n",
            "[LibLinear]max_iter: 37 | accuracy: 0.7589424572317263 | verbose 5\n",
            "[LibLinear]max_iter: 38 | accuracy: 0.7589424572317263 | verbose 1\n",
            "[LibLinear]max_iter: 38 | accuracy: 0.7589424572317263 | verbose 2\n",
            "[LibLinear]max_iter: 38 | accuracy: 0.7589424572317263 | verbose 3\n",
            "[LibLinear]max_iter: 38 | accuracy: 0.7589424572317263 | verbose 4\n",
            "[LibLinear]max_iter: 38 | accuracy: 0.7589424572317263 | verbose 5\n",
            "[LibLinear]max_iter: 39 | accuracy: 0.7589424572317263 | verbose 1\n",
            "[LibLinear]max_iter: 39 | accuracy: 0.7589424572317263 | verbose 2\n",
            "[LibLinear]max_iter: 39 | accuracy: 0.7589424572317263 | verbose 3\n",
            "[LibLinear]max_iter: 39 | accuracy: 0.7589424572317263 | verbose 4\n",
            "[LibLinear]max_iter: 39 | accuracy: 0.7589424572317263 | verbose 5\n",
            "[LibLinear]max_iter: 40 | accuracy: 0.7589424572317263 | verbose 1\n",
            "[LibLinear]max_iter: 40 | accuracy: 0.7589424572317263 | verbose 2\n",
            "[LibLinear]max_iter: 40 | accuracy: 0.7589424572317263 | verbose 3\n",
            "[LibLinear]max_iter: 40 | accuracy: 0.7589424572317263 | verbose 4\n",
            "[LibLinear]max_iter: 40 | accuracy: 0.7589424572317263 | verbose 5\n",
            "[LibLinear]max_iter: 41 | accuracy: 0.7589424572317263 | verbose 1\n",
            "[LibLinear]max_iter: 41 | accuracy: 0.7589424572317263 | verbose 2\n",
            "[LibLinear]max_iter: 41 | accuracy: 0.7589424572317263 | verbose 3\n",
            "[LibLinear]max_iter: 41 | accuracy: 0.7589424572317263 | verbose 4\n",
            "[LibLinear]max_iter: 41 | accuracy: 0.7589424572317263 | verbose 5\n",
            "[LibLinear]max_iter: 42 | accuracy: 0.7589424572317263 | verbose 1\n",
            "[LibLinear]max_iter: 42 | accuracy: 0.7589424572317263 | verbose 2\n",
            "[LibLinear]max_iter: 42 | accuracy: 0.7589424572317263 | verbose 3\n",
            "[LibLinear]max_iter: 42 | accuracy: 0.7589424572317263 | verbose 4\n",
            "[LibLinear]max_iter: 42 | accuracy: 0.7589424572317263 | verbose 5\n",
            "[LibLinear]max_iter: 43 | accuracy: 0.7589424572317263 | verbose 1\n",
            "[LibLinear]max_iter: 43 | accuracy: 0.7589424572317263 | verbose 2\n",
            "[LibLinear]max_iter: 43 | accuracy: 0.7589424572317263 | verbose 3\n",
            "[LibLinear]max_iter: 43 | accuracy: 0.7589424572317263 | verbose 4\n",
            "[LibLinear]max_iter: 43 | accuracy: 0.7589424572317263 | verbose 5\n",
            "[LibLinear]max_iter: 44 | accuracy: 0.7589424572317263 | verbose 1\n",
            "[LibLinear]max_iter: 44 | accuracy: 0.7589424572317263 | verbose 2\n",
            "[LibLinear]max_iter: 44 | accuracy: 0.7589424572317263 | verbose 3\n",
            "[LibLinear]max_iter: 44 | accuracy: 0.7589424572317263 | verbose 4\n",
            "[LibLinear]max_iter: 44 | accuracy: 0.7589424572317263 | verbose 5\n",
            "[LibLinear]max_iter: 45 | accuracy: 0.7589424572317263 | verbose 1\n",
            "[LibLinear]max_iter: 45 | accuracy: 0.7589424572317263 | verbose 2\n",
            "[LibLinear]max_iter: 45 | accuracy: 0.7589424572317263 | verbose 3\n",
            "[LibLinear]max_iter: 45 | accuracy: 0.7589424572317263 | verbose 4\n",
            "[LibLinear]max_iter: 45 | accuracy: 0.7589424572317263 | verbose 5\n",
            "[LibLinear]max_iter: 46 | accuracy: 0.7589424572317263 | verbose 1\n",
            "[LibLinear]max_iter: 46 | accuracy: 0.7589424572317263 | verbose 2\n",
            "[LibLinear]max_iter: 46 | accuracy: 0.7589424572317263 | verbose 3\n",
            "[LibLinear]max_iter: 46 | accuracy: 0.7589424572317263 | verbose 4\n",
            "[LibLinear]max_iter: 46 | accuracy: 0.7589424572317263 | verbose 5\n",
            "[LibLinear]max_iter: 47 | accuracy: 0.7589424572317263 | verbose 1\n",
            "[LibLinear]max_iter: 47 | accuracy: 0.7589424572317263 | verbose 2\n",
            "[LibLinear]max_iter: 47 | accuracy: 0.7589424572317263 | verbose 3\n",
            "[LibLinear]max_iter: 47 | accuracy: 0.7589424572317263 | verbose 4\n",
            "[LibLinear]max_iter: 47 | accuracy: 0.7589424572317263 | verbose 5\n",
            "[LibLinear]max_iter: 48 | accuracy: 0.7589424572317263 | verbose 1\n",
            "[LibLinear]max_iter: 48 | accuracy: 0.7589424572317263 | verbose 2\n",
            "[LibLinear]max_iter: 48 | accuracy: 0.7589424572317263 | verbose 3\n",
            "[LibLinear]max_iter: 48 | accuracy: 0.7589424572317263 | verbose 4\n",
            "[LibLinear]max_iter: 48 | accuracy: 0.7589424572317263 | verbose 5\n",
            "[LibLinear]max_iter: 49 | accuracy: 0.7589424572317263 | verbose 1\n",
            "[LibLinear]max_iter: 49 | accuracy: 0.7589424572317263 | verbose 2\n",
            "[LibLinear]max_iter: 49 | accuracy: 0.7589424572317263 | verbose 3\n",
            "[LibLinear]max_iter: 49 | accuracy: 0.7589424572317263 | verbose 4\n",
            "[LibLinear]max_iter: 49 | accuracy: 0.7589424572317263 | verbose 5\n",
            "[LibLinear]max_iter: 50 | accuracy: 0.7589424572317263 | verbose 1\n",
            "[LibLinear]max_iter: 50 | accuracy: 0.7589424572317263 | verbose 2\n",
            "[LibLinear]max_iter: 50 | accuracy: 0.7589424572317263 | verbose 3\n",
            "[LibLinear]max_iter: 50 | accuracy: 0.7589424572317263 | verbose 4\n",
            "[LibLinear]max_iter: 50 | accuracy: 0.7589424572317263 | verbose 5\n",
            "-------------------------------------------------------------------\n",
            "Accuracy лучшей модели 0.7589424572317263 при количестве итераций 29 при степени детализации для liblinear 1\n"
          ]
        }
      ]
    },
    {
      "cell_type": "markdown",
      "metadata": {
        "id": "SwfSVO5Ndkm0"
      },
      "source": [
        "Лучшей оказалась модель при количестве итераций от 29 и степени детализации для liblinear 1"
      ]
    },
    {
      "cell_type": "code",
      "metadata": {
        "id": "TCn1oKbydkm1",
        "outputId": "6a00ce5a-1720-4585-d1ef-129d11e62016"
      },
      "source": [
        "iterations = pd.Series(iterations)\n",
        "accuracy_scores = pd.Series(accuracy_scores)\n",
        "log_reg_data = pd.concat([iterations, accuracy_scores], axis=1)\n",
        "log_reg_data.columns = ['iterations', 'accuracy_scores']\n",
        "log_reg_data.plot(x = 'iterations', y = 'accuracy_scores', figsize=(15,5), title='Accuracy при разном количестве итераций')"
      ],
      "execution_count": null,
      "outputs": [
        {
          "data": {
            "text/plain": [
              "<matplotlib.axes._subplots.AxesSubplot at 0x7fcb20ad4550>"
            ]
          },
          "execution_count": 19,
          "metadata": {},
          "output_type": "execute_result"
        },
        {
          "data": {
            "image/png": "[encoded data removed]",
            "text/plain": [
              "<Figure size 1080x360 with 1 Axes>"
            ]
          },
          "metadata": {
            "needs_background": "light"
          },
          "output_type": "display_data"
        }
      ]
    },
    {
      "cell_type": "markdown",
      "metadata": {
        "id": "83Mle-Kwdkm1"
      },
      "source": [
        "На графике видим, что количество итераций, дойдя до показателя в 29, делают accuracy стабильной - 0.7589424572317263."
      ]
    },
    {
      "cell_type": "markdown",
      "metadata": {
        "id": "A6v5m0nhdkm1"
      },
      "source": [
        "### Вывод"
      ]
    },
    {
      "cell_type": "markdown",
      "metadata": {
        "id": "NaKvn_cFdkm1"
      },
      "source": [
        "Нам удалось обучить три модели, точность которых на валидационной выборке оказалась выше 0.75. Теперь нужно посмотреть, как они поведут себя на тестовой выборке."
      ]
    },
    {
      "cell_type": "markdown",
      "metadata": {
        "id": "LAhjohYHdkm2"
      },
      "source": [
        "## Тестирование"
      ]
    },
    {
      "cell_type": "markdown",
      "metadata": {
        "id": "LKFTmbbsdkm2"
      },
      "source": [
        "Посмотрим на качество предстказаний лучших моделей на тестовой выборке."
      ]
    },
    {
      "cell_type": "code",
      "metadata": {
        "id": "BXCBQqptdkm2",
        "outputId": "bc50064b-bacc-4525-d3b8-ded6d15ace2a"
      },
      "source": [
        "predictions_tree = best_model_tree.predict(features_test)\n",
        "result_tree = accuracy_score(target_test, predictions_tree)\n",
        "print('Точность лучшей модели дерева решений:', result_tree)\n",
        "\n",
        "predictions_forest = best_model_forest.predict(features_test)\n",
        "result_forest = accuracy_score(target_test, predictions_forest)\n",
        "print('Точность лучшей модели случайного леса:', result_forest)\n",
        "\n",
        "predictions_logr = best_model_logr.predict(features_test)\n",
        "result_logr = accuracy_score(target_test, predictions_logr)\n",
        "print('Точность лучшей модели логистической регрессии:', result_logr)"
      ],
      "execution_count": null,
      "outputs": [
        {
          "name": "stdout",
          "output_type": "stream",
          "text": [
            "Точность лучшей модели дерева решений: 0.7791601866251944\n",
            "Точность лучшей модели случайного леса: 0.7962674961119751\n",
            "Точность лучшей модели логистической регрессии: 0.7402799377916018\n"
          ]
        }
      ]
    },
    {
      "cell_type": "markdown",
      "metadata": {
        "id": "OOttdjPRdkm2"
      },
      "source": [
        "Самый высокий показатель accuracy по-прежнему у модели случайного леса. Вероятно, именно её стоит рассматривать как самую подходящую при предложении клиентам варианта тарифа. "
      ]
    },
    {
      "cell_type": "markdown",
      "metadata": {
        "id": "VRXAhw5_dkm3"
      },
      "source": [
        "## Проверка модели на адекватность"
      ]
    },
    {
      "cell_type": "markdown",
      "metadata": {
        "id": "LWAataKwdkm3"
      },
      "source": [
        "Мы можем проверить, насколько адекватно наши модели распределяют по классам данные, то есть убедиться, что это происходит неслучайным образом.\n",
        "Мы уже оценивали модели по accuracy (доля правильных ответов алгоритма). Оценим другие метрики - precision (точность - доля объектов, названных классификатором положительными и при этом действительно являющимися положительными) и recall (полнота - доля объектов положительного класса из всех объектов положительного класса, предсказанных алгоритмом), и их гармоническое среднее значение - f1-мера."
      ]
    },
    {
      "cell_type": "markdown",
      "metadata": {
        "id": "FybDbqbrdkm3"
      },
      "source": [
        "### Рассмотрим другие метрики"
      ]
    },
    {
      "cell_type": "markdown",
      "metadata": {
        "id": "Y6FFqGqvdkm4"
      },
      "source": [
        "#### confusion_matrix"
      ]
    },
    {
      "cell_type": "markdown",
      "metadata": {
        "id": "QNTZEZwKdkm4"
      },
      "source": [
        "Рассмотрим матрицу путаницы, которая принимает в качестве входных данных фактические метки и предсказанные метки."
      ]
    },
    {
      "cell_type": "code",
      "metadata": {
        "id": "HtdaI41Ydkm4",
        "outputId": "90381231-f2fe-4dca-c876-215642b83fd4"
      },
      "source": [
        "confusion_matrix_test_tree = confusion_matrix(target_test, predictions_tree)\n",
        "confusion_matrix_test_tree_df = pd.DataFrame(confusion_matrix_test_tree, columns = ['tree_predicted_0', 'tree_predicted_1'])\n",
        "confusion_matrix_test_tree_df['actual'] = ['target_0', 'target_1']\n",
        "confusion_matrix_test_tree_df = confusion_matrix_test_tree_df.set_index(confusion_matrix_test_tree_df['actual']).drop(['actual'], axis=1).reset_index()\n",
        "confusion_tree = pd.Series([confusion_matrix_test_tree_df.loc[1,'tree_predicted_0'], confusion_matrix_test_tree_df.loc[0,'tree_predicted_1']])\n",
        "confusion_matrix_test_tree_df.plot(kind='bar', title='Предсказанные 0 и 1 в реальных 0 и 1')"
      ],
      "execution_count": null,
      "outputs": [
        {
          "data": {
            "text/plain": [
              "<matplotlib.axes._subplots.AxesSubplot at 0x7fcb20afced0>"
            ]
          },
          "execution_count": 21,
          "metadata": {},
          "output_type": "execute_result"
        },
        {
          "data": {
            "image/png": "[encoded data removed]",
            "text/plain": [
              "<Figure size 432x288 with 1 Axes>"
            ]
          },
          "metadata": {
            "needs_background": "light"
          },
          "output_type": "display_data"
        }
      ]
    },
    {
      "cell_type": "markdown",
      "metadata": {
        "id": "GsFD-brDdkm4"
      },
      "source": [
        "Алгоритм решающего дерева минимально ошибся в тарифе \"Смарт\" (0), тогда как в тарифе \"Ультра\" здорово запутался. Настолько, что в предсказанных \"Ультра\" больше половины занял \"Смарт\"."
      ]
    },
    {
      "cell_type": "code",
      "metadata": {
        "id": "q5hIz268dkm5",
        "outputId": "7e16d82d-e3a3-4e42-f5de-30d18c077ebf"
      },
      "source": [
        "confusion_matrix_test_forest = confusion_matrix(target_test, predictions_forest)\n",
        "confusion_matrix_test_forest_df = pd.DataFrame(confusion_matrix_test_forest, columns = ['forest_predicted_0', 'forest_predicted_1'])\n",
        "confusion_matrix_test_forest_df['actual'] = ['target_0', 'target_1']\n",
        "confusion_matrix_test_forest_df = confusion_matrix_test_forest_df.set_index(confusion_matrix_test_forest_df['actual']).drop(['actual'], axis=1).reset_index()\n",
        "confusion_forest = pd.Series([confusion_matrix_test_forest_df.loc[1,'forest_predicted_0'], confusion_matrix_test_forest_df.loc[0,'forest_predicted_1']])\n",
        "confusion_matrix_test_forest_df.plot(kind='bar')"
      ],
      "execution_count": null,
      "outputs": [
        {
          "data": {
            "text/plain": [
              "<matplotlib.axes._subplots.AxesSubplot at 0x7fcb2902fc10>"
            ]
          },
          "execution_count": 22,
          "metadata": {},
          "output_type": "execute_result"
        },
        {
          "data": {
            "image/png": "[encoded data removed]",
            "text/plain": [
              "<Figure size 432x288 with 1 Axes>"
            ]
          },
          "metadata": {
            "needs_background": "light"
          },
          "output_type": "display_data"
        }
      ]
    },
    {
      "cell_type": "markdown",
      "metadata": {
        "id": "RLe1HS5adkm5"
      },
      "source": [
        "Алгоритм случайного леса выдал схожие трудности с классификацией \"Ультра\", что и решающее дерево, но всё же справился лучше - \"Ультра\" в \"Ультра\" больше, чем \"Смарта\"."
      ]
    },
    {
      "cell_type": "code",
      "metadata": {
        "id": "_Cu-s_YLdkm5"
      },
      "source": [
        "confusion_matrix_test_logr = confusion_matrix(target_test, predictions_logr)\n",
        "confusion_matrix_test_logr_df = pd.DataFrame(confusion_matrix_test_logr, columns = ['logr_predicted_0', 'logr_predicted_1'])\n",
        "confusion_matrix_test_logr_df['actual'] = ['target_0', 'target_1']\n",
        "confusion_matrix_test_logr_df = confusion_matrix_test_logr_df.set_index(confusion_matrix_test_logr_df['actual']).drop(['actual'], axis=1).reset_index()\n",
        "confusion_logr = pd.Series([confusion_matrix_test_logr_df.loc[1,'logr_predicted_0'], confusion_matrix_test_logr_df.loc[0,'logr_predicted_1']])"
      ],
      "execution_count": null,
      "outputs": []
    },
    {
      "cell_type": "code",
      "metadata": {
        "id": "dIAS_sVydkm5",
        "outputId": "47fa7dac-a8e2-45b0-f7de-70f80eb17060"
      },
      "source": [
        "confusion_matrix_test_logr_df.plot(kind='bar')"
      ],
      "execution_count": null,
      "outputs": [
        {
          "data": {
            "text/plain": [
              "<matplotlib.axes._subplots.AxesSubplot at 0x7fcb28cf2590>"
            ]
          },
          "execution_count": 24,
          "metadata": {},
          "output_type": "execute_result"
        },
        {
          "data": {
            "image/png": "[encoded data removed]",
            "text/plain": [
              "<Figure size 432x288 with 1 Axes>"
            ]
          },
          "metadata": {
            "needs_background": "light"
          },
          "output_type": "display_data"
        }
      ]
    },
    {
      "cell_type": "markdown",
      "metadata": {
        "id": "Zk8kOEiidkm6"
      },
      "source": [
        "У логистической регрессии максимальный провал в распознавании \"Ультра\"."
      ]
    },
    {
      "cell_type": "markdown",
      "metadata": {
        "id": "Nlz78UoFdkm6"
      },
      "source": [
        "Матрицы путаницы предсказаний трёх моделей. "
      ]
    },
    {
      "cell_type": "code",
      "metadata": {
        "id": "mLnjvf7Zdkm6",
        "outputId": "390271b4-5d20-462c-c663-96f2ab97f0ce"
      },
      "source": [
        "confusion_matrix_test = confusion_matrix_test_tree_df.merge(confusion_matrix_test_forest_df, on='actual', how='outer')\n",
        "confusion_matrix_test = confusion_matrix_test.merge(confusion_matrix_test_logr_df, on='actual', how='outer')\n",
        "confusion_matrix_test"
      ],
      "execution_count": null,
      "outputs": [
        {
          "data": {
            "text/html": [
              "<div>\n",
              "<style scoped>\n",
              "    .dataframe tbody tr th:only-of-type {\n",
              "        vertical-align: middle;\n",
              "    }\n",
              "\n",
              "    .dataframe tbody tr th {\n",
              "        vertical-align: top;\n",
              "    }\n",
              "\n",
              "    .dataframe thead th {\n",
              "        text-align: right;\n",
              "    }\n",
              "</style>\n",
              "<table border=\"1\" class=\"dataframe\">\n",
              "  <thead>\n",
              "    <tr style=\"text-align: right;\">\n",
              "      <th></th>\n",
              "      <th>actual</th>\n",
              "      <th>tree_predicted_0</th>\n",
              "      <th>tree_predicted_1</th>\n",
              "      <th>forest_predicted_0</th>\n",
              "      <th>forest_predicted_1</th>\n",
              "      <th>logr_predicted_0</th>\n",
              "      <th>logr_predicted_1</th>\n",
              "    </tr>\n",
              "  </thead>\n",
              "  <tbody>\n",
              "    <tr>\n",
              "      <td>0</td>\n",
              "      <td>target_0</td>\n",
              "      <td>408</td>\n",
              "      <td>32</td>\n",
              "      <td>404</td>\n",
              "      <td>36</td>\n",
              "      <td>430</td>\n",
              "      <td>10</td>\n",
              "    </tr>\n",
              "    <tr>\n",
              "      <td>1</td>\n",
              "      <td>target_1</td>\n",
              "      <td>110</td>\n",
              "      <td>93</td>\n",
              "      <td>95</td>\n",
              "      <td>108</td>\n",
              "      <td>157</td>\n",
              "      <td>46</td>\n",
              "    </tr>\n",
              "  </tbody>\n",
              "</table>\n",
              "</div>"
            ],
            "text/plain": [
              "     actual  tree_predicted_0  tree_predicted_1  forest_predicted_0  \\\n",
              "0  target_0               408                32                 404   \n",
              "1  target_1               110                93                  95   \n",
              "\n",
              "   forest_predicted_1  logr_predicted_0  logr_predicted_1  \n",
              "0                  36               430                10  \n",
              "1                 108               157                46  "
            ]
          },
          "execution_count": 25,
          "metadata": {},
          "output_type": "execute_result"
        }
      ]
    },
    {
      "cell_type": "markdown",
      "metadata": {
        "id": "2j-Gkz0hdkm6"
      },
      "source": [
        "Логистическая регрессия лучше всех справилась со \"Смартом\", но хуже всех - с \"Ультра\". Помним, что в нашей небольшой выборке абоненты \"Ультра\" составляют треть всех абонентов. Вероятно, этого мало, чтобы научиться их распознавать.\n",
        "\n",
        "Лучше всех себя показала модель случайного леса. У неё меньше всего сумма ошибочно определённых не в те классы объектов. На таблице ниже, отображающей ложные результаты трёх моделей, это хорошо видно."
      ]
    },
    {
      "cell_type": "code",
      "metadata": {
        "id": "fREqKgV3dkm6",
        "outputId": "0fb0f268-b22a-4188-eeeb-6d88fc4ae249"
      },
      "source": [
        "real_tarif = pd.Series([len(target_test) - target_test.sum(), target_test.sum()])\n",
        "false_tarif = pd.Series(['false_smart', 'false_ultra'])\n",
        "confusion_models = pd.concat([real_tarif, false_tarif, confusion_tree, confusion_forest, confusion_logr], axis=1)\n",
        "confusion_models.columns = ['real_tarif', 'false_tarif','confusion_tree', 'confusion_forest', 'confusion_logr']\n",
        "confusion_models"
      ],
      "execution_count": null,
      "outputs": [
        {
          "data": {
            "text/html": [
              "<div>\n",
              "<style scoped>\n",
              "    .dataframe tbody tr th:only-of-type {\n",
              "        vertical-align: middle;\n",
              "    }\n",
              "\n",
              "    .dataframe tbody tr th {\n",
              "        vertical-align: top;\n",
              "    }\n",
              "\n",
              "    .dataframe thead th {\n",
              "        text-align: right;\n",
              "    }\n",
              "</style>\n",
              "<table border=\"1\" class=\"dataframe\">\n",
              "  <thead>\n",
              "    <tr style=\"text-align: right;\">\n",
              "      <th></th>\n",
              "      <th>real_tarif</th>\n",
              "      <th>false_tarif</th>\n",
              "      <th>confusion_tree</th>\n",
              "      <th>confusion_forest</th>\n",
              "      <th>confusion_logr</th>\n",
              "    </tr>\n",
              "  </thead>\n",
              "  <tbody>\n",
              "    <tr>\n",
              "      <td>0</td>\n",
              "      <td>440</td>\n",
              "      <td>false_smart</td>\n",
              "      <td>110</td>\n",
              "      <td>95</td>\n",
              "      <td>157</td>\n",
              "    </tr>\n",
              "    <tr>\n",
              "      <td>1</td>\n",
              "      <td>203</td>\n",
              "      <td>false_ultra</td>\n",
              "      <td>32</td>\n",
              "      <td>36</td>\n",
              "      <td>10</td>\n",
              "    </tr>\n",
              "  </tbody>\n",
              "</table>\n",
              "</div>"
            ],
            "text/plain": [
              "   real_tarif  false_tarif  confusion_tree  confusion_forest  confusion_logr\n",
              "0         440  false_smart             110                95             157\n",
              "1         203  false_ultra              32                36              10"
            ]
          },
          "execution_count": 26,
          "metadata": {},
          "output_type": "execute_result"
        }
      ]
    },
    {
      "cell_type": "markdown",
      "metadata": {
        "id": "ENDhzNWsdkm7"
      },
      "source": [
        "В target_test \n",
        "* Смарт - 440\n",
        "* \"Ультра\" - 203\n",
        "\n",
        "tree\n",
        "* false_ultra - непризнанный \"Смарт\" (\"Смарт\", попавший в \"Ультра\") - 32\n",
        "* false_smart - непризнанный \"Ультра\" (\"Ультра\", попавший в \"Смарт\") - 110\n",
        "\n",
        "forest\n",
        "* false_ultra - непризнанный \"Смарт\" - 36\n",
        "* false_smart - непризнанный \"Ультра\" - 95\n",
        "\n",
        "logr\n",
        "* false_ultra - непризнанный \"Смарт\" - 10\n",
        "* false_smart - непризнанный \"Ультра\" - 157"
      ]
    },
    {
      "cell_type": "markdown",
      "metadata": {
        "id": "rYwO2e7jdkm7"
      },
      "source": [
        "#### accuracy"
      ]
    },
    {
      "cell_type": "markdown",
      "metadata": {
        "id": "9Hwa6963dkm7"
      },
      "source": [
        "Уже рассмотренные нам accuracy в одной таблице."
      ]
    },
    {
      "cell_type": "code",
      "metadata": {
        "id": "XzfZRPZAdkm7",
        "outputId": "a1f173d7-917e-4344-a0de-a357acd5b134"
      },
      "source": [
        "accuracy_score_models = pd.DataFrame([accuracy_score(target_test, predictions_tree), accuracy_score(target_test, predictions_forest), accuracy_score(target_test, predictions_logr)], ['tree', 'forest', 'logr'], columns=['accuracy_score'])\n",
        "accuracy_score_models"
      ],
      "execution_count": null,
      "outputs": [
        {
          "data": {
            "text/html": [
              "<div>\n",
              "<style scoped>\n",
              "    .dataframe tbody tr th:only-of-type {\n",
              "        vertical-align: middle;\n",
              "    }\n",
              "\n",
              "    .dataframe tbody tr th {\n",
              "        vertical-align: top;\n",
              "    }\n",
              "\n",
              "    .dataframe thead th {\n",
              "        text-align: right;\n",
              "    }\n",
              "</style>\n",
              "<table border=\"1\" class=\"dataframe\">\n",
              "  <thead>\n",
              "    <tr style=\"text-align: right;\">\n",
              "      <th></th>\n",
              "      <th>accuracy_score</th>\n",
              "    </tr>\n",
              "  </thead>\n",
              "  <tbody>\n",
              "    <tr>\n",
              "      <td>tree</td>\n",
              "      <td>0.779160</td>\n",
              "    </tr>\n",
              "    <tr>\n",
              "      <td>forest</td>\n",
              "      <td>0.796267</td>\n",
              "    </tr>\n",
              "    <tr>\n",
              "      <td>logr</td>\n",
              "      <td>0.740280</td>\n",
              "    </tr>\n",
              "  </tbody>\n",
              "</table>\n",
              "</div>"
            ],
            "text/plain": [
              "        accuracy_score\n",
              "tree          0.779160\n",
              "forest        0.796267\n",
              "logr          0.740280"
            ]
          },
          "execution_count": 27,
          "metadata": {},
          "output_type": "execute_result"
        }
      ]
    },
    {
      "cell_type": "code",
      "metadata": {
        "id": "GCe_k8Rqdkm8",
        "outputId": "17e47e41-abc6-4fb2-ac40-dab97dff6e63"
      },
      "source": [
        "accuracy_score_models.plot(kind='bar', ylim=(0.7,0.85))"
      ],
      "execution_count": null,
      "outputs": [
        {
          "data": {
            "text/plain": [
              "<matplotlib.axes._subplots.AxesSubplot at 0x7fcb201f73d0>"
            ]
          },
          "execution_count": 28,
          "metadata": {},
          "output_type": "execute_result"
        },
        {
          "data": {
            "image/png": "[encoded data removed]",
            "text/plain": [
              "<Figure size 432x288 with 1 Axes>"
            ]
          },
          "metadata": {
            "needs_background": "light"
          },
          "output_type": "display_data"
        }
      ]
    },
    {
      "cell_type": "markdown",
      "metadata": {
        "id": "kCHkuTuLdkm8"
      },
      "source": [
        "У модели случайного леса  accuracy_score выше."
      ]
    },
    {
      "cell_type": "markdown",
      "metadata": {
        "id": "gkX5qgVodkm8"
      },
      "source": [
        "#### precision"
      ]
    },
    {
      "cell_type": "markdown",
      "metadata": {
        "id": "jIsL-n4Ddkm8"
      },
      "source": [
        "- precision_score_0 - доля реальных \"Смарт\" в предсказанных \"Смарт\"\n",
        "- precision_score_1 - доля реальных \"Ультра\" в предсказанных \"Ультра\""
      ]
    },
    {
      "cell_type": "code",
      "metadata": {
        "id": "oQVEpcXqdkm9",
        "outputId": "c9d107f9-edc2-4657-f0aa-f43290a24de1"
      },
      "source": [
        "precision_score_models = pd.DataFrame([precision_score(target_test, predictions_tree, average=None), precision_score(target_test, predictions_forest, average=None), precision_score(target_test, predictions_logr, average=None)], ['tree', 'forest', 'logr'], columns=['precision_score_0', 'precision_score_1'])\n",
        "precision_score_models"
      ],
      "execution_count": null,
      "outputs": [
        {
          "data": {
            "text/html": [
              "<div>\n",
              "<style scoped>\n",
              "    .dataframe tbody tr th:only-of-type {\n",
              "        vertical-align: middle;\n",
              "    }\n",
              "\n",
              "    .dataframe tbody tr th {\n",
              "        vertical-align: top;\n",
              "    }\n",
              "\n",
              "    .dataframe thead th {\n",
              "        text-align: right;\n",
              "    }\n",
              "</style>\n",
              "<table border=\"1\" class=\"dataframe\">\n",
              "  <thead>\n",
              "    <tr style=\"text-align: right;\">\n",
              "      <th></th>\n",
              "      <th>precision_score_0</th>\n",
              "      <th>precision_score_1</th>\n",
              "    </tr>\n",
              "  </thead>\n",
              "  <tbody>\n",
              "    <tr>\n",
              "      <td>tree</td>\n",
              "      <td>0.787645</td>\n",
              "      <td>0.744000</td>\n",
              "    </tr>\n",
              "    <tr>\n",
              "      <td>forest</td>\n",
              "      <td>0.809619</td>\n",
              "      <td>0.750000</td>\n",
              "    </tr>\n",
              "    <tr>\n",
              "      <td>logr</td>\n",
              "      <td>0.732538</td>\n",
              "      <td>0.821429</td>\n",
              "    </tr>\n",
              "  </tbody>\n",
              "</table>\n",
              "</div>"
            ],
            "text/plain": [
              "        precision_score_0  precision_score_1\n",
              "tree             0.787645           0.744000\n",
              "forest           0.809619           0.750000\n",
              "logr             0.732538           0.821429"
            ]
          },
          "execution_count": 29,
          "metadata": {},
          "output_type": "execute_result"
        }
      ]
    },
    {
      "cell_type": "code",
      "metadata": {
        "id": "n-gg5Dordkm9",
        "outputId": "f2bbccdc-0a1b-405b-d265-4a4cbe1c8310"
      },
      "source": [
        "precision_score_models.plot(kind='bar', ylim=(0.7,0.85))"
      ],
      "execution_count": null,
      "outputs": [
        {
          "data": {
            "text/plain": [
              "<matplotlib.axes._subplots.AxesSubplot at 0x7fcb2016a8d0>"
            ]
          },
          "execution_count": 30,
          "metadata": {},
          "output_type": "execute_result"
        },
        {
          "data": {
            "image/png": "[encoded data removed]",
            "text/plain": [
              "<Figure size 432x288 with 1 Axes>"
            ]
          },
          "metadata": {
            "needs_background": "light"
          },
          "output_type": "display_data"
        }
      ]
    },
    {
      "cell_type": "markdown",
      "metadata": {
        "id": "TMfwu2izdkm9"
      },
      "source": [
        "Алгоритмы решающего дерева и случайного леса ошибались примерно одинаково:в \"Смарт\" на четверть, в \"Ультра\" на треть.\n",
        "Из-за того, что алгоритм логарифмической регресси записал так много \"Ультра\" в \"Смарт\", показатель у \"Смарт\" такой низкий, а у \"Ультра\" высокий (угадал мало, но правильно)."
      ]
    },
    {
      "cell_type": "markdown",
      "metadata": {
        "id": "K_4MYABEdkm9"
      },
      "source": [
        "#### recall"
      ]
    },
    {
      "cell_type": "markdown",
      "metadata": {
        "id": "fO_rrS0kdkm-"
      },
      "source": [
        "- recall_score_0 - доля правильно предсказанных \"Смарт\" в реальных \"Смарт\"\n",
        "- recall_score_1 - доля правильно предсказанных \"Ультра\" в реальных \"Ультра\""
      ]
    },
    {
      "cell_type": "code",
      "metadata": {
        "id": "pB-EtTbndkm-",
        "outputId": "078cc403-db88-4ee5-db8c-08dd515ceb13"
      },
      "source": [
        "recall_score_models = pd.DataFrame([recall_score(target_test, predictions_tree, average=None), recall_score(target_test, predictions_forest, average=None), recall_score(target_test, predictions_logr, average=None)], ['tree', 'forest', 'logr'], columns=['recall_score_0', 'recall_score_1'])\n",
        "recall_score_models"
      ],
      "execution_count": null,
      "outputs": [
        {
          "data": {
            "text/html": [
              "<div>\n",
              "<style scoped>\n",
              "    .dataframe tbody tr th:only-of-type {\n",
              "        vertical-align: middle;\n",
              "    }\n",
              "\n",
              "    .dataframe tbody tr th {\n",
              "        vertical-align: top;\n",
              "    }\n",
              "\n",
              "    .dataframe thead th {\n",
              "        text-align: right;\n",
              "    }\n",
              "</style>\n",
              "<table border=\"1\" class=\"dataframe\">\n",
              "  <thead>\n",
              "    <tr style=\"text-align: right;\">\n",
              "      <th></th>\n",
              "      <th>recall_score_0</th>\n",
              "      <th>recall_score_1</th>\n",
              "    </tr>\n",
              "  </thead>\n",
              "  <tbody>\n",
              "    <tr>\n",
              "      <td>tree</td>\n",
              "      <td>0.927273</td>\n",
              "      <td>0.458128</td>\n",
              "    </tr>\n",
              "    <tr>\n",
              "      <td>forest</td>\n",
              "      <td>0.918182</td>\n",
              "      <td>0.532020</td>\n",
              "    </tr>\n",
              "    <tr>\n",
              "      <td>logr</td>\n",
              "      <td>0.977273</td>\n",
              "      <td>0.226601</td>\n",
              "    </tr>\n",
              "  </tbody>\n",
              "</table>\n",
              "</div>"
            ],
            "text/plain": [
              "        recall_score_0  recall_score_1\n",
              "tree          0.927273        0.458128\n",
              "forest        0.918182        0.532020\n",
              "logr          0.977273        0.226601"
            ]
          },
          "execution_count": 31,
          "metadata": {},
          "output_type": "execute_result"
        }
      ]
    },
    {
      "cell_type": "code",
      "metadata": {
        "id": "qQJHG4mCdkm-",
        "outputId": "c40cfa70-7fa3-4498-bb38-d2fe20250841"
      },
      "source": [
        "recall_score_models.plot(kind='bar')"
      ],
      "execution_count": null,
      "outputs": [
        {
          "data": {
            "text/plain": [
              "<matplotlib.axes._subplots.AxesSubplot at 0x7fcb20141350>"
            ]
          },
          "execution_count": 32,
          "metadata": {},
          "output_type": "execute_result"
        },
        {
          "data": {
            "image/png": "[encoded data removed]",
            "text/plain": [
              "<Figure size 432x288 with 1 Axes>"
            ]
          },
          "metadata": {
            "needs_background": "light"
          },
          "output_type": "display_data"
        }
      ]
    },
    {
      "cell_type": "markdown",
      "metadata": {
        "id": "yHbmQ_d5dkm-"
      },
      "source": [
        "Суммарно лучшие показатели у модели случайного леса. Модель логарифмической регрессии лучше всех распознала \"Смарт\", и хуже всех - \"Ультра\"."
      ]
    },
    {
      "cell_type": "markdown",
      "metadata": {
        "id": "G_2rKxgwdkm-"
      },
      "source": [
        "#### f1-мера"
      ]
    },
    {
      "cell_type": "markdown",
      "metadata": {
        "id": "oiKlZrHFdkm_"
      },
      "source": [
        "f-мера - отношение удвоенного произведения precision и recall к их сумме, придает одинаковый вес точности и полноте, поэтому будет падать одинаково при уменьшении и точности и полноты"
      ]
    },
    {
      "cell_type": "code",
      "metadata": {
        "id": "GZ2ZiIrfdkm_",
        "outputId": "00e95587-453f-4180-b4e4-1251340c0213"
      },
      "source": [
        "f1_score_models = pd.DataFrame([f1_score(target_test, predictions_tree, average=None), f1_score(target_test, predictions_forest, average=None), f1_score(target_test, predictions_logr, average=None)], ['tree', 'forest', 'logr'], columns=['f1_score_0', 'f1_score_1'])\n",
        "f1_score_models"
      ],
      "execution_count": null,
      "outputs": [
        {
          "data": {
            "text/html": [
              "<div>\n",
              "<style scoped>\n",
              "    .dataframe tbody tr th:only-of-type {\n",
              "        vertical-align: middle;\n",
              "    }\n",
              "\n",
              "    .dataframe tbody tr th {\n",
              "        vertical-align: top;\n",
              "    }\n",
              "\n",
              "    .dataframe thead th {\n",
              "        text-align: right;\n",
              "    }\n",
              "</style>\n",
              "<table border=\"1\" class=\"dataframe\">\n",
              "  <thead>\n",
              "    <tr style=\"text-align: right;\">\n",
              "      <th></th>\n",
              "      <th>f1_score_0</th>\n",
              "      <th>f1_score_1</th>\n",
              "    </tr>\n",
              "  </thead>\n",
              "  <tbody>\n",
              "    <tr>\n",
              "      <td>tree</td>\n",
              "      <td>0.851775</td>\n",
              "      <td>0.567073</td>\n",
              "    </tr>\n",
              "    <tr>\n",
              "      <td>forest</td>\n",
              "      <td>0.860490</td>\n",
              "      <td>0.622478</td>\n",
              "    </tr>\n",
              "    <tr>\n",
              "      <td>logr</td>\n",
              "      <td>0.837390</td>\n",
              "      <td>0.355212</td>\n",
              "    </tr>\n",
              "  </tbody>\n",
              "</table>\n",
              "</div>"
            ],
            "text/plain": [
              "        f1_score_0  f1_score_1\n",
              "tree      0.851775    0.567073\n",
              "forest    0.860490    0.622478\n",
              "logr      0.837390    0.355212"
            ]
          },
          "execution_count": 33,
          "metadata": {},
          "output_type": "execute_result"
        }
      ]
    },
    {
      "cell_type": "code",
      "metadata": {
        "id": "5iv977zsdkm_",
        "outputId": "71906f4f-f8a2-4017-b0a2-a1741bdb8ffd"
      },
      "source": [
        "f1_score_models.plot(kind='bar')"
      ],
      "execution_count": null,
      "outputs": [
        {
          "data": {
            "text/plain": [
              "<matplotlib.axes._subplots.AxesSubplot at 0x7fcb2007b510>"
            ]
          },
          "execution_count": 34,
          "metadata": {},
          "output_type": "execute_result"
        },
        {
          "data": {
            "image/png": "[encoded data removed]",
            "text/plain": [
              "<Figure size 432x288 with 1 Axes>"
            ]
          },
          "metadata": {
            "needs_background": "light"
          },
          "output_type": "display_data"
        }
      ]
    },
    {
      "cell_type": "markdown",
      "metadata": {
        "id": "fLnPgZbkdkm_"
      },
      "source": [
        "При рассмотрении соотношения обоих параметров - precision и recall - выигрывает снова модель случайного леса. "
      ]
    },
    {
      "cell_type": "markdown",
      "metadata": {
        "id": "ipI8M_r1dknA"
      },
      "source": [
        "#### Все рассмотренные метрики вместе"
      ]
    },
    {
      "cell_type": "code",
      "metadata": {
        "id": "Ozkq9yoTdknA",
        "outputId": "450b6183-2604-424a-8d30-53cb9e033150"
      },
      "source": [
        "metrics_data = pd.concat([accuracy_score_models[['accuracy_score']], precision_score_models[['precision_score_0', 'precision_score_1']], recall_score_models[['recall_score_0', 'recall_score_1']], f1_score_models[['f1_score_0', 'f1_score_1']]], axis=1)\n",
        "metrics_data"
      ],
      "execution_count": null,
      "outputs": [
        {
          "data": {
            "text/html": [
              "<div>\n",
              "<style scoped>\n",
              "    .dataframe tbody tr th:only-of-type {\n",
              "        vertical-align: middle;\n",
              "    }\n",
              "\n",
              "    .dataframe tbody tr th {\n",
              "        vertical-align: top;\n",
              "    }\n",
              "\n",
              "    .dataframe thead th {\n",
              "        text-align: right;\n",
              "    }\n",
              "</style>\n",
              "<table border=\"1\" class=\"dataframe\">\n",
              "  <thead>\n",
              "    <tr style=\"text-align: right;\">\n",
              "      <th></th>\n",
              "      <th>accuracy_score</th>\n",
              "      <th>precision_score_0</th>\n",
              "      <th>precision_score_1</th>\n",
              "      <th>recall_score_0</th>\n",
              "      <th>recall_score_1</th>\n",
              "      <th>f1_score_0</th>\n",
              "      <th>f1_score_1</th>\n",
              "    </tr>\n",
              "  </thead>\n",
              "  <tbody>\n",
              "    <tr>\n",
              "      <td>tree</td>\n",
              "      <td>0.779160</td>\n",
              "      <td>0.787645</td>\n",
              "      <td>0.744000</td>\n",
              "      <td>0.927273</td>\n",
              "      <td>0.458128</td>\n",
              "      <td>0.851775</td>\n",
              "      <td>0.567073</td>\n",
              "    </tr>\n",
              "    <tr>\n",
              "      <td>forest</td>\n",
              "      <td>0.796267</td>\n",
              "      <td>0.809619</td>\n",
              "      <td>0.750000</td>\n",
              "      <td>0.918182</td>\n",
              "      <td>0.532020</td>\n",
              "      <td>0.860490</td>\n",
              "      <td>0.622478</td>\n",
              "    </tr>\n",
              "    <tr>\n",
              "      <td>logr</td>\n",
              "      <td>0.740280</td>\n",
              "      <td>0.732538</td>\n",
              "      <td>0.821429</td>\n",
              "      <td>0.977273</td>\n",
              "      <td>0.226601</td>\n",
              "      <td>0.837390</td>\n",
              "      <td>0.355212</td>\n",
              "    </tr>\n",
              "  </tbody>\n",
              "</table>\n",
              "</div>"
            ],
            "text/plain": [
              "        accuracy_score  precision_score_0  precision_score_1  recall_score_0  \\\n",
              "tree          0.779160           0.787645           0.744000        0.927273   \n",
              "forest        0.796267           0.809619           0.750000        0.918182   \n",
              "logr          0.740280           0.732538           0.821429        0.977273   \n",
              "\n",
              "        recall_score_1  f1_score_0  f1_score_1  \n",
              "tree          0.458128    0.851775    0.567073  \n",
              "forest        0.532020    0.860490    0.622478  \n",
              "logr          0.226601    0.837390    0.355212  "
            ]
          },
          "execution_count": 35,
          "metadata": {},
          "output_type": "execute_result"
        }
      ]
    },
    {
      "cell_type": "code",
      "metadata": {
        "id": "jCQKhW9DdknA",
        "outputId": "c41fa4c4-046b-4ca1-8f1a-b646b51dceb3"
      },
      "source": [
        "print('---------------------tree---------------------')\n",
        "print(classification_report(target_test, predictions_tree))\n",
        "print('---------------------forest---------------------')\n",
        "print(classification_report(target_test, predictions_forest))\n",
        "print('---------------------logr---------------------')\n",
        "print(classification_report(target_test, predictions_logr))"
      ],
      "execution_count": null,
      "outputs": [
        {
          "name": "stdout",
          "output_type": "stream",
          "text": [
            "---------------------tree---------------------\n",
            "              precision    recall  f1-score   support\n",
            "\n",
            "           0       0.79      0.93      0.85       440\n",
            "           1       0.74      0.46      0.57       203\n",
            "\n",
            "    accuracy                           0.78       643\n",
            "   macro avg       0.77      0.69      0.71       643\n",
            "weighted avg       0.77      0.78      0.76       643\n",
            "\n",
            "---------------------forest---------------------\n",
            "              precision    recall  f1-score   support\n",
            "\n",
            "           0       0.81      0.92      0.86       440\n",
            "           1       0.75      0.53      0.62       203\n",
            "\n",
            "    accuracy                           0.80       643\n",
            "   macro avg       0.78      0.73      0.74       643\n",
            "weighted avg       0.79      0.80      0.79       643\n",
            "\n",
            "---------------------logr---------------------\n",
            "              precision    recall  f1-score   support\n",
            "\n",
            "           0       0.73      0.98      0.84       440\n",
            "           1       0.82      0.23      0.36       203\n",
            "\n",
            "    accuracy                           0.74       643\n",
            "   macro avg       0.78      0.60      0.60       643\n",
            "weighted avg       0.76      0.74      0.69       643\n",
            "\n"
          ]
        }
      ]
    },
    {
      "cell_type": "code",
      "metadata": {
        "id": "OjuZ1f6xdknA",
        "outputId": "4486e999-42e0-43b3-fa25-29feb717035d"
      },
      "source": [
        "metrics_data[['accuracy_score', 'f1_score_0', 'f1_score_1']].plot(figsize=(5,8))"
      ],
      "execution_count": null,
      "outputs": [
        {
          "data": {
            "text/plain": [
              "<matplotlib.axes._subplots.AxesSubplot at 0x7fcb1fffa6d0>"
            ]
          },
          "execution_count": 37,
          "metadata": {},
          "output_type": "execute_result"
        },
        {
          "data": {
            "image/png": "[encoded data removed]",
            "text/plain": [
              "<Figure size 360x576 with 1 Axes>"
            ]
          },
          "metadata": {
            "needs_background": "light"
          },
          "output_type": "display_data"
        }
      ]
    },
    {
      "cell_type": "markdown",
      "metadata": {
        "id": "t21SVF-idknB"
      },
      "source": [
        "По основным параметрам - accuracy и f-мера - модель, обученная алгоритмом случайного леса, лучше остальных проиводит классификацию."
      ]
    },
    {
      "cell_type": "markdown",
      "metadata": {
        "id": "icK5O-6JdknB"
      },
      "source": [
        "#### Вывод"
      ]
    },
    {
      "cell_type": "markdown",
      "metadata": {
        "id": "8yUkPdZGdknB"
      },
      "source": [
        "По основным параметрам - accuracy и f-мера - модель, обученная алгоритмом случайного леса, лучше остальных проиводит классификацию, то есть адекватнее других предлагает абоненту подходящий тариф. "
      ]
    },
    {
      "cell_type": "markdown",
      "metadata": {
        "id": "K_Zpep7ydknB"
      },
      "source": [
        "### Сравнение выбранной модели с моделью фиктивного классификатора."
      ]
    },
    {
      "cell_type": "markdown",
      "metadata": {
        "id": "elkrPalMdknC"
      },
      "source": [
        "Для проверки модели на адекватность попробуем использовать фиктивный классификатор (тип классификатора, который не генерирует понимание данных и классифицирует данные с использованием только простых правил). Попробуем DummyClassifier."
      ]
    },
    {
      "cell_type": "markdown",
      "metadata": {
        "id": "k6xOuBUzdknC"
      },
      "source": [
        "Обучим модель "
      ]
    },
    {
      "cell_type": "code",
      "metadata": {
        "id": "vIiyysNMdknD"
      },
      "source": [
        "dummy_clf = DummyClassifier(strategy=\"most_frequent\", random_state=12345)\n",
        "dummy_clf.fit(features_train, target_train)\n",
        "predictions_dummy = dummy_clf.predict(features_valid)"
      ],
      "execution_count": null,
      "outputs": []
    },
    {
      "cell_type": "code",
      "metadata": {
        "id": "2WpFDPr7dknE",
        "outputId": "5d3fad0b-3fc0-4551-d358-6ea0634ee8ce"
      },
      "source": [
        "confusion_matrix_test_dummy = confusion_matrix(target_test, predictions_dummy)\n",
        "confusion_matrix_test_dummy_df = pd.DataFrame(confusion_matrix_test_dummy, columns = ['dummy_predicted_0', 'dummy_predicted_1'])\n",
        "confusion_matrix_test_dummy_df"
      ],
      "execution_count": null,
      "outputs": [
        {
          "data": {
            "text/html": [
              "<div>\n",
              "<style scoped>\n",
              "    .dataframe tbody tr th:only-of-type {\n",
              "        vertical-align: middle;\n",
              "    }\n",
              "\n",
              "    .dataframe tbody tr th {\n",
              "        vertical-align: top;\n",
              "    }\n",
              "\n",
              "    .dataframe thead th {\n",
              "        text-align: right;\n",
              "    }\n",
              "</style>\n",
              "<table border=\"1\" class=\"dataframe\">\n",
              "  <thead>\n",
              "    <tr style=\"text-align: right;\">\n",
              "      <th></th>\n",
              "      <th>dummy_predicted_0</th>\n",
              "      <th>dummy_predicted_1</th>\n",
              "    </tr>\n",
              "  </thead>\n",
              "  <tbody>\n",
              "    <tr>\n",
              "      <td>0</td>\n",
              "      <td>440</td>\n",
              "      <td>0</td>\n",
              "    </tr>\n",
              "    <tr>\n",
              "      <td>1</td>\n",
              "      <td>203</td>\n",
              "      <td>0</td>\n",
              "    </tr>\n",
              "  </tbody>\n",
              "</table>\n",
              "</div>"
            ],
            "text/plain": [
              "   dummy_predicted_0  dummy_predicted_1\n",
              "0                440                  0\n",
              "1                203                  0"
            ]
          },
          "execution_count": 39,
          "metadata": {},
          "output_type": "execute_result"
        }
      ]
    },
    {
      "cell_type": "markdown",
      "metadata": {
        "id": "kbJpde3edknE"
      },
      "source": [
        "Классификатор записал всех в \"Смарт\", не глядя. "
      ]
    },
    {
      "cell_type": "markdown",
      "metadata": {
        "id": "5V75wy-ZdknE"
      },
      "source": [
        "Посмотрим на основные метрики модели случайного леса и dummy"
      ]
    },
    {
      "cell_type": "code",
      "metadata": {
        "id": "2f0JpRt7dknF",
        "outputId": "bf50f072-b4ce-4d3b-add1-9cfd557a92ff"
      },
      "source": [
        "print('---------------------forest---------------------')\n",
        "print(classification_report(target_test, predictions_forest))\n",
        "print('---------------------dummy---------------------')\n",
        "print(classification_report(target_test, predictions_dummy))"
      ],
      "execution_count": null,
      "outputs": [
        {
          "name": "stdout",
          "output_type": "stream",
          "text": [
            "---------------------forest---------------------\n",
            "              precision    recall  f1-score   support\n",
            "\n",
            "           0       0.81      0.92      0.86       440\n",
            "           1       0.75      0.53      0.62       203\n",
            "\n",
            "    accuracy                           0.80       643\n",
            "   macro avg       0.78      0.73      0.74       643\n",
            "weighted avg       0.79      0.80      0.79       643\n",
            "\n",
            "---------------------dummy---------------------\n",
            "              precision    recall  f1-score   support\n",
            "\n",
            "           0       0.68      1.00      0.81       440\n",
            "           1       0.00      0.00      0.00       203\n",
            "\n",
            "    accuracy                           0.68       643\n",
            "   macro avg       0.34      0.50      0.41       643\n",
            "weighted avg       0.47      0.68      0.56       643\n",
            "\n"
          ]
        }
      ]
    },
    {
      "cell_type": "markdown",
      "metadata": {
        "id": "wCChvY4fdknF"
      },
      "source": [
        "- Accuracy такой шуточной модели равен 0.68 - это меньше, чем у всех созданных нами моделей, но порог неочевидный. Вероятно, мы можем принять значение accuracy в 0.68 как \"порог адекватности\" модели на данной выборке. Тогда выбранная нами модель случайного леса с accuracy 0.80 может быть признана адекватной.\n",
        "- Все метрики предсказаний \"Ультра\" у dummy равны 0, так как класс \"Ультра\" пуст. \n",
        "- Precision равна accuracy. \n",
        "- Recall равна 1 (действительно все \"Смарт\" попали в \"Смарт\", потому что все данные в \"Смарт\")."
      ]
    },
    {
      "cell_type": "markdown",
      "metadata": {
        "id": "daEofCKfdknF"
      },
      "source": [
        "#### Вывод"
      ]
    },
    {
      "cell_type": "markdown",
      "metadata": {
        "id": "eJpzkM95dknF"
      },
      "source": [
        "Лучшей для нашей задачи и адекватной нами была признана модель случайного леса."
      ]
    },
    {
      "cell_type": "markdown",
      "metadata": {
        "id": "TSPSLqsEdknG"
      },
      "source": [
        "## Общий вывод"
      ]
    },
    {
      "cell_type": "markdown",
      "metadata": {
        "id": "lTan8SvUdknG"
      },
      "source": [
        "Мы обучили множество моделей решающего дерева, случайного леса и логистической регрессии, выбрали в каждой категории самую точную. Проверка на тестовой модели на точность, а так же на такие метрики, как precision и recall, и их гармоническое среднее значение - f1-мера, показала, что **для задачи предложить по имеющимся данным подходящий абоненту тариф больше подходит модель случайного леса**. Однако, при бОльшем количестве обучающих данных, есть вероятность лучшего результата у модели логистической регрессии. "
      ]
    }
  ]
}